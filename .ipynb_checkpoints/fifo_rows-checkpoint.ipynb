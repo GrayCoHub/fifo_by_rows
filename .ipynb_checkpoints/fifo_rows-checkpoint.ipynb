{
 "cells": [
  {
   "cell_type": "markdown",
   "id": "8a4f934a-bc5d-4389-8931-fa890b8b83b6",
   "metadata": {},
   "source": [
    "## <font color = yellow> A single Sale will combine the first row from the Buys & Sells dfs"
   ]
  },
  {
   "cell_type": "code",
   "execution_count": 1,
   "id": "1a40d688-bd55-4df2-be07-c685b667921e",
   "metadata": {},
   "outputs": [],
   "source": [
    "library(tibble)"
   ]
  },
  {
   "cell_type": "code",
   "execution_count": null,
   "id": "2c80d5a2-6093-4214-8997-320bba4a3ee0",
   "metadata": {},
   "outputs": [],
   "source": []
  },
  {
   "cell_type": "markdown",
   "id": "18bdfbd9-160f-4efc-b792-3f83ccd72b58",
   "metadata": {},
   "source": [
    "## <font color = yellow> create_df function () - reads .csv"
   ]
  },
  {
   "cell_type": "code",
   "execution_count": 2,
   "id": "c78b5b89-91db-4c28-9676-73a0ab6689df",
   "metadata": {},
   "outputs": [],
   "source": [
    "create_df <- function() {\n",
    "    \n",
    "    df <- read.csv(\"fifo_new.csv\", header = TRUE, sep = \",\")\n",
    "    df$sale <- as.integer(df$sale)\n",
    "   #  df$date <- as.Date(df$date, origin = \"1899-12-30\")\n",
    "   #  df$true_false <- FALSE  \n",
    "    return(df)  \n",
    "    }\n",
    "i <- 1\n",
    "# fct call\n",
    "# df <- create_df() "
   ]
  },
  {
   "cell_type": "code",
   "execution_count": 3,
   "id": "5f879b68-2a45-4a2a-b267-a64c7cee5a21",
   "metadata": {
    "tags": []
   },
   "outputs": [],
   "source": [
    "# call fct and create the record keeping df\n",
    "df <- create_df()\n",
    "# create empty df\n",
    "df_records <- data.frame()\n",
    "\n",
    "# df_buy_rows <- data.frame()"
   ]
  },
  {
   "cell_type": "code",
   "execution_count": null,
   "id": "4c25354d-5db4-4eda-bf18-fe106bfd67ee",
   "metadata": {
    "tags": []
   },
   "outputs": [],
   "source": [
    "\n"
   ]
  },
  {
   "cell_type": "code",
   "execution_count": 4,
   "id": "7e4c688a-c2bc-4c3a-8280-7d93e3c3b477",
   "metadata": {
    "tags": []
   },
   "outputs": [
    {
     "data": {
      "text/html": [
       "<table class=\"dataframe\">\n",
       "<caption>A data.frame: 3 × 20</caption>\n",
       "<thead>\n",
       "\t<tr><th></th><th scope=col>index</th><th scope=col>date</th><th scope=col>type</th><th scope=col>co</th><th scope=col>quan</th><th scope=col>pps</th><th scope=col>basis</th><th scope=col>sale_quan</th><th scope=col>tally</th><th scope=col>cf_quan</th><th scope=col>cf_pps</th><th scope=col>cf_basis</th><th scope=col>buy_quan</th><th scope=col>buy_pps</th><th scope=col>buy_basis</th><th scope=col>sell_quan</th><th scope=col>sell_pps</th><th scope=col>sell_basis</th><th scope=col>profit_loss</th><th scope=col>sale</th></tr>\n",
       "\t<tr><th></th><th scope=col>&lt;int&gt;</th><th scope=col>&lt;int&gt;</th><th scope=col>&lt;chr&gt;</th><th scope=col>&lt;chr&gt;</th><th scope=col>&lt;int&gt;</th><th scope=col>&lt;dbl&gt;</th><th scope=col>&lt;dbl&gt;</th><th scope=col>&lt;int&gt;</th><th scope=col>&lt;dbl&gt;</th><th scope=col>&lt;int&gt;</th><th scope=col>&lt;dbl&gt;</th><th scope=col>&lt;dbl&gt;</th><th scope=col>&lt;int&gt;</th><th scope=col>&lt;dbl&gt;</th><th scope=col>&lt;dbl&gt;</th><th scope=col>&lt;int&gt;</th><th scope=col>&lt;dbl&gt;</th><th scope=col>&lt;dbl&gt;</th><th scope=col>&lt;int&gt;</th><th scope=col>&lt;int&gt;</th></tr>\n",
       "</thead>\n",
       "<tbody>\n",
       "\t<tr><th scope=row>1</th><td>1</td><td>44926</td><td>Buy</td><td>AMC</td><td>1000</td><td>4.070</td><td>4273.5</td><td>0</td><td>0</td><td>0</td><td>0</td><td>0</td><td>0</td><td>0</td><td>0</td><td>0</td><td>0</td><td>0</td><td>0</td><td>0</td></tr>\n",
       "\t<tr><th scope=row>3</th><td>3</td><td>44946</td><td>Buy</td><td>AMC</td><td>1000</td><td>5.625</td><td>5625.0</td><td>0</td><td>0</td><td>0</td><td>0</td><td>0</td><td>0</td><td>0</td><td>0</td><td>0</td><td>0</td><td>0</td><td>0</td><td>0</td></tr>\n",
       "\t<tr><th scope=row>5</th><td>5</td><td>44949</td><td>Buy</td><td>AMC</td><td>1000</td><td>5.788</td><td>5788.0</td><td>0</td><td>0</td><td>0</td><td>0</td><td>0</td><td>0</td><td>0</td><td>0</td><td>0</td><td>0</td><td>0</td><td>0</td><td>0</td></tr>\n",
       "</tbody>\n",
       "</table>\n"
      ],
      "text/latex": [
       "A data.frame: 3 × 20\n",
       "\\begin{tabular}{r|llllllllllllllllllll}\n",
       "  & index & date & type & co & quan & pps & basis & sale\\_quan & tally & cf\\_quan & cf\\_pps & cf\\_basis & buy\\_quan & buy\\_pps & buy\\_basis & sell\\_quan & sell\\_pps & sell\\_basis & profit\\_loss & sale\\\\\n",
       "  & <int> & <int> & <chr> & <chr> & <int> & <dbl> & <dbl> & <int> & <dbl> & <int> & <dbl> & <dbl> & <int> & <dbl> & <dbl> & <int> & <dbl> & <dbl> & <int> & <int>\\\\\n",
       "\\hline\n",
       "\t1 & 1 & 44926 & Buy & AMC & 1000 & 4.070 & 4273.5 & 0 & 0 & 0 & 0 & 0 & 0 & 0 & 0 & 0 & 0 & 0 & 0 & 0\\\\\n",
       "\t3 & 3 & 44946 & Buy & AMC & 1000 & 5.625 & 5625.0 & 0 & 0 & 0 & 0 & 0 & 0 & 0 & 0 & 0 & 0 & 0 & 0 & 0\\\\\n",
       "\t5 & 5 & 44949 & Buy & AMC & 1000 & 5.788 & 5788.0 & 0 & 0 & 0 & 0 & 0 & 0 & 0 & 0 & 0 & 0 & 0 & 0 & 0\\\\\n",
       "\\end{tabular}\n"
      ],
      "text/markdown": [
       "\n",
       "A data.frame: 3 × 20\n",
       "\n",
       "| <!--/--> | index &lt;int&gt; | date &lt;int&gt; | type &lt;chr&gt; | co &lt;chr&gt; | quan &lt;int&gt; | pps &lt;dbl&gt; | basis &lt;dbl&gt; | sale_quan &lt;int&gt; | tally &lt;dbl&gt; | cf_quan &lt;int&gt; | cf_pps &lt;dbl&gt; | cf_basis &lt;dbl&gt; | buy_quan &lt;int&gt; | buy_pps &lt;dbl&gt; | buy_basis &lt;dbl&gt; | sell_quan &lt;int&gt; | sell_pps &lt;dbl&gt; | sell_basis &lt;dbl&gt; | profit_loss &lt;int&gt; | sale &lt;int&gt; |\n",
       "|---|---|---|---|---|---|---|---|---|---|---|---|---|---|---|---|---|---|---|---|---|\n",
       "| 1 | 1 | 44926 | Buy | AMC | 1000 | 4.070 | 4273.5 | 0 | 0 | 0 | 0 | 0 | 0 | 0 | 0 | 0 | 0 | 0 | 0 | 0 |\n",
       "| 3 | 3 | 44946 | Buy | AMC | 1000 | 5.625 | 5625.0 | 0 | 0 | 0 | 0 | 0 | 0 | 0 | 0 | 0 | 0 | 0 | 0 | 0 |\n",
       "| 5 | 5 | 44949 | Buy | AMC | 1000 | 5.788 | 5788.0 | 0 | 0 | 0 | 0 | 0 | 0 | 0 | 0 | 0 | 0 | 0 | 0 | 0 |\n",
       "\n"
      ],
      "text/plain": [
       "  index date  type co  quan pps   basis  sale_quan tally cf_quan cf_pps\n",
       "1 1     44926 Buy  AMC 1000 4.070 4273.5 0         0     0       0     \n",
       "3 3     44946 Buy  AMC 1000 5.625 5625.0 0         0     0       0     \n",
       "5 5     44949 Buy  AMC 1000 5.788 5788.0 0         0     0       0     \n",
       "  cf_basis buy_quan buy_pps buy_basis sell_quan sell_pps sell_basis profit_loss\n",
       "1 0        0        0       0         0         0        0          0          \n",
       "3 0        0        0       0         0         0        0          0          \n",
       "5 0        0        0       0         0         0        0          0          \n",
       "  sale\n",
       "1 0   \n",
       "3 0   \n",
       "5 0   "
      ]
     },
     "metadata": {},
     "output_type": "display_data"
    },
    {
     "data": {
      "text/html": [
       "<table class=\"dataframe\">\n",
       "<caption>A data.frame: 3 × 20</caption>\n",
       "<thead>\n",
       "\t<tr><th></th><th scope=col>index</th><th scope=col>date</th><th scope=col>type</th><th scope=col>co</th><th scope=col>quan</th><th scope=col>pps</th><th scope=col>basis</th><th scope=col>sale_quan</th><th scope=col>tally</th><th scope=col>cf_quan</th><th scope=col>cf_pps</th><th scope=col>cf_basis</th><th scope=col>buy_quan</th><th scope=col>buy_pps</th><th scope=col>buy_basis</th><th scope=col>sell_quan</th><th scope=col>sell_pps</th><th scope=col>sell_basis</th><th scope=col>profit_loss</th><th scope=col>sale</th></tr>\n",
       "\t<tr><th></th><th scope=col>&lt;int&gt;</th><th scope=col>&lt;int&gt;</th><th scope=col>&lt;chr&gt;</th><th scope=col>&lt;chr&gt;</th><th scope=col>&lt;int&gt;</th><th scope=col>&lt;dbl&gt;</th><th scope=col>&lt;dbl&gt;</th><th scope=col>&lt;int&gt;</th><th scope=col>&lt;dbl&gt;</th><th scope=col>&lt;int&gt;</th><th scope=col>&lt;dbl&gt;</th><th scope=col>&lt;dbl&gt;</th><th scope=col>&lt;int&gt;</th><th scope=col>&lt;dbl&gt;</th><th scope=col>&lt;dbl&gt;</th><th scope=col>&lt;int&gt;</th><th scope=col>&lt;dbl&gt;</th><th scope=col>&lt;dbl&gt;</th><th scope=col>&lt;int&gt;</th><th scope=col>&lt;int&gt;</th></tr>\n",
       "</thead>\n",
       "<tbody>\n",
       "\t<tr><th scope=row>2</th><td>2</td><td>44953</td><td>Sell</td><td>AMC</td><td>1000</td><td>5.51240</td><td>5512.40</td><td>0</td><td>0</td><td>0</td><td>0</td><td>0</td><td>0</td><td>0</td><td>0</td><td>0</td><td>0</td><td>0</td><td>0</td><td>0</td></tr>\n",
       "\t<tr><th scope=row>4</th><td>4</td><td>44960</td><td>Sell</td><td>AMC</td><td>1000</td><td>6.68255</td><td>6682.55</td><td>0</td><td>0</td><td>0</td><td>0</td><td>0</td><td>0</td><td>0</td><td>0</td><td>0</td><td>0</td><td>0</td><td>0</td><td>0</td></tr>\n",
       "\t<tr><th scope=row>6</th><td>6</td><td>44960</td><td>Sell</td><td>AMC</td><td>1000</td><td>6.25500</td><td>6255.00</td><td>0</td><td>0</td><td>0</td><td>0</td><td>0</td><td>0</td><td>0</td><td>0</td><td>0</td><td>0</td><td>0</td><td>0</td><td>0</td></tr>\n",
       "</tbody>\n",
       "</table>\n"
      ],
      "text/latex": [
       "A data.frame: 3 × 20\n",
       "\\begin{tabular}{r|llllllllllllllllllll}\n",
       "  & index & date & type & co & quan & pps & basis & sale\\_quan & tally & cf\\_quan & cf\\_pps & cf\\_basis & buy\\_quan & buy\\_pps & buy\\_basis & sell\\_quan & sell\\_pps & sell\\_basis & profit\\_loss & sale\\\\\n",
       "  & <int> & <int> & <chr> & <chr> & <int> & <dbl> & <dbl> & <int> & <dbl> & <int> & <dbl> & <dbl> & <int> & <dbl> & <dbl> & <int> & <dbl> & <dbl> & <int> & <int>\\\\\n",
       "\\hline\n",
       "\t2 & 2 & 44953 & Sell & AMC & 1000 & 5.51240 & 5512.40 & 0 & 0 & 0 & 0 & 0 & 0 & 0 & 0 & 0 & 0 & 0 & 0 & 0\\\\\n",
       "\t4 & 4 & 44960 & Sell & AMC & 1000 & 6.68255 & 6682.55 & 0 & 0 & 0 & 0 & 0 & 0 & 0 & 0 & 0 & 0 & 0 & 0 & 0\\\\\n",
       "\t6 & 6 & 44960 & Sell & AMC & 1000 & 6.25500 & 6255.00 & 0 & 0 & 0 & 0 & 0 & 0 & 0 & 0 & 0 & 0 & 0 & 0 & 0\\\\\n",
       "\\end{tabular}\n"
      ],
      "text/markdown": [
       "\n",
       "A data.frame: 3 × 20\n",
       "\n",
       "| <!--/--> | index &lt;int&gt; | date &lt;int&gt; | type &lt;chr&gt; | co &lt;chr&gt; | quan &lt;int&gt; | pps &lt;dbl&gt; | basis &lt;dbl&gt; | sale_quan &lt;int&gt; | tally &lt;dbl&gt; | cf_quan &lt;int&gt; | cf_pps &lt;dbl&gt; | cf_basis &lt;dbl&gt; | buy_quan &lt;int&gt; | buy_pps &lt;dbl&gt; | buy_basis &lt;dbl&gt; | sell_quan &lt;int&gt; | sell_pps &lt;dbl&gt; | sell_basis &lt;dbl&gt; | profit_loss &lt;int&gt; | sale &lt;int&gt; |\n",
       "|---|---|---|---|---|---|---|---|---|---|---|---|---|---|---|---|---|---|---|---|---|\n",
       "| 2 | 2 | 44953 | Sell | AMC | 1000 | 5.51240 | 5512.40 | 0 | 0 | 0 | 0 | 0 | 0 | 0 | 0 | 0 | 0 | 0 | 0 | 0 |\n",
       "| 4 | 4 | 44960 | Sell | AMC | 1000 | 6.68255 | 6682.55 | 0 | 0 | 0 | 0 | 0 | 0 | 0 | 0 | 0 | 0 | 0 | 0 | 0 |\n",
       "| 6 | 6 | 44960 | Sell | AMC | 1000 | 6.25500 | 6255.00 | 0 | 0 | 0 | 0 | 0 | 0 | 0 | 0 | 0 | 0 | 0 | 0 | 0 |\n",
       "\n"
      ],
      "text/plain": [
       "  index date  type co  quan pps     basis   sale_quan tally cf_quan cf_pps\n",
       "2 2     44953 Sell AMC 1000 5.51240 5512.40 0         0     0       0     \n",
       "4 4     44960 Sell AMC 1000 6.68255 6682.55 0         0     0       0     \n",
       "6 6     44960 Sell AMC 1000 6.25500 6255.00 0         0     0       0     \n",
       "  cf_basis buy_quan buy_pps buy_basis sell_quan sell_pps sell_basis profit_loss\n",
       "2 0        0        0       0         0         0        0          0          \n",
       "4 0        0        0       0         0         0        0          0          \n",
       "6 0        0        0       0         0         0        0          0          \n",
       "  sale\n",
       "2 0   \n",
       "4 0   \n",
       "6 0   "
      ]
     },
     "metadata": {},
     "output_type": "display_data"
    }
   ],
   "source": [
    "# create dfs from filtered df\n",
    "buys <- df[df$type == 'Buy', ]  # Filter buys\n",
    "sells <- df[df$type == 'Sell', ]  # Filter sells\n",
    "head(buys, 3)\n",
    "head(sells,3)"
   ]
  },
  {
   "cell_type": "markdown",
   "id": "ad6fef1e-5fa2-4f99-8d77-c5706407dfde",
   "metadata": {},
   "source": [
    "## <font color = yellow> create_dfs function () - returns list of 4 df"
   ]
  },
  {
   "cell_type": "code",
   "execution_count": 5,
   "id": "6acf065f-312b-4a12-a615-d58aee937794",
   "metadata": {
    "tags": []
   },
   "outputs": [],
   "source": [
    "# A combo fct that creates the dfs used (combo of above )\n",
    "\n",
    "create_dfs <- function() {\n",
    "    #fct call\n",
    "    df <- create_df()   # the first row in this Notebook\n",
    "    df_records <- data.frame()\n",
    "    buys <- df[df$type == 'Buy', ]  # Filter buys\n",
    "    sells <- df[df$type == 'Sell', ]  # Filter sells\n",
    "    \n",
    "    return(list(df = df, df_records = df_records, buys = buys, sells = sells))\n",
    "  }\n",
    "    "
   ]
  },
  {
   "cell_type": "markdown",
   "id": "b492f9d9-9a0f-4450-a356-8a35ae6bf486",
   "metadata": {},
   "source": [
    "## <font color = yellow> Create:  4 new dfs "
   ]
  },
  {
   "cell_type": "code",
   "execution_count": 6,
   "id": "fb1a1b57-c843-40c8-8ca0-dc28124fcdb0",
   "metadata": {
    "tags": []
   },
   "outputs": [],
   "source": [
    "# Call the combo function, will return a list of dfs\n",
    "dfs <- create_dfs()\n",
    "\n",
    "# Access the dataframes from returned list\n",
    "df <- dfs$df\n",
    "df_records <- dfs$df_records\n",
    "buys <- dfs$buys\n",
    "sells <- dfs$sells\n",
    "\n",
    "\n",
    "    "
   ]
  },
  {
   "cell_type": "markdown",
   "id": "e41af575-56db-471d-92e1-217f3d3ee92f",
   "metadata": {
    "tags": []
   },
   "source": [
    "## <font color = yellow> row_b and row_s functions () - create b and s from buys[1,] / sells[1,]"
   ]
  },
  {
   "cell_type": "code",
   "execution_count": 7,
   "id": "f5c45604-3628-485e-85b0-5e067ff82fe5",
   "metadata": {
    "tags": []
   },
   "outputs": [],
   "source": [
    "# create one line dfs (first row ) from buys and sells dfs\n",
    "s <- data.frame()\n",
    "b <- data.frame()\n",
    "\n",
    "# Filters the dfs buys and sells, then creates the single row dfs: b & s\n",
    "\n",
    "row_b <- function(b) {\n",
    "        b <- b\n",
    "        b <- buys[1,]\n",
    "        return(b)\n",
    "    }\n",
    "\n",
    "row_s <- function(s) {\n",
    "        s <- s\n",
    "        s <- sells[1,]\n",
    "        return(s)\n",
    "    }\n",
    "\n",
    "  "
   ]
  },
  {
   "cell_type": "markdown",
   "id": "88ad39d8-7f42-4a34-b5ff-1aa297fe4b83",
   "metadata": {},
   "source": [
    "## <font color = yellow> Creates: b and s\n"
   ]
  },
  {
   "cell_type": "code",
   "execution_count": 8,
   "id": "715c8cbb-e56e-44a0-a4fe-b64e9360ce12",
   "metadata": {
    "tags": []
   },
   "outputs": [
    {
     "data": {
      "text/html": [
       "1"
      ],
      "text/latex": [
       "1"
      ],
      "text/markdown": [
       "1"
      ],
      "text/plain": [
       "[1] 1"
      ]
     },
     "metadata": {},
     "output_type": "display_data"
    },
    {
     "data": {
      "text/html": [
       "1"
      ],
      "text/latex": [
       "1"
      ],
      "text/markdown": [
       "1"
      ],
      "text/plain": [
       "[1] 1"
      ]
     },
     "metadata": {},
     "output_type": "display_data"
    },
    {
     "data": {
      "text/html": [
       "<table class=\"dataframe\">\n",
       "<caption>A data.frame: 1 × 20</caption>\n",
       "<thead>\n",
       "\t<tr><th></th><th scope=col>index</th><th scope=col>date</th><th scope=col>type</th><th scope=col>co</th><th scope=col>quan</th><th scope=col>pps</th><th scope=col>basis</th><th scope=col>sale_quan</th><th scope=col>tally</th><th scope=col>cf_quan</th><th scope=col>cf_pps</th><th scope=col>cf_basis</th><th scope=col>buy_quan</th><th scope=col>buy_pps</th><th scope=col>buy_basis</th><th scope=col>sell_quan</th><th scope=col>sell_pps</th><th scope=col>sell_basis</th><th scope=col>profit_loss</th><th scope=col>sale</th></tr>\n",
       "\t<tr><th></th><th scope=col>&lt;int&gt;</th><th scope=col>&lt;int&gt;</th><th scope=col>&lt;chr&gt;</th><th scope=col>&lt;chr&gt;</th><th scope=col>&lt;int&gt;</th><th scope=col>&lt;dbl&gt;</th><th scope=col>&lt;dbl&gt;</th><th scope=col>&lt;int&gt;</th><th scope=col>&lt;dbl&gt;</th><th scope=col>&lt;int&gt;</th><th scope=col>&lt;dbl&gt;</th><th scope=col>&lt;dbl&gt;</th><th scope=col>&lt;int&gt;</th><th scope=col>&lt;dbl&gt;</th><th scope=col>&lt;dbl&gt;</th><th scope=col>&lt;int&gt;</th><th scope=col>&lt;dbl&gt;</th><th scope=col>&lt;dbl&gt;</th><th scope=col>&lt;int&gt;</th><th scope=col>&lt;int&gt;</th></tr>\n",
       "</thead>\n",
       "<tbody>\n",
       "\t<tr><th scope=row>1</th><td>1</td><td>44926</td><td>Buy</td><td>AMC</td><td>1000</td><td>4.07</td><td>4273.5</td><td>0</td><td>0</td><td>0</td><td>0</td><td>0</td><td>0</td><td>0</td><td>0</td><td>0</td><td>0</td><td>0</td><td>0</td><td>0</td></tr>\n",
       "</tbody>\n",
       "</table>\n"
      ],
      "text/latex": [
       "A data.frame: 1 × 20\n",
       "\\begin{tabular}{r|llllllllllllllllllll}\n",
       "  & index & date & type & co & quan & pps & basis & sale\\_quan & tally & cf\\_quan & cf\\_pps & cf\\_basis & buy\\_quan & buy\\_pps & buy\\_basis & sell\\_quan & sell\\_pps & sell\\_basis & profit\\_loss & sale\\\\\n",
       "  & <int> & <int> & <chr> & <chr> & <int> & <dbl> & <dbl> & <int> & <dbl> & <int> & <dbl> & <dbl> & <int> & <dbl> & <dbl> & <int> & <dbl> & <dbl> & <int> & <int>\\\\\n",
       "\\hline\n",
       "\t1 & 1 & 44926 & Buy & AMC & 1000 & 4.07 & 4273.5 & 0 & 0 & 0 & 0 & 0 & 0 & 0 & 0 & 0 & 0 & 0 & 0 & 0\\\\\n",
       "\\end{tabular}\n"
      ],
      "text/markdown": [
       "\n",
       "A data.frame: 1 × 20\n",
       "\n",
       "| <!--/--> | index &lt;int&gt; | date &lt;int&gt; | type &lt;chr&gt; | co &lt;chr&gt; | quan &lt;int&gt; | pps &lt;dbl&gt; | basis &lt;dbl&gt; | sale_quan &lt;int&gt; | tally &lt;dbl&gt; | cf_quan &lt;int&gt; | cf_pps &lt;dbl&gt; | cf_basis &lt;dbl&gt; | buy_quan &lt;int&gt; | buy_pps &lt;dbl&gt; | buy_basis &lt;dbl&gt; | sell_quan &lt;int&gt; | sell_pps &lt;dbl&gt; | sell_basis &lt;dbl&gt; | profit_loss &lt;int&gt; | sale &lt;int&gt; |\n",
       "|---|---|---|---|---|---|---|---|---|---|---|---|---|---|---|---|---|---|---|---|---|\n",
       "| 1 | 1 | 44926 | Buy | AMC | 1000 | 4.07 | 4273.5 | 0 | 0 | 0 | 0 | 0 | 0 | 0 | 0 | 0 | 0 | 0 | 0 | 0 |\n",
       "\n"
      ],
      "text/plain": [
       "  index date  type co  quan pps  basis  sale_quan tally cf_quan cf_pps cf_basis\n",
       "1 1     44926 Buy  AMC 1000 4.07 4273.5 0         0     0       0      0       \n",
       "  buy_quan buy_pps buy_basis sell_quan sell_pps sell_basis profit_loss sale\n",
       "1 0        0       0         0         0        0          0           0   "
      ]
     },
     "metadata": {},
     "output_type": "display_data"
    },
    {
     "data": {
      "text/html": [
       "<table class=\"dataframe\">\n",
       "<caption>A data.frame: 1 × 20</caption>\n",
       "<thead>\n",
       "\t<tr><th></th><th scope=col>index</th><th scope=col>date</th><th scope=col>type</th><th scope=col>co</th><th scope=col>quan</th><th scope=col>pps</th><th scope=col>basis</th><th scope=col>sale_quan</th><th scope=col>tally</th><th scope=col>cf_quan</th><th scope=col>cf_pps</th><th scope=col>cf_basis</th><th scope=col>buy_quan</th><th scope=col>buy_pps</th><th scope=col>buy_basis</th><th scope=col>sell_quan</th><th scope=col>sell_pps</th><th scope=col>sell_basis</th><th scope=col>profit_loss</th><th scope=col>sale</th></tr>\n",
       "\t<tr><th></th><th scope=col>&lt;int&gt;</th><th scope=col>&lt;int&gt;</th><th scope=col>&lt;chr&gt;</th><th scope=col>&lt;chr&gt;</th><th scope=col>&lt;int&gt;</th><th scope=col>&lt;dbl&gt;</th><th scope=col>&lt;dbl&gt;</th><th scope=col>&lt;int&gt;</th><th scope=col>&lt;dbl&gt;</th><th scope=col>&lt;int&gt;</th><th scope=col>&lt;dbl&gt;</th><th scope=col>&lt;dbl&gt;</th><th scope=col>&lt;int&gt;</th><th scope=col>&lt;dbl&gt;</th><th scope=col>&lt;dbl&gt;</th><th scope=col>&lt;int&gt;</th><th scope=col>&lt;dbl&gt;</th><th scope=col>&lt;dbl&gt;</th><th scope=col>&lt;int&gt;</th><th scope=col>&lt;int&gt;</th></tr>\n",
       "</thead>\n",
       "<tbody>\n",
       "\t<tr><th scope=row>2</th><td>2</td><td>44953</td><td>Sell</td><td>AMC</td><td>1000</td><td>5.5124</td><td>5512.4</td><td>0</td><td>0</td><td>0</td><td>0</td><td>0</td><td>0</td><td>0</td><td>0</td><td>0</td><td>0</td><td>0</td><td>0</td><td>0</td></tr>\n",
       "</tbody>\n",
       "</table>\n"
      ],
      "text/latex": [
       "A data.frame: 1 × 20\n",
       "\\begin{tabular}{r|llllllllllllllllllll}\n",
       "  & index & date & type & co & quan & pps & basis & sale\\_quan & tally & cf\\_quan & cf\\_pps & cf\\_basis & buy\\_quan & buy\\_pps & buy\\_basis & sell\\_quan & sell\\_pps & sell\\_basis & profit\\_loss & sale\\\\\n",
       "  & <int> & <int> & <chr> & <chr> & <int> & <dbl> & <dbl> & <int> & <dbl> & <int> & <dbl> & <dbl> & <int> & <dbl> & <dbl> & <int> & <dbl> & <dbl> & <int> & <int>\\\\\n",
       "\\hline\n",
       "\t2 & 2 & 44953 & Sell & AMC & 1000 & 5.5124 & 5512.4 & 0 & 0 & 0 & 0 & 0 & 0 & 0 & 0 & 0 & 0 & 0 & 0 & 0\\\\\n",
       "\\end{tabular}\n"
      ],
      "text/markdown": [
       "\n",
       "A data.frame: 1 × 20\n",
       "\n",
       "| <!--/--> | index &lt;int&gt; | date &lt;int&gt; | type &lt;chr&gt; | co &lt;chr&gt; | quan &lt;int&gt; | pps &lt;dbl&gt; | basis &lt;dbl&gt; | sale_quan &lt;int&gt; | tally &lt;dbl&gt; | cf_quan &lt;int&gt; | cf_pps &lt;dbl&gt; | cf_basis &lt;dbl&gt; | buy_quan &lt;int&gt; | buy_pps &lt;dbl&gt; | buy_basis &lt;dbl&gt; | sell_quan &lt;int&gt; | sell_pps &lt;dbl&gt; | sell_basis &lt;dbl&gt; | profit_loss &lt;int&gt; | sale &lt;int&gt; |\n",
       "|---|---|---|---|---|---|---|---|---|---|---|---|---|---|---|---|---|---|---|---|---|\n",
       "| 2 | 2 | 44953 | Sell | AMC | 1000 | 5.5124 | 5512.4 | 0 | 0 | 0 | 0 | 0 | 0 | 0 | 0 | 0 | 0 | 0 | 0 | 0 |\n",
       "\n"
      ],
      "text/plain": [
       "  index date  type co  quan pps    basis  sale_quan tally cf_quan cf_pps\n",
       "2 2     44953 Sell AMC 1000 5.5124 5512.4 0         0     0       0     \n",
       "  cf_basis buy_quan buy_pps buy_basis sell_quan sell_pps sell_basis profit_loss\n",
       "2 0        0        0       0         0         0        0          0          \n",
       "  sale\n",
       "2 0   "
      ]
     },
     "metadata": {},
     "output_type": "display_data"
    }
   ],
   "source": [
    "# call fcts\n",
    "\n",
    "b <- row_b(b)   \n",
    "s <- row_s(s)    \n",
    "\n",
    "nrow(b)\n",
    "nrow(s)\n",
    "\n",
    "b\n",
    "s"
   ]
  },
  {
   "cell_type": "markdown",
   "id": "3f2e0a23-e27c-457a-b6c5-9f0fd393908d",
   "metadata": {},
   "source": [
    "## <font color = yellow> df_create_records function () - binds b \n",
    "    \n",
    "    needs i value for testing "
   ]
  },
  {
   "cell_type": "code",
   "execution_count": 9,
   "id": "3429b418-aaee-4856-b00f-dfee64079c35",
   "metadata": {
    "tags": []
   },
   "outputs": [
    {
     "data": {
      "text/html": [
       "1"
      ],
      "text/latex": [
       "1"
      ],
      "text/markdown": [
       "1"
      ],
      "text/plain": [
       "[1] 1"
      ]
     },
     "metadata": {},
     "output_type": "display_data"
    },
    {
     "data": {
      "text/html": [
       "0"
      ],
      "text/latex": [
       "0"
      ],
      "text/markdown": [
       "0"
      ],
      "text/plain": [
       "[1] 0"
      ]
     },
     "metadata": {},
     "output_type": "display_data"
    }
   ],
   "source": [
    "# Takes basic ( 4 field sell data from b, and uses rbind to add that data to df_records (now a simple single row w/ 4 fields of buy data\n",
    "\n",
    "#  tested using incrementing values of i which increment b to df_records\n",
    "\n",
    "df_create_records <- function (df_records, b, i) {\n",
    "    \n",
    "    df_records <- df_records\n",
    "    b <- b   \n",
    "    i <- i\n",
    "   \n",
    "    df_records <- rbind(b, df_records)     \n",
    "\n",
    "    # for testing only\n",
    "    # i <<- i + 1\n",
    "    \n",
    "    return(df_records)\n",
    "    \n",
    "    }\n",
    "i\n",
    "nrow(df_records)\n",
    "\n"
   ]
  },
  {
   "cell_type": "markdown",
   "id": "e9895415-a3fe-490f-bd08-6a43de7ffe08",
   "metadata": {},
   "source": [
    "### testing in next 2 rows"
   ]
  },
  {
   "cell_type": "code",
   "execution_count": 10,
   "id": "8962769c-495b-4014-ad6b-5f6e98ae94a9",
   "metadata": {},
   "outputs": [],
   "source": [
    "# i <- 1"
   ]
  },
  {
   "cell_type": "code",
   "execution_count": 11,
   "id": "999f1f90-5528-491c-a632-acbe8d508dd9",
   "metadata": {},
   "outputs": [],
   "source": [
    "#  b <- buys[i+1 ,]\n",
    "# df_records <- df_create_records(df_records, b, i)\n",
    "# i\n",
    "# df_records\n"
   ]
  },
  {
   "cell_type": "code",
   "execution_count": 12,
   "id": "b96b1040-573a-4b8e-ba0f-83687378bb36",
   "metadata": {},
   "outputs": [
    {
     "data": {
      "text/html": [
       "1"
      ],
      "text/latex": [
       "1"
      ],
      "text/markdown": [
       "1"
      ],
      "text/plain": [
       "[1] 1"
      ]
     },
     "metadata": {},
     "output_type": "display_data"
    }
   ],
   "source": [
    "i"
   ]
  },
  {
   "cell_type": "markdown",
   "id": "165e0070-593f-43c8-be7e-b7a0d2aae11d",
   "metadata": {},
   "source": [
    "## <font color = yellow> when_cf function () - fill empty fields from Sale when Buys > Sells ( Has C/F )\n",
    "    \n",
    "    \n",
    "    it seems there is no need to pass df_records into this fct"
   ]
  },
  {
   "cell_type": "code",
   "execution_count": 13,
   "id": "ac92fd55-875d-4742-a076-d6c84dc7debc",
   "metadata": {
    "tags": []
   },
   "outputs": [],
   "source": [
    "# These values might be default when there is a carryforward ( Buy > Sell )\n",
    "\n",
    "when_cf <- function (b, s, df_records) {\n",
    "    \n",
    "    b <- b\n",
    "    s <- s\n",
    "    df_records <- df_records\n",
    "    \n",
    "    \n",
    "    if(nrow(df_records) == 0) {\n",
    "        cat(\"The df_records is an empty df\", \"\\n\")\n",
    "        } else if(nrow(df_records) > 0 ) {\n",
    "        cat(\"The df_records has one or more rows of data \", \"\\n\")        \n",
    "        }\n",
    "   \n",
    "    sale <- s$quan\n",
    "    bs_ratio <- b$quan / s$quan\n",
    "    cf_quan <-  b$quan - s$quan\n",
    "    \n",
    "    # assign the cf values - if they exist\n",
    "    if(b$quan > s$quan) {\n",
    "        b$cf_quan <- (b$quan - s$quan)        \n",
    "        b$cf_pps <- b$pps\n",
    "        b$cf_basis <- cf_quan * b$pps\n",
    "    }\n",
    "    b$sale_quan <- b$quan\n",
    "    b$buy_quan <- s$quan \n",
    "    b$buy_pps <-  b$pps\n",
    "    b$buy_basis <-  b$buy_quan * b$pps\n",
    "\n",
    "    b$sell_quan <- s$quan\n",
    "    b$sell_pps <- s$pps\n",
    "    b$sell_basis <- s$quan * s$pps\n",
    "\n",
    "    b$profit_loss <- b$sell_basis - b$buy_basis\n",
    "    b$sale <- sale\n",
    "    \n",
    "    s$type <- \"SOLD\"\n",
    "    \n",
    "    return(b)   \n",
    "    \n",
    "    # the dimensions of the dataframe, b, are the same as the dimensions of dataframe, df_records.\n",
    "    #  t/f, the returned value, b, can be assigned to the var, df_records, which is the var assisned to the calling fct.\n",
    "    #  and what's really interesting, is this same variable, df_records, is also passed to this function.\n",
    "    \n",
    "    \n",
    "    }\n",
    "    "
   ]
  },
  {
   "cell_type": "code",
   "execution_count": null,
   "id": "049aa666-9b07-4ac7-a29d-75cdd120b7d0",
   "metadata": {},
   "outputs": [],
   "source": []
  },
  {
   "cell_type": "markdown",
   "id": "f77be69b-84f7-4e85-b52b-cd9c7e556e9c",
   "metadata": {
    "tags": []
   },
   "source": [
    "## <font color = yellow>  df_records gets updated with the complete sell data "
   ]
  },
  {
   "cell_type": "code",
   "execution_count": 14,
   "id": "e915fec0-3fbc-46b9-9ee5-fb422ceffe99",
   "metadata": {},
   "outputs": [
    {
     "name": "stdout",
     "output_type": "stream",
     "text": [
      "The df_records is an empty df \n"
     ]
    },
    {
     "data": {
      "text/html": [
       "<table class=\"dataframe\">\n",
       "<caption>A data.frame: 1 × 20</caption>\n",
       "<thead>\n",
       "\t<tr><th></th><th scope=col>index</th><th scope=col>date</th><th scope=col>type</th><th scope=col>co</th><th scope=col>quan</th><th scope=col>pps</th><th scope=col>basis</th><th scope=col>sale_quan</th><th scope=col>tally</th><th scope=col>cf_quan</th><th scope=col>cf_pps</th><th scope=col>cf_basis</th><th scope=col>buy_quan</th><th scope=col>buy_pps</th><th scope=col>buy_basis</th><th scope=col>sell_quan</th><th scope=col>sell_pps</th><th scope=col>sell_basis</th><th scope=col>profit_loss</th><th scope=col>sale</th></tr>\n",
       "\t<tr><th></th><th scope=col>&lt;int&gt;</th><th scope=col>&lt;int&gt;</th><th scope=col>&lt;chr&gt;</th><th scope=col>&lt;chr&gt;</th><th scope=col>&lt;int&gt;</th><th scope=col>&lt;dbl&gt;</th><th scope=col>&lt;dbl&gt;</th><th scope=col>&lt;int&gt;</th><th scope=col>&lt;dbl&gt;</th><th scope=col>&lt;int&gt;</th><th scope=col>&lt;dbl&gt;</th><th scope=col>&lt;dbl&gt;</th><th scope=col>&lt;int&gt;</th><th scope=col>&lt;dbl&gt;</th><th scope=col>&lt;dbl&gt;</th><th scope=col>&lt;int&gt;</th><th scope=col>&lt;dbl&gt;</th><th scope=col>&lt;dbl&gt;</th><th scope=col>&lt;dbl&gt;</th><th scope=col>&lt;int&gt;</th></tr>\n",
       "</thead>\n",
       "<tbody>\n",
       "\t<tr><th scope=row>1</th><td>1</td><td>44926</td><td>Buy</td><td>AMC</td><td>1000</td><td>4.07</td><td>4273.5</td><td>1000</td><td>0</td><td>0</td><td>0</td><td>0</td><td>1000</td><td>4.07</td><td>4070</td><td>1000</td><td>5.5124</td><td>5512.4</td><td>1442.4</td><td>1000</td></tr>\n",
       "</tbody>\n",
       "</table>\n"
      ],
      "text/latex": [
       "A data.frame: 1 × 20\n",
       "\\begin{tabular}{r|llllllllllllllllllll}\n",
       "  & index & date & type & co & quan & pps & basis & sale\\_quan & tally & cf\\_quan & cf\\_pps & cf\\_basis & buy\\_quan & buy\\_pps & buy\\_basis & sell\\_quan & sell\\_pps & sell\\_basis & profit\\_loss & sale\\\\\n",
       "  & <int> & <int> & <chr> & <chr> & <int> & <dbl> & <dbl> & <int> & <dbl> & <int> & <dbl> & <dbl> & <int> & <dbl> & <dbl> & <int> & <dbl> & <dbl> & <dbl> & <int>\\\\\n",
       "\\hline\n",
       "\t1 & 1 & 44926 & Buy & AMC & 1000 & 4.07 & 4273.5 & 1000 & 0 & 0 & 0 & 0 & 1000 & 4.07 & 4070 & 1000 & 5.5124 & 5512.4 & 1442.4 & 1000\\\\\n",
       "\\end{tabular}\n"
      ],
      "text/markdown": [
       "\n",
       "A data.frame: 1 × 20\n",
       "\n",
       "| <!--/--> | index &lt;int&gt; | date &lt;int&gt; | type &lt;chr&gt; | co &lt;chr&gt; | quan &lt;int&gt; | pps &lt;dbl&gt; | basis &lt;dbl&gt; | sale_quan &lt;int&gt; | tally &lt;dbl&gt; | cf_quan &lt;int&gt; | cf_pps &lt;dbl&gt; | cf_basis &lt;dbl&gt; | buy_quan &lt;int&gt; | buy_pps &lt;dbl&gt; | buy_basis &lt;dbl&gt; | sell_quan &lt;int&gt; | sell_pps &lt;dbl&gt; | sell_basis &lt;dbl&gt; | profit_loss &lt;dbl&gt; | sale &lt;int&gt; |\n",
       "|---|---|---|---|---|---|---|---|---|---|---|---|---|---|---|---|---|---|---|---|---|\n",
       "| 1 | 1 | 44926 | Buy | AMC | 1000 | 4.07 | 4273.5 | 1000 | 0 | 0 | 0 | 0 | 1000 | 4.07 | 4070 | 1000 | 5.5124 | 5512.4 | 1442.4 | 1000 |\n",
       "\n"
      ],
      "text/plain": [
       "  index date  type co  quan pps  basis  sale_quan tally cf_quan cf_pps cf_basis\n",
       "1 1     44926 Buy  AMC 1000 4.07 4273.5 1000      0     0       0      0       \n",
       "  buy_quan buy_pps buy_basis sell_quan sell_pps sell_basis profit_loss sale\n",
       "1 1000     4.07    4070      1000      5.5124   5512.4     1442.4      1000"
      ]
     },
     "metadata": {},
     "output_type": "display_data"
    }
   ],
   "source": [
    "# fct call 1 to this fct\n",
    "# will update df_records with Sell data & cf data(if any) those changes to be made to b inside the fct,  when_cf,\n",
    "# and the when_cf function returns those changes made to b, (return b), which is assigned to df_records.  \n",
    "\n",
    "\n",
    "df_records <- when_cf(b, s, df_records)\n",
    "df_records"
   ]
  },
  {
   "cell_type": "code",
   "execution_count": null,
   "id": "5a58d2a1-bd12-489a-9ce3-48e1a5ba6dda",
   "metadata": {},
   "outputs": [],
   "source": []
  },
  {
   "cell_type": "markdown",
   "id": "20e00a2d-d145-4062-ab58-910dee152307",
   "metadata": {},
   "source": [
    "## <font color = yellow> test_for_cf function ()"
   ]
  },
  {
   "cell_type": "code",
   "execution_count": 15,
   "id": "8fe25ec2-0c6a-4ae0-b9a6-26b856e414f9",
   "metadata": {},
   "outputs": [],
   "source": [
    "# Row 1 of Buys was deleted.  If there is a c/f in df_records on row 1, then \n",
    "# will update the c/f data to buys row 1 .... 50 shares will act as a regular Buy \n",
    "\n",
    "\n",
    "test_for_cf <- function(b, buys, df_records) {\n",
    "\n",
    "    b <- b\n",
    "    buys <- buys\n",
    "    df_records <- df_records\n",
    "    \n",
    "    if(df_records$cf_quan > 0 ) {\n",
    "        \n",
    "        # new var with copies of values from b \n",
    "        temp <- b\n",
    "        \n",
    "        temp$quan <- df_records$cf_quan\n",
    "        temp$basis <- df_records$cf_basis\n",
    "        temp$type <- \"Buy-CF\"\n",
    "\n",
    "        \n",
    "        i <- 1      \n",
    "        \n",
    "        # insert row into buys\n",
    "        buys <- add_row(buys, temp, .before = i)        \n",
    "        \n",
    "        }\n",
    "   } # fct"
   ]
  },
  {
   "cell_type": "code",
   "execution_count": 16,
   "id": "6f6bc4cc-af0e-4138-ba21-7ebd03764354",
   "metadata": {},
   "outputs": [],
   "source": [
    "# this fct must occur when there is non c/f from Buy\n",
    "\n"
   ]
  },
  {
   "cell_type": "markdown",
   "id": "84f64300-a4a4-4fcb-b5ef-2ce9954abd4d",
   "metadata": {
    "tags": []
   },
   "source": [
    "## <font color = yellow> sell_snip & snips functions () - the snips will parse row 1, then call test_for_cf fct"
   ]
  },
  {
   "cell_type": "code",
   "execution_count": 17,
   "id": "956351a3-a7ed-4e09-b15c-098316241c3c",
   "metadata": {
    "tags": []
   },
   "outputs": [],
   "source": [
    "#  These functions will delete the first row from the Buys and Sells dfs \n",
    "#  concluding the first Sale event\n",
    "\n",
    "i <- 1\n",
    "\n",
    "\n",
    "# fct\n",
    "snips <- function (b, buys, df_records) {\n",
    "    \n",
    "    b <- b\n",
    "    buys <- buys  \n",
    "    df_records <- df_records\n",
    "    \n",
    "    # remove the first row of buys ... is b \n",
    "    buys <- buys[-1, ]   \n",
    "    \n",
    "    \n",
    "    # Only if, then call fct that will apend df_records for the c/f values.  Otherwise ... ? \n",
    "    if(df_records$cf_quan > 0 ) {\n",
    "        \n",
    "        #fct call\n",
    "        buys <- test_for_cf(b, buys, df_records)        \n",
    "        return(buys)\n",
    "        \n",
    "        }else if( df_records$cf_quan == 0 ) {  \n",
    "                cat(\"else if ( df_records$cf_quan == 0 .... ??? \", \"\\n\")\n",
    "            return(buys)       \n",
    "         }\n",
    "    \n",
    "    #  return(buys)\n",
    "    \n",
    "   }  # fct"
   ]
  },
  {
   "cell_type": "code",
   "execution_count": null,
   "id": "1f6e5ccf-edb2-4310-aafc-9b1fafdfb23a",
   "metadata": {},
   "outputs": [],
   "source": []
  },
  {
   "cell_type": "code",
   "execution_count": 18,
   "id": "d9fa19c1-0f88-44e2-ac26-f3d333eccf15",
   "metadata": {
    "tags": []
   },
   "outputs": [],
   "source": [
    "# fct\n",
    "sell_snip <- function(sells) {\n",
    "    sells <- sells    \n",
    "    sells <- sells[-1, ]    \n",
    "    return(sells)\n",
    "    }\n",
    "\n",
    "\n",
    "# fct call\n",
    "\n",
    "\n",
    "# nrow(buys)\n",
    "# nrow(sells)\n",
    "\n",
    "# buys <- snips(buys)\n",
    "# sells <- sell_snip(sells)\n",
    "# nrow(buys)\n",
    "# nrow(sells)\n",
    "# head(buys, 3)"
   ]
  },
  {
   "cell_type": "code",
   "execution_count": 19,
   "id": "466f08f7-0076-41ce-a6df-6bf0ac19b485",
   "metadata": {
    "tags": []
   },
   "outputs": [
    {
     "data": {
      "text/html": [
       "<table class=\"dataframe\">\n",
       "<caption>A data.frame: 1 × 20</caption>\n",
       "<thead>\n",
       "\t<tr><th></th><th scope=col>index</th><th scope=col>date</th><th scope=col>type</th><th scope=col>co</th><th scope=col>quan</th><th scope=col>pps</th><th scope=col>basis</th><th scope=col>sale_quan</th><th scope=col>tally</th><th scope=col>cf_quan</th><th scope=col>cf_pps</th><th scope=col>cf_basis</th><th scope=col>buy_quan</th><th scope=col>buy_pps</th><th scope=col>buy_basis</th><th scope=col>sell_quan</th><th scope=col>sell_pps</th><th scope=col>sell_basis</th><th scope=col>profit_loss</th><th scope=col>sale</th></tr>\n",
       "\t<tr><th></th><th scope=col>&lt;int&gt;</th><th scope=col>&lt;int&gt;</th><th scope=col>&lt;chr&gt;</th><th scope=col>&lt;chr&gt;</th><th scope=col>&lt;int&gt;</th><th scope=col>&lt;dbl&gt;</th><th scope=col>&lt;dbl&gt;</th><th scope=col>&lt;int&gt;</th><th scope=col>&lt;dbl&gt;</th><th scope=col>&lt;int&gt;</th><th scope=col>&lt;dbl&gt;</th><th scope=col>&lt;dbl&gt;</th><th scope=col>&lt;int&gt;</th><th scope=col>&lt;dbl&gt;</th><th scope=col>&lt;dbl&gt;</th><th scope=col>&lt;int&gt;</th><th scope=col>&lt;dbl&gt;</th><th scope=col>&lt;dbl&gt;</th><th scope=col>&lt;dbl&gt;</th><th scope=col>&lt;int&gt;</th></tr>\n",
       "</thead>\n",
       "<tbody>\n",
       "\t<tr><th scope=row>1</th><td>1</td><td>44926</td><td>Buy</td><td>AMC</td><td>1000</td><td>4.07</td><td>4273.5</td><td>1000</td><td>0</td><td>0</td><td>0</td><td>0</td><td>1000</td><td>4.07</td><td>4070</td><td>1000</td><td>5.5124</td><td>5512.4</td><td>1442.4</td><td>1000</td></tr>\n",
       "</tbody>\n",
       "</table>\n"
      ],
      "text/latex": [
       "A data.frame: 1 × 20\n",
       "\\begin{tabular}{r|llllllllllllllllllll}\n",
       "  & index & date & type & co & quan & pps & basis & sale\\_quan & tally & cf\\_quan & cf\\_pps & cf\\_basis & buy\\_quan & buy\\_pps & buy\\_basis & sell\\_quan & sell\\_pps & sell\\_basis & profit\\_loss & sale\\\\\n",
       "  & <int> & <int> & <chr> & <chr> & <int> & <dbl> & <dbl> & <int> & <dbl> & <int> & <dbl> & <dbl> & <int> & <dbl> & <dbl> & <int> & <dbl> & <dbl> & <dbl> & <int>\\\\\n",
       "\\hline\n",
       "\t1 & 1 & 44926 & Buy & AMC & 1000 & 4.07 & 4273.5 & 1000 & 0 & 0 & 0 & 0 & 1000 & 4.07 & 4070 & 1000 & 5.5124 & 5512.4 & 1442.4 & 1000\\\\\n",
       "\\end{tabular}\n"
      ],
      "text/markdown": [
       "\n",
       "A data.frame: 1 × 20\n",
       "\n",
       "| <!--/--> | index &lt;int&gt; | date &lt;int&gt; | type &lt;chr&gt; | co &lt;chr&gt; | quan &lt;int&gt; | pps &lt;dbl&gt; | basis &lt;dbl&gt; | sale_quan &lt;int&gt; | tally &lt;dbl&gt; | cf_quan &lt;int&gt; | cf_pps &lt;dbl&gt; | cf_basis &lt;dbl&gt; | buy_quan &lt;int&gt; | buy_pps &lt;dbl&gt; | buy_basis &lt;dbl&gt; | sell_quan &lt;int&gt; | sell_pps &lt;dbl&gt; | sell_basis &lt;dbl&gt; | profit_loss &lt;dbl&gt; | sale &lt;int&gt; |\n",
       "|---|---|---|---|---|---|---|---|---|---|---|---|---|---|---|---|---|---|---|---|---|\n",
       "| 1 | 1 | 44926 | Buy | AMC | 1000 | 4.07 | 4273.5 | 1000 | 0 | 0 | 0 | 0 | 1000 | 4.07 | 4070 | 1000 | 5.5124 | 5512.4 | 1442.4 | 1000 |\n",
       "\n"
      ],
      "text/plain": [
       "  index date  type co  quan pps  basis  sale_quan tally cf_quan cf_pps cf_basis\n",
       "1 1     44926 Buy  AMC 1000 4.07 4273.5 1000      0     0       0      0       \n",
       "  buy_quan buy_pps buy_basis sell_quan sell_pps sell_basis profit_loss sale\n",
       "1 1000     4.07    4070      1000      5.5124   5512.4     1442.4      1000"
      ]
     },
     "metadata": {},
     "output_type": "display_data"
    }
   ],
   "source": [
    "df_records"
   ]
  },
  {
   "cell_type": "code",
   "execution_count": 20,
   "id": "2b65ecdb-9bac-4a67-90b6-2704804906bf",
   "metadata": {
    "tags": []
   },
   "outputs": [
    {
     "data": {
      "text/html": [
       "23"
      ],
      "text/latex": [
       "23"
      ],
      "text/markdown": [
       "23"
      ],
      "text/plain": [
       "[1] 23"
      ]
     },
     "metadata": {},
     "output_type": "display_data"
    },
    {
     "data": {
      "text/html": [
       "18"
      ],
      "text/latex": [
       "18"
      ],
      "text/markdown": [
       "18"
      ],
      "text/plain": [
       "[1] 18"
      ]
     },
     "metadata": {},
     "output_type": "display_data"
    },
    {
     "name": "stdout",
     "output_type": "stream",
     "text": [
      "else if ( df_records$cf_quan == 0 .... ???  \n"
     ]
    },
    {
     "data": {
      "text/html": [
       "22"
      ],
      "text/latex": [
       "22"
      ],
      "text/markdown": [
       "22"
      ],
      "text/plain": [
       "[1] 22"
      ]
     },
     "metadata": {},
     "output_type": "display_data"
    },
    {
     "data": {
      "text/html": [
       "17"
      ],
      "text/latex": [
       "17"
      ],
      "text/markdown": [
       "17"
      ],
      "text/plain": [
       "[1] 17"
      ]
     },
     "metadata": {},
     "output_type": "display_data"
    },
    {
     "data": {
      "text/html": [
       "<table class=\"dataframe\">\n",
       "<caption>A data.frame: 3 × 20</caption>\n",
       "<thead>\n",
       "\t<tr><th></th><th scope=col>index</th><th scope=col>date</th><th scope=col>type</th><th scope=col>co</th><th scope=col>quan</th><th scope=col>pps</th><th scope=col>basis</th><th scope=col>sale_quan</th><th scope=col>tally</th><th scope=col>cf_quan</th><th scope=col>cf_pps</th><th scope=col>cf_basis</th><th scope=col>buy_quan</th><th scope=col>buy_pps</th><th scope=col>buy_basis</th><th scope=col>sell_quan</th><th scope=col>sell_pps</th><th scope=col>sell_basis</th><th scope=col>profit_loss</th><th scope=col>sale</th></tr>\n",
       "\t<tr><th></th><th scope=col>&lt;int&gt;</th><th scope=col>&lt;int&gt;</th><th scope=col>&lt;chr&gt;</th><th scope=col>&lt;chr&gt;</th><th scope=col>&lt;int&gt;</th><th scope=col>&lt;dbl&gt;</th><th scope=col>&lt;dbl&gt;</th><th scope=col>&lt;int&gt;</th><th scope=col>&lt;dbl&gt;</th><th scope=col>&lt;int&gt;</th><th scope=col>&lt;dbl&gt;</th><th scope=col>&lt;dbl&gt;</th><th scope=col>&lt;int&gt;</th><th scope=col>&lt;dbl&gt;</th><th scope=col>&lt;dbl&gt;</th><th scope=col>&lt;int&gt;</th><th scope=col>&lt;dbl&gt;</th><th scope=col>&lt;dbl&gt;</th><th scope=col>&lt;int&gt;</th><th scope=col>&lt;int&gt;</th></tr>\n",
       "</thead>\n",
       "<tbody>\n",
       "\t<tr><th scope=row>3</th><td>3</td><td>44946</td><td>Buy</td><td>AMC</td><td>1000</td><td>5.6250</td><td> 5625.0</td><td>0</td><td>0</td><td>0</td><td>0</td><td>0</td><td>0</td><td>0</td><td>0</td><td>0</td><td>0</td><td>0</td><td>0</td><td>0</td></tr>\n",
       "\t<tr><th scope=row>5</th><td>5</td><td>44949</td><td>Buy</td><td>AMC</td><td>1000</td><td>5.7880</td><td> 5788.0</td><td>0</td><td>0</td><td>0</td><td>0</td><td>0</td><td>0</td><td>0</td><td>0</td><td>0</td><td>0</td><td>0</td><td>0</td><td>0</td></tr>\n",
       "\t<tr><th scope=row>7</th><td>7</td><td>44953</td><td>Buy</td><td>AMC</td><td>2000</td><td>5.2394</td><td>10478.8</td><td>0</td><td>0</td><td>0</td><td>0</td><td>0</td><td>0</td><td>0</td><td>0</td><td>0</td><td>0</td><td>0</td><td>0</td><td>0</td></tr>\n",
       "</tbody>\n",
       "</table>\n"
      ],
      "text/latex": [
       "A data.frame: 3 × 20\n",
       "\\begin{tabular}{r|llllllllllllllllllll}\n",
       "  & index & date & type & co & quan & pps & basis & sale\\_quan & tally & cf\\_quan & cf\\_pps & cf\\_basis & buy\\_quan & buy\\_pps & buy\\_basis & sell\\_quan & sell\\_pps & sell\\_basis & profit\\_loss & sale\\\\\n",
       "  & <int> & <int> & <chr> & <chr> & <int> & <dbl> & <dbl> & <int> & <dbl> & <int> & <dbl> & <dbl> & <int> & <dbl> & <dbl> & <int> & <dbl> & <dbl> & <int> & <int>\\\\\n",
       "\\hline\n",
       "\t3 & 3 & 44946 & Buy & AMC & 1000 & 5.6250 &  5625.0 & 0 & 0 & 0 & 0 & 0 & 0 & 0 & 0 & 0 & 0 & 0 & 0 & 0\\\\\n",
       "\t5 & 5 & 44949 & Buy & AMC & 1000 & 5.7880 &  5788.0 & 0 & 0 & 0 & 0 & 0 & 0 & 0 & 0 & 0 & 0 & 0 & 0 & 0\\\\\n",
       "\t7 & 7 & 44953 & Buy & AMC & 2000 & 5.2394 & 10478.8 & 0 & 0 & 0 & 0 & 0 & 0 & 0 & 0 & 0 & 0 & 0 & 0 & 0\\\\\n",
       "\\end{tabular}\n"
      ],
      "text/markdown": [
       "\n",
       "A data.frame: 3 × 20\n",
       "\n",
       "| <!--/--> | index &lt;int&gt; | date &lt;int&gt; | type &lt;chr&gt; | co &lt;chr&gt; | quan &lt;int&gt; | pps &lt;dbl&gt; | basis &lt;dbl&gt; | sale_quan &lt;int&gt; | tally &lt;dbl&gt; | cf_quan &lt;int&gt; | cf_pps &lt;dbl&gt; | cf_basis &lt;dbl&gt; | buy_quan &lt;int&gt; | buy_pps &lt;dbl&gt; | buy_basis &lt;dbl&gt; | sell_quan &lt;int&gt; | sell_pps &lt;dbl&gt; | sell_basis &lt;dbl&gt; | profit_loss &lt;int&gt; | sale &lt;int&gt; |\n",
       "|---|---|---|---|---|---|---|---|---|---|---|---|---|---|---|---|---|---|---|---|---|\n",
       "| 3 | 3 | 44946 | Buy | AMC | 1000 | 5.6250 |  5625.0 | 0 | 0 | 0 | 0 | 0 | 0 | 0 | 0 | 0 | 0 | 0 | 0 | 0 |\n",
       "| 5 | 5 | 44949 | Buy | AMC | 1000 | 5.7880 |  5788.0 | 0 | 0 | 0 | 0 | 0 | 0 | 0 | 0 | 0 | 0 | 0 | 0 | 0 |\n",
       "| 7 | 7 | 44953 | Buy | AMC | 2000 | 5.2394 | 10478.8 | 0 | 0 | 0 | 0 | 0 | 0 | 0 | 0 | 0 | 0 | 0 | 0 | 0 |\n",
       "\n"
      ],
      "text/plain": [
       "  index date  type co  quan pps    basis   sale_quan tally cf_quan cf_pps\n",
       "3 3     44946 Buy  AMC 1000 5.6250  5625.0 0         0     0       0     \n",
       "5 5     44949 Buy  AMC 1000 5.7880  5788.0 0         0     0       0     \n",
       "7 7     44953 Buy  AMC 2000 5.2394 10478.8 0         0     0       0     \n",
       "  cf_basis buy_quan buy_pps buy_basis sell_quan sell_pps sell_basis profit_loss\n",
       "3 0        0        0       0         0         0        0          0          \n",
       "5 0        0        0       0         0         0        0          0          \n",
       "7 0        0        0       0         0         0        0          0          \n",
       "  sale\n",
       "3 0   \n",
       "5 0   \n",
       "7 0   "
      ]
     },
     "metadata": {},
     "output_type": "display_data"
    }
   ],
   "source": [
    "# These are the fcts (in order) to process a Sals, from start to end \n",
    "\n",
    "nrow(buys)\n",
    "nrow(sells)\n",
    "\n",
    "buys <- snips(b,buys, df_records)\n",
    "sells <- sell_snip(sells)\n",
    "nrow(buys)\n",
    "nrow(sells)\n",
    "head(buys, 3)"
   ]
  },
  {
   "cell_type": "code",
   "execution_count": null,
   "id": "5d68d2c1-fdc8-48b2-a971-9e036756f4a1",
   "metadata": {
    "tags": []
   },
   "outputs": [],
   "source": []
  },
  {
   "cell_type": "code",
   "execution_count": null,
   "id": "92ebba72-5ee0-44c2-9119-3b31af62afbf",
   "metadata": {
    "tags": []
   },
   "outputs": [],
   "source": []
  },
  {
   "cell_type": "code",
   "execution_count": 21,
   "id": "e512778c-a0c0-46e5-8304-8f08b2e74018",
   "metadata": {},
   "outputs": [
    {
     "data": {
      "text/html": [
       "<table class=\"dataframe\">\n",
       "<caption>A data.frame: 1 × 20</caption>\n",
       "<thead>\n",
       "\t<tr><th></th><th scope=col>index</th><th scope=col>date</th><th scope=col>type</th><th scope=col>co</th><th scope=col>quan</th><th scope=col>pps</th><th scope=col>basis</th><th scope=col>sale_quan</th><th scope=col>tally</th><th scope=col>cf_quan</th><th scope=col>cf_pps</th><th scope=col>cf_basis</th><th scope=col>buy_quan</th><th scope=col>buy_pps</th><th scope=col>buy_basis</th><th scope=col>sell_quan</th><th scope=col>sell_pps</th><th scope=col>sell_basis</th><th scope=col>profit_loss</th><th scope=col>sale</th></tr>\n",
       "\t<tr><th></th><th scope=col>&lt;int&gt;</th><th scope=col>&lt;int&gt;</th><th scope=col>&lt;chr&gt;</th><th scope=col>&lt;chr&gt;</th><th scope=col>&lt;int&gt;</th><th scope=col>&lt;dbl&gt;</th><th scope=col>&lt;dbl&gt;</th><th scope=col>&lt;int&gt;</th><th scope=col>&lt;dbl&gt;</th><th scope=col>&lt;int&gt;</th><th scope=col>&lt;dbl&gt;</th><th scope=col>&lt;dbl&gt;</th><th scope=col>&lt;int&gt;</th><th scope=col>&lt;dbl&gt;</th><th scope=col>&lt;dbl&gt;</th><th scope=col>&lt;int&gt;</th><th scope=col>&lt;dbl&gt;</th><th scope=col>&lt;dbl&gt;</th><th scope=col>&lt;int&gt;</th><th scope=col>&lt;int&gt;</th></tr>\n",
       "</thead>\n",
       "<tbody>\n",
       "\t<tr><th scope=row>3</th><td>3</td><td>44946</td><td>Buy</td><td>AMC</td><td>1000</td><td>5.625</td><td>5625</td><td>0</td><td>0</td><td>0</td><td>0</td><td>0</td><td>0</td><td>0</td><td>0</td><td>0</td><td>0</td><td>0</td><td>0</td><td>0</td></tr>\n",
       "</tbody>\n",
       "</table>\n"
      ],
      "text/latex": [
       "A data.frame: 1 × 20\n",
       "\\begin{tabular}{r|llllllllllllllllllll}\n",
       "  & index & date & type & co & quan & pps & basis & sale\\_quan & tally & cf\\_quan & cf\\_pps & cf\\_basis & buy\\_quan & buy\\_pps & buy\\_basis & sell\\_quan & sell\\_pps & sell\\_basis & profit\\_loss & sale\\\\\n",
       "  & <int> & <int> & <chr> & <chr> & <int> & <dbl> & <dbl> & <int> & <dbl> & <int> & <dbl> & <dbl> & <int> & <dbl> & <dbl> & <int> & <dbl> & <dbl> & <int> & <int>\\\\\n",
       "\\hline\n",
       "\t3 & 3 & 44946 & Buy & AMC & 1000 & 5.625 & 5625 & 0 & 0 & 0 & 0 & 0 & 0 & 0 & 0 & 0 & 0 & 0 & 0 & 0\\\\\n",
       "\\end{tabular}\n"
      ],
      "text/markdown": [
       "\n",
       "A data.frame: 1 × 20\n",
       "\n",
       "| <!--/--> | index &lt;int&gt; | date &lt;int&gt; | type &lt;chr&gt; | co &lt;chr&gt; | quan &lt;int&gt; | pps &lt;dbl&gt; | basis &lt;dbl&gt; | sale_quan &lt;int&gt; | tally &lt;dbl&gt; | cf_quan &lt;int&gt; | cf_pps &lt;dbl&gt; | cf_basis &lt;dbl&gt; | buy_quan &lt;int&gt; | buy_pps &lt;dbl&gt; | buy_basis &lt;dbl&gt; | sell_quan &lt;int&gt; | sell_pps &lt;dbl&gt; | sell_basis &lt;dbl&gt; | profit_loss &lt;int&gt; | sale &lt;int&gt; |\n",
       "|---|---|---|---|---|---|---|---|---|---|---|---|---|---|---|---|---|---|---|---|---|\n",
       "| 3 | 3 | 44946 | Buy | AMC | 1000 | 5.625 | 5625 | 0 | 0 | 0 | 0 | 0 | 0 | 0 | 0 | 0 | 0 | 0 | 0 | 0 |\n",
       "\n"
      ],
      "text/plain": [
       "  index date  type co  quan pps   basis sale_quan tally cf_quan cf_pps cf_basis\n",
       "3 3     44946 Buy  AMC 1000 5.625 5625  0         0     0       0      0       \n",
       "  buy_quan buy_pps buy_basis sell_quan sell_pps sell_basis profit_loss sale\n",
       "3 0        0       0         0         0        0          0           0   "
      ]
     },
     "metadata": {},
     "output_type": "display_data"
    },
    {
     "data": {
      "text/html": [
       "<table class=\"dataframe\">\n",
       "<caption>A data.frame: 1 × 20</caption>\n",
       "<thead>\n",
       "\t<tr><th></th><th scope=col>index</th><th scope=col>date</th><th scope=col>type</th><th scope=col>co</th><th scope=col>quan</th><th scope=col>pps</th><th scope=col>basis</th><th scope=col>sale_quan</th><th scope=col>tally</th><th scope=col>cf_quan</th><th scope=col>cf_pps</th><th scope=col>cf_basis</th><th scope=col>buy_quan</th><th scope=col>buy_pps</th><th scope=col>buy_basis</th><th scope=col>sell_quan</th><th scope=col>sell_pps</th><th scope=col>sell_basis</th><th scope=col>profit_loss</th><th scope=col>sale</th></tr>\n",
       "\t<tr><th></th><th scope=col>&lt;int&gt;</th><th scope=col>&lt;int&gt;</th><th scope=col>&lt;chr&gt;</th><th scope=col>&lt;chr&gt;</th><th scope=col>&lt;int&gt;</th><th scope=col>&lt;dbl&gt;</th><th scope=col>&lt;dbl&gt;</th><th scope=col>&lt;int&gt;</th><th scope=col>&lt;dbl&gt;</th><th scope=col>&lt;int&gt;</th><th scope=col>&lt;dbl&gt;</th><th scope=col>&lt;dbl&gt;</th><th scope=col>&lt;int&gt;</th><th scope=col>&lt;dbl&gt;</th><th scope=col>&lt;dbl&gt;</th><th scope=col>&lt;int&gt;</th><th scope=col>&lt;dbl&gt;</th><th scope=col>&lt;dbl&gt;</th><th scope=col>&lt;int&gt;</th><th scope=col>&lt;int&gt;</th></tr>\n",
       "</thead>\n",
       "<tbody>\n",
       "\t<tr><th scope=row>4</th><td>4</td><td>44960</td><td>Sell</td><td>AMC</td><td>1000</td><td>6.68255</td><td>6682.55</td><td>0</td><td>0</td><td>0</td><td>0</td><td>0</td><td>0</td><td>0</td><td>0</td><td>0</td><td>0</td><td>0</td><td>0</td><td>0</td></tr>\n",
       "</tbody>\n",
       "</table>\n"
      ],
      "text/latex": [
       "A data.frame: 1 × 20\n",
       "\\begin{tabular}{r|llllllllllllllllllll}\n",
       "  & index & date & type & co & quan & pps & basis & sale\\_quan & tally & cf\\_quan & cf\\_pps & cf\\_basis & buy\\_quan & buy\\_pps & buy\\_basis & sell\\_quan & sell\\_pps & sell\\_basis & profit\\_loss & sale\\\\\n",
       "  & <int> & <int> & <chr> & <chr> & <int> & <dbl> & <dbl> & <int> & <dbl> & <int> & <dbl> & <dbl> & <int> & <dbl> & <dbl> & <int> & <dbl> & <dbl> & <int> & <int>\\\\\n",
       "\\hline\n",
       "\t4 & 4 & 44960 & Sell & AMC & 1000 & 6.68255 & 6682.55 & 0 & 0 & 0 & 0 & 0 & 0 & 0 & 0 & 0 & 0 & 0 & 0 & 0\\\\\n",
       "\\end{tabular}\n"
      ],
      "text/markdown": [
       "\n",
       "A data.frame: 1 × 20\n",
       "\n",
       "| <!--/--> | index &lt;int&gt; | date &lt;int&gt; | type &lt;chr&gt; | co &lt;chr&gt; | quan &lt;int&gt; | pps &lt;dbl&gt; | basis &lt;dbl&gt; | sale_quan &lt;int&gt; | tally &lt;dbl&gt; | cf_quan &lt;int&gt; | cf_pps &lt;dbl&gt; | cf_basis &lt;dbl&gt; | buy_quan &lt;int&gt; | buy_pps &lt;dbl&gt; | buy_basis &lt;dbl&gt; | sell_quan &lt;int&gt; | sell_pps &lt;dbl&gt; | sell_basis &lt;dbl&gt; | profit_loss &lt;int&gt; | sale &lt;int&gt; |\n",
       "|---|---|---|---|---|---|---|---|---|---|---|---|---|---|---|---|---|---|---|---|---|\n",
       "| 4 | 4 | 44960 | Sell | AMC | 1000 | 6.68255 | 6682.55 | 0 | 0 | 0 | 0 | 0 | 0 | 0 | 0 | 0 | 0 | 0 | 0 | 0 |\n",
       "\n"
      ],
      "text/plain": [
       "  index date  type co  quan pps     basis   sale_quan tally cf_quan cf_pps\n",
       "4 4     44960 Sell AMC 1000 6.68255 6682.55 0         0     0       0     \n",
       "  cf_basis buy_quan buy_pps buy_basis sell_quan sell_pps sell_basis profit_loss\n",
       "4 0        0        0       0         0         0        0          0          \n",
       "  sale\n",
       "4 0   "
      ]
     },
     "metadata": {},
     "output_type": "display_data"
    }
   ],
   "source": [
    "# fct call: to create vars from the first row of Buy & Sell\n",
    "b <- row_b(b)   \n",
    "s <- row_s(s)  \n",
    "b\n",
    "s"
   ]
  },
  {
   "cell_type": "code",
   "execution_count": 22,
   "id": "eafc977a-4361-4059-bcb9-0a11b61da834",
   "metadata": {},
   "outputs": [
    {
     "data": {
      "text/html": [
       "<table class=\"dataframe\">\n",
       "<caption>A data.frame: 1 × 20</caption>\n",
       "<thead>\n",
       "\t<tr><th></th><th scope=col>index</th><th scope=col>date</th><th scope=col>type</th><th scope=col>co</th><th scope=col>quan</th><th scope=col>pps</th><th scope=col>basis</th><th scope=col>sale_quan</th><th scope=col>tally</th><th scope=col>cf_quan</th><th scope=col>cf_pps</th><th scope=col>cf_basis</th><th scope=col>buy_quan</th><th scope=col>buy_pps</th><th scope=col>buy_basis</th><th scope=col>sell_quan</th><th scope=col>sell_pps</th><th scope=col>sell_basis</th><th scope=col>profit_loss</th><th scope=col>sale</th></tr>\n",
       "\t<tr><th></th><th scope=col>&lt;int&gt;</th><th scope=col>&lt;int&gt;</th><th scope=col>&lt;chr&gt;</th><th scope=col>&lt;chr&gt;</th><th scope=col>&lt;int&gt;</th><th scope=col>&lt;dbl&gt;</th><th scope=col>&lt;dbl&gt;</th><th scope=col>&lt;int&gt;</th><th scope=col>&lt;dbl&gt;</th><th scope=col>&lt;int&gt;</th><th scope=col>&lt;dbl&gt;</th><th scope=col>&lt;dbl&gt;</th><th scope=col>&lt;int&gt;</th><th scope=col>&lt;dbl&gt;</th><th scope=col>&lt;dbl&gt;</th><th scope=col>&lt;int&gt;</th><th scope=col>&lt;dbl&gt;</th><th scope=col>&lt;dbl&gt;</th><th scope=col>&lt;dbl&gt;</th><th scope=col>&lt;int&gt;</th></tr>\n",
       "</thead>\n",
       "<tbody>\n",
       "\t<tr><th scope=row>1</th><td>1</td><td>44926</td><td>Buy</td><td>AMC</td><td>1000</td><td>4.07</td><td>4273.5</td><td>1000</td><td>0</td><td>0</td><td>0</td><td>0</td><td>1000</td><td>4.07</td><td>4070</td><td>1000</td><td>5.5124</td><td>5512.4</td><td>1442.4</td><td>1000</td></tr>\n",
       "</tbody>\n",
       "</table>\n"
      ],
      "text/latex": [
       "A data.frame: 1 × 20\n",
       "\\begin{tabular}{r|llllllllllllllllllll}\n",
       "  & index & date & type & co & quan & pps & basis & sale\\_quan & tally & cf\\_quan & cf\\_pps & cf\\_basis & buy\\_quan & buy\\_pps & buy\\_basis & sell\\_quan & sell\\_pps & sell\\_basis & profit\\_loss & sale\\\\\n",
       "  & <int> & <int> & <chr> & <chr> & <int> & <dbl> & <dbl> & <int> & <dbl> & <int> & <dbl> & <dbl> & <int> & <dbl> & <dbl> & <int> & <dbl> & <dbl> & <dbl> & <int>\\\\\n",
       "\\hline\n",
       "\t1 & 1 & 44926 & Buy & AMC & 1000 & 4.07 & 4273.5 & 1000 & 0 & 0 & 0 & 0 & 1000 & 4.07 & 4070 & 1000 & 5.5124 & 5512.4 & 1442.4 & 1000\\\\\n",
       "\\end{tabular}\n"
      ],
      "text/markdown": [
       "\n",
       "A data.frame: 1 × 20\n",
       "\n",
       "| <!--/--> | index &lt;int&gt; | date &lt;int&gt; | type &lt;chr&gt; | co &lt;chr&gt; | quan &lt;int&gt; | pps &lt;dbl&gt; | basis &lt;dbl&gt; | sale_quan &lt;int&gt; | tally &lt;dbl&gt; | cf_quan &lt;int&gt; | cf_pps &lt;dbl&gt; | cf_basis &lt;dbl&gt; | buy_quan &lt;int&gt; | buy_pps &lt;dbl&gt; | buy_basis &lt;dbl&gt; | sell_quan &lt;int&gt; | sell_pps &lt;dbl&gt; | sell_basis &lt;dbl&gt; | profit_loss &lt;dbl&gt; | sale &lt;int&gt; |\n",
       "|---|---|---|---|---|---|---|---|---|---|---|---|---|---|---|---|---|---|---|---|---|\n",
       "| 1 | 1 | 44926 | Buy | AMC | 1000 | 4.07 | 4273.5 | 1000 | 0 | 0 | 0 | 0 | 1000 | 4.07 | 4070 | 1000 | 5.5124 | 5512.4 | 1442.4 | 1000 |\n",
       "\n"
      ],
      "text/plain": [
       "  index date  type co  quan pps  basis  sale_quan tally cf_quan cf_pps cf_basis\n",
       "1 1     44926 Buy  AMC 1000 4.07 4273.5 1000      0     0       0      0       \n",
       "  buy_quan buy_pps buy_basis sell_quan sell_pps sell_basis profit_loss sale\n",
       "1 1000     4.07    4070      1000      5.5124   5512.4     1442.4      1000"
      ]
     },
     "metadata": {},
     "output_type": "display_data"
    },
    {
     "data": {
      "text/html": [
       "<table class=\"dataframe\">\n",
       "<caption>A data.frame: 3 × 20</caption>\n",
       "<thead>\n",
       "\t<tr><th></th><th scope=col>index</th><th scope=col>date</th><th scope=col>type</th><th scope=col>co</th><th scope=col>quan</th><th scope=col>pps</th><th scope=col>basis</th><th scope=col>sale_quan</th><th scope=col>tally</th><th scope=col>cf_quan</th><th scope=col>cf_pps</th><th scope=col>cf_basis</th><th scope=col>buy_quan</th><th scope=col>buy_pps</th><th scope=col>buy_basis</th><th scope=col>sell_quan</th><th scope=col>sell_pps</th><th scope=col>sell_basis</th><th scope=col>profit_loss</th><th scope=col>sale</th></tr>\n",
       "\t<tr><th></th><th scope=col>&lt;int&gt;</th><th scope=col>&lt;int&gt;</th><th scope=col>&lt;chr&gt;</th><th scope=col>&lt;chr&gt;</th><th scope=col>&lt;int&gt;</th><th scope=col>&lt;dbl&gt;</th><th scope=col>&lt;dbl&gt;</th><th scope=col>&lt;int&gt;</th><th scope=col>&lt;dbl&gt;</th><th scope=col>&lt;int&gt;</th><th scope=col>&lt;dbl&gt;</th><th scope=col>&lt;dbl&gt;</th><th scope=col>&lt;int&gt;</th><th scope=col>&lt;dbl&gt;</th><th scope=col>&lt;dbl&gt;</th><th scope=col>&lt;int&gt;</th><th scope=col>&lt;dbl&gt;</th><th scope=col>&lt;dbl&gt;</th><th scope=col>&lt;int&gt;</th><th scope=col>&lt;int&gt;</th></tr>\n",
       "</thead>\n",
       "<tbody>\n",
       "\t<tr><th scope=row>3</th><td>3</td><td>44946</td><td>Buy</td><td>AMC</td><td>1000</td><td>5.6250</td><td> 5625.0</td><td>0</td><td>0</td><td>0</td><td>0</td><td>0</td><td>0</td><td>0</td><td>0</td><td>0</td><td>0</td><td>0</td><td>0</td><td>0</td></tr>\n",
       "\t<tr><th scope=row>5</th><td>5</td><td>44949</td><td>Buy</td><td>AMC</td><td>1000</td><td>5.7880</td><td> 5788.0</td><td>0</td><td>0</td><td>0</td><td>0</td><td>0</td><td>0</td><td>0</td><td>0</td><td>0</td><td>0</td><td>0</td><td>0</td><td>0</td></tr>\n",
       "\t<tr><th scope=row>7</th><td>7</td><td>44953</td><td>Buy</td><td>AMC</td><td>2000</td><td>5.2394</td><td>10478.8</td><td>0</td><td>0</td><td>0</td><td>0</td><td>0</td><td>0</td><td>0</td><td>0</td><td>0</td><td>0</td><td>0</td><td>0</td><td>0</td></tr>\n",
       "</tbody>\n",
       "</table>\n"
      ],
      "text/latex": [
       "A data.frame: 3 × 20\n",
       "\\begin{tabular}{r|llllllllllllllllllll}\n",
       "  & index & date & type & co & quan & pps & basis & sale\\_quan & tally & cf\\_quan & cf\\_pps & cf\\_basis & buy\\_quan & buy\\_pps & buy\\_basis & sell\\_quan & sell\\_pps & sell\\_basis & profit\\_loss & sale\\\\\n",
       "  & <int> & <int> & <chr> & <chr> & <int> & <dbl> & <dbl> & <int> & <dbl> & <int> & <dbl> & <dbl> & <int> & <dbl> & <dbl> & <int> & <dbl> & <dbl> & <int> & <int>\\\\\n",
       "\\hline\n",
       "\t3 & 3 & 44946 & Buy & AMC & 1000 & 5.6250 &  5625.0 & 0 & 0 & 0 & 0 & 0 & 0 & 0 & 0 & 0 & 0 & 0 & 0 & 0\\\\\n",
       "\t5 & 5 & 44949 & Buy & AMC & 1000 & 5.7880 &  5788.0 & 0 & 0 & 0 & 0 & 0 & 0 & 0 & 0 & 0 & 0 & 0 & 0 & 0\\\\\n",
       "\t7 & 7 & 44953 & Buy & AMC & 2000 & 5.2394 & 10478.8 & 0 & 0 & 0 & 0 & 0 & 0 & 0 & 0 & 0 & 0 & 0 & 0 & 0\\\\\n",
       "\\end{tabular}\n"
      ],
      "text/markdown": [
       "\n",
       "A data.frame: 3 × 20\n",
       "\n",
       "| <!--/--> | index &lt;int&gt; | date &lt;int&gt; | type &lt;chr&gt; | co &lt;chr&gt; | quan &lt;int&gt; | pps &lt;dbl&gt; | basis &lt;dbl&gt; | sale_quan &lt;int&gt; | tally &lt;dbl&gt; | cf_quan &lt;int&gt; | cf_pps &lt;dbl&gt; | cf_basis &lt;dbl&gt; | buy_quan &lt;int&gt; | buy_pps &lt;dbl&gt; | buy_basis &lt;dbl&gt; | sell_quan &lt;int&gt; | sell_pps &lt;dbl&gt; | sell_basis &lt;dbl&gt; | profit_loss &lt;int&gt; | sale &lt;int&gt; |\n",
       "|---|---|---|---|---|---|---|---|---|---|---|---|---|---|---|---|---|---|---|---|---|\n",
       "| 3 | 3 | 44946 | Buy | AMC | 1000 | 5.6250 |  5625.0 | 0 | 0 | 0 | 0 | 0 | 0 | 0 | 0 | 0 | 0 | 0 | 0 | 0 |\n",
       "| 5 | 5 | 44949 | Buy | AMC | 1000 | 5.7880 |  5788.0 | 0 | 0 | 0 | 0 | 0 | 0 | 0 | 0 | 0 | 0 | 0 | 0 | 0 |\n",
       "| 7 | 7 | 44953 | Buy | AMC | 2000 | 5.2394 | 10478.8 | 0 | 0 | 0 | 0 | 0 | 0 | 0 | 0 | 0 | 0 | 0 | 0 | 0 |\n",
       "\n"
      ],
      "text/plain": [
       "  index date  type co  quan pps    basis   sale_quan tally cf_quan cf_pps\n",
       "3 3     44946 Buy  AMC 1000 5.6250  5625.0 0         0     0       0     \n",
       "5 5     44949 Buy  AMC 1000 5.7880  5788.0 0         0     0       0     \n",
       "7 7     44953 Buy  AMC 2000 5.2394 10478.8 0         0     0       0     \n",
       "  cf_basis buy_quan buy_pps buy_basis sell_quan sell_pps sell_basis profit_loss\n",
       "3 0        0        0       0         0         0        0          0          \n",
       "5 0        0        0       0         0         0        0          0          \n",
       "7 0        0        0       0         0         0        0          0          \n",
       "  sale\n",
       "3 0   \n",
       "5 0   \n",
       "7 0   "
      ]
     },
     "metadata": {},
     "output_type": "display_data"
    },
    {
     "data": {
      "text/html": [
       "<table class=\"dataframe\">\n",
       "<caption>A data.frame: 3 × 20</caption>\n",
       "<thead>\n",
       "\t<tr><th></th><th scope=col>index</th><th scope=col>date</th><th scope=col>type</th><th scope=col>co</th><th scope=col>quan</th><th scope=col>pps</th><th scope=col>basis</th><th scope=col>sale_quan</th><th scope=col>tally</th><th scope=col>cf_quan</th><th scope=col>cf_pps</th><th scope=col>cf_basis</th><th scope=col>buy_quan</th><th scope=col>buy_pps</th><th scope=col>buy_basis</th><th scope=col>sell_quan</th><th scope=col>sell_pps</th><th scope=col>sell_basis</th><th scope=col>profit_loss</th><th scope=col>sale</th></tr>\n",
       "\t<tr><th></th><th scope=col>&lt;int&gt;</th><th scope=col>&lt;int&gt;</th><th scope=col>&lt;chr&gt;</th><th scope=col>&lt;chr&gt;</th><th scope=col>&lt;int&gt;</th><th scope=col>&lt;dbl&gt;</th><th scope=col>&lt;dbl&gt;</th><th scope=col>&lt;int&gt;</th><th scope=col>&lt;dbl&gt;</th><th scope=col>&lt;int&gt;</th><th scope=col>&lt;dbl&gt;</th><th scope=col>&lt;dbl&gt;</th><th scope=col>&lt;int&gt;</th><th scope=col>&lt;dbl&gt;</th><th scope=col>&lt;dbl&gt;</th><th scope=col>&lt;int&gt;</th><th scope=col>&lt;dbl&gt;</th><th scope=col>&lt;dbl&gt;</th><th scope=col>&lt;int&gt;</th><th scope=col>&lt;int&gt;</th></tr>\n",
       "</thead>\n",
       "<tbody>\n",
       "\t<tr><th scope=row>4</th><td>4</td><td>44960</td><td>Sell</td><td>AMC</td><td>1000</td><td>6.68255</td><td>6682.55</td><td>0</td><td>0</td><td>0</td><td>0</td><td>0</td><td>0</td><td>0</td><td>0</td><td>0</td><td>0</td><td>0</td><td>0</td><td>0</td></tr>\n",
       "\t<tr><th scope=row>6</th><td>6</td><td>44960</td><td>Sell</td><td>AMC</td><td>1000</td><td>6.25500</td><td>6255.00</td><td>0</td><td>0</td><td>0</td><td>0</td><td>0</td><td>0</td><td>0</td><td>0</td><td>0</td><td>0</td><td>0</td><td>0</td><td>0</td></tr>\n",
       "\t<tr><th scope=row>8</th><td>8</td><td>44960</td><td>Sell</td><td>AMC</td><td>1000</td><td>6.19010</td><td>6190.10</td><td>0</td><td>0</td><td>0</td><td>0</td><td>0</td><td>0</td><td>0</td><td>0</td><td>0</td><td>0</td><td>0</td><td>0</td><td>0</td></tr>\n",
       "</tbody>\n",
       "</table>\n"
      ],
      "text/latex": [
       "A data.frame: 3 × 20\n",
       "\\begin{tabular}{r|llllllllllllllllllll}\n",
       "  & index & date & type & co & quan & pps & basis & sale\\_quan & tally & cf\\_quan & cf\\_pps & cf\\_basis & buy\\_quan & buy\\_pps & buy\\_basis & sell\\_quan & sell\\_pps & sell\\_basis & profit\\_loss & sale\\\\\n",
       "  & <int> & <int> & <chr> & <chr> & <int> & <dbl> & <dbl> & <int> & <dbl> & <int> & <dbl> & <dbl> & <int> & <dbl> & <dbl> & <int> & <dbl> & <dbl> & <int> & <int>\\\\\n",
       "\\hline\n",
       "\t4 & 4 & 44960 & Sell & AMC & 1000 & 6.68255 & 6682.55 & 0 & 0 & 0 & 0 & 0 & 0 & 0 & 0 & 0 & 0 & 0 & 0 & 0\\\\\n",
       "\t6 & 6 & 44960 & Sell & AMC & 1000 & 6.25500 & 6255.00 & 0 & 0 & 0 & 0 & 0 & 0 & 0 & 0 & 0 & 0 & 0 & 0 & 0\\\\\n",
       "\t8 & 8 & 44960 & Sell & AMC & 1000 & 6.19010 & 6190.10 & 0 & 0 & 0 & 0 & 0 & 0 & 0 & 0 & 0 & 0 & 0 & 0 & 0\\\\\n",
       "\\end{tabular}\n"
      ],
      "text/markdown": [
       "\n",
       "A data.frame: 3 × 20\n",
       "\n",
       "| <!--/--> | index &lt;int&gt; | date &lt;int&gt; | type &lt;chr&gt; | co &lt;chr&gt; | quan &lt;int&gt; | pps &lt;dbl&gt; | basis &lt;dbl&gt; | sale_quan &lt;int&gt; | tally &lt;dbl&gt; | cf_quan &lt;int&gt; | cf_pps &lt;dbl&gt; | cf_basis &lt;dbl&gt; | buy_quan &lt;int&gt; | buy_pps &lt;dbl&gt; | buy_basis &lt;dbl&gt; | sell_quan &lt;int&gt; | sell_pps &lt;dbl&gt; | sell_basis &lt;dbl&gt; | profit_loss &lt;int&gt; | sale &lt;int&gt; |\n",
       "|---|---|---|---|---|---|---|---|---|---|---|---|---|---|---|---|---|---|---|---|---|\n",
       "| 4 | 4 | 44960 | Sell | AMC | 1000 | 6.68255 | 6682.55 | 0 | 0 | 0 | 0 | 0 | 0 | 0 | 0 | 0 | 0 | 0 | 0 | 0 |\n",
       "| 6 | 6 | 44960 | Sell | AMC | 1000 | 6.25500 | 6255.00 | 0 | 0 | 0 | 0 | 0 | 0 | 0 | 0 | 0 | 0 | 0 | 0 | 0 |\n",
       "| 8 | 8 | 44960 | Sell | AMC | 1000 | 6.19010 | 6190.10 | 0 | 0 | 0 | 0 | 0 | 0 | 0 | 0 | 0 | 0 | 0 | 0 | 0 |\n",
       "\n"
      ],
      "text/plain": [
       "  index date  type co  quan pps     basis   sale_quan tally cf_quan cf_pps\n",
       "4 4     44960 Sell AMC 1000 6.68255 6682.55 0         0     0       0     \n",
       "6 6     44960 Sell AMC 1000 6.25500 6255.00 0         0     0       0     \n",
       "8 8     44960 Sell AMC 1000 6.19010 6190.10 0         0     0       0     \n",
       "  cf_basis buy_quan buy_pps buy_basis sell_quan sell_pps sell_basis profit_loss\n",
       "4 0        0        0       0         0         0        0          0          \n",
       "6 0        0        0       0         0         0        0          0          \n",
       "8 0        0        0       0         0         0        0          0          \n",
       "  sale\n",
       "4 0   \n",
       "6 0   \n",
       "8 0   "
      ]
     },
     "metadata": {},
     "output_type": "display_data"
    }
   ],
   "source": [
    "df_records\n",
    "head(buys, 3)\n",
    "head(sells,3)"
   ]
  },
  {
   "cell_type": "code",
   "execution_count": null,
   "id": "5f9711c0-8ea4-4fd1-9f17-8b7bfe0c58e1",
   "metadata": {},
   "outputs": [],
   "source": []
  },
  {
   "cell_type": "code",
   "execution_count": null,
   "id": "6785b9e2-c730-4c46-a1e7-03bfa6c281a1",
   "metadata": {},
   "outputs": [],
   "source": []
  },
  {
   "cell_type": "code",
   "execution_count": 23,
   "id": "331b3cfc-1f60-4c51-bd0c-90fc38e0e54c",
   "metadata": {},
   "outputs": [
    {
     "ename": "ERROR",
     "evalue": "Error in eval(expr, envir, enclos): object 'stopps' not found\n",
     "output_type": "error",
     "traceback": [
      "Error in eval(expr, envir, enclos): object 'stopps' not found\nTraceback:\n"
     ]
    }
   ],
   "source": [
    " stopps"
   ]
  },
  {
   "cell_type": "code",
   "execution_count": null,
   "id": "12a6921a-f6db-4156-9bb1-8a7081b919ec",
   "metadata": {},
   "outputs": [],
   "source": []
  },
  {
   "cell_type": "markdown",
   "id": "15d01f1f-ff57-4dc2-988d-4375bae3c121",
   "metadata": {},
   "source": [
    "# <font color = lime> Loop 1 works when there is a carryforward!"
   ]
  },
  {
   "cell_type": "markdown",
   "id": "81e07ffc-b53b-4460-81e9-3e47c3174558",
   "metadata": {},
   "source": [
    "## <font color = yellow> Fresh Start: sequence of functions to process one FiFO Sale (one Buy/ one Sell) \n",
    "    \n",
    "        dfs <- create_dfs() \n",
    "        row_b <- function(b) \n",
    "        row_s <- function(s) \n",
    "        when_cf  when_cf(b, s, df_buy_rows)\n",
    "        df_records(df_records, b, i) \n",
    "        test_for_cf (b,buys, df_records)\n",
    "        snips <- function (buys) \n",
    "        sell_snip <- function(sells) \n"
   ]
  },
  {
   "cell_type": "code",
   "execution_count": null,
   "id": "6decfdad-8e4e-4a7f-be98-dd09215ec634",
   "metadata": {},
   "outputs": [],
   "source": []
  },
  {
   "cell_type": "code",
   "execution_count": null,
   "id": "ec5b6c71-cf5c-4b23-84a0-3aa646eb4a58",
   "metadata": {},
   "outputs": [],
   "source": [
    "# Call the combo function, will return a list of dfs\n",
    "dfs <- create_dfs()\n",
    "\n",
    "# Access the dataframes from returned list\n",
    "df <- dfs$df\n",
    "df_records <- dfs$df_records\n",
    "buys <- dfs$buys\n",
    "sells <- dfs$sells\n"
   ]
  },
  {
   "cell_type": "code",
   "execution_count": null,
   "id": "fd008989-3cc2-483e-adf6-775b39638574",
   "metadata": {},
   "outputs": [],
   "source": []
  },
  {
   "cell_type": "code",
   "execution_count": null,
   "id": "4067fcd4-d01d-44da-90d7-5822e46cf6d6",
   "metadata": {},
   "outputs": [],
   "source": [
    "b <- row_b(b)   \n",
    "s <- row_s(s)   "
   ]
  },
  {
   "cell_type": "code",
   "execution_count": null,
   "id": "490b5638-635b-4ec3-bcf0-f160aee56a93",
   "metadata": {},
   "outputs": [],
   "source": [
    "df_records <- df_create_records(df_records, b, i)"
   ]
  },
  {
   "cell_type": "code",
   "execution_count": null,
   "id": "8fb4ebda-5a72-4e6c-bd0a-8c2abec9c5d7",
   "metadata": {},
   "outputs": [],
   "source": [
    "df_records <- when_cf(b, s, df_records)"
   ]
  },
  {
   "cell_type": "code",
   "execution_count": null,
   "id": "af6f9a9b-2c8a-4512-b414-086f2834e4c5",
   "metadata": {},
   "outputs": [],
   "source": [
    "buys <- snips(b,buys, df_records)\n",
    "sells <- sell_snip(sells)\n"
   ]
  },
  {
   "cell_type": "code",
   "execution_count": null,
   "id": "784d4adb-096e-4c75-9ecf-ff4f9143f700",
   "metadata": {},
   "outputs": [],
   "source": [
    "head(df_records)\n",
    "head(buys,2)\n",
    "head(sells,2)"
   ]
  },
  {
   "cell_type": "code",
   "execution_count": null,
   "id": "59af78b1-cf91-44b4-ad7d-3b3150b175b0",
   "metadata": {},
   "outputs": [],
   "source": []
  },
  {
   "cell_type": "code",
   "execution_count": null,
   "id": "cebcb89f-e65f-4de0-a933-1c303dcc1f07",
   "metadata": {},
   "outputs": [],
   "source": [
    "stopps"
   ]
  },
  {
   "cell_type": "markdown",
   "id": "5af8547e-56ed-433c-8ab9-f582710678ce",
   "metadata": {},
   "source": [
    "### <font color = yellow> works! Now combine in a loop"
   ]
  },
  {
   "cell_type": "code",
   "execution_count": null,
   "id": "a71a31a6-69bd-4041-8fad-c543c5ef7732",
   "metadata": {},
   "outputs": [],
   "source": []
  },
  {
   "cell_type": "code",
   "execution_count": null,
   "id": "12e3b978-7976-4694-ad85-1e22a8b318a3",
   "metadata": {},
   "outputs": [],
   "source": [
    "row_b <- function(b) {\n",
    "        b <- b\n",
    "        b <- buys[i,]\n",
    "        return(b)\n",
    "    }\n",
    "\n",
    "row_s <- function(s) {\n",
    "        s <- s\n",
    "        s <- sells[i,]\n",
    "        return(s)\n",
    "    }\n",
    "  \n",
    "\n",
    "# nrow(b)\n",
    "# nrow(s)\n"
   ]
  },
  {
   "cell_type": "code",
   "execution_count": null,
   "id": "aa6251bd-50c9-4c7f-b6e3-0d7f8b61340c",
   "metadata": {},
   "outputs": [],
   "source": [
    "# Call the combo function, will return a list of dfs\n",
    "dfs <- create_dfs()\n",
    "\n",
    "# Access the dataframes from returned list\n",
    "df <- dfs$df\n",
    "df_records <- dfs$df_records\n",
    "buys <- dfs$buys\n",
    "sells <- dfs$sells\n",
    "\n",
    "b <- row_b(b)   \n",
    "s <- row_s(s)  "
   ]
  },
  {
   "cell_type": "code",
   "execution_count": null,
   "id": "2d76f226-f368-47d0-9a4f-3f74f7741ac8",
   "metadata": {},
   "outputs": [],
   "source": []
  },
  {
   "cell_type": "code",
   "execution_count": null,
   "id": "d0c91ee8-ed29-40bc-beac-d7e8c564eddc",
   "metadata": {},
   "outputs": [],
   "source": [
    "for(i in 1:nrow(df[1:1, ])) {\n",
    "    \n",
    "    cat(\"test print \", i, \"\\n\")\n",
    "    \n",
    "    b <- row_b(b)   \n",
    "    s <- row_s(s)  \n",
    "    \n",
    "    df_records <- df_create_records(df_records, b, i)\n",
    "    df_records <- when_cf(b, s, df_records)\n",
    "    buys <- snips(b,buys, df_records)\n",
    "    sells <- sell_snip(sells)\n",
    "    \n",
    "    }\n",
    "    "
   ]
  },
  {
   "cell_type": "code",
   "execution_count": null,
   "id": "60786bb9-c837-46b2-9cd3-1099fe334b10",
   "metadata": {},
   "outputs": [],
   "source": [
    "b\n",
    "s"
   ]
  },
  {
   "cell_type": "code",
   "execution_count": null,
   "id": "85ac7cc4-5383-4dcf-8c68-42fbefe8bb83",
   "metadata": {},
   "outputs": [],
   "source": [
    "head(df_records)\n",
    "head(buys,3)\n",
    "head(sells,3)"
   ]
  },
  {
   "cell_type": "code",
   "execution_count": null,
   "id": "09508332-1118-4114-a440-2f8a1b8885b8",
   "metadata": {},
   "outputs": [],
   "source": []
  },
  {
   "cell_type": "code",
   "execution_count": null,
   "id": "0e543025-32b5-4005-945d-b3a81fc7c2c7",
   "metadata": {},
   "outputs": [],
   "source": [
    "stopps # end of loop 1"
   ]
  },
  {
   "cell_type": "code",
   "execution_count": null,
   "id": "438af475-2a93-473b-bf20-de60ab58ac92",
   "metadata": {},
   "outputs": [],
   "source": []
  },
  {
   "cell_type": "markdown",
   "id": "ffd17a25-7d3d-4699-97e3-791cbd456a49",
   "metadata": {
    "tags": []
   },
   "source": [
    "## <font color = yellow> Works as expected w/ one Buy - one Sell - one loop\n",
    "    \n",
    "#### <font color = yellow> See what happens using the next Buy / Sell - loop 2 (involves the c/f from Sale 1 )\n",
    "    \n",
    "\n",
    "\n",
    "    \n",
    "    "
   ]
  },
  {
   "cell_type": "code",
   "execution_count": null,
   "id": "b2cde6ca-bd19-41ca-a593-0567dd7b8238",
   "metadata": {},
   "outputs": [],
   "source": []
  },
  {
   "cell_type": "code",
   "execution_count": 29,
   "id": "3d1eb89b-dc06-4edc-b522-72fe980ea414",
   "metadata": {},
   "outputs": [],
   "source": [
    "options(repr.matrix.max.rows = 600, repr.matrix.max.cols = 200)"
   ]
  },
  {
   "cell_type": "code",
   "execution_count": 30,
   "id": "8a019af3-8b55-40c9-8a01-314eff93ac08",
   "metadata": {},
   "outputs": [],
   "source": [
    "row_b <- function(b) {\n",
    "        b <- b\n",
    "        b <- buys[i,]\n",
    "        return(b)\n",
    "    }\n",
    "\n",
    "row_s <- function(s) {\n",
    "        s <- s\n",
    "        s <- sells[i,]\n",
    "        return(s)\n",
    "    }\n",
    "  \n",
    "\n",
    "# nrow(b)\n",
    "# nrow(s)\n"
   ]
  },
  {
   "cell_type": "code",
   "execution_count": null,
   "id": "59be825f-239f-485f-a8f4-aa94583f5e8f",
   "metadata": {},
   "outputs": [],
   "source": []
  },
  {
   "cell_type": "code",
   "execution_count": 31,
   "id": "88356ef6-7bd2-417a-960b-5d15b2499d41",
   "metadata": {},
   "outputs": [
    {
     "data": {
      "text/html": [
       "<table class=\"dataframe\">\n",
       "<caption>A data.frame: 1 × 20</caption>\n",
       "<thead>\n",
       "\t<tr><th></th><th scope=col>index</th><th scope=col>date</th><th scope=col>type</th><th scope=col>co</th><th scope=col>quan</th><th scope=col>pps</th><th scope=col>basis</th><th scope=col>sale_quan</th><th scope=col>tally</th><th scope=col>cf_quan</th><th scope=col>cf_pps</th><th scope=col>cf_basis</th><th scope=col>buy_quan</th><th scope=col>buy_pps</th><th scope=col>buy_basis</th><th scope=col>sell_quan</th><th scope=col>sell_pps</th><th scope=col>sell_basis</th><th scope=col>profit_loss</th><th scope=col>sale</th></tr>\n",
       "\t<tr><th></th><th scope=col>&lt;int&gt;</th><th scope=col>&lt;int&gt;</th><th scope=col>&lt;chr&gt;</th><th scope=col>&lt;chr&gt;</th><th scope=col>&lt;int&gt;</th><th scope=col>&lt;dbl&gt;</th><th scope=col>&lt;dbl&gt;</th><th scope=col>&lt;int&gt;</th><th scope=col>&lt;dbl&gt;</th><th scope=col>&lt;int&gt;</th><th scope=col>&lt;dbl&gt;</th><th scope=col>&lt;dbl&gt;</th><th scope=col>&lt;int&gt;</th><th scope=col>&lt;dbl&gt;</th><th scope=col>&lt;dbl&gt;</th><th scope=col>&lt;int&gt;</th><th scope=col>&lt;dbl&gt;</th><th scope=col>&lt;dbl&gt;</th><th scope=col>&lt;int&gt;</th><th scope=col>&lt;int&gt;</th></tr>\n",
       "</thead>\n",
       "<tbody>\n",
       "\t<tr><th scope=row>3</th><td>3</td><td>44946</td><td>Buy</td><td>AMC</td><td>1000</td><td>5.625</td><td>5625</td><td>0</td><td>0</td><td>0</td><td>0</td><td>0</td><td>0</td><td>0</td><td>0</td><td>0</td><td>0</td><td>0</td><td>0</td><td>0</td></tr>\n",
       "</tbody>\n",
       "</table>\n"
      ],
      "text/latex": [
       "A data.frame: 1 × 20\n",
       "\\begin{tabular}{r|llllllllllllllllllll}\n",
       "  & index & date & type & co & quan & pps & basis & sale\\_quan & tally & cf\\_quan & cf\\_pps & cf\\_basis & buy\\_quan & buy\\_pps & buy\\_basis & sell\\_quan & sell\\_pps & sell\\_basis & profit\\_loss & sale\\\\\n",
       "  & <int> & <int> & <chr> & <chr> & <int> & <dbl> & <dbl> & <int> & <dbl> & <int> & <dbl> & <dbl> & <int> & <dbl> & <dbl> & <int> & <dbl> & <dbl> & <int> & <int>\\\\\n",
       "\\hline\n",
       "\t3 & 3 & 44946 & Buy & AMC & 1000 & 5.625 & 5625 & 0 & 0 & 0 & 0 & 0 & 0 & 0 & 0 & 0 & 0 & 0 & 0 & 0\\\\\n",
       "\\end{tabular}\n"
      ],
      "text/markdown": [
       "\n",
       "A data.frame: 1 × 20\n",
       "\n",
       "| <!--/--> | index &lt;int&gt; | date &lt;int&gt; | type &lt;chr&gt; | co &lt;chr&gt; | quan &lt;int&gt; | pps &lt;dbl&gt; | basis &lt;dbl&gt; | sale_quan &lt;int&gt; | tally &lt;dbl&gt; | cf_quan &lt;int&gt; | cf_pps &lt;dbl&gt; | cf_basis &lt;dbl&gt; | buy_quan &lt;int&gt; | buy_pps &lt;dbl&gt; | buy_basis &lt;dbl&gt; | sell_quan &lt;int&gt; | sell_pps &lt;dbl&gt; | sell_basis &lt;dbl&gt; | profit_loss &lt;int&gt; | sale &lt;int&gt; |\n",
       "|---|---|---|---|---|---|---|---|---|---|---|---|---|---|---|---|---|---|---|---|---|\n",
       "| 3 | 3 | 44946 | Buy | AMC | 1000 | 5.625 | 5625 | 0 | 0 | 0 | 0 | 0 | 0 | 0 | 0 | 0 | 0 | 0 | 0 | 0 |\n",
       "\n"
      ],
      "text/plain": [
       "  index date  type co  quan pps   basis sale_quan tally cf_quan cf_pps cf_basis\n",
       "3 3     44946 Buy  AMC 1000 5.625 5625  0         0     0       0      0       \n",
       "  buy_quan buy_pps buy_basis sell_quan sell_pps sell_basis profit_loss sale\n",
       "3 0        0       0         0         0        0          0           0   "
      ]
     },
     "metadata": {},
     "output_type": "display_data"
    },
    {
     "data": {
      "text/html": [
       "<table class=\"dataframe\">\n",
       "<caption>A data.frame: 1 × 20</caption>\n",
       "<thead>\n",
       "\t<tr><th></th><th scope=col>index</th><th scope=col>date</th><th scope=col>type</th><th scope=col>co</th><th scope=col>quan</th><th scope=col>pps</th><th scope=col>basis</th><th scope=col>sale_quan</th><th scope=col>tally</th><th scope=col>cf_quan</th><th scope=col>cf_pps</th><th scope=col>cf_basis</th><th scope=col>buy_quan</th><th scope=col>buy_pps</th><th scope=col>buy_basis</th><th scope=col>sell_quan</th><th scope=col>sell_pps</th><th scope=col>sell_basis</th><th scope=col>profit_loss</th><th scope=col>sale</th></tr>\n",
       "\t<tr><th></th><th scope=col>&lt;int&gt;</th><th scope=col>&lt;int&gt;</th><th scope=col>&lt;chr&gt;</th><th scope=col>&lt;chr&gt;</th><th scope=col>&lt;int&gt;</th><th scope=col>&lt;dbl&gt;</th><th scope=col>&lt;dbl&gt;</th><th scope=col>&lt;int&gt;</th><th scope=col>&lt;dbl&gt;</th><th scope=col>&lt;int&gt;</th><th scope=col>&lt;dbl&gt;</th><th scope=col>&lt;dbl&gt;</th><th scope=col>&lt;int&gt;</th><th scope=col>&lt;dbl&gt;</th><th scope=col>&lt;dbl&gt;</th><th scope=col>&lt;int&gt;</th><th scope=col>&lt;dbl&gt;</th><th scope=col>&lt;dbl&gt;</th><th scope=col>&lt;int&gt;</th><th scope=col>&lt;int&gt;</th></tr>\n",
       "</thead>\n",
       "<tbody>\n",
       "\t<tr><th scope=row>4</th><td>4</td><td>44960</td><td>Sell</td><td>AMC</td><td>1000</td><td>6.68255</td><td>6682.55</td><td>0</td><td>0</td><td>0</td><td>0</td><td>0</td><td>0</td><td>0</td><td>0</td><td>0</td><td>0</td><td>0</td><td>0</td><td>0</td></tr>\n",
       "</tbody>\n",
       "</table>\n"
      ],
      "text/latex": [
       "A data.frame: 1 × 20\n",
       "\\begin{tabular}{r|llllllllllllllllllll}\n",
       "  & index & date & type & co & quan & pps & basis & sale\\_quan & tally & cf\\_quan & cf\\_pps & cf\\_basis & buy\\_quan & buy\\_pps & buy\\_basis & sell\\_quan & sell\\_pps & sell\\_basis & profit\\_loss & sale\\\\\n",
       "  & <int> & <int> & <chr> & <chr> & <int> & <dbl> & <dbl> & <int> & <dbl> & <int> & <dbl> & <dbl> & <int> & <dbl> & <dbl> & <int> & <dbl> & <dbl> & <int> & <int>\\\\\n",
       "\\hline\n",
       "\t4 & 4 & 44960 & Sell & AMC & 1000 & 6.68255 & 6682.55 & 0 & 0 & 0 & 0 & 0 & 0 & 0 & 0 & 0 & 0 & 0 & 0 & 0\\\\\n",
       "\\end{tabular}\n"
      ],
      "text/markdown": [
       "\n",
       "A data.frame: 1 × 20\n",
       "\n",
       "| <!--/--> | index &lt;int&gt; | date &lt;int&gt; | type &lt;chr&gt; | co &lt;chr&gt; | quan &lt;int&gt; | pps &lt;dbl&gt; | basis &lt;dbl&gt; | sale_quan &lt;int&gt; | tally &lt;dbl&gt; | cf_quan &lt;int&gt; | cf_pps &lt;dbl&gt; | cf_basis &lt;dbl&gt; | buy_quan &lt;int&gt; | buy_pps &lt;dbl&gt; | buy_basis &lt;dbl&gt; | sell_quan &lt;int&gt; | sell_pps &lt;dbl&gt; | sell_basis &lt;dbl&gt; | profit_loss &lt;int&gt; | sale &lt;int&gt; |\n",
       "|---|---|---|---|---|---|---|---|---|---|---|---|---|---|---|---|---|---|---|---|---|\n",
       "| 4 | 4 | 44960 | Sell | AMC | 1000 | 6.68255 | 6682.55 | 0 | 0 | 0 | 0 | 0 | 0 | 0 | 0 | 0 | 0 | 0 | 0 | 0 |\n",
       "\n"
      ],
      "text/plain": [
       "  index date  type co  quan pps     basis   sale_quan tally cf_quan cf_pps\n",
       "4 4     44960 Sell AMC 1000 6.68255 6682.55 0         0     0       0     \n",
       "  cf_basis buy_quan buy_pps buy_basis sell_quan sell_pps sell_basis profit_loss\n",
       "4 0        0        0       0         0         0        0          0          \n",
       "  sale\n",
       "4 0   "
      ]
     },
     "metadata": {},
     "output_type": "display_data"
    }
   ],
   "source": [
    "b\n",
    "s\n"
   ]
  },
  {
   "cell_type": "code",
   "execution_count": 32,
   "id": "f2a5242c-0d2a-4dcb-8a55-e96241f3655a",
   "metadata": {},
   "outputs": [],
   "source": [
    "# Call the combo function, will return a list of dfs\n",
    "dfs <- create_dfs()\n",
    "\n",
    "# Access the dataframes from returned list\n",
    "df <- dfs$df\n",
    "df_records <- dfs$df_records\n",
    "buys <- dfs$buys\n",
    "sells <- dfs$sells\n",
    "\n",
    "b <- row_b(b)   \n",
    "s <- row_s(s)  "
   ]
  },
  {
   "cell_type": "code",
   "execution_count": 33,
   "id": "924b0d0c-5de6-412b-9013-00aec458a8a7",
   "metadata": {},
   "outputs": [
    {
     "data": {
      "text/html": [
       "<table class=\"dataframe\">\n",
       "<caption>A data.frame: 1 × 20</caption>\n",
       "<thead>\n",
       "\t<tr><th></th><th scope=col>index</th><th scope=col>date</th><th scope=col>type</th><th scope=col>co</th><th scope=col>quan</th><th scope=col>pps</th><th scope=col>basis</th><th scope=col>sale_quan</th><th scope=col>tally</th><th scope=col>cf_quan</th><th scope=col>cf_pps</th><th scope=col>cf_basis</th><th scope=col>buy_quan</th><th scope=col>buy_pps</th><th scope=col>buy_basis</th><th scope=col>sell_quan</th><th scope=col>sell_pps</th><th scope=col>sell_basis</th><th scope=col>profit_loss</th><th scope=col>sale</th></tr>\n",
       "\t<tr><th></th><th scope=col>&lt;int&gt;</th><th scope=col>&lt;int&gt;</th><th scope=col>&lt;chr&gt;</th><th scope=col>&lt;chr&gt;</th><th scope=col>&lt;int&gt;</th><th scope=col>&lt;dbl&gt;</th><th scope=col>&lt;dbl&gt;</th><th scope=col>&lt;int&gt;</th><th scope=col>&lt;dbl&gt;</th><th scope=col>&lt;int&gt;</th><th scope=col>&lt;dbl&gt;</th><th scope=col>&lt;dbl&gt;</th><th scope=col>&lt;int&gt;</th><th scope=col>&lt;dbl&gt;</th><th scope=col>&lt;dbl&gt;</th><th scope=col>&lt;int&gt;</th><th scope=col>&lt;dbl&gt;</th><th scope=col>&lt;dbl&gt;</th><th scope=col>&lt;int&gt;</th><th scope=col>&lt;int&gt;</th></tr>\n",
       "</thead>\n",
       "<tbody>\n",
       "\t<tr><th scope=row>15</th><td>15</td><td>44970</td><td>Buy</td><td>AMC</td><td>2000</td><td>4.71</td><td>9420</td><td>0</td><td>0</td><td>0</td><td>0</td><td>0</td><td>0</td><td>0</td><td>0</td><td>0</td><td>0</td><td>0</td><td>0</td><td>0</td></tr>\n",
       "</tbody>\n",
       "</table>\n"
      ],
      "text/latex": [
       "A data.frame: 1 × 20\n",
       "\\begin{tabular}{r|llllllllllllllllllll}\n",
       "  & index & date & type & co & quan & pps & basis & sale\\_quan & tally & cf\\_quan & cf\\_pps & cf\\_basis & buy\\_quan & buy\\_pps & buy\\_basis & sell\\_quan & sell\\_pps & sell\\_basis & profit\\_loss & sale\\\\\n",
       "  & <int> & <int> & <chr> & <chr> & <int> & <dbl> & <dbl> & <int> & <dbl> & <int> & <dbl> & <dbl> & <int> & <dbl> & <dbl> & <int> & <dbl> & <dbl> & <int> & <int>\\\\\n",
       "\\hline\n",
       "\t15 & 15 & 44970 & Buy & AMC & 2000 & 4.71 & 9420 & 0 & 0 & 0 & 0 & 0 & 0 & 0 & 0 & 0 & 0 & 0 & 0 & 0\\\\\n",
       "\\end{tabular}\n"
      ],
      "text/markdown": [
       "\n",
       "A data.frame: 1 × 20\n",
       "\n",
       "| <!--/--> | index &lt;int&gt; | date &lt;int&gt; | type &lt;chr&gt; | co &lt;chr&gt; | quan &lt;int&gt; | pps &lt;dbl&gt; | basis &lt;dbl&gt; | sale_quan &lt;int&gt; | tally &lt;dbl&gt; | cf_quan &lt;int&gt; | cf_pps &lt;dbl&gt; | cf_basis &lt;dbl&gt; | buy_quan &lt;int&gt; | buy_pps &lt;dbl&gt; | buy_basis &lt;dbl&gt; | sell_quan &lt;int&gt; | sell_pps &lt;dbl&gt; | sell_basis &lt;dbl&gt; | profit_loss &lt;int&gt; | sale &lt;int&gt; |\n",
       "|---|---|---|---|---|---|---|---|---|---|---|---|---|---|---|---|---|---|---|---|---|\n",
       "| 15 | 15 | 44970 | Buy | AMC | 2000 | 4.71 | 9420 | 0 | 0 | 0 | 0 | 0 | 0 | 0 | 0 | 0 | 0 | 0 | 0 | 0 |\n",
       "\n"
      ],
      "text/plain": [
       "   index date  type co  quan pps  basis sale_quan tally cf_quan cf_pps cf_basis\n",
       "15 15    44970 Buy  AMC 2000 4.71 9420  0         0     0       0      0       \n",
       "   buy_quan buy_pps buy_basis sell_quan sell_pps sell_basis profit_loss sale\n",
       "15 0        0       0         0         0        0          0           0   "
      ]
     },
     "metadata": {},
     "output_type": "display_data"
    },
    {
     "data": {
      "text/html": [
       "<table class=\"dataframe\">\n",
       "<caption>A data.frame: 1 × 20</caption>\n",
       "<thead>\n",
       "\t<tr><th></th><th scope=col>index</th><th scope=col>date</th><th scope=col>type</th><th scope=col>co</th><th scope=col>quan</th><th scope=col>pps</th><th scope=col>basis</th><th scope=col>sale_quan</th><th scope=col>tally</th><th scope=col>cf_quan</th><th scope=col>cf_pps</th><th scope=col>cf_basis</th><th scope=col>buy_quan</th><th scope=col>buy_pps</th><th scope=col>buy_basis</th><th scope=col>sell_quan</th><th scope=col>sell_pps</th><th scope=col>sell_basis</th><th scope=col>profit_loss</th><th scope=col>sale</th></tr>\n",
       "\t<tr><th></th><th scope=col>&lt;int&gt;</th><th scope=col>&lt;int&gt;</th><th scope=col>&lt;chr&gt;</th><th scope=col>&lt;chr&gt;</th><th scope=col>&lt;int&gt;</th><th scope=col>&lt;dbl&gt;</th><th scope=col>&lt;dbl&gt;</th><th scope=col>&lt;int&gt;</th><th scope=col>&lt;dbl&gt;</th><th scope=col>&lt;int&gt;</th><th scope=col>&lt;dbl&gt;</th><th scope=col>&lt;dbl&gt;</th><th scope=col>&lt;int&gt;</th><th scope=col>&lt;dbl&gt;</th><th scope=col>&lt;dbl&gt;</th><th scope=col>&lt;int&gt;</th><th scope=col>&lt;dbl&gt;</th><th scope=col>&lt;dbl&gt;</th><th scope=col>&lt;int&gt;</th><th scope=col>&lt;int&gt;</th></tr>\n",
       "</thead>\n",
       "<tbody>\n",
       "\t<tr><th scope=row>23</th><td>23</td><td>44988</td><td>Sell</td><td>AMC</td><td>3000</td><td>6.5513</td><td>19653.9</td><td>0</td><td>0</td><td>0</td><td>0</td><td>0</td><td>0</td><td>0</td><td>0</td><td>0</td><td>0</td><td>0</td><td>0</td><td>0</td></tr>\n",
       "</tbody>\n",
       "</table>\n"
      ],
      "text/latex": [
       "A data.frame: 1 × 20\n",
       "\\begin{tabular}{r|llllllllllllllllllll}\n",
       "  & index & date & type & co & quan & pps & basis & sale\\_quan & tally & cf\\_quan & cf\\_pps & cf\\_basis & buy\\_quan & buy\\_pps & buy\\_basis & sell\\_quan & sell\\_pps & sell\\_basis & profit\\_loss & sale\\\\\n",
       "  & <int> & <int> & <chr> & <chr> & <int> & <dbl> & <dbl> & <int> & <dbl> & <int> & <dbl> & <dbl> & <int> & <dbl> & <dbl> & <int> & <dbl> & <dbl> & <int> & <int>\\\\\n",
       "\\hline\n",
       "\t23 & 23 & 44988 & Sell & AMC & 3000 & 6.5513 & 19653.9 & 0 & 0 & 0 & 0 & 0 & 0 & 0 & 0 & 0 & 0 & 0 & 0 & 0\\\\\n",
       "\\end{tabular}\n"
      ],
      "text/markdown": [
       "\n",
       "A data.frame: 1 × 20\n",
       "\n",
       "| <!--/--> | index &lt;int&gt; | date &lt;int&gt; | type &lt;chr&gt; | co &lt;chr&gt; | quan &lt;int&gt; | pps &lt;dbl&gt; | basis &lt;dbl&gt; | sale_quan &lt;int&gt; | tally &lt;dbl&gt; | cf_quan &lt;int&gt; | cf_pps &lt;dbl&gt; | cf_basis &lt;dbl&gt; | buy_quan &lt;int&gt; | buy_pps &lt;dbl&gt; | buy_basis &lt;dbl&gt; | sell_quan &lt;int&gt; | sell_pps &lt;dbl&gt; | sell_basis &lt;dbl&gt; | profit_loss &lt;int&gt; | sale &lt;int&gt; |\n",
       "|---|---|---|---|---|---|---|---|---|---|---|---|---|---|---|---|---|---|---|---|---|\n",
       "| 23 | 23 | 44988 | Sell | AMC | 3000 | 6.5513 | 19653.9 | 0 | 0 | 0 | 0 | 0 | 0 | 0 | 0 | 0 | 0 | 0 | 0 | 0 |\n",
       "\n"
      ],
      "text/plain": [
       "   index date  type co  quan pps    basis   sale_quan tally cf_quan cf_pps\n",
       "23 23    44988 Sell AMC 3000 6.5513 19653.9 0         0     0       0     \n",
       "   cf_basis buy_quan buy_pps buy_basis sell_quan sell_pps sell_basis\n",
       "23 0        0        0       0         0         0        0         \n",
       "   profit_loss sale\n",
       "23 0           0   "
      ]
     },
     "metadata": {},
     "output_type": "display_data"
    }
   ],
   "source": [
    "b\n",
    "s"
   ]
  },
  {
   "cell_type": "code",
   "execution_count": null,
   "id": "8c03805c-d73c-4dcf-b330-ccf1e8c798bd",
   "metadata": {},
   "outputs": [],
   "source": []
  },
  {
   "cell_type": "code",
   "execution_count": null,
   "id": "3146cd88-591f-413a-82db-ba3715ff869e",
   "metadata": {},
   "outputs": [],
   "source": []
  },
  {
   "cell_type": "code",
   "execution_count": null,
   "id": "ddc90e45-1b2f-4855-a782-2fcb554e5017",
   "metadata": {},
   "outputs": [],
   "source": []
  },
  {
   "cell_type": "code",
   "execution_count": 34,
   "id": "f67c9671-499a-4e66-b297-f37f7218c92e",
   "metadata": {},
   "outputs": [
    {
     "name": "stdout",
     "output_type": "stream",
     "text": [
      "test print  1 \n",
      "The df_records has one or more rows of data  \n",
      "else if ( df_records$cf_quan == 0 .... ???  \n",
      "  index  date type  co quan   pps basis sale_quan tally cf_quan cf_pps cf_basis\n",
      "3     3 44946  Buy AMC 1000 5.625  5625         0     0       0      0        0\n",
      "  buy_quan buy_pps buy_basis sell_quan sell_pps sell_basis profit_loss sale\n",
      "3        0       0         0         0        0          0           0    0\n",
      "  index  date type  co quan     pps   basis sale_quan tally cf_quan cf_pps\n",
      "4     4 44960 Sell AMC 1000 6.68255 6682.55         0     0       0      0\n",
      "  cf_basis buy_quan buy_pps buy_basis sell_quan sell_pps sell_basis profit_loss\n",
      "4        0        0       0         0         0        0          0           0\n",
      "  sale\n",
      "4    0\n",
      "newline  \n",
      "test print  2 \n",
      "The df_records has one or more rows of data  \n",
      "else if ( df_records$cf_quan == 0 .... ???  \n",
      "  index  date type  co quan    pps   basis sale_quan tally cf_quan cf_pps\n",
      "7     7 44953  Buy AMC 2000 5.2394 10478.8         0     0       0      0\n",
      "  cf_basis buy_quan buy_pps buy_basis sell_quan sell_pps sell_basis profit_loss\n",
      "7        0        0       0         0         0        0          0           0\n",
      "  sale\n",
      "7    0\n",
      "  index  date type  co quan    pps  basis sale_quan tally cf_quan cf_pps\n",
      "8     8 44960 Sell AMC 1000 6.1901 6190.1         0     0       0      0\n",
      "  cf_basis buy_quan buy_pps buy_basis sell_quan sell_pps sell_basis profit_loss\n",
      "8        0        0       0         0         0        0          0           0\n",
      "  sale\n",
      "8    0\n",
      "newline  \n"
     ]
    }
   ],
   "source": [
    "for(i in 1:nrow(df[1:2, ])) {\n",
    "    \n",
    "    cat(\"test print \", i, \"\\n\")\n",
    "    \n",
    "    b <- row_b(b)   \n",
    "    s <- row_s(s)  \n",
    "    \n",
    "    df_records <- df_create_records(df_records, b, i)\n",
    "    df_records <- when_cf(b, s, df_records)\n",
    "    buys <- snips(b,buys, df_records)\n",
    "    sells <- sell_snip(sells)\n",
    "    \n",
    "    df_records[i,]\n",
    "    print(buys[i, ])\n",
    "    print(sells[i, ])\n",
    "    cat(\"newline \", \"\\n\")\n",
    "    }\n",
    "    "
   ]
  },
  {
   "cell_type": "code",
   "execution_count": null,
   "id": "5b00098c-4f32-4d6e-8ecd-1f364455a6ba",
   "metadata": {},
   "outputs": [],
   "source": []
  },
  {
   "cell_type": "code",
   "execution_count": 35,
   "id": "cb264624-a68f-4a25-9c94-d7ac1f86953c",
   "metadata": {},
   "outputs": [
    {
     "data": {
      "text/html": [
       "<table class=\"dataframe\">\n",
       "<caption>A data.frame: 1 × 20</caption>\n",
       "<thead>\n",
       "\t<tr><th></th><th scope=col>index</th><th scope=col>date</th><th scope=col>type</th><th scope=col>co</th><th scope=col>quan</th><th scope=col>pps</th><th scope=col>basis</th><th scope=col>sale_quan</th><th scope=col>tally</th><th scope=col>cf_quan</th><th scope=col>cf_pps</th><th scope=col>cf_basis</th><th scope=col>buy_quan</th><th scope=col>buy_pps</th><th scope=col>buy_basis</th><th scope=col>sell_quan</th><th scope=col>sell_pps</th><th scope=col>sell_basis</th><th scope=col>profit_loss</th><th scope=col>sale</th></tr>\n",
       "\t<tr><th></th><th scope=col>&lt;int&gt;</th><th scope=col>&lt;int&gt;</th><th scope=col>&lt;chr&gt;</th><th scope=col>&lt;chr&gt;</th><th scope=col>&lt;int&gt;</th><th scope=col>&lt;dbl&gt;</th><th scope=col>&lt;dbl&gt;</th><th scope=col>&lt;int&gt;</th><th scope=col>&lt;dbl&gt;</th><th scope=col>&lt;int&gt;</th><th scope=col>&lt;dbl&gt;</th><th scope=col>&lt;dbl&gt;</th><th scope=col>&lt;int&gt;</th><th scope=col>&lt;dbl&gt;</th><th scope=col>&lt;dbl&gt;</th><th scope=col>&lt;int&gt;</th><th scope=col>&lt;dbl&gt;</th><th scope=col>&lt;dbl&gt;</th><th scope=col>&lt;dbl&gt;</th><th scope=col>&lt;int&gt;</th></tr>\n",
       "</thead>\n",
       "<tbody>\n",
       "\t<tr><th scope=row>5</th><td>5</td><td>44949</td><td>Buy</td><td>AMC</td><td>1000</td><td>5.788</td><td>5788</td><td>1000</td><td>0</td><td>0</td><td>0</td><td>0</td><td>1000</td><td>5.788</td><td>5788</td><td>1000</td><td>6.255</td><td>6255</td><td>467</td><td>1000</td></tr>\n",
       "</tbody>\n",
       "</table>\n"
      ],
      "text/latex": [
       "A data.frame: 1 × 20\n",
       "\\begin{tabular}{r|llllllllllllllllllll}\n",
       "  & index & date & type & co & quan & pps & basis & sale\\_quan & tally & cf\\_quan & cf\\_pps & cf\\_basis & buy\\_quan & buy\\_pps & buy\\_basis & sell\\_quan & sell\\_pps & sell\\_basis & profit\\_loss & sale\\\\\n",
       "  & <int> & <int> & <chr> & <chr> & <int> & <dbl> & <dbl> & <int> & <dbl> & <int> & <dbl> & <dbl> & <int> & <dbl> & <dbl> & <int> & <dbl> & <dbl> & <dbl> & <int>\\\\\n",
       "\\hline\n",
       "\t5 & 5 & 44949 & Buy & AMC & 1000 & 5.788 & 5788 & 1000 & 0 & 0 & 0 & 0 & 1000 & 5.788 & 5788 & 1000 & 6.255 & 6255 & 467 & 1000\\\\\n",
       "\\end{tabular}\n"
      ],
      "text/markdown": [
       "\n",
       "A data.frame: 1 × 20\n",
       "\n",
       "| <!--/--> | index &lt;int&gt; | date &lt;int&gt; | type &lt;chr&gt; | co &lt;chr&gt; | quan &lt;int&gt; | pps &lt;dbl&gt; | basis &lt;dbl&gt; | sale_quan &lt;int&gt; | tally &lt;dbl&gt; | cf_quan &lt;int&gt; | cf_pps &lt;dbl&gt; | cf_basis &lt;dbl&gt; | buy_quan &lt;int&gt; | buy_pps &lt;dbl&gt; | buy_basis &lt;dbl&gt; | sell_quan &lt;int&gt; | sell_pps &lt;dbl&gt; | sell_basis &lt;dbl&gt; | profit_loss &lt;dbl&gt; | sale &lt;int&gt; |\n",
       "|---|---|---|---|---|---|---|---|---|---|---|---|---|---|---|---|---|---|---|---|---|\n",
       "| 5 | 5 | 44949 | Buy | AMC | 1000 | 5.788 | 5788 | 1000 | 0 | 0 | 0 | 0 | 1000 | 5.788 | 5788 | 1000 | 6.255 | 6255 | 467 | 1000 |\n",
       "\n"
      ],
      "text/plain": [
       "  index date  type co  quan pps   basis sale_quan tally cf_quan cf_pps cf_basis\n",
       "5 5     44949 Buy  AMC 1000 5.788 5788  1000      0     0       0      0       \n",
       "  buy_quan buy_pps buy_basis sell_quan sell_pps sell_basis profit_loss sale\n",
       "5 1000     5.788   5788      1000      6.255    6255       467         1000"
      ]
     },
     "metadata": {},
     "output_type": "display_data"
    },
    {
     "data": {
      "text/html": [
       "<table class=\"dataframe\">\n",
       "<caption>A data.frame: 3 × 20</caption>\n",
       "<thead>\n",
       "\t<tr><th></th><th scope=col>index</th><th scope=col>date</th><th scope=col>type</th><th scope=col>co</th><th scope=col>quan</th><th scope=col>pps</th><th scope=col>basis</th><th scope=col>sale_quan</th><th scope=col>tally</th><th scope=col>cf_quan</th><th scope=col>cf_pps</th><th scope=col>cf_basis</th><th scope=col>buy_quan</th><th scope=col>buy_pps</th><th scope=col>buy_basis</th><th scope=col>sell_quan</th><th scope=col>sell_pps</th><th scope=col>sell_basis</th><th scope=col>profit_loss</th><th scope=col>sale</th></tr>\n",
       "\t<tr><th></th><th scope=col>&lt;int&gt;</th><th scope=col>&lt;int&gt;</th><th scope=col>&lt;chr&gt;</th><th scope=col>&lt;chr&gt;</th><th scope=col>&lt;int&gt;</th><th scope=col>&lt;dbl&gt;</th><th scope=col>&lt;dbl&gt;</th><th scope=col>&lt;int&gt;</th><th scope=col>&lt;dbl&gt;</th><th scope=col>&lt;int&gt;</th><th scope=col>&lt;dbl&gt;</th><th scope=col>&lt;dbl&gt;</th><th scope=col>&lt;int&gt;</th><th scope=col>&lt;dbl&gt;</th><th scope=col>&lt;dbl&gt;</th><th scope=col>&lt;int&gt;</th><th scope=col>&lt;dbl&gt;</th><th scope=col>&lt;dbl&gt;</th><th scope=col>&lt;int&gt;</th><th scope=col>&lt;int&gt;</th></tr>\n",
       "</thead>\n",
       "<tbody>\n",
       "\t<tr><th scope=row>5</th><td>5</td><td>44949</td><td>Buy</td><td>AMC</td><td>1000</td><td>5.7880</td><td> 5788.0</td><td>0</td><td>0</td><td>0</td><td>0</td><td>0</td><td>0</td><td>0</td><td>0</td><td>0</td><td>0</td><td>0</td><td>0</td><td>0</td></tr>\n",
       "\t<tr><th scope=row>7</th><td>7</td><td>44953</td><td>Buy</td><td>AMC</td><td>2000</td><td>5.2394</td><td>10478.8</td><td>0</td><td>0</td><td>0</td><td>0</td><td>0</td><td>0</td><td>0</td><td>0</td><td>0</td><td>0</td><td>0</td><td>0</td><td>0</td></tr>\n",
       "\t<tr><th scope=row>9</th><td>9</td><td>44967</td><td>Buy</td><td>AMC</td><td>2000</td><td>4.7450</td><td> 9490.0</td><td>0</td><td>0</td><td>0</td><td>0</td><td>0</td><td>0</td><td>0</td><td>0</td><td>0</td><td>0</td><td>0</td><td>0</td><td>0</td></tr>\n",
       "</tbody>\n",
       "</table>\n"
      ],
      "text/latex": [
       "A data.frame: 3 × 20\n",
       "\\begin{tabular}{r|llllllllllllllllllll}\n",
       "  & index & date & type & co & quan & pps & basis & sale\\_quan & tally & cf\\_quan & cf\\_pps & cf\\_basis & buy\\_quan & buy\\_pps & buy\\_basis & sell\\_quan & sell\\_pps & sell\\_basis & profit\\_loss & sale\\\\\n",
       "  & <int> & <int> & <chr> & <chr> & <int> & <dbl> & <dbl> & <int> & <dbl> & <int> & <dbl> & <dbl> & <int> & <dbl> & <dbl> & <int> & <dbl> & <dbl> & <int> & <int>\\\\\n",
       "\\hline\n",
       "\t5 & 5 & 44949 & Buy & AMC & 1000 & 5.7880 &  5788.0 & 0 & 0 & 0 & 0 & 0 & 0 & 0 & 0 & 0 & 0 & 0 & 0 & 0\\\\\n",
       "\t7 & 7 & 44953 & Buy & AMC & 2000 & 5.2394 & 10478.8 & 0 & 0 & 0 & 0 & 0 & 0 & 0 & 0 & 0 & 0 & 0 & 0 & 0\\\\\n",
       "\t9 & 9 & 44967 & Buy & AMC & 2000 & 4.7450 &  9490.0 & 0 & 0 & 0 & 0 & 0 & 0 & 0 & 0 & 0 & 0 & 0 & 0 & 0\\\\\n",
       "\\end{tabular}\n"
      ],
      "text/markdown": [
       "\n",
       "A data.frame: 3 × 20\n",
       "\n",
       "| <!--/--> | index &lt;int&gt; | date &lt;int&gt; | type &lt;chr&gt; | co &lt;chr&gt; | quan &lt;int&gt; | pps &lt;dbl&gt; | basis &lt;dbl&gt; | sale_quan &lt;int&gt; | tally &lt;dbl&gt; | cf_quan &lt;int&gt; | cf_pps &lt;dbl&gt; | cf_basis &lt;dbl&gt; | buy_quan &lt;int&gt; | buy_pps &lt;dbl&gt; | buy_basis &lt;dbl&gt; | sell_quan &lt;int&gt; | sell_pps &lt;dbl&gt; | sell_basis &lt;dbl&gt; | profit_loss &lt;int&gt; | sale &lt;int&gt; |\n",
       "|---|---|---|---|---|---|---|---|---|---|---|---|---|---|---|---|---|---|---|---|---|\n",
       "| 5 | 5 | 44949 | Buy | AMC | 1000 | 5.7880 |  5788.0 | 0 | 0 | 0 | 0 | 0 | 0 | 0 | 0 | 0 | 0 | 0 | 0 | 0 |\n",
       "| 7 | 7 | 44953 | Buy | AMC | 2000 | 5.2394 | 10478.8 | 0 | 0 | 0 | 0 | 0 | 0 | 0 | 0 | 0 | 0 | 0 | 0 | 0 |\n",
       "| 9 | 9 | 44967 | Buy | AMC | 2000 | 4.7450 |  9490.0 | 0 | 0 | 0 | 0 | 0 | 0 | 0 | 0 | 0 | 0 | 0 | 0 | 0 |\n",
       "\n"
      ],
      "text/plain": [
       "  index date  type co  quan pps    basis   sale_quan tally cf_quan cf_pps\n",
       "5 5     44949 Buy  AMC 1000 5.7880  5788.0 0         0     0       0     \n",
       "7 7     44953 Buy  AMC 2000 5.2394 10478.8 0         0     0       0     \n",
       "9 9     44967 Buy  AMC 2000 4.7450  9490.0 0         0     0       0     \n",
       "  cf_basis buy_quan buy_pps buy_basis sell_quan sell_pps sell_basis profit_loss\n",
       "5 0        0        0       0         0         0        0          0          \n",
       "7 0        0        0       0         0         0        0          0          \n",
       "9 0        0        0       0         0         0        0          0          \n",
       "  sale\n",
       "5 0   \n",
       "7 0   \n",
       "9 0   "
      ]
     },
     "metadata": {},
     "output_type": "display_data"
    },
    {
     "data": {
      "text/html": [
       "<table class=\"dataframe\">\n",
       "<caption>A data.frame: 3 × 20</caption>\n",
       "<thead>\n",
       "\t<tr><th></th><th scope=col>index</th><th scope=col>date</th><th scope=col>type</th><th scope=col>co</th><th scope=col>quan</th><th scope=col>pps</th><th scope=col>basis</th><th scope=col>sale_quan</th><th scope=col>tally</th><th scope=col>cf_quan</th><th scope=col>cf_pps</th><th scope=col>cf_basis</th><th scope=col>buy_quan</th><th scope=col>buy_pps</th><th scope=col>buy_basis</th><th scope=col>sell_quan</th><th scope=col>sell_pps</th><th scope=col>sell_basis</th><th scope=col>profit_loss</th><th scope=col>sale</th></tr>\n",
       "\t<tr><th></th><th scope=col>&lt;int&gt;</th><th scope=col>&lt;int&gt;</th><th scope=col>&lt;chr&gt;</th><th scope=col>&lt;chr&gt;</th><th scope=col>&lt;int&gt;</th><th scope=col>&lt;dbl&gt;</th><th scope=col>&lt;dbl&gt;</th><th scope=col>&lt;int&gt;</th><th scope=col>&lt;dbl&gt;</th><th scope=col>&lt;int&gt;</th><th scope=col>&lt;dbl&gt;</th><th scope=col>&lt;dbl&gt;</th><th scope=col>&lt;int&gt;</th><th scope=col>&lt;dbl&gt;</th><th scope=col>&lt;dbl&gt;</th><th scope=col>&lt;int&gt;</th><th scope=col>&lt;dbl&gt;</th><th scope=col>&lt;dbl&gt;</th><th scope=col>&lt;int&gt;</th><th scope=col>&lt;int&gt;</th></tr>\n",
       "</thead>\n",
       "<tbody>\n",
       "\t<tr><th scope=row>6</th><td> 6</td><td>44960</td><td>Sell</td><td>AMC</td><td>1000</td><td>6.2550</td><td> 6255.0</td><td>0</td><td>0</td><td>0</td><td>0</td><td>0</td><td>0</td><td>0</td><td>0</td><td>0</td><td>0</td><td>0</td><td>0</td><td>0</td></tr>\n",
       "\t<tr><th scope=row>8</th><td> 8</td><td>44960</td><td>Sell</td><td>AMC</td><td>1000</td><td>6.1901</td><td> 6190.1</td><td>0</td><td>0</td><td>0</td><td>0</td><td>0</td><td>0</td><td>0</td><td>0</td><td>0</td><td>0</td><td>0</td><td>0</td><td>0</td></tr>\n",
       "\t<tr><th scope=row>10</th><td>10</td><td>44978</td><td>Sell</td><td>AMC</td><td>3000</td><td>5.8550</td><td>17565.0</td><td>0</td><td>0</td><td>0</td><td>0</td><td>0</td><td>0</td><td>0</td><td>0</td><td>0</td><td>0</td><td>0</td><td>0</td><td>0</td></tr>\n",
       "</tbody>\n",
       "</table>\n"
      ],
      "text/latex": [
       "A data.frame: 3 × 20\n",
       "\\begin{tabular}{r|llllllllllllllllllll}\n",
       "  & index & date & type & co & quan & pps & basis & sale\\_quan & tally & cf\\_quan & cf\\_pps & cf\\_basis & buy\\_quan & buy\\_pps & buy\\_basis & sell\\_quan & sell\\_pps & sell\\_basis & profit\\_loss & sale\\\\\n",
       "  & <int> & <int> & <chr> & <chr> & <int> & <dbl> & <dbl> & <int> & <dbl> & <int> & <dbl> & <dbl> & <int> & <dbl> & <dbl> & <int> & <dbl> & <dbl> & <int> & <int>\\\\\n",
       "\\hline\n",
       "\t6 &  6 & 44960 & Sell & AMC & 1000 & 6.2550 &  6255.0 & 0 & 0 & 0 & 0 & 0 & 0 & 0 & 0 & 0 & 0 & 0 & 0 & 0\\\\\n",
       "\t8 &  8 & 44960 & Sell & AMC & 1000 & 6.1901 &  6190.1 & 0 & 0 & 0 & 0 & 0 & 0 & 0 & 0 & 0 & 0 & 0 & 0 & 0\\\\\n",
       "\t10 & 10 & 44978 & Sell & AMC & 3000 & 5.8550 & 17565.0 & 0 & 0 & 0 & 0 & 0 & 0 & 0 & 0 & 0 & 0 & 0 & 0 & 0\\\\\n",
       "\\end{tabular}\n"
      ],
      "text/markdown": [
       "\n",
       "A data.frame: 3 × 20\n",
       "\n",
       "| <!--/--> | index &lt;int&gt; | date &lt;int&gt; | type &lt;chr&gt; | co &lt;chr&gt; | quan &lt;int&gt; | pps &lt;dbl&gt; | basis &lt;dbl&gt; | sale_quan &lt;int&gt; | tally &lt;dbl&gt; | cf_quan &lt;int&gt; | cf_pps &lt;dbl&gt; | cf_basis &lt;dbl&gt; | buy_quan &lt;int&gt; | buy_pps &lt;dbl&gt; | buy_basis &lt;dbl&gt; | sell_quan &lt;int&gt; | sell_pps &lt;dbl&gt; | sell_basis &lt;dbl&gt; | profit_loss &lt;int&gt; | sale &lt;int&gt; |\n",
       "|---|---|---|---|---|---|---|---|---|---|---|---|---|---|---|---|---|---|---|---|---|\n",
       "| 6 |  6 | 44960 | Sell | AMC | 1000 | 6.2550 |  6255.0 | 0 | 0 | 0 | 0 | 0 | 0 | 0 | 0 | 0 | 0 | 0 | 0 | 0 |\n",
       "| 8 |  8 | 44960 | Sell | AMC | 1000 | 6.1901 |  6190.1 | 0 | 0 | 0 | 0 | 0 | 0 | 0 | 0 | 0 | 0 | 0 | 0 | 0 |\n",
       "| 10 | 10 | 44978 | Sell | AMC | 3000 | 5.8550 | 17565.0 | 0 | 0 | 0 | 0 | 0 | 0 | 0 | 0 | 0 | 0 | 0 | 0 | 0 |\n",
       "\n"
      ],
      "text/plain": [
       "   index date  type co  quan pps    basis   sale_quan tally cf_quan cf_pps\n",
       "6   6    44960 Sell AMC 1000 6.2550  6255.0 0         0     0       0     \n",
       "8   8    44960 Sell AMC 1000 6.1901  6190.1 0         0     0       0     \n",
       "10 10    44978 Sell AMC 3000 5.8550 17565.0 0         0     0       0     \n",
       "   cf_basis buy_quan buy_pps buy_basis sell_quan sell_pps sell_basis\n",
       "6  0        0        0       0         0         0        0         \n",
       "8  0        0        0       0         0         0        0         \n",
       "10 0        0        0       0         0         0        0         \n",
       "   profit_loss sale\n",
       "6  0           0   \n",
       "8  0           0   \n",
       "10 0           0   "
      ]
     },
     "metadata": {},
     "output_type": "display_data"
    }
   ],
   "source": [
    "head(df_records)\n",
    "head(buys,3)\n",
    "head(sells,3)"
   ]
  },
  {
   "cell_type": "code",
   "execution_count": null,
   "id": "25c30615-cb85-4332-8442-5e53266fbb2e",
   "metadata": {},
   "outputs": [],
   "source": []
  },
  {
   "cell_type": "code",
   "execution_count": null,
   "id": "beeb8a5b-1dd6-43e6-8db6-e3b03fd388ca",
   "metadata": {},
   "outputs": [],
   "source": []
  },
  {
   "cell_type": "code",
   "execution_count": null,
   "id": "c707802d-aed2-4ce8-be9a-aedda0ec9b12",
   "metadata": {},
   "outputs": [],
   "source": []
  },
  {
   "cell_type": "code",
   "execution_count": null,
   "id": "3b152a3e-c7de-4314-8ddc-cf6c5d876ace",
   "metadata": {},
   "outputs": [],
   "source": []
  },
  {
   "cell_type": "code",
   "execution_count": null,
   "id": "32e66baa-4a87-40f1-a245-6c72ecb5bf4a",
   "metadata": {},
   "outputs": [],
   "source": []
  },
  {
   "cell_type": "code",
   "execution_count": null,
   "id": "1d0caada-f7c8-4822-94f8-7719839eb506",
   "metadata": {},
   "outputs": [],
   "source": []
  },
  {
   "cell_type": "code",
   "execution_count": null,
   "id": "07c72724-389a-4146-bd7c-869390e18d9d",
   "metadata": {},
   "outputs": [],
   "source": []
  },
  {
   "cell_type": "code",
   "execution_count": null,
   "id": "5c8b3a1a-442c-483e-b932-40aabc91f49a",
   "metadata": {},
   "outputs": [],
   "source": []
  }
 ],
 "metadata": {
  "kernelspec": {
   "display_name": "R",
   "language": "R",
   "name": "ir"
  },
  "language_info": {
   "codemirror_mode": "r",
   "file_extension": ".r",
   "mimetype": "text/x-r-source",
   "name": "R",
   "pygments_lexer": "r",
   "version": "4.3.0"
  }
 },
 "nbformat": 4,
 "nbformat_minor": 5
}
