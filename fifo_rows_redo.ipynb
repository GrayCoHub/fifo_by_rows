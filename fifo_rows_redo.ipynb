{
 "cells": [
  {
   "cell_type": "markdown",
   "id": "8a4f934a-bc5d-4389-8931-fa890b8b83b6",
   "metadata": {},
   "source": [
    "## <font color = yellow> A single Sale will combine the first row from the Buys & Sells dfs"
   ]
  },
  {
   "cell_type": "code",
   "execution_count": 1,
   "id": "1a40d688-bd55-4df2-be07-c685b667921e",
   "metadata": {},
   "outputs": [],
   "source": [
    "library(tibble)"
   ]
  },
  {
   "cell_type": "code",
   "execution_count": 2,
   "id": "2c80d5a2-6093-4214-8997-320bba4a3ee0",
   "metadata": {},
   "outputs": [
    {
     "name": "stdout",
     "output_type": "stream",
     "text": [
      "One | Two | Three\n"
     ]
    }
   ],
   "source": [
    "cat(\"One\", \"Two\", \"Three\", sep = \" | \", fill = TRUE)"
   ]
  },
  {
   "cell_type": "code",
   "execution_count": null,
   "id": "688be791-4012-4380-9bd0-e831c4aa6d77",
   "metadata": {},
   "outputs": [],
   "source": []
  },
  {
   "cell_type": "markdown",
   "id": "18bdfbd9-160f-4efc-b792-3f83ccd72b58",
   "metadata": {},
   "source": [
    "## <font color = yellow> create_df function () - reads .csv"
   ]
  },
  {
   "cell_type": "code",
   "execution_count": 3,
   "id": "c78b5b89-91db-4c28-9676-73a0ab6689df",
   "metadata": {},
   "outputs": [],
   "source": [
    "   \n",
    "df <- read.csv(\"fifo_new.csv\", header = TRUE, sep = \",\")\n",
    "df$date <- as.Date(df$date, origin = \"1899-12-30\")"
   ]
  },
  {
   "cell_type": "code",
   "execution_count": 4,
   "id": "4c25354d-5db4-4eda-bf18-fe106bfd67ee",
   "metadata": {
    "tags": []
   },
   "outputs": [
    {
     "data": {
      "text/html": [
       "<table class=\"dataframe\">\n",
       "<caption>A data.frame: 2 × 21</caption>\n",
       "<thead>\n",
       "\t<tr><th></th><th scope=col>index</th><th scope=col>date</th><th scope=col>type</th><th scope=col>co</th><th scope=col>quan</th><th scope=col>pps</th><th scope=col>basis</th><th scope=col>sale_quan</th><th scope=col>tally</th><th scope=col>cf_quan</th><th scope=col>⋯</th><th scope=col>cf_basis</th><th scope=col>buy_quan</th><th scope=col>buy_pps</th><th scope=col>buy_basis</th><th scope=col>sell_quan</th><th scope=col>sell_pps</th><th scope=col>sell_basis</th><th scope=col>profit_loss</th><th scope=col>Sell_cf</th><th scope=col>TorF</th></tr>\n",
       "\t<tr><th></th><th scope=col>&lt;int&gt;</th><th scope=col>&lt;date&gt;</th><th scope=col>&lt;chr&gt;</th><th scope=col>&lt;chr&gt;</th><th scope=col>&lt;int&gt;</th><th scope=col>&lt;dbl&gt;</th><th scope=col>&lt;dbl&gt;</th><th scope=col>&lt;int&gt;</th><th scope=col>&lt;int&gt;</th><th scope=col>&lt;int&gt;</th><th scope=col>⋯</th><th scope=col>&lt;dbl&gt;</th><th scope=col>&lt;int&gt;</th><th scope=col>&lt;dbl&gt;</th><th scope=col>&lt;dbl&gt;</th><th scope=col>&lt;int&gt;</th><th scope=col>&lt;dbl&gt;</th><th scope=col>&lt;dbl&gt;</th><th scope=col>&lt;dbl&gt;</th><th scope=col>&lt;dbl&gt;</th><th scope=col>&lt;int&gt;</th></tr>\n",
       "</thead>\n",
       "<tbody>\n",
       "\t<tr><th scope=row>1</th><td>1</td><td>2022-12-31</td><td>Buy </td><td>AMC</td><td>1050</td><td>4.0700</td><td>4273.5</td><td>0</td><td>0</td><td>0</td><td>⋯</td><td>0</td><td>0</td><td>0</td><td>0</td><td>0</td><td>0</td><td>0</td><td>0</td><td>0</td><td>0</td></tr>\n",
       "\t<tr><th scope=row>2</th><td>2</td><td>2023-01-27</td><td>Sell</td><td>AMC</td><td>1000</td><td>5.5124</td><td>5512.4</td><td>0</td><td>0</td><td>0</td><td>⋯</td><td>0</td><td>0</td><td>0</td><td>0</td><td>0</td><td>0</td><td>0</td><td>0</td><td>0</td><td>0</td></tr>\n",
       "</tbody>\n",
       "</table>\n"
      ],
      "text/latex": [
       "A data.frame: 2 × 21\n",
       "\\begin{tabular}{r|lllllllllllllllllllll}\n",
       "  & index & date & type & co & quan & pps & basis & sale\\_quan & tally & cf\\_quan & ⋯ & cf\\_basis & buy\\_quan & buy\\_pps & buy\\_basis & sell\\_quan & sell\\_pps & sell\\_basis & profit\\_loss & Sell\\_cf & TorF\\\\\n",
       "  & <int> & <date> & <chr> & <chr> & <int> & <dbl> & <dbl> & <int> & <int> & <int> & ⋯ & <dbl> & <int> & <dbl> & <dbl> & <int> & <dbl> & <dbl> & <dbl> & <dbl> & <int>\\\\\n",
       "\\hline\n",
       "\t1 & 1 & 2022-12-31 & Buy  & AMC & 1050 & 4.0700 & 4273.5 & 0 & 0 & 0 & ⋯ & 0 & 0 & 0 & 0 & 0 & 0 & 0 & 0 & 0 & 0\\\\\n",
       "\t2 & 2 & 2023-01-27 & Sell & AMC & 1000 & 5.5124 & 5512.4 & 0 & 0 & 0 & ⋯ & 0 & 0 & 0 & 0 & 0 & 0 & 0 & 0 & 0 & 0\\\\\n",
       "\\end{tabular}\n"
      ],
      "text/markdown": [
       "\n",
       "A data.frame: 2 × 21\n",
       "\n",
       "| <!--/--> | index &lt;int&gt; | date &lt;date&gt; | type &lt;chr&gt; | co &lt;chr&gt; | quan &lt;int&gt; | pps &lt;dbl&gt; | basis &lt;dbl&gt; | sale_quan &lt;int&gt; | tally &lt;int&gt; | cf_quan &lt;int&gt; | ⋯ ⋯ | cf_basis &lt;dbl&gt; | buy_quan &lt;int&gt; | buy_pps &lt;dbl&gt; | buy_basis &lt;dbl&gt; | sell_quan &lt;int&gt; | sell_pps &lt;dbl&gt; | sell_basis &lt;dbl&gt; | profit_loss &lt;dbl&gt; | Sell_cf &lt;dbl&gt; | TorF &lt;int&gt; |\n",
       "|---|---|---|---|---|---|---|---|---|---|---|---|---|---|---|---|---|---|---|---|---|---|\n",
       "| 1 | 1 | 2022-12-31 | Buy  | AMC | 1050 | 4.0700 | 4273.5 | 0 | 0 | 0 | ⋯ | 0 | 0 | 0 | 0 | 0 | 0 | 0 | 0 | 0 | 0 |\n",
       "| 2 | 2 | 2023-01-27 | Sell | AMC | 1000 | 5.5124 | 5512.4 | 0 | 0 | 0 | ⋯ | 0 | 0 | 0 | 0 | 0 | 0 | 0 | 0 | 0 | 0 |\n",
       "\n"
      ],
      "text/plain": [
       "  index date       type co  quan pps    basis  sale_quan tally cf_quan ⋯\n",
       "1 1     2022-12-31 Buy  AMC 1050 4.0700 4273.5 0         0     0       ⋯\n",
       "2 2     2023-01-27 Sell AMC 1000 5.5124 5512.4 0         0     0       ⋯\n",
       "  cf_basis buy_quan buy_pps buy_basis sell_quan sell_pps sell_basis profit_loss\n",
       "1 0        0        0       0         0         0        0          0          \n",
       "2 0        0        0       0         0         0        0          0          \n",
       "  Sell_cf TorF\n",
       "1 0       0   \n",
       "2 0       0   "
      ]
     },
     "metadata": {},
     "output_type": "display_data"
    }
   ],
   "source": [
    "head(df, 2)\n"
   ]
  },
  {
   "cell_type": "markdown",
   "id": "ad6fef1e-5fa2-4f99-8d77-c5706407dfde",
   "metadata": {},
   "source": [
    "## <font color = yellow> Create dfs"
   ]
  },
  {
   "cell_type": "code",
   "execution_count": 5,
   "id": "5f879b68-2a45-4a2a-b267-a64c7cee5a21",
   "metadata": {
    "tags": []
   },
   "outputs": [],
   "source": [
    "df_records <- data.frame()\n",
    "sale_records <- data.frame() \n"
   ]
  },
  {
   "cell_type": "code",
   "execution_count": 6,
   "id": "7e4c688a-c2bc-4c3a-8280-7d93e3c3b477",
   "metadata": {
    "tags": []
   },
   "outputs": [],
   "source": [
    "# create dfs from filtered df\n",
    "buys <- df[df$type == 'Buy', ]  # Filter buys\n",
    "sells <- df[df$type == 'Sell', ]  # Filter sells\n",
    "b <- buys[1,]\n",
    "s <- sells[1,]"
   ]
  },
  {
   "cell_type": "markdown",
   "id": "72333e7b-7971-4afa-9494-ad26116963ab",
   "metadata": {},
   "source": [
    "## <font color = yellow> Basic updates when a sale occurs"
   ]
  },
  {
   "cell_type": "markdown",
   "id": "1b29bcee-5b46-45ee-b303-e2aee6cff83f",
   "metadata": {
    "tags": []
   },
   "source": [
    "\n",
    "            sale <- s$quan\n",
    "            bs_ratio <- b$quan / s$quan\n",
    "            cf_quan <-  b$quan - s$quan\n",
    "\n",
    "            # assign the cf values - if they exist\n",
    "            if(b$quan > s$quan) {\n",
    "                b$cf_quan <- (b$quan - s$quan)        \n",
    "                b$cf_pps <- b$pps\n",
    "                b$cf_basis <- cf_quan * b$pps\n",
    "            }\n",
    "            b$sale_quan <- b$quan\n",
    "            b$buy_quan <- s$quan \n",
    "            b$buy_pps <-  b$pps\n",
    "            b$buy_basis <-  b$buy_quan * b$pps\n",
    "\n",
    "            b$sell_quan <- s$quan\n",
    "            b$sell_pps <- s$pps\n",
    "            b$sell_basis <- s$quan * s$pps\n",
    "\n",
    "            b$profit_loss <- b$sell_basis - b$buy_basis\n",
    "            b$sale <- sale\n",
    "\n",
    "            s$type <- \"SOLD\"\n",
    "\n",
    "            return(b)   \n",
    "\n"
   ]
  },
  {
   "cell_type": "code",
   "execution_count": 7,
   "id": "5a58d2a1-bd12-489a-9ce3-48e1a5ba6dda",
   "metadata": {},
   "outputs": [],
   "source": [
    "# stopps"
   ]
  },
  {
   "cell_type": "markdown",
   "id": "20e00a2d-d145-4062-ab58-910dee152307",
   "metadata": {},
   "source": [
    "## <font color = yellow> The \"working\" components needed to accomplish the tasks"
   ]
  },
  {
   "cell_type": "code",
   "execution_count": null,
   "id": "6b7c51a3-7892-4efc-9ad3-2595e807f596",
   "metadata": {},
   "outputs": [],
   "source": []
  },
  {
   "cell_type": "code",
   "execution_count": 8,
   "id": "1978c836-b9a7-4f64-86fe-bff3c8f19743",
   "metadata": {},
   "outputs": [
    {
     "name": "stdout",
     "output_type": "stream",
     "text": [
      "for loop, loop is i:  1 \n",
      "for loop, loop is i:  2 \n",
      "for loop, loop is i:  3 \n"
     ]
    }
   ],
   "source": [
    "for(i in 1:3) {\n",
    "    cat(\"for loop, loop is i: \", i, \"\\n\")\n",
    "    }"
   ]
  },
  {
   "cell_type": "code",
   "execution_count": 9,
   "id": "089c01db-88a1-4c20-aa2b-4f1e4e64ba3f",
   "metadata": {},
   "outputs": [
    {
     "data": {
      "text/html": [
       "<table class=\"dataframe\">\n",
       "<caption>A data.frame: 1 × 21</caption>\n",
       "<thead>\n",
       "\t<tr><th></th><th scope=col>index</th><th scope=col>date</th><th scope=col>type</th><th scope=col>co</th><th scope=col>quan</th><th scope=col>pps</th><th scope=col>basis</th><th scope=col>sale_quan</th><th scope=col>tally</th><th scope=col>cf_quan</th><th scope=col>⋯</th><th scope=col>cf_basis</th><th scope=col>buy_quan</th><th scope=col>buy_pps</th><th scope=col>buy_basis</th><th scope=col>sell_quan</th><th scope=col>sell_pps</th><th scope=col>sell_basis</th><th scope=col>profit_loss</th><th scope=col>Sell_cf</th><th scope=col>TorF</th></tr>\n",
       "\t<tr><th></th><th scope=col>&lt;int&gt;</th><th scope=col>&lt;date&gt;</th><th scope=col>&lt;chr&gt;</th><th scope=col>&lt;chr&gt;</th><th scope=col>&lt;int&gt;</th><th scope=col>&lt;dbl&gt;</th><th scope=col>&lt;dbl&gt;</th><th scope=col>&lt;int&gt;</th><th scope=col>&lt;int&gt;</th><th scope=col>&lt;int&gt;</th><th scope=col>⋯</th><th scope=col>&lt;dbl&gt;</th><th scope=col>&lt;int&gt;</th><th scope=col>&lt;dbl&gt;</th><th scope=col>&lt;dbl&gt;</th><th scope=col>&lt;int&gt;</th><th scope=col>&lt;dbl&gt;</th><th scope=col>&lt;dbl&gt;</th><th scope=col>&lt;dbl&gt;</th><th scope=col>&lt;dbl&gt;</th><th scope=col>&lt;int&gt;</th></tr>\n",
       "</thead>\n",
       "<tbody>\n",
       "\t<tr><th scope=row>1</th><td>1</td><td>2022-12-31</td><td>Buy</td><td>AMC</td><td>1050</td><td>4.07</td><td>4273.5</td><td>0</td><td>0</td><td>50</td><td>⋯</td><td>203.5</td><td>1000</td><td>4.07</td><td>4070</td><td>1000</td><td>5.5124</td><td>5512.4</td><td>1442.4</td><td>0</td><td>0</td></tr>\n",
       "</tbody>\n",
       "</table>\n"
      ],
      "text/latex": [
       "A data.frame: 1 × 21\n",
       "\\begin{tabular}{r|lllllllllllllllllllll}\n",
       "  & index & date & type & co & quan & pps & basis & sale\\_quan & tally & cf\\_quan & ⋯ & cf\\_basis & buy\\_quan & buy\\_pps & buy\\_basis & sell\\_quan & sell\\_pps & sell\\_basis & profit\\_loss & Sell\\_cf & TorF\\\\\n",
       "  & <int> & <date> & <chr> & <chr> & <int> & <dbl> & <dbl> & <int> & <int> & <int> & ⋯ & <dbl> & <int> & <dbl> & <dbl> & <int> & <dbl> & <dbl> & <dbl> & <dbl> & <int>\\\\\n",
       "\\hline\n",
       "\t1 & 1 & 2022-12-31 & Buy & AMC & 1050 & 4.07 & 4273.5 & 0 & 0 & 50 & ⋯ & 203.5 & 1000 & 4.07 & 4070 & 1000 & 5.5124 & 5512.4 & 1442.4 & 0 & 0\\\\\n",
       "\\end{tabular}\n"
      ],
      "text/markdown": [
       "\n",
       "A data.frame: 1 × 21\n",
       "\n",
       "| <!--/--> | index &lt;int&gt; | date &lt;date&gt; | type &lt;chr&gt; | co &lt;chr&gt; | quan &lt;int&gt; | pps &lt;dbl&gt; | basis &lt;dbl&gt; | sale_quan &lt;int&gt; | tally &lt;int&gt; | cf_quan &lt;int&gt; | ⋯ ⋯ | cf_basis &lt;dbl&gt; | buy_quan &lt;int&gt; | buy_pps &lt;dbl&gt; | buy_basis &lt;dbl&gt; | sell_quan &lt;int&gt; | sell_pps &lt;dbl&gt; | sell_basis &lt;dbl&gt; | profit_loss &lt;dbl&gt; | Sell_cf &lt;dbl&gt; | TorF &lt;int&gt; |\n",
       "|---|---|---|---|---|---|---|---|---|---|---|---|---|---|---|---|---|---|---|---|---|---|\n",
       "| 1 | 1 | 2022-12-31 | Buy | AMC | 1050 | 4.07 | 4273.5 | 0 | 0 | 50 | ⋯ | 203.5 | 1000 | 4.07 | 4070 | 1000 | 5.5124 | 5512.4 | 1442.4 | 0 | 0 |\n",
       "\n"
      ],
      "text/plain": [
       "  index date       type co  quan pps  basis  sale_quan tally cf_quan ⋯ cf_basis\n",
       "1 1     2022-12-31 Buy  AMC 1050 4.07 4273.5 0         0     50      ⋯ 203.5   \n",
       "  buy_quan buy_pps buy_basis sell_quan sell_pps sell_basis profit_loss Sell_cf\n",
       "1 1000     4.07    4070      1000      5.5124   5512.4     1442.4      0      \n",
       "  TorF\n",
       "1 0   "
      ]
     },
     "metadata": {},
     "output_type": "display_data"
    }
   ],
   "source": [
    "# update b\n",
    "\n",
    "update_b <- function() {\n",
    "\n",
    "        sale <- s$quan\n",
    "        bs_ratio <- b$quan / s$quan\n",
    "        cf_quan <-  b$quan - s$quan\n",
    "\n",
    "        # assign the cf values - if they exist\n",
    "        #  b > s\n",
    "        if ( b$quan > s$quan) {    \n",
    "            \n",
    "            # b$sale_quan <- b$quan\n",
    "            b$buy_quan <- s$quan\n",
    "            b$buy_pps <-  b$pps\n",
    "            b$buy_basis <-  b$buy_quan * b$pps\n",
    "\n",
    "\n",
    "            b$sell_quan <- s$quan    # cannot sell more than the buy_quan\n",
    "           # b$sell_quan <- b$quan\n",
    "            b$sell_pps <- s$pps\n",
    "            b$sell_basis <- s$quan * s$pps\n",
    "\n",
    "            b$cf_quan <- (b$quan - s$quan)        \n",
    "            b$cf_pps <- b$pps\n",
    "            b$cf_basis <- cf_quan * b$pps           \n",
    "\n",
    "            b$profit_loss <- b$sell_basis - b$buy_basis\n",
    "            # b$sale <- sale\n",
    "\n",
    "            s$type <- \"SOLD\"\n",
    "    \n",
    "       # ( s > b ), has sell carryforward\n",
    " # cat(\"If s > b, then S_cf_quan is: \", S_cf_quan, \" and Sell_cf is \", b$Sell_cf, \"\\n\")  \n",
    "        }else if(s$quan > b$quan) {\n",
    "            \n",
    "            \n",
    "            b$sale_quan <- b$quan\n",
    "           # b$buy_quan <- s$quan \n",
    "            b$buy_quan <- b$quan\n",
    "            b$buy_pps <-  b$pps\n",
    "            b$buy_basis <-  b$buy_quan * b$pps\n",
    "\n",
    "        \n",
    "            \n",
    "            S_cf_quan <- s$quan - b$quan           \n",
    "            b$Sell_cf <- S_cf_quan * s$pps \n",
    "\n",
    "            # b$sell_quan <- s$quan    # cannot sell more than the buy_quan\n",
    "            b$sell_quan <- b$quan\n",
    "            b$sell_pps <- s$pps\n",
    "            b$sell_basis <- b$quan * s$pps\n",
    "\n",
    "            b$profit_loss <- b$sell_basis - b$buy_basis\n",
    "            # b$sale <- sale\n",
    "\n",
    "            s$type <- \"SOLD_CF\"   \n",
    "            \n",
    "        }else if (s$quan == b$quan) {\n",
    "            \n",
    "            \n",
    "             # b$sale_quan <- b$quan\n",
    "            b$buy_quan <- s$quan\n",
    "            b$buy_pps <-  b$pps\n",
    "            b$buy_basis <-  b$buy_quan * b$pps\n",
    "\n",
    "\n",
    "            b$sell_quan <- s$quan    # cannot sell more than the buy_quan\n",
    "           # b$sell_quan <- b$quan\n",
    "            b$sell_pps <- s$pps\n",
    "            b$sell_basis <- s$quan * s$pps\n",
    "\n",
    "            b$profit_loss <- b$sell_basis - b$buy_basis\n",
    "            # b$sale <- sale\n",
    "\n",
    "            s$type <- \"SOLD\"\n",
    "            \n",
    "            }\n",
    "            \n",
    "    \n",
    "    \n",
    "\n",
    "        return(b)   \n",
    "}  # fct\n",
    "\n",
    "updated_b <- update_b()\n",
    "updated_b  \n",
    "    "
   ]
  },
  {
   "cell_type": "code",
   "execution_count": 10,
   "id": "01e7538b-8837-46d3-b6c3-5d3671e79f5d",
   "metadata": {},
   "outputs": [],
   "source": [
    "# updated_b <- update_b()\n",
    "# updated_b"
   ]
  },
  {
   "cell_type": "code",
   "execution_count": null,
   "id": "89b172c0-403c-4719-90bb-b4bd26c8a5d3",
   "metadata": {},
   "outputs": [],
   "source": []
  },
  {
   "cell_type": "markdown",
   "id": "5f5abcf8-cdec-4a7f-af1f-50a2637d3bd6",
   "metadata": {},
   "source": [
    "### <font color = lime> Works with each sale type:( b > s , s > b, b = s, buys_cf, sells_cf )"
   ]
  },
  {
   "cell_type": "code",
   "execution_count": 11,
   "id": "02b86a6a-2d17-41e1-ba57-23314ad592ee",
   "metadata": {},
   "outputs": [
    {
     "name": "stdout",
     "output_type": "stream",
     "text": [
      " This function displays the Sale Type based on the quan values from the updated_b data.  \n",
      " Since the updated_b file is being used for evalutions, KEEP THINGS SIMPLE.  Don't update buys / sells  \n",
      "\n",
      "This is a BUY carryforward transaction:  ( b_quan > s_quan )  \n",
      "Since this is a BUY carryforward transaction, the carryforward values need to be appended to buys[1, ] position \n",
      " T/F, good to go. Run:  snip buys[1, ] and sells[1,]  \n",
      " And good to go. Record the updated_b into the permanent sales_record df  \n",
      " And then begin a new loop  \n",
      "\n",
      "May need to examime more Sale Types ... when there is / is not CF values in Buys / Sells from previous transaction  \n",
      "\n"
     ]
    }
   ],
   "source": [
    "evaluate_sale_type <- function () {\n",
    "    \n",
    "    cat(\" This function displays the Sale Type based on the quan values from the updated_b data. \", \"\\n\")\n",
    "    cat(\" Since the updated_b file is being used for evalutions, KEEP THINGS SIMPLE.  Don't update buys / sells \", \"\\n\\n\")\n",
    "\n",
    "    if(updated_b$quan > updated_b$sell_quan && updated_b$cf_quan > 0 ) {\n",
    "        cat(\"This is a BUY carryforward transaction:  ( b_quan > s_quan ) \", \"\\n\")\n",
    "        cat(\"Since this is a BUY carryforward transaction, the carryforward values need to be appended to buys[1, ] position\", \"\\n\")\n",
    "        cat(\" T/F, good to go. Run:  snip buys[1, ] and sells[1,] \", \"\\n\")\n",
    "        cat(\" And good to go. Record the updated_b into the permanent sales_record df \", \"\\n\")\n",
    "        cat(\" And then begin a new loop \" , \"\\n\\n\")\n",
    "    } else if(updated_b$quan == updated_b$sell_quan && updated_b$cf_quan == 0 ) {\n",
    "        cat(\"This is a simple transaction:  (b_quan == s_quan) \", \"\\n\")\n",
    "        cat(\" T/F good to go.  Run snip buys[1,], sells[1,] \", \"\\n\")\n",
    "        cat(\" And good to go. Record the updated_b into the permanent sales_record df \", \"\\n\")\n",
    "        cat(\" And then begin a new loop \", \"\\n\\n\")            \n",
    "    }else if (updated_b$quan < updated_b$sell_quan && updated_b$cf_quan == 0 ) {\n",
    "        cat(\"This is a SELL carryforward transaction:  ( b_quan < s_quan ) \", \"\\n\")\n",
    "        cat(\"Since this is SELL carryforward transaction, the carryforward values need to be appended to sells[1, ] position\", \"\\n\")\n",
    "        cat(\" T/F, good to go. Run:  snip buys[1, ] and sells[1,] \", \"\\n\")\n",
    "        cat(\" And good to go. Record the updated_b into the permanent sales_record df \", \"\\n\")\n",
    "        cat(\" And then begin a new loop \" , \"\\n\\n\")\n",
    "        }\n",
    "        \n",
    "        cat(\"May need to examime more Sale Types ... when there is / is not CF values in Buys / Sells from previous transaction \", \"\\n\\n\")\n",
    "    \n",
    "    }  # fct\n",
    "\n",
    "evaluate_sale_type()"
   ]
  },
  {
   "cell_type": "markdown",
   "id": "30bece1a-1bf9-490f-a665-33483217b1fd",
   "metadata": {},
   "source": [
    "## <font color = yellow> Delete one row from buys and sells"
   ]
  },
  {
   "cell_type": "code",
   "execution_count": 12,
   "id": "6e7ecb99-08c6-47b2-9459-dcb78518bba8",
   "metadata": {},
   "outputs": [
    {
     "data": {
      "text/html": [
       "23"
      ],
      "text/latex": [
       "23"
      ],
      "text/markdown": [
       "23"
      ],
      "text/plain": [
       "[1] 23"
      ]
     },
     "metadata": {},
     "output_type": "display_data"
    },
    {
     "data": {
      "text/html": [
       "22"
      ],
      "text/latex": [
       "22"
      ],
      "text/markdown": [
       "22"
      ],
      "text/plain": [
       "[1] 22"
      ]
     },
     "metadata": {},
     "output_type": "display_data"
    }
   ],
   "source": [
    "nrow(buys)\n",
    "buys <- buys[-1, ]\n",
    "sells <- sells[-1, ]\n",
    "nrow(buys)"
   ]
  },
  {
   "cell_type": "code",
   "execution_count": null,
   "id": "1717cd60-4aa1-4fed-bc93-41450e0677c2",
   "metadata": {},
   "outputs": [],
   "source": []
  },
  {
   "cell_type": "markdown",
   "id": "0d43233d-62de-4ac3-9e39-d0b622ce7e10",
   "metadata": {},
   "source": [
    "## <font color = yellow> Update the sales_records df w/ updated_b"
   ]
  },
  {
   "cell_type": "code",
   "execution_count": 13,
   "id": "44f1c396-4486-41d7-8882-a40e02f98b16",
   "metadata": {},
   "outputs": [
    {
     "data": {
      "text/html": [
       "<table class=\"dataframe\">\n",
       "<caption>A data.frame: 1 × 21</caption>\n",
       "<thead>\n",
       "\t<tr><th scope=col>index</th><th scope=col>date</th><th scope=col>type</th><th scope=col>co</th><th scope=col>quan</th><th scope=col>pps</th><th scope=col>basis</th><th scope=col>sale_quan</th><th scope=col>tally</th><th scope=col>cf_quan</th><th scope=col>⋯</th><th scope=col>cf_basis</th><th scope=col>buy_quan</th><th scope=col>buy_pps</th><th scope=col>buy_basis</th><th scope=col>sell_quan</th><th scope=col>sell_pps</th><th scope=col>sell_basis</th><th scope=col>profit_loss</th><th scope=col>Sell_cf</th><th scope=col>TorF</th></tr>\n",
       "\t<tr><th scope=col>&lt;int&gt;</th><th scope=col>&lt;date&gt;</th><th scope=col>&lt;chr&gt;</th><th scope=col>&lt;chr&gt;</th><th scope=col>&lt;int&gt;</th><th scope=col>&lt;dbl&gt;</th><th scope=col>&lt;dbl&gt;</th><th scope=col>&lt;int&gt;</th><th scope=col>&lt;int&gt;</th><th scope=col>&lt;int&gt;</th><th scope=col>⋯</th><th scope=col>&lt;dbl&gt;</th><th scope=col>&lt;int&gt;</th><th scope=col>&lt;dbl&gt;</th><th scope=col>&lt;dbl&gt;</th><th scope=col>&lt;int&gt;</th><th scope=col>&lt;dbl&gt;</th><th scope=col>&lt;dbl&gt;</th><th scope=col>&lt;dbl&gt;</th><th scope=col>&lt;dbl&gt;</th><th scope=col>&lt;int&gt;</th></tr>\n",
       "</thead>\n",
       "<tbody>\n",
       "\t<tr><td>1</td><td>2022-12-31</td><td>Buy</td><td>AMC</td><td>1050</td><td>4.07</td><td>4273.5</td><td>0</td><td>0</td><td>50</td><td>⋯</td><td>203.5</td><td>1000</td><td>4.07</td><td>4070</td><td>1000</td><td>5.5124</td><td>5512.4</td><td>1442.4</td><td>0</td><td>0</td></tr>\n",
       "</tbody>\n",
       "</table>\n"
      ],
      "text/latex": [
       "A data.frame: 1 × 21\n",
       "\\begin{tabular}{lllllllllllllllllllll}\n",
       " index & date & type & co & quan & pps & basis & sale\\_quan & tally & cf\\_quan & ⋯ & cf\\_basis & buy\\_quan & buy\\_pps & buy\\_basis & sell\\_quan & sell\\_pps & sell\\_basis & profit\\_loss & Sell\\_cf & TorF\\\\\n",
       " <int> & <date> & <chr> & <chr> & <int> & <dbl> & <dbl> & <int> & <int> & <int> & ⋯ & <dbl> & <int> & <dbl> & <dbl> & <int> & <dbl> & <dbl> & <dbl> & <dbl> & <int>\\\\\n",
       "\\hline\n",
       "\t 1 & 2022-12-31 & Buy & AMC & 1050 & 4.07 & 4273.5 & 0 & 0 & 50 & ⋯ & 203.5 & 1000 & 4.07 & 4070 & 1000 & 5.5124 & 5512.4 & 1442.4 & 0 & 0\\\\\n",
       "\\end{tabular}\n"
      ],
      "text/markdown": [
       "\n",
       "A data.frame: 1 × 21\n",
       "\n",
       "| index &lt;int&gt; | date &lt;date&gt; | type &lt;chr&gt; | co &lt;chr&gt; | quan &lt;int&gt; | pps &lt;dbl&gt; | basis &lt;dbl&gt; | sale_quan &lt;int&gt; | tally &lt;int&gt; | cf_quan &lt;int&gt; | ⋯ ⋯ | cf_basis &lt;dbl&gt; | buy_quan &lt;int&gt; | buy_pps &lt;dbl&gt; | buy_basis &lt;dbl&gt; | sell_quan &lt;int&gt; | sell_pps &lt;dbl&gt; | sell_basis &lt;dbl&gt; | profit_loss &lt;dbl&gt; | Sell_cf &lt;dbl&gt; | TorF &lt;int&gt; |\n",
       "|---|---|---|---|---|---|---|---|---|---|---|---|---|---|---|---|---|---|---|---|---|\n",
       "| 1 | 2022-12-31 | Buy | AMC | 1050 | 4.07 | 4273.5 | 0 | 0 | 50 | ⋯ | 203.5 | 1000 | 4.07 | 4070 | 1000 | 5.5124 | 5512.4 | 1442.4 | 0 | 0 |\n",
       "\n"
      ],
      "text/plain": [
       "  index date       type co  quan pps  basis  sale_quan tally cf_quan ⋯ cf_basis\n",
       "1 1     2022-12-31 Buy  AMC 1050 4.07 4273.5 0         0     50      ⋯ 203.5   \n",
       "  buy_quan buy_pps buy_basis sell_quan sell_pps sell_basis profit_loss Sell_cf\n",
       "1 1000     4.07    4070      1000      5.5124   5512.4     1442.4      0      \n",
       "  TorF\n",
       "1 0   "
      ]
     },
     "metadata": {},
     "output_type": "display_data"
    }
   ],
   "source": [
    "sale_records <- rbind(sale_records, updated_b)\n",
    "sale_records\n",
    "                      "
   ]
  },
  {
   "cell_type": "code",
   "execution_count": null,
   "id": "87cc100d-994c-411a-8e0a-b7083fc0cea3",
   "metadata": {},
   "outputs": [],
   "source": []
  },
  {
   "cell_type": "markdown",
   "id": "333f2288-156e-40d7-b4aa-c3f2d88ba08e",
   "metadata": {},
   "source": [
    "## <font color = yellow> Bind  buys & sells - when buy/sell c/f exists\n"
   ]
  },
  {
   "cell_type": "code",
   "execution_count": null,
   "id": "54624e6b-c644-4f03-9403-7741466d233e",
   "metadata": {},
   "outputs": [],
   "source": []
  },
  {
   "cell_type": "code",
   "execution_count": 14,
   "id": "aefb85a4-516f-40f2-8eae-a269b975affa",
   "metadata": {},
   "outputs": [],
   "source": [
    "if (sale_records$cf_quan[1] == 0 ) {\n",
    "    cat(\"There is NO Buy c/f quan \", sale_records$cf_quan, \"\\n\")\n",
    "    }"
   ]
  },
  {
   "cell_type": "code",
   "execution_count": 15,
   "id": "cf89daa5-5a71-43c3-9209-aa8bcf0a9f1f",
   "metadata": {},
   "outputs": [
    {
     "name": "stdout",
     "output_type": "stream",
     "text": [
      "There IS Buy c/f quan  50 \n"
     ]
    }
   ],
   "source": [
    "# Here is is nec to update Buys[1, ]\n",
    "if (sale_records$cf_quan[1] > 0 ) {\n",
    "    cat(\"There IS Buy c/f quan \", sale_records$cf_quan, \"\\n\")\n",
    "    temp <- sale_records[1,]\n",
    "    }"
   ]
  },
  {
   "cell_type": "code",
   "execution_count": 16,
   "id": "bde38e13-7113-4241-b01f-1cf91af66326",
   "metadata": {},
   "outputs": [
    {
     "name": "stdout",
     "output_type": "stream",
     "text": [
      "There is NO Sell c/f  \n"
     ]
    }
   ],
   "source": [
    "if (sale_records$Sell_cf[1] == 0 ) {\n",
    "    cat(\"There is NO Sell c/f \", sale_records$Sell_quan, \"\\n\")\n",
    "    }"
   ]
  },
  {
   "cell_type": "code",
   "execution_count": 17,
   "id": "78fcb6bb-22ec-4847-a098-43cddb2f24a7",
   "metadata": {},
   "outputs": [],
   "source": [
    "# Here it is nec to update the Sells [1, ] \n",
    "if (sale_records$Sell_cf[1] > 0 ) {\n",
    "    cat(\"There IS Sell c/f \", sale_records$Sell_quan, \"\\n\")\n",
    "    }"
   ]
  },
  {
   "cell_type": "code",
   "execution_count": 18,
   "id": "ae06f907-52b0-43d3-b873-d4f913047494",
   "metadata": {},
   "outputs": [],
   "source": [
    "#  Here, there are no c/f issues , t/f , return()\n",
    "if (sale_records$cf_quan[1] == 0 && sale_records$Sell_cf[1] == 0 ) {\n",
    "    cat(\"There is NO Buy c/f or Sell c/f \", sale_records$cf_quan, \" \\t\", sale_records$Sell_quan, \"\\n\")\n",
    "    }\n"
   ]
  },
  {
   "cell_type": "code",
   "execution_count": null,
   "id": "0ae1dc8e-7dce-4cef-a5e2-bcaf24064a54",
   "metadata": {},
   "outputs": [],
   "source": []
  },
  {
   "cell_type": "code",
   "execution_count": 19,
   "id": "8fecc0ea-500c-4976-8979-9816323ae686",
   "metadata": {},
   "outputs": [
    {
     "data": {
      "text/html": [
       "<table class=\"dataframe\">\n",
       "<caption>A data.frame: 1 × 21</caption>\n",
       "<thead>\n",
       "\t<tr><th></th><th scope=col>index</th><th scope=col>date</th><th scope=col>type</th><th scope=col>co</th><th scope=col>quan</th><th scope=col>pps</th><th scope=col>basis</th><th scope=col>sale_quan</th><th scope=col>tally</th><th scope=col>cf_quan</th><th scope=col>⋯</th><th scope=col>cf_basis</th><th scope=col>buy_quan</th><th scope=col>buy_pps</th><th scope=col>buy_basis</th><th scope=col>sell_quan</th><th scope=col>sell_pps</th><th scope=col>sell_basis</th><th scope=col>profit_loss</th><th scope=col>Sell_cf</th><th scope=col>TorF</th></tr>\n",
       "\t<tr><th></th><th scope=col>&lt;int&gt;</th><th scope=col>&lt;date&gt;</th><th scope=col>&lt;chr&gt;</th><th scope=col>&lt;chr&gt;</th><th scope=col>&lt;int&gt;</th><th scope=col>&lt;dbl&gt;</th><th scope=col>&lt;dbl&gt;</th><th scope=col>&lt;int&gt;</th><th scope=col>&lt;int&gt;</th><th scope=col>&lt;int&gt;</th><th scope=col>⋯</th><th scope=col>&lt;dbl&gt;</th><th scope=col>&lt;int&gt;</th><th scope=col>&lt;dbl&gt;</th><th scope=col>&lt;dbl&gt;</th><th scope=col>&lt;int&gt;</th><th scope=col>&lt;dbl&gt;</th><th scope=col>&lt;dbl&gt;</th><th scope=col>&lt;dbl&gt;</th><th scope=col>&lt;dbl&gt;</th><th scope=col>&lt;int&gt;</th></tr>\n",
       "</thead>\n",
       "<tbody>\n",
       "\t<tr><th scope=row>1</th><td>1</td><td>2022-12-31</td><td>Buy</td><td>AMC</td><td>1050</td><td>4.07</td><td>4273.5</td><td>0</td><td>0</td><td>50</td><td>⋯</td><td>203.5</td><td>1000</td><td>4.07</td><td>4070</td><td>1000</td><td>5.5124</td><td>5512.4</td><td>1442.4</td><td>0</td><td>0</td></tr>\n",
       "</tbody>\n",
       "</table>\n"
      ],
      "text/latex": [
       "A data.frame: 1 × 21\n",
       "\\begin{tabular}{r|lllllllllllllllllllll}\n",
       "  & index & date & type & co & quan & pps & basis & sale\\_quan & tally & cf\\_quan & ⋯ & cf\\_basis & buy\\_quan & buy\\_pps & buy\\_basis & sell\\_quan & sell\\_pps & sell\\_basis & profit\\_loss & Sell\\_cf & TorF\\\\\n",
       "  & <int> & <date> & <chr> & <chr> & <int> & <dbl> & <dbl> & <int> & <int> & <int> & ⋯ & <dbl> & <int> & <dbl> & <dbl> & <int> & <dbl> & <dbl> & <dbl> & <dbl> & <int>\\\\\n",
       "\\hline\n",
       "\t1 & 1 & 2022-12-31 & Buy & AMC & 1050 & 4.07 & 4273.5 & 0 & 0 & 50 & ⋯ & 203.5 & 1000 & 4.07 & 4070 & 1000 & 5.5124 & 5512.4 & 1442.4 & 0 & 0\\\\\n",
       "\\end{tabular}\n"
      ],
      "text/markdown": [
       "\n",
       "A data.frame: 1 × 21\n",
       "\n",
       "| <!--/--> | index &lt;int&gt; | date &lt;date&gt; | type &lt;chr&gt; | co &lt;chr&gt; | quan &lt;int&gt; | pps &lt;dbl&gt; | basis &lt;dbl&gt; | sale_quan &lt;int&gt; | tally &lt;int&gt; | cf_quan &lt;int&gt; | ⋯ ⋯ | cf_basis &lt;dbl&gt; | buy_quan &lt;int&gt; | buy_pps &lt;dbl&gt; | buy_basis &lt;dbl&gt; | sell_quan &lt;int&gt; | sell_pps &lt;dbl&gt; | sell_basis &lt;dbl&gt; | profit_loss &lt;dbl&gt; | Sell_cf &lt;dbl&gt; | TorF &lt;int&gt; |\n",
       "|---|---|---|---|---|---|---|---|---|---|---|---|---|---|---|---|---|---|---|---|---|---|\n",
       "| 1 | 1 | 2022-12-31 | Buy | AMC | 1050 | 4.07 | 4273.5 | 0 | 0 | 50 | ⋯ | 203.5 | 1000 | 4.07 | 4070 | 1000 | 5.5124 | 5512.4 | 1442.4 | 0 | 0 |\n",
       "\n"
      ],
      "text/plain": [
       "  index date       type co  quan pps  basis  sale_quan tally cf_quan ⋯ cf_basis\n",
       "1 1     2022-12-31 Buy  AMC 1050 4.07 4273.5 0         0     50      ⋯ 203.5   \n",
       "  buy_quan buy_pps buy_basis sell_quan sell_pps sell_basis profit_loss Sell_cf\n",
       "1 1000     4.07    4070      1000      5.5124   5512.4     1442.4      0      \n",
       "  TorF\n",
       "1 0   "
      ]
     },
     "metadata": {},
     "output_type": "display_data"
    },
    {
     "data": {
      "text/html": [
       "<table class=\"dataframe\">\n",
       "<caption>A data.frame: 1 × 21</caption>\n",
       "<thead>\n",
       "\t<tr><th></th><th scope=col>index</th><th scope=col>date</th><th scope=col>type</th><th scope=col>co</th><th scope=col>quan</th><th scope=col>pps</th><th scope=col>basis</th><th scope=col>sale_quan</th><th scope=col>tally</th><th scope=col>cf_quan</th><th scope=col>⋯</th><th scope=col>cf_basis</th><th scope=col>buy_quan</th><th scope=col>buy_pps</th><th scope=col>buy_basis</th><th scope=col>sell_quan</th><th scope=col>sell_pps</th><th scope=col>sell_basis</th><th scope=col>profit_loss</th><th scope=col>Sell_cf</th><th scope=col>TorF</th></tr>\n",
       "\t<tr><th></th><th scope=col>&lt;int&gt;</th><th scope=col>&lt;date&gt;</th><th scope=col>&lt;chr&gt;</th><th scope=col>&lt;chr&gt;</th><th scope=col>&lt;int&gt;</th><th scope=col>&lt;dbl&gt;</th><th scope=col>&lt;dbl&gt;</th><th scope=col>&lt;int&gt;</th><th scope=col>&lt;int&gt;</th><th scope=col>&lt;int&gt;</th><th scope=col>⋯</th><th scope=col>&lt;dbl&gt;</th><th scope=col>&lt;int&gt;</th><th scope=col>&lt;dbl&gt;</th><th scope=col>&lt;dbl&gt;</th><th scope=col>&lt;int&gt;</th><th scope=col>&lt;dbl&gt;</th><th scope=col>&lt;dbl&gt;</th><th scope=col>&lt;dbl&gt;</th><th scope=col>&lt;dbl&gt;</th><th scope=col>&lt;int&gt;</th></tr>\n",
       "</thead>\n",
       "<tbody>\n",
       "\t<tr><th scope=row>1</th><td>1</td><td>2022-12-31</td><td>CF</td><td>AMC</td><td>50</td><td>4.07</td><td>203.5</td><td>0</td><td>0</td><td>50</td><td>⋯</td><td>203.5</td><td>1000</td><td>4.07</td><td>4070</td><td>1000</td><td>5.5124</td><td>5512.4</td><td>1442.4</td><td>0</td><td>0</td></tr>\n",
       "</tbody>\n",
       "</table>\n"
      ],
      "text/latex": [
       "A data.frame: 1 × 21\n",
       "\\begin{tabular}{r|lllllllllllllllllllll}\n",
       "  & index & date & type & co & quan & pps & basis & sale\\_quan & tally & cf\\_quan & ⋯ & cf\\_basis & buy\\_quan & buy\\_pps & buy\\_basis & sell\\_quan & sell\\_pps & sell\\_basis & profit\\_loss & Sell\\_cf & TorF\\\\\n",
       "  & <int> & <date> & <chr> & <chr> & <int> & <dbl> & <dbl> & <int> & <int> & <int> & ⋯ & <dbl> & <int> & <dbl> & <dbl> & <int> & <dbl> & <dbl> & <dbl> & <dbl> & <int>\\\\\n",
       "\\hline\n",
       "\t1 & 1 & 2022-12-31 & CF & AMC & 50 & 4.07 & 203.5 & 0 & 0 & 50 & ⋯ & 203.5 & 1000 & 4.07 & 4070 & 1000 & 5.5124 & 5512.4 & 1442.4 & 0 & 0\\\\\n",
       "\\end{tabular}\n"
      ],
      "text/markdown": [
       "\n",
       "A data.frame: 1 × 21\n",
       "\n",
       "| <!--/--> | index &lt;int&gt; | date &lt;date&gt; | type &lt;chr&gt; | co &lt;chr&gt; | quan &lt;int&gt; | pps &lt;dbl&gt; | basis &lt;dbl&gt; | sale_quan &lt;int&gt; | tally &lt;int&gt; | cf_quan &lt;int&gt; | ⋯ ⋯ | cf_basis &lt;dbl&gt; | buy_quan &lt;int&gt; | buy_pps &lt;dbl&gt; | buy_basis &lt;dbl&gt; | sell_quan &lt;int&gt; | sell_pps &lt;dbl&gt; | sell_basis &lt;dbl&gt; | profit_loss &lt;dbl&gt; | Sell_cf &lt;dbl&gt; | TorF &lt;int&gt; |\n",
       "|---|---|---|---|---|---|---|---|---|---|---|---|---|---|---|---|---|---|---|---|---|---|\n",
       "| 1 | 1 | 2022-12-31 | CF | AMC | 50 | 4.07 | 203.5 | 0 | 0 | 50 | ⋯ | 203.5 | 1000 | 4.07 | 4070 | 1000 | 5.5124 | 5512.4 | 1442.4 | 0 | 0 |\n",
       "\n"
      ],
      "text/plain": [
       "  index date       type co  quan pps  basis sale_quan tally cf_quan ⋯ cf_basis\n",
       "1 1     2022-12-31 CF   AMC 50   4.07 203.5 0         0     50      ⋯ 203.5   \n",
       "  buy_quan buy_pps buy_basis sell_quan sell_pps sell_basis profit_loss Sell_cf\n",
       "1 1000     4.07    4070      1000      5.5124   5512.4     1442.4      0      \n",
       "  TorF\n",
       "1 0   "
      ]
     },
     "metadata": {},
     "output_type": "display_data"
    }
   ],
   "source": [
    "temp <- sale_records[1,]\n",
    "temp\n",
    "temp$type <- \"CF\"\n",
    "temp$quan <- temp$cf_quan\n",
    "temp$basis <- temp$cf_basis\n",
    "temp"
   ]
  },
  {
   "cell_type": "code",
   "execution_count": null,
   "id": "2800cfff-0c38-4872-8965-60c4f729f14b",
   "metadata": {},
   "outputs": [],
   "source": []
  },
  {
   "cell_type": "code",
   "execution_count": 20,
   "id": "9016d866-3fbf-47ab-959d-77408c8e6e41",
   "metadata": {},
   "outputs": [
    {
     "data": {
      "text/html": [
       "<table class=\"dataframe\">\n",
       "<caption>A data.frame: 1 × 21</caption>\n",
       "<thead>\n",
       "\t<tr><th></th><th scope=col>index</th><th scope=col>date</th><th scope=col>type</th><th scope=col>co</th><th scope=col>quan</th><th scope=col>pps</th><th scope=col>basis</th><th scope=col>sale_quan</th><th scope=col>tally</th><th scope=col>cf_quan</th><th scope=col>⋯</th><th scope=col>cf_basis</th><th scope=col>buy_quan</th><th scope=col>buy_pps</th><th scope=col>buy_basis</th><th scope=col>sell_quan</th><th scope=col>sell_pps</th><th scope=col>sell_basis</th><th scope=col>profit_loss</th><th scope=col>Sell_cf</th><th scope=col>TorF</th></tr>\n",
       "\t<tr><th></th><th scope=col>&lt;int&gt;</th><th scope=col>&lt;date&gt;</th><th scope=col>&lt;chr&gt;</th><th scope=col>&lt;chr&gt;</th><th scope=col>&lt;int&gt;</th><th scope=col>&lt;dbl&gt;</th><th scope=col>&lt;dbl&gt;</th><th scope=col>&lt;int&gt;</th><th scope=col>&lt;int&gt;</th><th scope=col>&lt;int&gt;</th><th scope=col>⋯</th><th scope=col>&lt;dbl&gt;</th><th scope=col>&lt;int&gt;</th><th scope=col>&lt;dbl&gt;</th><th scope=col>&lt;dbl&gt;</th><th scope=col>&lt;int&gt;</th><th scope=col>&lt;dbl&gt;</th><th scope=col>&lt;dbl&gt;</th><th scope=col>&lt;dbl&gt;</th><th scope=col>&lt;dbl&gt;</th><th scope=col>&lt;int&gt;</th></tr>\n",
       "</thead>\n",
       "<tbody>\n",
       "\t<tr><th scope=row>1</th><td>1</td><td>2022-12-31</td><td>CF</td><td>AMC</td><td>50</td><td>4.07</td><td>203.5</td><td>0</td><td>0</td><td>50</td><td>⋯</td><td>203.5</td><td>1000</td><td>4.07</td><td>4070</td><td>1000</td><td>5.5124</td><td>5512.4</td><td>1442.4</td><td>0</td><td>0</td></tr>\n",
       "</tbody>\n",
       "</table>\n"
      ],
      "text/latex": [
       "A data.frame: 1 × 21\n",
       "\\begin{tabular}{r|lllllllllllllllllllll}\n",
       "  & index & date & type & co & quan & pps & basis & sale\\_quan & tally & cf\\_quan & ⋯ & cf\\_basis & buy\\_quan & buy\\_pps & buy\\_basis & sell\\_quan & sell\\_pps & sell\\_basis & profit\\_loss & Sell\\_cf & TorF\\\\\n",
       "  & <int> & <date> & <chr> & <chr> & <int> & <dbl> & <dbl> & <int> & <int> & <int> & ⋯ & <dbl> & <int> & <dbl> & <dbl> & <int> & <dbl> & <dbl> & <dbl> & <dbl> & <int>\\\\\n",
       "\\hline\n",
       "\t1 & 1 & 2022-12-31 & CF & AMC & 50 & 4.07 & 203.5 & 0 & 0 & 50 & ⋯ & 203.5 & 1000 & 4.07 & 4070 & 1000 & 5.5124 & 5512.4 & 1442.4 & 0 & 0\\\\\n",
       "\\end{tabular}\n"
      ],
      "text/markdown": [
       "\n",
       "A data.frame: 1 × 21\n",
       "\n",
       "| <!--/--> | index &lt;int&gt; | date &lt;date&gt; | type &lt;chr&gt; | co &lt;chr&gt; | quan &lt;int&gt; | pps &lt;dbl&gt; | basis &lt;dbl&gt; | sale_quan &lt;int&gt; | tally &lt;int&gt; | cf_quan &lt;int&gt; | ⋯ ⋯ | cf_basis &lt;dbl&gt; | buy_quan &lt;int&gt; | buy_pps &lt;dbl&gt; | buy_basis &lt;dbl&gt; | sell_quan &lt;int&gt; | sell_pps &lt;dbl&gt; | sell_basis &lt;dbl&gt; | profit_loss &lt;dbl&gt; | Sell_cf &lt;dbl&gt; | TorF &lt;int&gt; |\n",
       "|---|---|---|---|---|---|---|---|---|---|---|---|---|---|---|---|---|---|---|---|---|---|\n",
       "| 1 | 1 | 2022-12-31 | CF | AMC | 50 | 4.07 | 203.5 | 0 | 0 | 50 | ⋯ | 203.5 | 1000 | 4.07 | 4070 | 1000 | 5.5124 | 5512.4 | 1442.4 | 0 | 0 |\n",
       "\n"
      ],
      "text/plain": [
       "  index date       type co  quan pps  basis sale_quan tally cf_quan ⋯ cf_basis\n",
       "1 1     2022-12-31 CF   AMC 50   4.07 203.5 0         0     50      ⋯ 203.5   \n",
       "  buy_quan buy_pps buy_basis sell_quan sell_pps sell_basis profit_loss Sell_cf\n",
       "1 1000     4.07    4070      1000      5.5124   5512.4     1442.4      0      \n",
       "  TorF\n",
       "1 0   "
      ]
     },
     "metadata": {},
     "output_type": "display_data"
    }
   ],
   "source": [
    "temp"
   ]
  },
  {
   "cell_type": "code",
   "execution_count": 21,
   "id": "52dce09f-956f-45ad-8b16-c1a4d3f564e7",
   "metadata": {},
   "outputs": [],
   "source": [
    "temp[ , 8:ncol(temp)] <- 0"
   ]
  },
  {
   "cell_type": "code",
   "execution_count": 22,
   "id": "c7498ee2-f0c5-4100-88ea-c56045013c6b",
   "metadata": {},
   "outputs": [
    {
     "data": {
      "text/html": [
       "<table class=\"dataframe\">\n",
       "<caption>A data.frame: 1 × 21</caption>\n",
       "<thead>\n",
       "\t<tr><th></th><th scope=col>index</th><th scope=col>date</th><th scope=col>type</th><th scope=col>co</th><th scope=col>quan</th><th scope=col>pps</th><th scope=col>basis</th><th scope=col>sale_quan</th><th scope=col>tally</th><th scope=col>cf_quan</th><th scope=col>⋯</th><th scope=col>cf_basis</th><th scope=col>buy_quan</th><th scope=col>buy_pps</th><th scope=col>buy_basis</th><th scope=col>sell_quan</th><th scope=col>sell_pps</th><th scope=col>sell_basis</th><th scope=col>profit_loss</th><th scope=col>Sell_cf</th><th scope=col>TorF</th></tr>\n",
       "\t<tr><th></th><th scope=col>&lt;int&gt;</th><th scope=col>&lt;date&gt;</th><th scope=col>&lt;chr&gt;</th><th scope=col>&lt;chr&gt;</th><th scope=col>&lt;int&gt;</th><th scope=col>&lt;dbl&gt;</th><th scope=col>&lt;dbl&gt;</th><th scope=col>&lt;dbl&gt;</th><th scope=col>&lt;dbl&gt;</th><th scope=col>&lt;dbl&gt;</th><th scope=col>⋯</th><th scope=col>&lt;dbl&gt;</th><th scope=col>&lt;dbl&gt;</th><th scope=col>&lt;dbl&gt;</th><th scope=col>&lt;dbl&gt;</th><th scope=col>&lt;dbl&gt;</th><th scope=col>&lt;dbl&gt;</th><th scope=col>&lt;dbl&gt;</th><th scope=col>&lt;dbl&gt;</th><th scope=col>&lt;dbl&gt;</th><th scope=col>&lt;dbl&gt;</th></tr>\n",
       "</thead>\n",
       "<tbody>\n",
       "\t<tr><th scope=row>1</th><td>1</td><td>2022-12-31</td><td>CF</td><td>AMC</td><td>50</td><td>4.07</td><td>203.5</td><td>0</td><td>0</td><td>0</td><td>⋯</td><td>0</td><td>0</td><td>0</td><td>0</td><td>0</td><td>0</td><td>0</td><td>0</td><td>0</td><td>0</td></tr>\n",
       "</tbody>\n",
       "</table>\n"
      ],
      "text/latex": [
       "A data.frame: 1 × 21\n",
       "\\begin{tabular}{r|lllllllllllllllllllll}\n",
       "  & index & date & type & co & quan & pps & basis & sale\\_quan & tally & cf\\_quan & ⋯ & cf\\_basis & buy\\_quan & buy\\_pps & buy\\_basis & sell\\_quan & sell\\_pps & sell\\_basis & profit\\_loss & Sell\\_cf & TorF\\\\\n",
       "  & <int> & <date> & <chr> & <chr> & <int> & <dbl> & <dbl> & <dbl> & <dbl> & <dbl> & ⋯ & <dbl> & <dbl> & <dbl> & <dbl> & <dbl> & <dbl> & <dbl> & <dbl> & <dbl> & <dbl>\\\\\n",
       "\\hline\n",
       "\t1 & 1 & 2022-12-31 & CF & AMC & 50 & 4.07 & 203.5 & 0 & 0 & 0 & ⋯ & 0 & 0 & 0 & 0 & 0 & 0 & 0 & 0 & 0 & 0\\\\\n",
       "\\end{tabular}\n"
      ],
      "text/markdown": [
       "\n",
       "A data.frame: 1 × 21\n",
       "\n",
       "| <!--/--> | index &lt;int&gt; | date &lt;date&gt; | type &lt;chr&gt; | co &lt;chr&gt; | quan &lt;int&gt; | pps &lt;dbl&gt; | basis &lt;dbl&gt; | sale_quan &lt;dbl&gt; | tally &lt;dbl&gt; | cf_quan &lt;dbl&gt; | ⋯ ⋯ | cf_basis &lt;dbl&gt; | buy_quan &lt;dbl&gt; | buy_pps &lt;dbl&gt; | buy_basis &lt;dbl&gt; | sell_quan &lt;dbl&gt; | sell_pps &lt;dbl&gt; | sell_basis &lt;dbl&gt; | profit_loss &lt;dbl&gt; | Sell_cf &lt;dbl&gt; | TorF &lt;dbl&gt; |\n",
       "|---|---|---|---|---|---|---|---|---|---|---|---|---|---|---|---|---|---|---|---|---|---|\n",
       "| 1 | 1 | 2022-12-31 | CF | AMC | 50 | 4.07 | 203.5 | 0 | 0 | 0 | ⋯ | 0 | 0 | 0 | 0 | 0 | 0 | 0 | 0 | 0 | 0 |\n",
       "\n"
      ],
      "text/plain": [
       "  index date       type co  quan pps  basis sale_quan tally cf_quan ⋯ cf_basis\n",
       "1 1     2022-12-31 CF   AMC 50   4.07 203.5 0         0     0       ⋯ 0       \n",
       "  buy_quan buy_pps buy_basis sell_quan sell_pps sell_basis profit_loss Sell_cf\n",
       "1 0        0       0         0         0        0          0           0      \n",
       "  TorF\n",
       "1 0   "
      ]
     },
     "metadata": {},
     "output_type": "display_data"
    }
   ],
   "source": [
    "temp"
   ]
  },
  {
   "cell_type": "code",
   "execution_count": null,
   "id": "ebe9f1f4-271a-408a-a652-ab5d2f6a8668",
   "metadata": {},
   "outputs": [],
   "source": []
  },
  {
   "cell_type": "code",
   "execution_count": 23,
   "id": "91494512-a441-4377-b57e-d471898002d5",
   "metadata": {},
   "outputs": [
    {
     "data": {
      "text/html": [
       "22"
      ],
      "text/latex": [
       "22"
      ],
      "text/markdown": [
       "22"
      ],
      "text/plain": [
       "[1] 22"
      ]
     },
     "metadata": {},
     "output_type": "display_data"
    }
   ],
   "source": [
    "test <- buys\n",
    "nrow(buys)"
   ]
  },
  {
   "cell_type": "code",
   "execution_count": 24,
   "id": "96ae6567-3798-4ff4-82f1-d8a0e5902813",
   "metadata": {},
   "outputs": [
    {
     "data": {
      "text/html": [
       "<table class=\"dataframe\">\n",
       "<caption>A tibble: 4 × 2</caption>\n",
       "<thead>\n",
       "\t<tr><th scope=col>x</th><th scope=col>y</th></tr>\n",
       "\t<tr><th scope=col>&lt;dbl&gt;</th><th scope=col>&lt;dbl&gt;</th></tr>\n",
       "</thead>\n",
       "<tbody>\n",
       "\t<tr><td>1</td><td>3</td></tr>\n",
       "\t<tr><td>4</td><td>0</td></tr>\n",
       "\t<tr><td>2</td><td>2</td></tr>\n",
       "\t<tr><td>3</td><td>1</td></tr>\n",
       "</tbody>\n",
       "</table>\n"
      ],
      "text/latex": [
       "A tibble: 4 × 2\n",
       "\\begin{tabular}{ll}\n",
       " x & y\\\\\n",
       " <dbl> & <dbl>\\\\\n",
       "\\hline\n",
       "\t 1 & 3\\\\\n",
       "\t 4 & 0\\\\\n",
       "\t 2 & 2\\\\\n",
       "\t 3 & 1\\\\\n",
       "\\end{tabular}\n"
      ],
      "text/markdown": [
       "\n",
       "A tibble: 4 × 2\n",
       "\n",
       "| x &lt;dbl&gt; | y &lt;dbl&gt; |\n",
       "|---|---|\n",
       "| 1 | 3 |\n",
       "| 4 | 0 |\n",
       "| 2 | 2 |\n",
       "| 3 | 1 |\n",
       "\n"
      ],
      "text/plain": [
       "  x y\n",
       "1 1 3\n",
       "2 4 0\n",
       "3 2 2\n",
       "4 3 1"
      ]
     },
     "metadata": {},
     "output_type": "display_data"
    }
   ],
   "source": [
    "df <- tibble(x = 1:3, y = 3:1)\n",
    "\n",
    "df <- df %>% add_row(x = 4, y = 0, .before = 2)\n",
    "df"
   ]
  },
  {
   "cell_type": "code",
   "execution_count": null,
   "id": "d7fdd965-080a-4189-8f49-40135d3a8eed",
   "metadata": {},
   "outputs": [],
   "source": []
  },
  {
   "cell_type": "code",
   "execution_count": 25,
   "id": "c8c67c0c-77c7-4fe9-b224-9d8afecddb3f",
   "metadata": {},
   "outputs": [
    {
     "data": {
      "text/html": [
       "<table class=\"dataframe\">\n",
       "<caption>A data.frame: 23 × 21</caption>\n",
       "<thead>\n",
       "\t<tr><th scope=col>index</th><th scope=col>date</th><th scope=col>type</th><th scope=col>co</th><th scope=col>quan</th><th scope=col>pps</th><th scope=col>basis</th><th scope=col>sale_quan</th><th scope=col>tally</th><th scope=col>cf_quan</th><th scope=col>⋯</th><th scope=col>cf_basis</th><th scope=col>buy_quan</th><th scope=col>buy_pps</th><th scope=col>buy_basis</th><th scope=col>sell_quan</th><th scope=col>sell_pps</th><th scope=col>sell_basis</th><th scope=col>profit_loss</th><th scope=col>Sell_cf</th><th scope=col>TorF</th></tr>\n",
       "\t<tr><th scope=col>&lt;int&gt;</th><th scope=col>&lt;date&gt;</th><th scope=col>&lt;chr&gt;</th><th scope=col>&lt;chr&gt;</th><th scope=col>&lt;int&gt;</th><th scope=col>&lt;dbl&gt;</th><th scope=col>&lt;dbl&gt;</th><th scope=col>&lt;dbl&gt;</th><th scope=col>&lt;dbl&gt;</th><th scope=col>&lt;dbl&gt;</th><th scope=col>⋯</th><th scope=col>&lt;dbl&gt;</th><th scope=col>&lt;dbl&gt;</th><th scope=col>&lt;dbl&gt;</th><th scope=col>&lt;dbl&gt;</th><th scope=col>&lt;dbl&gt;</th><th scope=col>&lt;dbl&gt;</th><th scope=col>&lt;dbl&gt;</th><th scope=col>&lt;dbl&gt;</th><th scope=col>&lt;dbl&gt;</th><th scope=col>&lt;dbl&gt;</th></tr>\n",
       "</thead>\n",
       "<tbody>\n",
       "\t<tr><td> 1</td><td>2022-12-31</td><td>CF </td><td>AMC</td><td>  50</td><td>4.0700</td><td>  203.50</td><td>0</td><td>0</td><td>0</td><td>⋯</td><td>0</td><td>0</td><td>0</td><td>0</td><td>0</td><td>0</td><td>0</td><td>0</td><td>0</td><td>0</td></tr>\n",
       "\t<tr><td> 3</td><td>2023-01-20</td><td>Buy</td><td>AMC</td><td>1000</td><td>5.6250</td><td> 5625.00</td><td>0</td><td>0</td><td>0</td><td>⋯</td><td>0</td><td>0</td><td>0</td><td>0</td><td>0</td><td>0</td><td>0</td><td>0</td><td>0</td><td>0</td></tr>\n",
       "\t<tr><td> 5</td><td>2023-01-23</td><td>Buy</td><td>AMC</td><td>1000</td><td>5.7880</td><td> 5788.00</td><td>0</td><td>0</td><td>0</td><td>⋯</td><td>0</td><td>0</td><td>0</td><td>0</td><td>0</td><td>0</td><td>0</td><td>0</td><td>0</td><td>0</td></tr>\n",
       "\t<tr><td> 7</td><td>2023-01-27</td><td>Buy</td><td>AMC</td><td>2000</td><td>5.2394</td><td>10478.80</td><td>0</td><td>0</td><td>0</td><td>⋯</td><td>0</td><td>0</td><td>0</td><td>0</td><td>0</td><td>0</td><td>0</td><td>0</td><td>0</td><td>0</td></tr>\n",
       "\t<tr><td> 9</td><td>2023-02-10</td><td>Buy</td><td>AMC</td><td>2000</td><td>4.7450</td><td> 9490.00</td><td>0</td><td>0</td><td>0</td><td>⋯</td><td>0</td><td>0</td><td>0</td><td>0</td><td>0</td><td>0</td><td>0</td><td>0</td><td>0</td><td>0</td></tr>\n",
       "\t<tr><td>11</td><td>2023-02-10</td><td>Buy</td><td>AMC</td><td>1000</td><td>4.7800</td><td> 4780.00</td><td>0</td><td>0</td><td>0</td><td>⋯</td><td>0</td><td>0</td><td>0</td><td>0</td><td>0</td><td>0</td><td>0</td><td>0</td><td>0</td><td>0</td></tr>\n",
       "\t<tr><td>12</td><td>2023-02-13</td><td>Buy</td><td>AMC</td><td>3000</td><td>4.7296</td><td>14188.80</td><td>0</td><td>0</td><td>0</td><td>⋯</td><td>0</td><td>0</td><td>0</td><td>0</td><td>0</td><td>0</td><td>0</td><td>0</td><td>0</td><td>0</td></tr>\n",
       "\t<tr><td>13</td><td>2023-02-13</td><td>Buy</td><td>AMC</td><td>1500</td><td>4.7183</td><td> 7077.45</td><td>0</td><td>0</td><td>0</td><td>⋯</td><td>0</td><td>0</td><td>0</td><td>0</td><td>0</td><td>0</td><td>0</td><td>0</td><td>0</td><td>0</td></tr>\n",
       "\t<tr><td>14</td><td>2023-02-13</td><td>Buy</td><td>AMC</td><td> 300</td><td>4.7167</td><td> 1415.01</td><td>0</td><td>0</td><td>0</td><td>⋯</td><td>0</td><td>0</td><td>0</td><td>0</td><td>0</td><td>0</td><td>0</td><td>0</td><td>0</td><td>0</td></tr>\n",
       "\t<tr><td>15</td><td>2023-02-13</td><td>Buy</td><td>AMC</td><td>2000</td><td>4.7100</td><td> 9420.00</td><td>0</td><td>0</td><td>0</td><td>⋯</td><td>0</td><td>0</td><td>0</td><td>0</td><td>0</td><td>0</td><td>0</td><td>0</td><td>0</td><td>0</td></tr>\n",
       "\t<tr><td>17</td><td>2023-02-15</td><td>Buy</td><td>AMC</td><td>4000</td><td>4.7801</td><td>19120.40</td><td>0</td><td>0</td><td>0</td><td>⋯</td><td>0</td><td>0</td><td>0</td><td>0</td><td>0</td><td>0</td><td>0</td><td>0</td><td>0</td><td>0</td></tr>\n",
       "\t<tr><td>21</td><td>2023-03-03</td><td>Buy</td><td>AMC</td><td>5000</td><td>6.5891</td><td>32945.50</td><td>0</td><td>0</td><td>0</td><td>⋯</td><td>0</td><td>0</td><td>0</td><td>0</td><td>0</td><td>0</td><td>0</td><td>0</td><td>0</td><td>0</td></tr>\n",
       "\t<tr><td>22</td><td>2023-03-03</td><td>Buy</td><td>AMC</td><td>1000</td><td>6.4850</td><td> 6485.00</td><td>0</td><td>0</td><td>0</td><td>⋯</td><td>0</td><td>0</td><td>0</td><td>0</td><td>0</td><td>0</td><td>0</td><td>0</td><td>0</td><td>0</td></tr>\n",
       "\t<tr><td>24</td><td>2023-03-07</td><td>Buy</td><td>AMC</td><td>2900</td><td>6.1491</td><td>17832.39</td><td>0</td><td>0</td><td>0</td><td>⋯</td><td>0</td><td>0</td><td>0</td><td>0</td><td>0</td><td>0</td><td>0</td><td>0</td><td>0</td><td>0</td></tr>\n",
       "\t<tr><td>25</td><td>2023-03-07</td><td>Buy</td><td>AMC</td><td> 100</td><td>6.1450</td><td>  614.50</td><td>0</td><td>0</td><td>0</td><td>⋯</td><td>0</td><td>0</td><td>0</td><td>0</td><td>0</td><td>0</td><td>0</td><td>0</td><td>0</td><td>0</td></tr>\n",
       "\t<tr><td>30</td><td>2023-03-16</td><td>Buy</td><td>AMC</td><td>1000</td><td>4.2950</td><td> 4295.00</td><td>0</td><td>0</td><td>0</td><td>⋯</td><td>0</td><td>0</td><td>0</td><td>0</td><td>0</td><td>0</td><td>0</td><td>0</td><td>0</td><td>0</td></tr>\n",
       "\t<tr><td>31</td><td>2023-03-16</td><td>Buy</td><td>AMC</td><td>2000</td><td>4.3074</td><td> 8614.80</td><td>0</td><td>0</td><td>0</td><td>⋯</td><td>0</td><td>0</td><td>0</td><td>0</td><td>0</td><td>0</td><td>0</td><td>0</td><td>0</td><td>0</td></tr>\n",
       "\t<tr><td>32</td><td>2023-03-17</td><td>Buy</td><td>AMC</td><td>1000</td><td>4.2900</td><td> 4290.00</td><td>0</td><td>0</td><td>0</td><td>⋯</td><td>0</td><td>0</td><td>0</td><td>0</td><td>0</td><td>0</td><td>0</td><td>0</td><td>0</td><td>0</td></tr>\n",
       "\t<tr><td>33</td><td>2023-03-17</td><td>Buy</td><td>AMC</td><td>1000</td><td>4.2250</td><td> 4225.00</td><td>0</td><td>0</td><td>0</td><td>⋯</td><td>0</td><td>0</td><td>0</td><td>0</td><td>0</td><td>0</td><td>0</td><td>0</td><td>0</td><td>0</td></tr>\n",
       "\t<tr><td>34</td><td>2023-03-21</td><td>Buy</td><td>AMC</td><td>2000</td><td>4.4200</td><td> 8840.00</td><td>0</td><td>0</td><td>0</td><td>⋯</td><td>0</td><td>0</td><td>0</td><td>0</td><td>0</td><td>0</td><td>0</td><td>0</td><td>0</td><td>0</td></tr>\n",
       "\t<tr><td>37</td><td>2023-04-21</td><td>Buy</td><td>AMC</td><td> 400</td><td>5.0100</td><td> 2004.00</td><td>0</td><td>0</td><td>0</td><td>⋯</td><td>0</td><td>0</td><td>0</td><td>0</td><td>0</td><td>0</td><td>0</td><td>0</td><td>0</td><td>0</td></tr>\n",
       "\t<tr><td>38</td><td>2023-04-27</td><td>Buy</td><td>AMC</td><td> 700</td><td>5.4450</td><td> 3811.50</td><td>0</td><td>0</td><td>0</td><td>⋯</td><td>0</td><td>0</td><td>0</td><td>0</td><td>0</td><td>0</td><td>0</td><td>0</td><td>0</td><td>0</td></tr>\n",
       "\t<tr><td>39</td><td>2023-05-17</td><td>Buy</td><td>AMC</td><td>1000</td><td>5.0090</td><td> 5009.00</td><td>0</td><td>0</td><td>0</td><td>⋯</td><td>0</td><td>0</td><td>0</td><td>0</td><td>0</td><td>0</td><td>0</td><td>0</td><td>0</td><td>0</td></tr>\n",
       "</tbody>\n",
       "</table>\n"
      ],
      "text/latex": [
       "A data.frame: 23 × 21\n",
       "\\begin{tabular}{lllllllllllllllllllll}\n",
       " index & date & type & co & quan & pps & basis & sale\\_quan & tally & cf\\_quan & ⋯ & cf\\_basis & buy\\_quan & buy\\_pps & buy\\_basis & sell\\_quan & sell\\_pps & sell\\_basis & profit\\_loss & Sell\\_cf & TorF\\\\\n",
       " <int> & <date> & <chr> & <chr> & <int> & <dbl> & <dbl> & <dbl> & <dbl> & <dbl> & ⋯ & <dbl> & <dbl> & <dbl> & <dbl> & <dbl> & <dbl> & <dbl> & <dbl> & <dbl> & <dbl>\\\\\n",
       "\\hline\n",
       "\t  1 & 2022-12-31 & CF  & AMC &   50 & 4.0700 &   203.50 & 0 & 0 & 0 & ⋯ & 0 & 0 & 0 & 0 & 0 & 0 & 0 & 0 & 0 & 0\\\\\n",
       "\t  3 & 2023-01-20 & Buy & AMC & 1000 & 5.6250 &  5625.00 & 0 & 0 & 0 & ⋯ & 0 & 0 & 0 & 0 & 0 & 0 & 0 & 0 & 0 & 0\\\\\n",
       "\t  5 & 2023-01-23 & Buy & AMC & 1000 & 5.7880 &  5788.00 & 0 & 0 & 0 & ⋯ & 0 & 0 & 0 & 0 & 0 & 0 & 0 & 0 & 0 & 0\\\\\n",
       "\t  7 & 2023-01-27 & Buy & AMC & 2000 & 5.2394 & 10478.80 & 0 & 0 & 0 & ⋯ & 0 & 0 & 0 & 0 & 0 & 0 & 0 & 0 & 0 & 0\\\\\n",
       "\t  9 & 2023-02-10 & Buy & AMC & 2000 & 4.7450 &  9490.00 & 0 & 0 & 0 & ⋯ & 0 & 0 & 0 & 0 & 0 & 0 & 0 & 0 & 0 & 0\\\\\n",
       "\t 11 & 2023-02-10 & Buy & AMC & 1000 & 4.7800 &  4780.00 & 0 & 0 & 0 & ⋯ & 0 & 0 & 0 & 0 & 0 & 0 & 0 & 0 & 0 & 0\\\\\n",
       "\t 12 & 2023-02-13 & Buy & AMC & 3000 & 4.7296 & 14188.80 & 0 & 0 & 0 & ⋯ & 0 & 0 & 0 & 0 & 0 & 0 & 0 & 0 & 0 & 0\\\\\n",
       "\t 13 & 2023-02-13 & Buy & AMC & 1500 & 4.7183 &  7077.45 & 0 & 0 & 0 & ⋯ & 0 & 0 & 0 & 0 & 0 & 0 & 0 & 0 & 0 & 0\\\\\n",
       "\t 14 & 2023-02-13 & Buy & AMC &  300 & 4.7167 &  1415.01 & 0 & 0 & 0 & ⋯ & 0 & 0 & 0 & 0 & 0 & 0 & 0 & 0 & 0 & 0\\\\\n",
       "\t 15 & 2023-02-13 & Buy & AMC & 2000 & 4.7100 &  9420.00 & 0 & 0 & 0 & ⋯ & 0 & 0 & 0 & 0 & 0 & 0 & 0 & 0 & 0 & 0\\\\\n",
       "\t 17 & 2023-02-15 & Buy & AMC & 4000 & 4.7801 & 19120.40 & 0 & 0 & 0 & ⋯ & 0 & 0 & 0 & 0 & 0 & 0 & 0 & 0 & 0 & 0\\\\\n",
       "\t 21 & 2023-03-03 & Buy & AMC & 5000 & 6.5891 & 32945.50 & 0 & 0 & 0 & ⋯ & 0 & 0 & 0 & 0 & 0 & 0 & 0 & 0 & 0 & 0\\\\\n",
       "\t 22 & 2023-03-03 & Buy & AMC & 1000 & 6.4850 &  6485.00 & 0 & 0 & 0 & ⋯ & 0 & 0 & 0 & 0 & 0 & 0 & 0 & 0 & 0 & 0\\\\\n",
       "\t 24 & 2023-03-07 & Buy & AMC & 2900 & 6.1491 & 17832.39 & 0 & 0 & 0 & ⋯ & 0 & 0 & 0 & 0 & 0 & 0 & 0 & 0 & 0 & 0\\\\\n",
       "\t 25 & 2023-03-07 & Buy & AMC &  100 & 6.1450 &   614.50 & 0 & 0 & 0 & ⋯ & 0 & 0 & 0 & 0 & 0 & 0 & 0 & 0 & 0 & 0\\\\\n",
       "\t 30 & 2023-03-16 & Buy & AMC & 1000 & 4.2950 &  4295.00 & 0 & 0 & 0 & ⋯ & 0 & 0 & 0 & 0 & 0 & 0 & 0 & 0 & 0 & 0\\\\\n",
       "\t 31 & 2023-03-16 & Buy & AMC & 2000 & 4.3074 &  8614.80 & 0 & 0 & 0 & ⋯ & 0 & 0 & 0 & 0 & 0 & 0 & 0 & 0 & 0 & 0\\\\\n",
       "\t 32 & 2023-03-17 & Buy & AMC & 1000 & 4.2900 &  4290.00 & 0 & 0 & 0 & ⋯ & 0 & 0 & 0 & 0 & 0 & 0 & 0 & 0 & 0 & 0\\\\\n",
       "\t 33 & 2023-03-17 & Buy & AMC & 1000 & 4.2250 &  4225.00 & 0 & 0 & 0 & ⋯ & 0 & 0 & 0 & 0 & 0 & 0 & 0 & 0 & 0 & 0\\\\\n",
       "\t 34 & 2023-03-21 & Buy & AMC & 2000 & 4.4200 &  8840.00 & 0 & 0 & 0 & ⋯ & 0 & 0 & 0 & 0 & 0 & 0 & 0 & 0 & 0 & 0\\\\\n",
       "\t 37 & 2023-04-21 & Buy & AMC &  400 & 5.0100 &  2004.00 & 0 & 0 & 0 & ⋯ & 0 & 0 & 0 & 0 & 0 & 0 & 0 & 0 & 0 & 0\\\\\n",
       "\t 38 & 2023-04-27 & Buy & AMC &  700 & 5.4450 &  3811.50 & 0 & 0 & 0 & ⋯ & 0 & 0 & 0 & 0 & 0 & 0 & 0 & 0 & 0 & 0\\\\\n",
       "\t 39 & 2023-05-17 & Buy & AMC & 1000 & 5.0090 &  5009.00 & 0 & 0 & 0 & ⋯ & 0 & 0 & 0 & 0 & 0 & 0 & 0 & 0 & 0 & 0\\\\\n",
       "\\end{tabular}\n"
      ],
      "text/markdown": [
       "\n",
       "A data.frame: 23 × 21\n",
       "\n",
       "| index &lt;int&gt; | date &lt;date&gt; | type &lt;chr&gt; | co &lt;chr&gt; | quan &lt;int&gt; | pps &lt;dbl&gt; | basis &lt;dbl&gt; | sale_quan &lt;dbl&gt; | tally &lt;dbl&gt; | cf_quan &lt;dbl&gt; | ⋯ ⋯ | cf_basis &lt;dbl&gt; | buy_quan &lt;dbl&gt; | buy_pps &lt;dbl&gt; | buy_basis &lt;dbl&gt; | sell_quan &lt;dbl&gt; | sell_pps &lt;dbl&gt; | sell_basis &lt;dbl&gt; | profit_loss &lt;dbl&gt; | Sell_cf &lt;dbl&gt; | TorF &lt;dbl&gt; |\n",
       "|---|---|---|---|---|---|---|---|---|---|---|---|---|---|---|---|---|---|---|---|---|\n",
       "|  1 | 2022-12-31 | CF  | AMC |   50 | 4.0700 |   203.50 | 0 | 0 | 0 | ⋯ | 0 | 0 | 0 | 0 | 0 | 0 | 0 | 0 | 0 | 0 |\n",
       "|  3 | 2023-01-20 | Buy | AMC | 1000 | 5.6250 |  5625.00 | 0 | 0 | 0 | ⋯ | 0 | 0 | 0 | 0 | 0 | 0 | 0 | 0 | 0 | 0 |\n",
       "|  5 | 2023-01-23 | Buy | AMC | 1000 | 5.7880 |  5788.00 | 0 | 0 | 0 | ⋯ | 0 | 0 | 0 | 0 | 0 | 0 | 0 | 0 | 0 | 0 |\n",
       "|  7 | 2023-01-27 | Buy | AMC | 2000 | 5.2394 | 10478.80 | 0 | 0 | 0 | ⋯ | 0 | 0 | 0 | 0 | 0 | 0 | 0 | 0 | 0 | 0 |\n",
       "|  9 | 2023-02-10 | Buy | AMC | 2000 | 4.7450 |  9490.00 | 0 | 0 | 0 | ⋯ | 0 | 0 | 0 | 0 | 0 | 0 | 0 | 0 | 0 | 0 |\n",
       "| 11 | 2023-02-10 | Buy | AMC | 1000 | 4.7800 |  4780.00 | 0 | 0 | 0 | ⋯ | 0 | 0 | 0 | 0 | 0 | 0 | 0 | 0 | 0 | 0 |\n",
       "| 12 | 2023-02-13 | Buy | AMC | 3000 | 4.7296 | 14188.80 | 0 | 0 | 0 | ⋯ | 0 | 0 | 0 | 0 | 0 | 0 | 0 | 0 | 0 | 0 |\n",
       "| 13 | 2023-02-13 | Buy | AMC | 1500 | 4.7183 |  7077.45 | 0 | 0 | 0 | ⋯ | 0 | 0 | 0 | 0 | 0 | 0 | 0 | 0 | 0 | 0 |\n",
       "| 14 | 2023-02-13 | Buy | AMC |  300 | 4.7167 |  1415.01 | 0 | 0 | 0 | ⋯ | 0 | 0 | 0 | 0 | 0 | 0 | 0 | 0 | 0 | 0 |\n",
       "| 15 | 2023-02-13 | Buy | AMC | 2000 | 4.7100 |  9420.00 | 0 | 0 | 0 | ⋯ | 0 | 0 | 0 | 0 | 0 | 0 | 0 | 0 | 0 | 0 |\n",
       "| 17 | 2023-02-15 | Buy | AMC | 4000 | 4.7801 | 19120.40 | 0 | 0 | 0 | ⋯ | 0 | 0 | 0 | 0 | 0 | 0 | 0 | 0 | 0 | 0 |\n",
       "| 21 | 2023-03-03 | Buy | AMC | 5000 | 6.5891 | 32945.50 | 0 | 0 | 0 | ⋯ | 0 | 0 | 0 | 0 | 0 | 0 | 0 | 0 | 0 | 0 |\n",
       "| 22 | 2023-03-03 | Buy | AMC | 1000 | 6.4850 |  6485.00 | 0 | 0 | 0 | ⋯ | 0 | 0 | 0 | 0 | 0 | 0 | 0 | 0 | 0 | 0 |\n",
       "| 24 | 2023-03-07 | Buy | AMC | 2900 | 6.1491 | 17832.39 | 0 | 0 | 0 | ⋯ | 0 | 0 | 0 | 0 | 0 | 0 | 0 | 0 | 0 | 0 |\n",
       "| 25 | 2023-03-07 | Buy | AMC |  100 | 6.1450 |   614.50 | 0 | 0 | 0 | ⋯ | 0 | 0 | 0 | 0 | 0 | 0 | 0 | 0 | 0 | 0 |\n",
       "| 30 | 2023-03-16 | Buy | AMC | 1000 | 4.2950 |  4295.00 | 0 | 0 | 0 | ⋯ | 0 | 0 | 0 | 0 | 0 | 0 | 0 | 0 | 0 | 0 |\n",
       "| 31 | 2023-03-16 | Buy | AMC | 2000 | 4.3074 |  8614.80 | 0 | 0 | 0 | ⋯ | 0 | 0 | 0 | 0 | 0 | 0 | 0 | 0 | 0 | 0 |\n",
       "| 32 | 2023-03-17 | Buy | AMC | 1000 | 4.2900 |  4290.00 | 0 | 0 | 0 | ⋯ | 0 | 0 | 0 | 0 | 0 | 0 | 0 | 0 | 0 | 0 |\n",
       "| 33 | 2023-03-17 | Buy | AMC | 1000 | 4.2250 |  4225.00 | 0 | 0 | 0 | ⋯ | 0 | 0 | 0 | 0 | 0 | 0 | 0 | 0 | 0 | 0 |\n",
       "| 34 | 2023-03-21 | Buy | AMC | 2000 | 4.4200 |  8840.00 | 0 | 0 | 0 | ⋯ | 0 | 0 | 0 | 0 | 0 | 0 | 0 | 0 | 0 | 0 |\n",
       "| 37 | 2023-04-21 | Buy | AMC |  400 | 5.0100 |  2004.00 | 0 | 0 | 0 | ⋯ | 0 | 0 | 0 | 0 | 0 | 0 | 0 | 0 | 0 | 0 |\n",
       "| 38 | 2023-04-27 | Buy | AMC |  700 | 5.4450 |  3811.50 | 0 | 0 | 0 | ⋯ | 0 | 0 | 0 | 0 | 0 | 0 | 0 | 0 | 0 | 0 |\n",
       "| 39 | 2023-05-17 | Buy | AMC | 1000 | 5.0090 |  5009.00 | 0 | 0 | 0 | ⋯ | 0 | 0 | 0 | 0 | 0 | 0 | 0 | 0 | 0 | 0 |\n",
       "\n"
      ],
      "text/plain": [
       "   index date       type co  quan pps    basis    sale_quan tally cf_quan ⋯\n",
       "1   1    2022-12-31 CF   AMC   50 4.0700   203.50 0         0     0       ⋯\n",
       "2   3    2023-01-20 Buy  AMC 1000 5.6250  5625.00 0         0     0       ⋯\n",
       "3   5    2023-01-23 Buy  AMC 1000 5.7880  5788.00 0         0     0       ⋯\n",
       "4   7    2023-01-27 Buy  AMC 2000 5.2394 10478.80 0         0     0       ⋯\n",
       "5   9    2023-02-10 Buy  AMC 2000 4.7450  9490.00 0         0     0       ⋯\n",
       "6  11    2023-02-10 Buy  AMC 1000 4.7800  4780.00 0         0     0       ⋯\n",
       "7  12    2023-02-13 Buy  AMC 3000 4.7296 14188.80 0         0     0       ⋯\n",
       "8  13    2023-02-13 Buy  AMC 1500 4.7183  7077.45 0         0     0       ⋯\n",
       "9  14    2023-02-13 Buy  AMC  300 4.7167  1415.01 0         0     0       ⋯\n",
       "10 15    2023-02-13 Buy  AMC 2000 4.7100  9420.00 0         0     0       ⋯\n",
       "11 17    2023-02-15 Buy  AMC 4000 4.7801 19120.40 0         0     0       ⋯\n",
       "12 21    2023-03-03 Buy  AMC 5000 6.5891 32945.50 0         0     0       ⋯\n",
       "13 22    2023-03-03 Buy  AMC 1000 6.4850  6485.00 0         0     0       ⋯\n",
       "14 24    2023-03-07 Buy  AMC 2900 6.1491 17832.39 0         0     0       ⋯\n",
       "15 25    2023-03-07 Buy  AMC  100 6.1450   614.50 0         0     0       ⋯\n",
       "16 30    2023-03-16 Buy  AMC 1000 4.2950  4295.00 0         0     0       ⋯\n",
       "17 31    2023-03-16 Buy  AMC 2000 4.3074  8614.80 0         0     0       ⋯\n",
       "18 32    2023-03-17 Buy  AMC 1000 4.2900  4290.00 0         0     0       ⋯\n",
       "19 33    2023-03-17 Buy  AMC 1000 4.2250  4225.00 0         0     0       ⋯\n",
       "20 34    2023-03-21 Buy  AMC 2000 4.4200  8840.00 0         0     0       ⋯\n",
       "21 37    2023-04-21 Buy  AMC  400 5.0100  2004.00 0         0     0       ⋯\n",
       "22 38    2023-04-27 Buy  AMC  700 5.4450  3811.50 0         0     0       ⋯\n",
       "23 39    2023-05-17 Buy  AMC 1000 5.0090  5009.00 0         0     0       ⋯\n",
       "   cf_basis buy_quan buy_pps buy_basis sell_quan sell_pps sell_basis\n",
       "1  0        0        0       0         0         0        0         \n",
       "2  0        0        0       0         0         0        0         \n",
       "3  0        0        0       0         0         0        0         \n",
       "4  0        0        0       0         0         0        0         \n",
       "5  0        0        0       0         0         0        0         \n",
       "6  0        0        0       0         0         0        0         \n",
       "7  0        0        0       0         0         0        0         \n",
       "8  0        0        0       0         0         0        0         \n",
       "9  0        0        0       0         0         0        0         \n",
       "10 0        0        0       0         0         0        0         \n",
       "11 0        0        0       0         0         0        0         \n",
       "12 0        0        0       0         0         0        0         \n",
       "13 0        0        0       0         0         0        0         \n",
       "14 0        0        0       0         0         0        0         \n",
       "15 0        0        0       0         0         0        0         \n",
       "16 0        0        0       0         0         0        0         \n",
       "17 0        0        0       0         0         0        0         \n",
       "18 0        0        0       0         0         0        0         \n",
       "19 0        0        0       0         0         0        0         \n",
       "20 0        0        0       0         0         0        0         \n",
       "21 0        0        0       0         0         0        0         \n",
       "22 0        0        0       0         0         0        0         \n",
       "23 0        0        0       0         0         0        0         \n",
       "   profit_loss Sell_cf TorF\n",
       "1  0           0       0   \n",
       "2  0           0       0   \n",
       "3  0           0       0   \n",
       "4  0           0       0   \n",
       "5  0           0       0   \n",
       "6  0           0       0   \n",
       "7  0           0       0   \n",
       "8  0           0       0   \n",
       "9  0           0       0   \n",
       "10 0           0       0   \n",
       "11 0           0       0   \n",
       "12 0           0       0   \n",
       "13 0           0       0   \n",
       "14 0           0       0   \n",
       "15 0           0       0   \n",
       "16 0           0       0   \n",
       "17 0           0       0   \n",
       "18 0           0       0   \n",
       "19 0           0       0   \n",
       "20 0           0       0   \n",
       "21 0           0       0   \n",
       "22 0           0       0   \n",
       "23 0           0       0   "
      ]
     },
     "metadata": {},
     "output_type": "display_data"
    }
   ],
   "source": [
    "test <- test %>% add_row(temp, .before = 1)\n",
    "test"
   ]
  },
  {
   "cell_type": "code",
   "execution_count": null,
   "id": "ae6231d1-0886-472d-8503-a11e04165b1a",
   "metadata": {},
   "outputs": [],
   "source": []
  },
  {
   "cell_type": "code",
   "execution_count": null,
   "id": "70459d61-e9ae-4e2c-ac3b-8b8ec1ade7d9",
   "metadata": {},
   "outputs": [],
   "source": []
  },
  {
   "cell_type": "code",
   "execution_count": null,
   "id": "c5a6d716-4542-49e3-8e4c-d7a8ac0185af",
   "metadata": {},
   "outputs": [],
   "source": []
  },
  {
   "cell_type": "code",
   "execution_count": null,
   "id": "e60960a4-65d5-46eb-a597-67bc4b7b2413",
   "metadata": {},
   "outputs": [],
   "source": []
  },
  {
   "cell_type": "code",
   "execution_count": null,
   "id": "914654f6-b840-42c3-90ff-0810af04c721",
   "metadata": {},
   "outputs": [],
   "source": []
  },
  {
   "cell_type": "code",
   "execution_count": null,
   "id": "2f594260-66cc-4305-adca-b4025854223c",
   "metadata": {},
   "outputs": [],
   "source": []
  },
  {
   "cell_type": "code",
   "execution_count": null,
   "id": "b34bf862-fa7b-4bc8-a5c1-3d91ba1ef87e",
   "metadata": {},
   "outputs": [],
   "source": []
  },
  {
   "cell_type": "code",
   "execution_count": null,
   "id": "92d2abce-158f-4058-8075-d1d4ac7fee73",
   "metadata": {},
   "outputs": [],
   "source": []
  },
  {
   "cell_type": "code",
   "execution_count": null,
   "id": "bab0f91d-a01c-4354-afc0-793ec3b482ad",
   "metadata": {},
   "outputs": [],
   "source": []
  },
  {
   "cell_type": "code",
   "execution_count": 26,
   "id": "558ac618-20c0-44d1-92da-2293b36c7aad",
   "metadata": {},
   "outputs": [
    {
     "ename": "ERROR",
     "evalue": "Error in eval(expr, envir, enclos): object 'stopps' not found\n",
     "output_type": "error",
     "traceback": [
      "Error in eval(expr, envir, enclos): object 'stopps' not found\nTraceback:\n"
     ]
    }
   ],
   "source": [
    "stopps #  Old code"
   ]
  },
  {
   "cell_type": "code",
   "execution_count": null,
   "id": "5dc6f7ef-b304-4455-a71c-6eb0e6917eee",
   "metadata": {},
   "outputs": [],
   "source": []
  },
  {
   "cell_type": "code",
   "execution_count": null,
   "id": "a6d19e4b-7d6d-490b-9985-810f36f3cb1d",
   "metadata": {},
   "outputs": [],
   "source": []
  },
  {
   "cell_type": "markdown",
   "id": "84f64300-a4a4-4fcb-b5ef-2ce9954abd4d",
   "metadata": {
    "tags": []
   },
   "source": [
    "## <font color = yellow> sell_snip & snips functions () - the snips will parse row 1, then call test_for_cf fct"
   ]
  },
  {
   "cell_type": "code",
   "execution_count": null,
   "id": "956351a3-a7ed-4e09-b15c-098316241c3c",
   "metadata": {
    "tags": []
   },
   "outputs": [],
   "source": [
    "#  These functions will delete the first row from the Buys and Sells dfs \n",
    "#  concluding the first Sale event\n",
    "\n",
    "i <- 1\n",
    "\n",
    "\n",
    "# fct\n",
    "snips <- function (b, buys, df_records) {\n",
    "    \n",
    "    b <- b\n",
    "    buys <- buys  \n",
    "    df_records <- df_records\n",
    "    \n",
    "    # remove the first row of buys ... is b \n",
    "    buys <- buys[-1, ]   \n",
    "    \n",
    "    \n",
    "    # Only if, then call fct that will apend df_records for the c/f values.  Otherwise ... ? \n",
    "    if(df_records$cf_quan > 0 ) {\n",
    "        \n",
    "        #fct call\n",
    "        buys <- test_for_cf(b, buys, df_records)        \n",
    "        return(buys)\n",
    "        \n",
    "        }else if( df_records$cf_quan == 0 ) {  \n",
    "                cat(\"else if ( df_records$cf_quan == 0 .... ??? \", \"\\n\")\n",
    "            return(buys)       \n",
    "         }\n",
    "    \n",
    "    #  return(buys)\n",
    "    \n",
    "   }  # fct"
   ]
  },
  {
   "cell_type": "code",
   "execution_count": null,
   "id": "1f6e5ccf-edb2-4310-aafc-9b1fafdfb23a",
   "metadata": {},
   "outputs": [],
   "source": []
  },
  {
   "cell_type": "code",
   "execution_count": null,
   "id": "d9fa19c1-0f88-44e2-ac26-f3d333eccf15",
   "metadata": {
    "tags": []
   },
   "outputs": [],
   "source": [
    "# fct\n",
    "sell_snip <- function(sells) {\n",
    "    sells <- sells    \n",
    "    sells <- sells[-1, ]    \n",
    "    return(sells)\n",
    "    }\n",
    "\n",
    "\n",
    "# fct call\n",
    "\n",
    "\n",
    "# nrow(buys)\n",
    "# nrow(sells)\n",
    "\n",
    "# buys <- snips(buys)\n",
    "# sells <- sell_snip(sells)\n",
    "# nrow(buys)\n",
    "# nrow(sells)\n",
    "# head(buys, 3)"
   ]
  },
  {
   "cell_type": "code",
   "execution_count": null,
   "id": "466f08f7-0076-41ce-a6df-6bf0ac19b485",
   "metadata": {
    "tags": []
   },
   "outputs": [],
   "source": [
    "df_records"
   ]
  },
  {
   "cell_type": "code",
   "execution_count": null,
   "id": "2b65ecdb-9bac-4a67-90b6-2704804906bf",
   "metadata": {
    "tags": []
   },
   "outputs": [],
   "source": [
    "# These are the fcts (in order) to process a Sals, from start to end \n",
    "\n",
    "nrow(buys)\n",
    "nrow(sells)\n",
    "\n",
    "buys <- snips(b,buys, df_records)\n",
    "sells <- sell_snip(sells)\n",
    "nrow(buys)\n",
    "nrow(sells)\n",
    "head(buys, 3)"
   ]
  },
  {
   "cell_type": "code",
   "execution_count": null,
   "id": "5d68d2c1-fdc8-48b2-a971-9e036756f4a1",
   "metadata": {
    "tags": []
   },
   "outputs": [],
   "source": []
  },
  {
   "cell_type": "code",
   "execution_count": null,
   "id": "92ebba72-5ee0-44c2-9119-3b31af62afbf",
   "metadata": {
    "tags": []
   },
   "outputs": [],
   "source": []
  },
  {
   "cell_type": "code",
   "execution_count": null,
   "id": "e512778c-a0c0-46e5-8304-8f08b2e74018",
   "metadata": {},
   "outputs": [],
   "source": [
    "# fct call: to create vars from the first row of Buy & Sell\n",
    "b <- row_b(b)   \n",
    "s <- row_s(s)  \n",
    "b\n",
    "s"
   ]
  },
  {
   "cell_type": "code",
   "execution_count": null,
   "id": "eafc977a-4361-4059-bcb9-0a11b61da834",
   "metadata": {},
   "outputs": [],
   "source": [
    "df_records\n",
    "\n",
    "head(buys, 3)\n",
    "head(sells,3)"
   ]
  },
  {
   "cell_type": "code",
   "execution_count": null,
   "id": "5f9711c0-8ea4-4fd1-9f17-8b7bfe0c58e1",
   "metadata": {},
   "outputs": [],
   "source": []
  },
  {
   "cell_type": "code",
   "execution_count": null,
   "id": "6785b9e2-c730-4c46-a1e7-03bfa6c281a1",
   "metadata": {},
   "outputs": [],
   "source": []
  },
  {
   "cell_type": "code",
   "execution_count": null,
   "id": "331b3cfc-1f60-4c51-bd0c-90fc38e0e54c",
   "metadata": {},
   "outputs": [],
   "source": [
    " stopps"
   ]
  },
  {
   "cell_type": "code",
   "execution_count": null,
   "id": "12a6921a-f6db-4156-9bb1-8a7081b919ec",
   "metadata": {},
   "outputs": [],
   "source": []
  },
  {
   "cell_type": "markdown",
   "id": "15d01f1f-ff57-4dc2-988d-4375bae3c121",
   "metadata": {},
   "source": [
    "# <font color = lime> Loop 1 works when there is a carryforward!"
   ]
  },
  {
   "cell_type": "markdown",
   "id": "81e07ffc-b53b-4460-81e9-3e47c3174558",
   "metadata": {},
   "source": [
    "## <font color = yellow> Fresh Start: sequence of functions to process one FiFO Sale (one Buy/ one Sell) \n",
    "    \n",
    "        dfs <- create_dfs() \n",
    "        row_b <- function(b) \n",
    "        row_s <- function(s) \n",
    "        when_cf  when_cf(b, s, df_buy_rows)\n",
    "        df_records(df_records, b, i) \n",
    "        test_for_cf (b,buys, df_records)\n",
    "        snips <- function (buys) \n",
    "        sell_snip <- function(sells) \n"
   ]
  },
  {
   "cell_type": "code",
   "execution_count": null,
   "id": "6decfdad-8e4e-4a7f-be98-dd09215ec634",
   "metadata": {},
   "outputs": [],
   "source": []
  },
  {
   "cell_type": "code",
   "execution_count": null,
   "id": "ec5b6c71-cf5c-4b23-84a0-3aa646eb4a58",
   "metadata": {},
   "outputs": [],
   "source": [
    "# Call the combo function, will return a list of dfs\n",
    "dfs <- create_dfs()\n",
    "\n",
    "# Access the dataframes from returned list\n",
    "df <- dfs$df\n",
    "df_records <- dfs$df_records\n",
    "buys <- dfs$buys\n",
    "sells <- dfs$sells\n"
   ]
  },
  {
   "cell_type": "code",
   "execution_count": null,
   "id": "fd008989-3cc2-483e-adf6-775b39638574",
   "metadata": {},
   "outputs": [],
   "source": []
  },
  {
   "cell_type": "code",
   "execution_count": null,
   "id": "4067fcd4-d01d-44da-90d7-5822e46cf6d6",
   "metadata": {},
   "outputs": [],
   "source": [
    "b <- row_b(b)   \n",
    "s <- row_s(s)   "
   ]
  },
  {
   "cell_type": "code",
   "execution_count": null,
   "id": "490b5638-635b-4ec3-bcf0-f160aee56a93",
   "metadata": {},
   "outputs": [],
   "source": [
    "df_records <- df_create_records(df_records, b, i)"
   ]
  },
  {
   "cell_type": "code",
   "execution_count": null,
   "id": "8fb4ebda-5a72-4e6c-bd0a-8c2abec9c5d7",
   "metadata": {},
   "outputs": [],
   "source": [
    "df_records <- when_cf(b, s, df_records)"
   ]
  },
  {
   "cell_type": "code",
   "execution_count": null,
   "id": "af6f9a9b-2c8a-4512-b414-086f2834e4c5",
   "metadata": {},
   "outputs": [],
   "source": [
    "buys <- snips(b,buys, df_records)\n",
    "sells <- sell_snip(sells)\n"
   ]
  },
  {
   "cell_type": "code",
   "execution_count": null,
   "id": "784d4adb-096e-4c75-9ecf-ff4f9143f700",
   "metadata": {},
   "outputs": [],
   "source": [
    "head(df_records)\n",
    "head(buys,2)\n",
    "head(sells,2)"
   ]
  },
  {
   "cell_type": "code",
   "execution_count": null,
   "id": "59af78b1-cf91-44b4-ad7d-3b3150b175b0",
   "metadata": {},
   "outputs": [],
   "source": []
  },
  {
   "cell_type": "code",
   "execution_count": null,
   "id": "cebcb89f-e65f-4de0-a933-1c303dcc1f07",
   "metadata": {},
   "outputs": [],
   "source": [
    "stopps"
   ]
  },
  {
   "cell_type": "markdown",
   "id": "5af8547e-56ed-433c-8ab9-f582710678ce",
   "metadata": {},
   "source": [
    "### <font color = yellow> works! Now combine in a loop"
   ]
  },
  {
   "cell_type": "code",
   "execution_count": null,
   "id": "a71a31a6-69bd-4041-8fad-c543c5ef7732",
   "metadata": {},
   "outputs": [],
   "source": []
  },
  {
   "cell_type": "code",
   "execution_count": null,
   "id": "12e3b978-7976-4694-ad85-1e22a8b318a3",
   "metadata": {},
   "outputs": [],
   "source": [
    "row_b <- function(b) {\n",
    "        b <- b\n",
    "        b <- buys[i,]\n",
    "        return(b)\n",
    "    }\n",
    "\n",
    "row_s <- function(s) {\n",
    "        s <- s\n",
    "        s <- sells[i,]\n",
    "        return(s)\n",
    "    }\n",
    "  \n",
    "\n",
    "# nrow(b)\n",
    "# nrow(s)\n"
   ]
  },
  {
   "cell_type": "code",
   "execution_count": null,
   "id": "aa6251bd-50c9-4c7f-b6e3-0d7f8b61340c",
   "metadata": {},
   "outputs": [],
   "source": [
    "# Call the combo function, will return a list of dfs\n",
    "dfs <- create_dfs()\n",
    "\n",
    "# Access the dataframes from returned list\n",
    "df <- dfs$df\n",
    "df_records <- dfs$df_records\n",
    "buys <- dfs$buys\n",
    "sells <- dfs$sells\n",
    "\n",
    "b <- row_b(b)   \n",
    "s <- row_s(s)  "
   ]
  },
  {
   "cell_type": "code",
   "execution_count": null,
   "id": "2d76f226-f368-47d0-9a4f-3f74f7741ac8",
   "metadata": {},
   "outputs": [],
   "source": []
  },
  {
   "cell_type": "code",
   "execution_count": null,
   "id": "d0c91ee8-ed29-40bc-beac-d7e8c564eddc",
   "metadata": {},
   "outputs": [],
   "source": [
    "for(i in 1:nrow(df[1:1, ])) {\n",
    "    \n",
    "    cat(\"test print \", i, \"\\n\")\n",
    "    \n",
    "    b <- row_b(b)   \n",
    "    s <- row_s(s)  \n",
    "    \n",
    "    df_records <- df_create_records(df_records, b, i)\n",
    "    df_records <- when_cf(b, s, df_records)\n",
    "    buys <- snips(b,buys, df_records)\n",
    "    sells <- sell_snip(sells)\n",
    "    \n",
    "    }\n",
    "    "
   ]
  },
  {
   "cell_type": "code",
   "execution_count": null,
   "id": "60786bb9-c837-46b2-9cd3-1099fe334b10",
   "metadata": {},
   "outputs": [],
   "source": [
    "b\n",
    "s"
   ]
  },
  {
   "cell_type": "code",
   "execution_count": null,
   "id": "85ac7cc4-5383-4dcf-8c68-42fbefe8bb83",
   "metadata": {},
   "outputs": [],
   "source": [
    "head(df_records)\n",
    "head(buys,3)\n",
    "head(sells,3)"
   ]
  },
  {
   "cell_type": "code",
   "execution_count": null,
   "id": "09508332-1118-4114-a440-2f8a1b8885b8",
   "metadata": {},
   "outputs": [],
   "source": []
  },
  {
   "cell_type": "code",
   "execution_count": null,
   "id": "0e543025-32b5-4005-945d-b3a81fc7c2c7",
   "metadata": {},
   "outputs": [],
   "source": [
    "stopps # end of loop 1"
   ]
  },
  {
   "cell_type": "code",
   "execution_count": null,
   "id": "438af475-2a93-473b-bf20-de60ab58ac92",
   "metadata": {},
   "outputs": [],
   "source": []
  },
  {
   "cell_type": "markdown",
   "id": "ffd17a25-7d3d-4699-97e3-791cbd456a49",
   "metadata": {
    "tags": []
   },
   "source": [
    "## <font color = yellow> Works as expected w/ one Buy - one Sell - one loop\n",
    "    \n",
    "#### <font color = yellow> See what happens using the next Buy / Sell - loop 2 (involves the c/f from Sale 1 )\n",
    "    \n",
    "\n",
    "\n",
    "    \n",
    "    "
   ]
  },
  {
   "cell_type": "code",
   "execution_count": null,
   "id": "b2cde6ca-bd19-41ca-a593-0567dd7b8238",
   "metadata": {},
   "outputs": [],
   "source": []
  },
  {
   "cell_type": "code",
   "execution_count": null,
   "id": "3d1eb89b-dc06-4edc-b522-72fe980ea414",
   "metadata": {},
   "outputs": [],
   "source": [
    "options(repr.matrix.max.rows = 600, repr.matrix.max.cols = 200)"
   ]
  },
  {
   "cell_type": "code",
   "execution_count": null,
   "id": "8a019af3-8b55-40c9-8a01-314eff93ac08",
   "metadata": {},
   "outputs": [],
   "source": [
    "row_b <- function(b) {\n",
    "        b <- b\n",
    "        b <- buys[i,]\n",
    "        return(b)\n",
    "    }\n",
    "\n",
    "row_s <- function(s) {\n",
    "        s <- s\n",
    "        s <- sells[i,]\n",
    "        return(s)\n",
    "    }\n",
    "  \n",
    "\n",
    "# nrow(b)\n",
    "# nrow(s)\n"
   ]
  },
  {
   "cell_type": "code",
   "execution_count": null,
   "id": "59be825f-239f-485f-a8f4-aa94583f5e8f",
   "metadata": {},
   "outputs": [],
   "source": []
  },
  {
   "cell_type": "code",
   "execution_count": null,
   "id": "88356ef6-7bd2-417a-960b-5d15b2499d41",
   "metadata": {},
   "outputs": [],
   "source": [
    "b\n",
    "s\n"
   ]
  },
  {
   "cell_type": "code",
   "execution_count": null,
   "id": "f2a5242c-0d2a-4dcb-8a55-e96241f3655a",
   "metadata": {},
   "outputs": [],
   "source": [
    "# Call the combo function, will return a list of dfs\n",
    "dfs <- create_dfs()\n",
    "\n",
    "# Access the dataframes from returned list\n",
    "df <- dfs$df\n",
    "# df_records <- dfs$df_records\n",
    "buys <- dfs$buys\n",
    "sells <- dfs$sells\n",
    "\n",
    "b <- row_b(b)   \n",
    "s <- row_s(s) \n",
    "df_records <- b"
   ]
  },
  {
   "cell_type": "code",
   "execution_count": null,
   "id": "924b0d0c-5de6-412b-9013-00aec458a8a7",
   "metadata": {},
   "outputs": [],
   "source": [
    "b\n",
    "s"
   ]
  },
  {
   "cell_type": "code",
   "execution_count": null,
   "id": "8c03805c-d73c-4dcf-b330-ccf1e8c798bd",
   "metadata": {},
   "outputs": [],
   "source": []
  },
  {
   "cell_type": "code",
   "execution_count": null,
   "id": "3146cd88-591f-413a-82db-ba3715ff869e",
   "metadata": {},
   "outputs": [],
   "source": []
  },
  {
   "cell_type": "code",
   "execution_count": null,
   "id": "ddc90e45-1b2f-4855-a782-2fcb554e5017",
   "metadata": {},
   "outputs": [],
   "source": []
  },
  {
   "cell_type": "code",
   "execution_count": null,
   "id": "f67c9671-499a-4e66-b297-f37f7218c92e",
   "metadata": {},
   "outputs": [],
   "source": [
    "for(i in 1:nrow(df[1:2, ])) {\n",
    "    \n",
    "    cat(\"test print \", i, \"\\n\")\n",
    "    \n",
    "    b <- buys[i,]\n",
    "    s <- row_s(s)  \n",
    "    b\n",
    "    s\n",
    "    # df_records <- df_create_records(df_records, b, i)\n",
    "    df_records <- when_cf(b, s, df_records)\n",
    "    buys <- snips(b,buys, df_records)\n",
    "    sells <- sell_snip(sells)\n",
    "    \n",
    "    df_records[i,]\n",
    "    # print(buys[i, ])\n",
    "    # print(sells[i, ])\n",
    "    cat(\"newline \", \"\\n\\n\")\n",
    "    }\n",
    "    "
   ]
  },
  {
   "cell_type": "code",
   "execution_count": null,
   "id": "5b00098c-4f32-4d6e-8ecd-1f364455a6ba",
   "metadata": {},
   "outputs": [],
   "source": []
  },
  {
   "cell_type": "code",
   "execution_count": null,
   "id": "cb264624-a68f-4a25-9c94-d7ac1f86953c",
   "metadata": {},
   "outputs": [],
   "source": [
    "head(df_records)\n",
    "\n",
    "cat(\"--------------------------------------------------------\", \"\\\\n\\n\\n\")\n",
    "cat(\"--------------------------------------------------------\", \"\\\\n\\n\\n\")\n",
    "head(buys,3)\n",
    "head(sells,3)"
   ]
  },
  {
   "cell_type": "code",
   "execution_count": null,
   "id": "25c30615-cb85-4332-8442-5e53266fbb2e",
   "metadata": {},
   "outputs": [],
   "source": []
  },
  {
   "cell_type": "code",
   "execution_count": null,
   "id": "beeb8a5b-1dd6-43e6-8db6-e3b03fd388ca",
   "metadata": {},
   "outputs": [],
   "source": []
  },
  {
   "cell_type": "code",
   "execution_count": null,
   "id": "c707802d-aed2-4ce8-be9a-aedda0ec9b12",
   "metadata": {},
   "outputs": [],
   "source": []
  },
  {
   "cell_type": "code",
   "execution_count": null,
   "id": "3b152a3e-c7de-4314-8ddc-cf6c5d876ace",
   "metadata": {},
   "outputs": [],
   "source": []
  },
  {
   "cell_type": "code",
   "execution_count": null,
   "id": "32e66baa-4a87-40f1-a245-6c72ecb5bf4a",
   "metadata": {},
   "outputs": [],
   "source": []
  },
  {
   "cell_type": "code",
   "execution_count": null,
   "id": "1d0caada-f7c8-4822-94f8-7719839eb506",
   "metadata": {},
   "outputs": [],
   "source": []
  },
  {
   "cell_type": "code",
   "execution_count": null,
   "id": "07c72724-389a-4146-bd7c-869390e18d9d",
   "metadata": {},
   "outputs": [],
   "source": []
  },
  {
   "cell_type": "code",
   "execution_count": null,
   "id": "5c8b3a1a-442c-483e-b932-40aabc91f49a",
   "metadata": {},
   "outputs": [],
   "source": []
  }
 ],
 "metadata": {
  "kernelspec": {
   "display_name": "R",
   "language": "R",
   "name": "ir"
  },
  "language_info": {
   "codemirror_mode": "r",
   "file_extension": ".r",
   "mimetype": "text/x-r-source",
   "name": "R",
   "pygments_lexer": "r",
   "version": "4.3.0"
  }
 },
 "nbformat": 4,
 "nbformat_minor": 5
}
