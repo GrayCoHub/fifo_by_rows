{
 "cells": [
  {
   "cell_type": "markdown",
   "id": "8a4f934a-bc5d-4389-8931-fa890b8b83b6",
   "metadata": {},
   "source": [
    "## <font color = yellow> A single Sale will combine the first row from the Buys & Sells dfs"
   ]
  },
  {
   "cell_type": "code",
   "execution_count": 14,
   "id": "1a40d688-bd55-4df2-be07-c685b667921e",
   "metadata": {},
   "outputs": [],
   "source": [
    "library(tibble)"
   ]
  },
  {
   "cell_type": "code",
   "execution_count": 15,
   "id": "2c80d5a2-6093-4214-8997-320bba4a3ee0",
   "metadata": {},
   "outputs": [
    {
     "name": "stdout",
     "output_type": "stream",
     "text": [
      "One | Two | Three\n"
     ]
    }
   ],
   "source": [
    "cat(\"One\", \"Two\", \"Three\", sep = \" | \", fill = TRUE)"
   ]
  },
  {
   "cell_type": "code",
   "execution_count": null,
   "id": "688be791-4012-4380-9bd0-e831c4aa6d77",
   "metadata": {},
   "outputs": [],
   "source": []
  },
  {
   "cell_type": "markdown",
   "id": "18bdfbd9-160f-4efc-b792-3f83ccd72b58",
   "metadata": {},
   "source": [
    "## <font color = yellow> create_df function () - reads .csv"
   ]
  },
  {
   "cell_type": "code",
   "execution_count": 17,
   "id": "c78b5b89-91db-4c28-9676-73a0ab6689df",
   "metadata": {},
   "outputs": [
    {
     "ename": "ERROR",
     "evalue": "Error in `$<-.data.frame`(`*tmp*`, sell_cf, value = integer(0)): replacement has 0 rows, data has 41\n",
     "output_type": "error",
     "traceback": [
      "Error in `$<-.data.frame`(`*tmp*`, sell_cf, value = integer(0)): replacement has 0 rows, data has 41\nTraceback:\n",
      "1. `$<-`(`*tmp*`, sell_cf, value = integer(0))",
      "2. `$<-.data.frame`(`*tmp*`, sell_cf, value = integer(0))",
      "3. stop(sprintf(ngettext(N, \"replacement has %d row, data has %d\", \n .     \"replacement has %d rows, data has %d\"), N, nrows), domain = NA)"
     ]
    }
   ],
   "source": [
    "   \n",
    "df <- read.csv(\"fifo_new.csv\", header = TRUE, sep = \",\")\n",
    "df$sell_cf <- as.integer(df$sell_cf)"
   ]
  },
  {
   "cell_type": "code",
   "execution_count": null,
   "id": "4c25354d-5db4-4eda-bf18-fe106bfd67ee",
   "metadata": {
    "tags": []
   },
   "outputs": [],
   "source": [
    "head(df, 2)\n"
   ]
  },
  {
   "cell_type": "markdown",
   "id": "ad6fef1e-5fa2-4f99-8d77-c5706407dfde",
   "metadata": {},
   "source": [
    "## <font color = yellow> Create dfs"
   ]
  },
  {
   "cell_type": "code",
   "execution_count": null,
   "id": "5f879b68-2a45-4a2a-b267-a64c7cee5a21",
   "metadata": {
    "tags": []
   },
   "outputs": [],
   "source": [
    "df_records <- data.frame()\n",
    "sale_records <- data.frame() \n"
   ]
  },
  {
   "cell_type": "code",
   "execution_count": null,
   "id": "7e4c688a-c2bc-4c3a-8280-7d93e3c3b477",
   "metadata": {
    "tags": []
   },
   "outputs": [],
   "source": [
    "# create dfs from filtered df\n",
    "buys <- df[df$type == 'Buy', ]  # Filter buys\n",
    "sells <- df[df$type == 'Sell', ]  # Filter sells\n",
    "b <- buys[1,]\n",
    "s <- sells[1,]"
   ]
  },
  {
   "cell_type": "markdown",
   "id": "72333e7b-7971-4afa-9494-ad26116963ab",
   "metadata": {},
   "source": [
    "## <font color = yellow> Basic updates when a sale occurs"
   ]
  },
  {
   "cell_type": "markdown",
   "id": "1b29bcee-5b46-45ee-b303-e2aee6cff83f",
   "metadata": {
    "tags": []
   },
   "source": [
    "\n",
    "            sale <- s$quan\n",
    "            bs_ratio <- b$quan / s$quan\n",
    "            cf_quan <-  b$quan - s$quan\n",
    "\n",
    "            # assign the cf values - if they exist\n",
    "            if(b$quan > s$quan) {\n",
    "                b$cf_quan <- (b$quan - s$quan)        \n",
    "                b$cf_pps <- b$pps\n",
    "                b$cf_basis <- cf_quan * b$pps\n",
    "            }\n",
    "            b$sale_quan <- b$quan\n",
    "            b$buy_quan <- s$quan \n",
    "            b$buy_pps <-  b$pps\n",
    "            b$buy_basis <-  b$buy_quan * b$pps\n",
    "\n",
    "            b$sell_quan <- s$quan\n",
    "            b$sell_pps <- s$pps\n",
    "            b$sell_basis <- s$quan * s$pps\n",
    "\n",
    "            b$profit_loss <- b$sell_basis - b$buy_basis\n",
    "            b$sale <- sale\n",
    "\n",
    "            s$type <- \"SOLD\"\n",
    "\n",
    "            return(b)   \n",
    "\n"
   ]
  },
  {
   "cell_type": "code",
   "execution_count": null,
   "id": "5a58d2a1-bd12-489a-9ce3-48e1a5ba6dda",
   "metadata": {},
   "outputs": [],
   "source": [
    "# stopps"
   ]
  },
  {
   "cell_type": "markdown",
   "id": "20e00a2d-d145-4062-ab58-910dee152307",
   "metadata": {},
   "source": [
    "## <font color = yellow> The \"working\" components needed to accomplish the tasks"
   ]
  },
  {
   "cell_type": "code",
   "execution_count": null,
   "id": "6b7c51a3-7892-4efc-9ad3-2595e807f596",
   "metadata": {},
   "outputs": [],
   "source": []
  },
  {
   "cell_type": "code",
   "execution_count": null,
   "id": "1978c836-b9a7-4f64-86fe-bff3c8f19743",
   "metadata": {},
   "outputs": [],
   "source": [
    "for(i in 1:3) {\n",
    "    cat(\"for loop, loop is i: \", i, \"\\n\")\n",
    "    }"
   ]
  },
  {
   "cell_type": "code",
   "execution_count": null,
   "id": "089c01db-88a1-4c20-aa2b-4f1e4e64ba3f",
   "metadata": {},
   "outputs": [],
   "source": [
    "# update b\n",
    "\n",
    "update_b <- function() {\n",
    "\n",
    "        sale <- s$quan\n",
    "        bs_ratio <- b$quan / s$quan\n",
    "        cf_quan <-  b$quan - s$quan\n",
    "\n",
    "        # assign the cf values - if they exist\n",
    "        if(b$quan > s$quan) {\n",
    "            b$cf_quan <- (b$quan - s$quan)        \n",
    "            b$cf_pps <- b$pps\n",
    "            b$cf_basis <- cf_quan * b$pps\n",
    "        }\n",
    "        b$sale_quan <- b$quan\n",
    "       # b$buy_quan <- s$quan \n",
    "        b$buy_quan <- b$quan\n",
    "        b$buy_pps <-  b$pps\n",
    "        b$buy_basis <-  b$buy_quan * b$pps\n",
    "\n",
    "        \n",
    "        # b$sell_quan <- s$quan    # cannot sell more than the buy_quan\n",
    "        b$sell_quan <- b$quan\n",
    "        b$sell_pps <- s$pps\n",
    "        b$sell_basis <- s$quan * s$pps\n",
    "\n",
    "        b$profit_loss <- b$sell_basis - b$buy_basis\n",
    "        # b$sale <- sale\n",
    "\n",
    "        s$type <- \"SOLD\"\n",
    "\n",
    "        return(b)   \n",
    "}\n",
    "\n",
    "updated_b <- update_b()\n",
    "updated_b\n",
    "    \n",
    "    \n",
    "    "
   ]
  },
  {
   "cell_type": "markdown",
   "id": "5f5abcf8-cdec-4a7f-af1f-50a2637d3bd6",
   "metadata": {},
   "source": [
    "### <font color = lime> Works with each sale type:( b > s , s > b, b = s, buys_cf, sells_cf )"
   ]
  },
  {
   "cell_type": "code",
   "execution_count": null,
   "id": "02b86a6a-2d17-41e1-ba57-23314ad592ee",
   "metadata": {},
   "outputs": [],
   "source": [
    "evaluate_sale_type <- function () {\n",
    "    \n",
    "    cat(\" This function displays the Sale Type based on the quan values from the updated_b data. \", \"\\n\")\n",
    "    cat(\" Since the updated_b file is being used for evalutions, KEEP THINGS SIMPLE.  Don't update buys / sells \", \"\\n\\n\")\n",
    "\n",
    "    if(updated_b$quan > updated_b$sell_quan && updated_b$cf_quan > 0 ) {\n",
    "        cat(\"This is a BUY carryforward transaction:  ( b_quan > s_quan ) \", \"\\n\")\n",
    "        cat(\"Since this is a BUY carryforward transaction, the carryforward values need to be appended to buys[1, ] position\", \"\\n\")\n",
    "        cat(\" T/F, good to go. Run:  snip buys[1, ] and sells[1,] \", \"\\n\")\n",
    "        cat(\" And good to go. Record the updated_b into the permanent sales_record df \", \"\\n\")\n",
    "        cat(\" And then begin a new loop \" , \"\\n\\n\")\n",
    "    } else if(updated_b$quan == updated_b$sell_quan && updated_b$cf_quan == 0 ) {\n",
    "        cat(\"This is a simple transaction:  (b_quan == s_quan) \", \"\\n\")\n",
    "        cat(\" T/F good to go.  Run snip buys[1,], sells[1,] \", \"\\n\")\n",
    "        cat(\" And good to go. Record the updated_b into the permanent sales_record df \", \"\\n\")\n",
    "        cat(\" And then begin a new loop \", \"\\n\\n\")            \n",
    "    }else if (updated_b$quan < updated_b$sell_quan && updated_b$cf_quan == 0 ) {\n",
    "        cat(\"This is a SELL carryforward transaction:  ( b_quan < s_quan ) \", \"\\n\")\n",
    "        cat(\"Since this is SELL carryforward transaction, the carryforward values need to be appended to sells[1, ] position\", \"\\n\")\n",
    "        cat(\" T/F, good to go. Run:  snip buys[1, ] and sells[1,] \", \"\\n\")\n",
    "        cat(\" And good to go. Record the updated_b into the permanent sales_record df \", \"\\n\")\n",
    "        cat(\" And then begin a new loop \" , \"\\n\\n\")\n",
    "        }\n",
    "        \n",
    "        cat(\"May need to examime more Sale Types ... when there is / is not CF values in Buys / Sells from previous transaction \", \"\\n\\n\")\n",
    "    \n",
    "    }  # fct\n",
    "\n",
    "evaluate_sale_type()"
   ]
  },
  {
   "cell_type": "markdown",
   "id": "30bece1a-1bf9-490f-a665-33483217b1fd",
   "metadata": {},
   "source": [
    "## <font color = yellow> Delete one row from buys and sells"
   ]
  },
  {
   "cell_type": "code",
   "execution_count": null,
   "id": "6e7ecb99-08c6-47b2-9459-dcb78518bba8",
   "metadata": {},
   "outputs": [],
   "source": [
    "nrow(buys)\n",
    "buys <- buys[-1, ]\n",
    "sells <- sells[-1, ]\n",
    "nrow(buys)"
   ]
  },
  {
   "cell_type": "code",
   "execution_count": null,
   "id": "1717cd60-4aa1-4fed-bc93-41450e0677c2",
   "metadata": {},
   "outputs": [],
   "source": []
  },
  {
   "cell_type": "markdown",
   "id": "0d43233d-62de-4ac3-9e39-d0b622ce7e10",
   "metadata": {},
   "source": [
    "## <font color = yellow> Update the sales_records df w/ updated_b"
   ]
  },
  {
   "cell_type": "code",
   "execution_count": null,
   "id": "44f1c396-4486-41d7-8882-a40e02f98b16",
   "metadata": {},
   "outputs": [],
   "source": [
    "sale_records <- rbind(sale_records, updated_b)\n",
    "sale_records\n",
    "                      "
   ]
  },
  {
   "cell_type": "code",
   "execution_count": null,
   "id": "87cc100d-994c-411a-8e0a-b7083fc0cea3",
   "metadata": {},
   "outputs": [],
   "source": []
  },
  {
   "cell_type": "code",
   "execution_count": null,
   "id": "c0b515ab-088d-42c9-a6e2-9163136fd357",
   "metadata": {},
   "outputs": [],
   "source": []
  },
  {
   "cell_type": "code",
   "execution_count": null,
   "id": "54624e6b-c644-4f03-9403-7741466d233e",
   "metadata": {},
   "outputs": [],
   "source": []
  },
  {
   "cell_type": "code",
   "execution_count": null,
   "id": "aefb85a4-516f-40f2-8eae-a269b975affa",
   "metadata": {},
   "outputs": [],
   "source": []
  },
  {
   "cell_type": "code",
   "execution_count": null,
   "id": "cf89daa5-5a71-43c3-9209-aa8bcf0a9f1f",
   "metadata": {},
   "outputs": [],
   "source": []
  },
  {
   "cell_type": "code",
   "execution_count": null,
   "id": "bde38e13-7113-4241-b01f-1cf91af66326",
   "metadata": {},
   "outputs": [],
   "source": []
  },
  {
   "cell_type": "code",
   "execution_count": null,
   "id": "78fcb6bb-22ec-4847-a098-43cddb2f24a7",
   "metadata": {},
   "outputs": [],
   "source": []
  },
  {
   "cell_type": "code",
   "execution_count": null,
   "id": "ae06f907-52b0-43d3-b873-d4f913047494",
   "metadata": {},
   "outputs": [],
   "source": []
  },
  {
   "cell_type": "code",
   "execution_count": null,
   "id": "bab0f91d-a01c-4354-afc0-793ec3b482ad",
   "metadata": {},
   "outputs": [],
   "source": []
  },
  {
   "cell_type": "code",
   "execution_count": null,
   "id": "558ac618-20c0-44d1-92da-2293b36c7aad",
   "metadata": {},
   "outputs": [],
   "source": [
    "stopps #  Old code"
   ]
  },
  {
   "cell_type": "code",
   "execution_count": null,
   "id": "5dc6f7ef-b304-4455-a71c-6eb0e6917eee",
   "metadata": {},
   "outputs": [],
   "source": []
  },
  {
   "cell_type": "code",
   "execution_count": null,
   "id": "a6d19e4b-7d6d-490b-9985-810f36f3cb1d",
   "metadata": {},
   "outputs": [],
   "source": []
  },
  {
   "cell_type": "markdown",
   "id": "84f64300-a4a4-4fcb-b5ef-2ce9954abd4d",
   "metadata": {
    "tags": []
   },
   "source": [
    "## <font color = yellow> sell_snip & snips functions () - the snips will parse row 1, then call test_for_cf fct"
   ]
  },
  {
   "cell_type": "code",
   "execution_count": null,
   "id": "956351a3-a7ed-4e09-b15c-098316241c3c",
   "metadata": {
    "tags": []
   },
   "outputs": [],
   "source": [
    "#  These functions will delete the first row from the Buys and Sells dfs \n",
    "#  concluding the first Sale event\n",
    "\n",
    "i <- 1\n",
    "\n",
    "\n",
    "# fct\n",
    "snips <- function (b, buys, df_records) {\n",
    "    \n",
    "    b <- b\n",
    "    buys <- buys  \n",
    "    df_records <- df_records\n",
    "    \n",
    "    # remove the first row of buys ... is b \n",
    "    buys <- buys[-1, ]   \n",
    "    \n",
    "    \n",
    "    # Only if, then call fct that will apend df_records for the c/f values.  Otherwise ... ? \n",
    "    if(df_records$cf_quan > 0 ) {\n",
    "        \n",
    "        #fct call\n",
    "        buys <- test_for_cf(b, buys, df_records)        \n",
    "        return(buys)\n",
    "        \n",
    "        }else if( df_records$cf_quan == 0 ) {  \n",
    "                cat(\"else if ( df_records$cf_quan == 0 .... ??? \", \"\\n\")\n",
    "            return(buys)       \n",
    "         }\n",
    "    \n",
    "    #  return(buys)\n",
    "    \n",
    "   }  # fct"
   ]
  },
  {
   "cell_type": "code",
   "execution_count": null,
   "id": "1f6e5ccf-edb2-4310-aafc-9b1fafdfb23a",
   "metadata": {},
   "outputs": [],
   "source": []
  },
  {
   "cell_type": "code",
   "execution_count": null,
   "id": "d9fa19c1-0f88-44e2-ac26-f3d333eccf15",
   "metadata": {
    "tags": []
   },
   "outputs": [],
   "source": [
    "# fct\n",
    "sell_snip <- function(sells) {\n",
    "    sells <- sells    \n",
    "    sells <- sells[-1, ]    \n",
    "    return(sells)\n",
    "    }\n",
    "\n",
    "\n",
    "# fct call\n",
    "\n",
    "\n",
    "# nrow(buys)\n",
    "# nrow(sells)\n",
    "\n",
    "# buys <- snips(buys)\n",
    "# sells <- sell_snip(sells)\n",
    "# nrow(buys)\n",
    "# nrow(sells)\n",
    "# head(buys, 3)"
   ]
  },
  {
   "cell_type": "code",
   "execution_count": null,
   "id": "466f08f7-0076-41ce-a6df-6bf0ac19b485",
   "metadata": {
    "tags": []
   },
   "outputs": [],
   "source": [
    "df_records"
   ]
  },
  {
   "cell_type": "code",
   "execution_count": null,
   "id": "2b65ecdb-9bac-4a67-90b6-2704804906bf",
   "metadata": {
    "tags": []
   },
   "outputs": [],
   "source": [
    "# These are the fcts (in order) to process a Sals, from start to end \n",
    "\n",
    "nrow(buys)\n",
    "nrow(sells)\n",
    "\n",
    "buys <- snips(b,buys, df_records)\n",
    "sells <- sell_snip(sells)\n",
    "nrow(buys)\n",
    "nrow(sells)\n",
    "head(buys, 3)"
   ]
  },
  {
   "cell_type": "code",
   "execution_count": null,
   "id": "5d68d2c1-fdc8-48b2-a971-9e036756f4a1",
   "metadata": {
    "tags": []
   },
   "outputs": [],
   "source": []
  },
  {
   "cell_type": "code",
   "execution_count": null,
   "id": "92ebba72-5ee0-44c2-9119-3b31af62afbf",
   "metadata": {
    "tags": []
   },
   "outputs": [],
   "source": []
  },
  {
   "cell_type": "code",
   "execution_count": null,
   "id": "e512778c-a0c0-46e5-8304-8f08b2e74018",
   "metadata": {},
   "outputs": [],
   "source": [
    "# fct call: to create vars from the first row of Buy & Sell\n",
    "b <- row_b(b)   \n",
    "s <- row_s(s)  \n",
    "b\n",
    "s"
   ]
  },
  {
   "cell_type": "code",
   "execution_count": null,
   "id": "eafc977a-4361-4059-bcb9-0a11b61da834",
   "metadata": {},
   "outputs": [],
   "source": [
    "df_records\n",
    "\n",
    "head(buys, 3)\n",
    "head(sells,3)"
   ]
  },
  {
   "cell_type": "code",
   "execution_count": null,
   "id": "5f9711c0-8ea4-4fd1-9f17-8b7bfe0c58e1",
   "metadata": {},
   "outputs": [],
   "source": []
  },
  {
   "cell_type": "code",
   "execution_count": null,
   "id": "6785b9e2-c730-4c46-a1e7-03bfa6c281a1",
   "metadata": {},
   "outputs": [],
   "source": []
  },
  {
   "cell_type": "code",
   "execution_count": null,
   "id": "331b3cfc-1f60-4c51-bd0c-90fc38e0e54c",
   "metadata": {},
   "outputs": [],
   "source": [
    " stopps"
   ]
  },
  {
   "cell_type": "code",
   "execution_count": null,
   "id": "12a6921a-f6db-4156-9bb1-8a7081b919ec",
   "metadata": {},
   "outputs": [],
   "source": []
  },
  {
   "cell_type": "markdown",
   "id": "15d01f1f-ff57-4dc2-988d-4375bae3c121",
   "metadata": {},
   "source": [
    "# <font color = lime> Loop 1 works when there is a carryforward!"
   ]
  },
  {
   "cell_type": "markdown",
   "id": "81e07ffc-b53b-4460-81e9-3e47c3174558",
   "metadata": {},
   "source": [
    "## <font color = yellow> Fresh Start: sequence of functions to process one FiFO Sale (one Buy/ one Sell) \n",
    "    \n",
    "        dfs <- create_dfs() \n",
    "        row_b <- function(b) \n",
    "        row_s <- function(s) \n",
    "        when_cf  when_cf(b, s, df_buy_rows)\n",
    "        df_records(df_records, b, i) \n",
    "        test_for_cf (b,buys, df_records)\n",
    "        snips <- function (buys) \n",
    "        sell_snip <- function(sells) \n"
   ]
  },
  {
   "cell_type": "code",
   "execution_count": null,
   "id": "6decfdad-8e4e-4a7f-be98-dd09215ec634",
   "metadata": {},
   "outputs": [],
   "source": []
  },
  {
   "cell_type": "code",
   "execution_count": null,
   "id": "ec5b6c71-cf5c-4b23-84a0-3aa646eb4a58",
   "metadata": {},
   "outputs": [],
   "source": [
    "# Call the combo function, will return a list of dfs\n",
    "dfs <- create_dfs()\n",
    "\n",
    "# Access the dataframes from returned list\n",
    "df <- dfs$df\n",
    "df_records <- dfs$df_records\n",
    "buys <- dfs$buys\n",
    "sells <- dfs$sells\n"
   ]
  },
  {
   "cell_type": "code",
   "execution_count": null,
   "id": "fd008989-3cc2-483e-adf6-775b39638574",
   "metadata": {},
   "outputs": [],
   "source": []
  },
  {
   "cell_type": "code",
   "execution_count": null,
   "id": "4067fcd4-d01d-44da-90d7-5822e46cf6d6",
   "metadata": {},
   "outputs": [],
   "source": [
    "b <- row_b(b)   \n",
    "s <- row_s(s)   "
   ]
  },
  {
   "cell_type": "code",
   "execution_count": null,
   "id": "490b5638-635b-4ec3-bcf0-f160aee56a93",
   "metadata": {},
   "outputs": [],
   "source": [
    "df_records <- df_create_records(df_records, b, i)"
   ]
  },
  {
   "cell_type": "code",
   "execution_count": null,
   "id": "8fb4ebda-5a72-4e6c-bd0a-8c2abec9c5d7",
   "metadata": {},
   "outputs": [],
   "source": [
    "df_records <- when_cf(b, s, df_records)"
   ]
  },
  {
   "cell_type": "code",
   "execution_count": null,
   "id": "af6f9a9b-2c8a-4512-b414-086f2834e4c5",
   "metadata": {},
   "outputs": [],
   "source": [
    "buys <- snips(b,buys, df_records)\n",
    "sells <- sell_snip(sells)\n"
   ]
  },
  {
   "cell_type": "code",
   "execution_count": null,
   "id": "784d4adb-096e-4c75-9ecf-ff4f9143f700",
   "metadata": {},
   "outputs": [],
   "source": [
    "head(df_records)\n",
    "head(buys,2)\n",
    "head(sells,2)"
   ]
  },
  {
   "cell_type": "code",
   "execution_count": null,
   "id": "59af78b1-cf91-44b4-ad7d-3b3150b175b0",
   "metadata": {},
   "outputs": [],
   "source": []
  },
  {
   "cell_type": "code",
   "execution_count": null,
   "id": "cebcb89f-e65f-4de0-a933-1c303dcc1f07",
   "metadata": {},
   "outputs": [],
   "source": [
    "stopps"
   ]
  },
  {
   "cell_type": "markdown",
   "id": "5af8547e-56ed-433c-8ab9-f582710678ce",
   "metadata": {},
   "source": [
    "### <font color = yellow> works! Now combine in a loop"
   ]
  },
  {
   "cell_type": "code",
   "execution_count": null,
   "id": "a71a31a6-69bd-4041-8fad-c543c5ef7732",
   "metadata": {},
   "outputs": [],
   "source": []
  },
  {
   "cell_type": "code",
   "execution_count": null,
   "id": "12e3b978-7976-4694-ad85-1e22a8b318a3",
   "metadata": {},
   "outputs": [],
   "source": [
    "row_b <- function(b) {\n",
    "        b <- b\n",
    "        b <- buys[i,]\n",
    "        return(b)\n",
    "    }\n",
    "\n",
    "row_s <- function(s) {\n",
    "        s <- s\n",
    "        s <- sells[i,]\n",
    "        return(s)\n",
    "    }\n",
    "  \n",
    "\n",
    "# nrow(b)\n",
    "# nrow(s)\n"
   ]
  },
  {
   "cell_type": "code",
   "execution_count": null,
   "id": "aa6251bd-50c9-4c7f-b6e3-0d7f8b61340c",
   "metadata": {},
   "outputs": [],
   "source": [
    "# Call the combo function, will return a list of dfs\n",
    "dfs <- create_dfs()\n",
    "\n",
    "# Access the dataframes from returned list\n",
    "df <- dfs$df\n",
    "df_records <- dfs$df_records\n",
    "buys <- dfs$buys\n",
    "sells <- dfs$sells\n",
    "\n",
    "b <- row_b(b)   \n",
    "s <- row_s(s)  "
   ]
  },
  {
   "cell_type": "code",
   "execution_count": null,
   "id": "2d76f226-f368-47d0-9a4f-3f74f7741ac8",
   "metadata": {},
   "outputs": [],
   "source": []
  },
  {
   "cell_type": "code",
   "execution_count": null,
   "id": "d0c91ee8-ed29-40bc-beac-d7e8c564eddc",
   "metadata": {},
   "outputs": [],
   "source": [
    "for(i in 1:nrow(df[1:1, ])) {\n",
    "    \n",
    "    cat(\"test print \", i, \"\\n\")\n",
    "    \n",
    "    b <- row_b(b)   \n",
    "    s <- row_s(s)  \n",
    "    \n",
    "    df_records <- df_create_records(df_records, b, i)\n",
    "    df_records <- when_cf(b, s, df_records)\n",
    "    buys <- snips(b,buys, df_records)\n",
    "    sells <- sell_snip(sells)\n",
    "    \n",
    "    }\n",
    "    "
   ]
  },
  {
   "cell_type": "code",
   "execution_count": null,
   "id": "60786bb9-c837-46b2-9cd3-1099fe334b10",
   "metadata": {},
   "outputs": [],
   "source": [
    "b\n",
    "s"
   ]
  },
  {
   "cell_type": "code",
   "execution_count": null,
   "id": "85ac7cc4-5383-4dcf-8c68-42fbefe8bb83",
   "metadata": {},
   "outputs": [],
   "source": [
    "head(df_records)\n",
    "head(buys,3)\n",
    "head(sells,3)"
   ]
  },
  {
   "cell_type": "code",
   "execution_count": null,
   "id": "09508332-1118-4114-a440-2f8a1b8885b8",
   "metadata": {},
   "outputs": [],
   "source": []
  },
  {
   "cell_type": "code",
   "execution_count": null,
   "id": "0e543025-32b5-4005-945d-b3a81fc7c2c7",
   "metadata": {},
   "outputs": [],
   "source": [
    "stopps # end of loop 1"
   ]
  },
  {
   "cell_type": "code",
   "execution_count": null,
   "id": "438af475-2a93-473b-bf20-de60ab58ac92",
   "metadata": {},
   "outputs": [],
   "source": []
  },
  {
   "cell_type": "markdown",
   "id": "ffd17a25-7d3d-4699-97e3-791cbd456a49",
   "metadata": {
    "tags": []
   },
   "source": [
    "## <font color = yellow> Works as expected w/ one Buy - one Sell - one loop\n",
    "    \n",
    "#### <font color = yellow> See what happens using the next Buy / Sell - loop 2 (involves the c/f from Sale 1 )\n",
    "    \n",
    "\n",
    "\n",
    "    \n",
    "    "
   ]
  },
  {
   "cell_type": "code",
   "execution_count": null,
   "id": "b2cde6ca-bd19-41ca-a593-0567dd7b8238",
   "metadata": {},
   "outputs": [],
   "source": []
  },
  {
   "cell_type": "code",
   "execution_count": null,
   "id": "3d1eb89b-dc06-4edc-b522-72fe980ea414",
   "metadata": {},
   "outputs": [],
   "source": [
    "options(repr.matrix.max.rows = 600, repr.matrix.max.cols = 200)"
   ]
  },
  {
   "cell_type": "code",
   "execution_count": null,
   "id": "8a019af3-8b55-40c9-8a01-314eff93ac08",
   "metadata": {},
   "outputs": [],
   "source": [
    "row_b <- function(b) {\n",
    "        b <- b\n",
    "        b <- buys[i,]\n",
    "        return(b)\n",
    "    }\n",
    "\n",
    "row_s <- function(s) {\n",
    "        s <- s\n",
    "        s <- sells[i,]\n",
    "        return(s)\n",
    "    }\n",
    "  \n",
    "\n",
    "# nrow(b)\n",
    "# nrow(s)\n"
   ]
  },
  {
   "cell_type": "code",
   "execution_count": null,
   "id": "59be825f-239f-485f-a8f4-aa94583f5e8f",
   "metadata": {},
   "outputs": [],
   "source": []
  },
  {
   "cell_type": "code",
   "execution_count": null,
   "id": "88356ef6-7bd2-417a-960b-5d15b2499d41",
   "metadata": {},
   "outputs": [],
   "source": [
    "b\n",
    "s\n"
   ]
  },
  {
   "cell_type": "code",
   "execution_count": null,
   "id": "f2a5242c-0d2a-4dcb-8a55-e96241f3655a",
   "metadata": {},
   "outputs": [],
   "source": [
    "# Call the combo function, will return a list of dfs\n",
    "dfs <- create_dfs()\n",
    "\n",
    "# Access the dataframes from returned list\n",
    "df <- dfs$df\n",
    "# df_records <- dfs$df_records\n",
    "buys <- dfs$buys\n",
    "sells <- dfs$sells\n",
    "\n",
    "b <- row_b(b)   \n",
    "s <- row_s(s) \n",
    "df_records <- b"
   ]
  },
  {
   "cell_type": "code",
   "execution_count": null,
   "id": "924b0d0c-5de6-412b-9013-00aec458a8a7",
   "metadata": {},
   "outputs": [],
   "source": [
    "b\n",
    "s"
   ]
  },
  {
   "cell_type": "code",
   "execution_count": null,
   "id": "8c03805c-d73c-4dcf-b330-ccf1e8c798bd",
   "metadata": {},
   "outputs": [],
   "source": []
  },
  {
   "cell_type": "code",
   "execution_count": null,
   "id": "3146cd88-591f-413a-82db-ba3715ff869e",
   "metadata": {},
   "outputs": [],
   "source": []
  },
  {
   "cell_type": "code",
   "execution_count": null,
   "id": "ddc90e45-1b2f-4855-a782-2fcb554e5017",
   "metadata": {},
   "outputs": [],
   "source": []
  },
  {
   "cell_type": "code",
   "execution_count": null,
   "id": "f67c9671-499a-4e66-b297-f37f7218c92e",
   "metadata": {},
   "outputs": [],
   "source": [
    "for(i in 1:nrow(df[1:2, ])) {\n",
    "    \n",
    "    cat(\"test print \", i, \"\\n\")\n",
    "    \n",
    "    b <- buys[i,]\n",
    "    s <- row_s(s)  \n",
    "    b\n",
    "    s\n",
    "    # df_records <- df_create_records(df_records, b, i)\n",
    "    df_records <- when_cf(b, s, df_records)\n",
    "    buys <- snips(b,buys, df_records)\n",
    "    sells <- sell_snip(sells)\n",
    "    \n",
    "    df_records[i,]\n",
    "    # print(buys[i, ])\n",
    "    # print(sells[i, ])\n",
    "    cat(\"newline \", \"\\n\\n\")\n",
    "    }\n",
    "    "
   ]
  },
  {
   "cell_type": "code",
   "execution_count": null,
   "id": "5b00098c-4f32-4d6e-8ecd-1f364455a6ba",
   "metadata": {},
   "outputs": [],
   "source": []
  },
  {
   "cell_type": "code",
   "execution_count": null,
   "id": "cb264624-a68f-4a25-9c94-d7ac1f86953c",
   "metadata": {},
   "outputs": [],
   "source": [
    "head(df_records)\n",
    "\n",
    "cat(\"--------------------------------------------------------\", \"\\\\n\\n\\n\")\n",
    "cat(\"--------------------------------------------------------\", \"\\\\n\\n\\n\")\n",
    "head(buys,3)\n",
    "head(sells,3)"
   ]
  },
  {
   "cell_type": "code",
   "execution_count": null,
   "id": "25c30615-cb85-4332-8442-5e53266fbb2e",
   "metadata": {},
   "outputs": [],
   "source": []
  },
  {
   "cell_type": "code",
   "execution_count": null,
   "id": "beeb8a5b-1dd6-43e6-8db6-e3b03fd388ca",
   "metadata": {},
   "outputs": [],
   "source": []
  },
  {
   "cell_type": "code",
   "execution_count": null,
   "id": "c707802d-aed2-4ce8-be9a-aedda0ec9b12",
   "metadata": {},
   "outputs": [],
   "source": []
  },
  {
   "cell_type": "code",
   "execution_count": null,
   "id": "3b152a3e-c7de-4314-8ddc-cf6c5d876ace",
   "metadata": {},
   "outputs": [],
   "source": []
  },
  {
   "cell_type": "code",
   "execution_count": null,
   "id": "32e66baa-4a87-40f1-a245-6c72ecb5bf4a",
   "metadata": {},
   "outputs": [],
   "source": []
  },
  {
   "cell_type": "code",
   "execution_count": null,
   "id": "1d0caada-f7c8-4822-94f8-7719839eb506",
   "metadata": {},
   "outputs": [],
   "source": []
  },
  {
   "cell_type": "code",
   "execution_count": null,
   "id": "07c72724-389a-4146-bd7c-869390e18d9d",
   "metadata": {},
   "outputs": [],
   "source": []
  },
  {
   "cell_type": "code",
   "execution_count": null,
   "id": "5c8b3a1a-442c-483e-b932-40aabc91f49a",
   "metadata": {},
   "outputs": [],
   "source": []
  }
 ],
 "metadata": {
  "kernelspec": {
   "display_name": "R",
   "language": "R",
   "name": "ir"
  },
  "language_info": {
   "codemirror_mode": "r",
   "file_extension": ".r",
   "mimetype": "text/x-r-source",
   "name": "R",
   "pygments_lexer": "r",
   "version": "4.3.0"
  }
 },
 "nbformat": 4,
 "nbformat_minor": 5
}
