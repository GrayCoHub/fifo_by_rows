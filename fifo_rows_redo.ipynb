{
 "cells": [
  {
   "cell_type": "markdown",
   "id": "8a4f934a-bc5d-4389-8931-fa890b8b83b6",
   "metadata": {},
   "source": [
    "## <font color = yellow> A single Sale will combine the first row from the Buys & Sells dfs"
   ]
  },
  {
   "cell_type": "code",
   "execution_count": 1,
   "id": "1a40d688-bd55-4df2-be07-c685b667921e",
   "metadata": {},
   "outputs": [],
   "source": [
    "library(tibble)"
   ]
  },
  {
   "cell_type": "code",
   "execution_count": 2,
   "id": "2c80d5a2-6093-4214-8997-320bba4a3ee0",
   "metadata": {},
   "outputs": [
    {
     "name": "stdout",
     "output_type": "stream",
     "text": [
      "One | Two | Three\n"
     ]
    }
   ],
   "source": [
    "cat(\"One\", \"Two\", \"Three\", sep = \" | \", fill = TRUE)"
   ]
  },
  {
   "cell_type": "code",
   "execution_count": 3,
   "id": "688be791-4012-4380-9bd0-e831c4aa6d77",
   "metadata": {},
   "outputs": [],
   "source": [
    "options(pillar.width = Inf)\n"
   ]
  },
  {
   "cell_type": "markdown",
   "id": "18bdfbd9-160f-4efc-b792-3f83ccd72b58",
   "metadata": {},
   "source": [
    "## <font color = yellow> create_df function () - reads .csv"
   ]
  },
  {
   "cell_type": "code",
   "execution_count": 4,
   "id": "c78b5b89-91db-4c28-9676-73a0ab6689df",
   "metadata": {},
   "outputs": [],
   "source": [
    "   \n",
    "df <- read.csv(\"fifo_new.csv\", header = TRUE, sep = \",\")\n",
    "df$date <- as.Date(df$date, origin = \"1899-12-30\")"
   ]
  },
  {
   "cell_type": "code",
   "execution_count": 5,
   "id": "4c25354d-5db4-4eda-bf18-fe106bfd67ee",
   "metadata": {
    "tags": []
   },
   "outputs": [
    {
     "data": {
      "text/html": [
       "<table class=\"dataframe\">\n",
       "<caption>A data.frame: 2 × 23</caption>\n",
       "<thead>\n",
       "\t<tr><th></th><th scope=col>index</th><th scope=col>date</th><th scope=col>type</th><th scope=col>co</th><th scope=col>quan</th><th scope=col>pps</th><th scope=col>basis</th><th scope=col>sale_quan</th><th scope=col>tally</th><th scope=col>cf_quan</th><th scope=col>⋯</th><th scope=col>buy_pps</th><th scope=col>buy_basis</th><th scope=col>sell_quan</th><th scope=col>sell_pps</th><th scope=col>sell_basis</th><th scope=col>profit_loss</th><th scope=col>Sell_cf</th><th scope=col>Sell_cf_pps</th><th scope=col>Sell_cf_basis</th><th scope=col>TorF</th></tr>\n",
       "\t<tr><th></th><th scope=col>&lt;int&gt;</th><th scope=col>&lt;date&gt;</th><th scope=col>&lt;chr&gt;</th><th scope=col>&lt;chr&gt;</th><th scope=col>&lt;int&gt;</th><th scope=col>&lt;dbl&gt;</th><th scope=col>&lt;dbl&gt;</th><th scope=col>&lt;int&gt;</th><th scope=col>&lt;int&gt;</th><th scope=col>&lt;int&gt;</th><th scope=col>⋯</th><th scope=col>&lt;dbl&gt;</th><th scope=col>&lt;dbl&gt;</th><th scope=col>&lt;int&gt;</th><th scope=col>&lt;dbl&gt;</th><th scope=col>&lt;dbl&gt;</th><th scope=col>&lt;dbl&gt;</th><th scope=col>&lt;int&gt;</th><th scope=col>&lt;dbl&gt;</th><th scope=col>&lt;dbl&gt;</th><th scope=col>&lt;int&gt;</th></tr>\n",
       "</thead>\n",
       "<tbody>\n",
       "\t<tr><th scope=row>1</th><td>1</td><td>2022-12-31</td><td>Buy </td><td>AMC</td><td>1050</td><td>4.0700</td><td>4273.5</td><td>0</td><td>0</td><td>0</td><td>⋯</td><td>0</td><td>0</td><td>0</td><td>0</td><td>0</td><td>0</td><td>0</td><td>0</td><td>0</td><td>0</td></tr>\n",
       "\t<tr><th scope=row>2</th><td>2</td><td>2023-01-27</td><td>Sell</td><td>AMC</td><td>1000</td><td>5.5124</td><td>5512.4</td><td>0</td><td>0</td><td>0</td><td>⋯</td><td>0</td><td>0</td><td>0</td><td>0</td><td>0</td><td>0</td><td>0</td><td>0</td><td>0</td><td>0</td></tr>\n",
       "</tbody>\n",
       "</table>\n"
      ],
      "text/latex": [
       "A data.frame: 2 × 23\n",
       "\\begin{tabular}{r|lllllllllllllllllllll}\n",
       "  & index & date & type & co & quan & pps & basis & sale\\_quan & tally & cf\\_quan & ⋯ & buy\\_pps & buy\\_basis & sell\\_quan & sell\\_pps & sell\\_basis & profit\\_loss & Sell\\_cf & Sell\\_cf\\_pps & Sell\\_cf\\_basis & TorF\\\\\n",
       "  & <int> & <date> & <chr> & <chr> & <int> & <dbl> & <dbl> & <int> & <int> & <int> & ⋯ & <dbl> & <dbl> & <int> & <dbl> & <dbl> & <dbl> & <int> & <dbl> & <dbl> & <int>\\\\\n",
       "\\hline\n",
       "\t1 & 1 & 2022-12-31 & Buy  & AMC & 1050 & 4.0700 & 4273.5 & 0 & 0 & 0 & ⋯ & 0 & 0 & 0 & 0 & 0 & 0 & 0 & 0 & 0 & 0\\\\\n",
       "\t2 & 2 & 2023-01-27 & Sell & AMC & 1000 & 5.5124 & 5512.4 & 0 & 0 & 0 & ⋯ & 0 & 0 & 0 & 0 & 0 & 0 & 0 & 0 & 0 & 0\\\\\n",
       "\\end{tabular}\n"
      ],
      "text/markdown": [
       "\n",
       "A data.frame: 2 × 23\n",
       "\n",
       "| <!--/--> | index &lt;int&gt; | date &lt;date&gt; | type &lt;chr&gt; | co &lt;chr&gt; | quan &lt;int&gt; | pps &lt;dbl&gt; | basis &lt;dbl&gt; | sale_quan &lt;int&gt; | tally &lt;int&gt; | cf_quan &lt;int&gt; | ⋯ ⋯ | buy_pps &lt;dbl&gt; | buy_basis &lt;dbl&gt; | sell_quan &lt;int&gt; | sell_pps &lt;dbl&gt; | sell_basis &lt;dbl&gt; | profit_loss &lt;dbl&gt; | Sell_cf &lt;int&gt; | Sell_cf_pps &lt;dbl&gt; | Sell_cf_basis &lt;dbl&gt; | TorF &lt;int&gt; |\n",
       "|---|---|---|---|---|---|---|---|---|---|---|---|---|---|---|---|---|---|---|---|---|---|\n",
       "| 1 | 1 | 2022-12-31 | Buy  | AMC | 1050 | 4.0700 | 4273.5 | 0 | 0 | 0 | ⋯ | 0 | 0 | 0 | 0 | 0 | 0 | 0 | 0 | 0 | 0 |\n",
       "| 2 | 2 | 2023-01-27 | Sell | AMC | 1000 | 5.5124 | 5512.4 | 0 | 0 | 0 | ⋯ | 0 | 0 | 0 | 0 | 0 | 0 | 0 | 0 | 0 | 0 |\n",
       "\n"
      ],
      "text/plain": [
       "  index date       type co  quan pps    basis  sale_quan tally cf_quan ⋯\n",
       "1 1     2022-12-31 Buy  AMC 1050 4.0700 4273.5 0         0     0       ⋯\n",
       "2 2     2023-01-27 Sell AMC 1000 5.5124 5512.4 0         0     0       ⋯\n",
       "  buy_pps buy_basis sell_quan sell_pps sell_basis profit_loss Sell_cf\n",
       "1 0       0         0         0        0          0           0      \n",
       "2 0       0         0         0        0          0           0      \n",
       "  Sell_cf_pps Sell_cf_basis TorF\n",
       "1 0           0             0   \n",
       "2 0           0             0   "
      ]
     },
     "metadata": {},
     "output_type": "display_data"
    }
   ],
   "source": [
    "head(df, 2)\n"
   ]
  },
  {
   "cell_type": "markdown",
   "id": "ad6fef1e-5fa2-4f99-8d77-c5706407dfde",
   "metadata": {},
   "source": [
    "## <font color = yellow> Create dfs"
   ]
  },
  {
   "cell_type": "code",
   "execution_count": 6,
   "id": "5f879b68-2a45-4a2a-b267-a64c7cee5a21",
   "metadata": {
    "tags": []
   },
   "outputs": [],
   "source": [
    "#    df_records <- data.frame()\n",
    "sale_records <- data.frame() \n"
   ]
  },
  {
   "cell_type": "code",
   "execution_count": 7,
   "id": "7e4c688a-c2bc-4c3a-8280-7d93e3c3b477",
   "metadata": {
    "tags": []
   },
   "outputs": [],
   "source": [
    "# create dfs from filtered df\n",
    "buys <- df[df$type == 'Buy', ]  # Filter buys\n",
    "sells <- df[df$type == 'Sell', ]  # Filter sells\n",
    "b <- buys[1,]\n",
    "s <- sells[1,]"
   ]
  },
  {
   "cell_type": "markdown",
   "id": "72333e7b-7971-4afa-9494-ad26116963ab",
   "metadata": {},
   "source": [
    "## <font color = yellow> Basic updates when a sale occurs"
   ]
  },
  {
   "cell_type": "markdown",
   "id": "1b29bcee-5b46-45ee-b303-e2aee6cff83f",
   "metadata": {
    "tags": []
   },
   "source": [
    "\n",
    "            sale <- s$quan\n",
    "            bs_ratio <- b$quan / s$quan\n",
    "            cf_quan <-  b$quan - s$quan\n",
    "\n",
    "            # assign the cf values - if they exist\n",
    "            if(b$quan > s$quan) {\n",
    "                b$cf_quan <- (b$quan - s$quan)        \n",
    "                b$cf_pps <- b$pps\n",
    "                b$cf_basis <- cf_quan * b$pps\n",
    "            }\n",
    "            b$sale_quan <- b$quan\n",
    "            b$buy_quan <- s$quan \n",
    "            b$buy_pps <-  b$pps\n",
    "            b$buy_basis <-  b$buy_quan * b$pps\n",
    "\n",
    "            b$sell_quan <- s$quan\n",
    "            b$sell_pps <- s$pps\n",
    "            b$sell_basis <- s$quan * s$pps\n",
    "\n",
    "            b$profit_loss <- b$sell_basis - b$buy_basis\n",
    "            b$sale <- sale\n",
    "\n",
    "            s$type <- \"SOLD\"\n",
    "\n",
    "            return(b)   \n",
    "\n"
   ]
  },
  {
   "cell_type": "code",
   "execution_count": 8,
   "id": "5a58d2a1-bd12-489a-9ce3-48e1a5ba6dda",
   "metadata": {},
   "outputs": [
    {
     "data": {
      "text/html": [
       "23"
      ],
      "text/latex": [
       "23"
      ],
      "text/markdown": [
       "23"
      ],
      "text/plain": [
       "[1] 23"
      ]
     },
     "metadata": {},
     "output_type": "display_data"
    },
    {
     "data": {
      "text/html": [
       "18"
      ],
      "text/latex": [
       "18"
      ],
      "text/markdown": [
       "18"
      ],
      "text/plain": [
       "[1] 18"
      ]
     },
     "metadata": {},
     "output_type": "display_data"
    },
    {
     "data": {
      "text/html": [
       "0"
      ],
      "text/latex": [
       "0"
      ],
      "text/markdown": [
       "0"
      ],
      "text/plain": [
       "[1] 0"
      ]
     },
     "metadata": {},
     "output_type": "display_data"
    }
   ],
   "source": [
    "nrow(buys)\n",
    "nrow(sells)\n",
    "nrow(sale_records)"
   ]
  },
  {
   "cell_type": "markdown",
   "id": "20e00a2d-d145-4062-ab58-910dee152307",
   "metadata": {},
   "source": [
    "## <font color = yellow> Update b"
   ]
  },
  {
   "cell_type": "code",
   "execution_count": null,
   "id": "6b7c51a3-7892-4efc-9ad3-2595e807f596",
   "metadata": {},
   "outputs": [],
   "source": []
  },
  {
   "cell_type": "code",
   "execution_count": 9,
   "id": "1978c836-b9a7-4f64-86fe-bff3c8f19743",
   "metadata": {},
   "outputs": [
    {
     "name": "stdout",
     "output_type": "stream",
     "text": [
      "for loop, loop is i:  1 \n",
      "for loop, loop is i:  2 \n",
      "for loop, loop is i:  3 \n"
     ]
    }
   ],
   "source": [
    "for(i in 1:3) {\n",
    "    cat(\"for loop, loop is i: \", i, \"\\n\")\n",
    "    }"
   ]
  },
  {
   "cell_type": "code",
   "execution_count": 10,
   "id": "089c01db-88a1-4c20-aa2b-4f1e4e64ba3f",
   "metadata": {},
   "outputs": [
    {
     "data": {
      "text/html": [
       "<table class=\"dataframe\">\n",
       "<caption>A data.frame: 1 × 23</caption>\n",
       "<thead>\n",
       "\t<tr><th></th><th scope=col>index</th><th scope=col>date</th><th scope=col>type</th><th scope=col>co</th><th scope=col>quan</th><th scope=col>pps</th><th scope=col>basis</th><th scope=col>sale_quan</th><th scope=col>tally</th><th scope=col>cf_quan</th><th scope=col>⋯</th><th scope=col>buy_pps</th><th scope=col>buy_basis</th><th scope=col>sell_quan</th><th scope=col>sell_pps</th><th scope=col>sell_basis</th><th scope=col>profit_loss</th><th scope=col>Sell_cf</th><th scope=col>Sell_cf_pps</th><th scope=col>Sell_cf_basis</th><th scope=col>TorF</th></tr>\n",
       "\t<tr><th></th><th scope=col>&lt;int&gt;</th><th scope=col>&lt;date&gt;</th><th scope=col>&lt;chr&gt;</th><th scope=col>&lt;chr&gt;</th><th scope=col>&lt;int&gt;</th><th scope=col>&lt;dbl&gt;</th><th scope=col>&lt;dbl&gt;</th><th scope=col>&lt;int&gt;</th><th scope=col>&lt;int&gt;</th><th scope=col>&lt;int&gt;</th><th scope=col>⋯</th><th scope=col>&lt;dbl&gt;</th><th scope=col>&lt;dbl&gt;</th><th scope=col>&lt;int&gt;</th><th scope=col>&lt;dbl&gt;</th><th scope=col>&lt;dbl&gt;</th><th scope=col>&lt;dbl&gt;</th><th scope=col>&lt;int&gt;</th><th scope=col>&lt;dbl&gt;</th><th scope=col>&lt;dbl&gt;</th><th scope=col>&lt;int&gt;</th></tr>\n",
       "</thead>\n",
       "<tbody>\n",
       "\t<tr><th scope=row>1</th><td>1</td><td>2022-12-31</td><td>Buy</td><td>AMC</td><td>1050</td><td>4.07</td><td>4273.5</td><td>0</td><td>0</td><td>50</td><td>⋯</td><td>4.07</td><td>4070</td><td>1000</td><td>5.5124</td><td>5512.4</td><td>1442.4</td><td>0</td><td>0</td><td>0</td><td>0</td></tr>\n",
       "</tbody>\n",
       "</table>\n"
      ],
      "text/latex": [
       "A data.frame: 1 × 23\n",
       "\\begin{tabular}{r|lllllllllllllllllllll}\n",
       "  & index & date & type & co & quan & pps & basis & sale\\_quan & tally & cf\\_quan & ⋯ & buy\\_pps & buy\\_basis & sell\\_quan & sell\\_pps & sell\\_basis & profit\\_loss & Sell\\_cf & Sell\\_cf\\_pps & Sell\\_cf\\_basis & TorF\\\\\n",
       "  & <int> & <date> & <chr> & <chr> & <int> & <dbl> & <dbl> & <int> & <int> & <int> & ⋯ & <dbl> & <dbl> & <int> & <dbl> & <dbl> & <dbl> & <int> & <dbl> & <dbl> & <int>\\\\\n",
       "\\hline\n",
       "\t1 & 1 & 2022-12-31 & Buy & AMC & 1050 & 4.07 & 4273.5 & 0 & 0 & 50 & ⋯ & 4.07 & 4070 & 1000 & 5.5124 & 5512.4 & 1442.4 & 0 & 0 & 0 & 0\\\\\n",
       "\\end{tabular}\n"
      ],
      "text/markdown": [
       "\n",
       "A data.frame: 1 × 23\n",
       "\n",
       "| <!--/--> | index &lt;int&gt; | date &lt;date&gt; | type &lt;chr&gt; | co &lt;chr&gt; | quan &lt;int&gt; | pps &lt;dbl&gt; | basis &lt;dbl&gt; | sale_quan &lt;int&gt; | tally &lt;int&gt; | cf_quan &lt;int&gt; | ⋯ ⋯ | buy_pps &lt;dbl&gt; | buy_basis &lt;dbl&gt; | sell_quan &lt;int&gt; | sell_pps &lt;dbl&gt; | sell_basis &lt;dbl&gt; | profit_loss &lt;dbl&gt; | Sell_cf &lt;int&gt; | Sell_cf_pps &lt;dbl&gt; | Sell_cf_basis &lt;dbl&gt; | TorF &lt;int&gt; |\n",
       "|---|---|---|---|---|---|---|---|---|---|---|---|---|---|---|---|---|---|---|---|---|---|\n",
       "| 1 | 1 | 2022-12-31 | Buy | AMC | 1050 | 4.07 | 4273.5 | 0 | 0 | 50 | ⋯ | 4.07 | 4070 | 1000 | 5.5124 | 5512.4 | 1442.4 | 0 | 0 | 0 | 0 |\n",
       "\n"
      ],
      "text/plain": [
       "  index date       type co  quan pps  basis  sale_quan tally cf_quan ⋯ buy_pps\n",
       "1 1     2022-12-31 Buy  AMC 1050 4.07 4273.5 0         0     50      ⋯ 4.07   \n",
       "  buy_basis sell_quan sell_pps sell_basis profit_loss Sell_cf Sell_cf_pps\n",
       "1 4070      1000      5.5124   5512.4     1442.4      0       0          \n",
       "  Sell_cf_basis TorF\n",
       "1 0             0   "
      ]
     },
     "metadata": {},
     "output_type": "display_data"
    }
   ],
   "source": [
    "# update b based on Sale Type: \n",
    "\n",
    "update_b <- function() {\n",
    "\n",
    "        sale <- s$quan\n",
    "        bs_ratio <- b$quan / s$quan\n",
    "        cf_quan <-  b$quan - s$quan\n",
    "\n",
    "        # assign the cf values - if they exist\n",
    "        #  b > s\n",
    "        if ( b$quan > s$quan) {    \n",
    "            \n",
    "            # b$sale_quan <- b$quan\n",
    "            b$buy_quan <- s$quan\n",
    "            b$buy_pps <-  b$pps\n",
    "            b$buy_basis <-  b$buy_quan * b$pps\n",
    "\n",
    "\n",
    "            b$sell_quan <- s$quan    # cannot sell more than the buy_quan\n",
    "           # b$sell_quan <- b$quan\n",
    "            b$sell_pps <- s$pps\n",
    "            b$sell_basis <- s$quan * s$pps\n",
    "\n",
    "            b$cf_quan <- (b$quan - s$quan)        \n",
    "            b$cf_pps <- b$pps\n",
    "            b$cf_basis <- cf_quan * b$pps           \n",
    "\n",
    "            b$profit_loss <- b$sell_basis - b$buy_basis\n",
    "            # b$sale <- sale\n",
    "\n",
    "            s$type <- \"Buy-CF\"\n",
    "    \n",
    "       # ( s > b ), has sell carryforward\n",
    " # cat(\"If s > b, then S_cf_quan is: \", S_cf_quan, \" and Sell_cf is \", b$Sell_cf, \"\\n\")  \n",
    "        }else if(s$quan > b$quan) {\n",
    "            \n",
    "            \n",
    "            b$sale_quan <- b$quan\n",
    "           # b$buy_quan <- s$quan \n",
    "            b$buy_quan <- b$quan\n",
    "            b$buy_pps <-  b$pps\n",
    "            b$buy_basis <-  b$buy_quan * b$pps\n",
    "\n",
    "        \n",
    "            # Sell c/f\n",
    "            S_cf_quan <- s$quan - b$quan           \n",
    "            b$Sell_cf <-S_cf_quan\n",
    "            b$Sell_cf_pps <- s$pps\n",
    "            b$Sell_cf_basis <- S_cf_quan * s$pps\n",
    "            \n",
    "\n",
    "            # b$sell_quan <- s$quan    # cannot sell more than the buy_quan\n",
    "            b$sell_quan <- b$quan\n",
    "            b$sell_pps <- s$pps\n",
    "            b$sell_basis <- b$quan * s$pps\n",
    "\n",
    "            b$profit_loss <- b$sell_basis - b$buy_basis\n",
    "            \n",
    "            \n",
    "            \n",
    "            \n",
    "            # b$sale <- sale\n",
    "\n",
    "            s$type <- \"SELL-CF\"   \n",
    "            \n",
    "        }else if (s$quan == b$quan) {\n",
    "            \n",
    "            \n",
    "             # b$sale_quan <- b$quan\n",
    "            b$buy_quan <- s$quan\n",
    "            b$buy_pps <-  b$pps\n",
    "            b$buy_basis <-  b$buy_quan * b$pps\n",
    "\n",
    "\n",
    "            b$sell_quan <- s$quan    # cannot sell more than the buy_quan\n",
    "           # b$sell_quan <- b$quan\n",
    "            b$sell_pps <- s$pps\n",
    "            b$sell_basis <- s$quan * s$pps\n",
    "\n",
    "            b$profit_loss <- b$sell_basis - b$buy_basis\n",
    "            # b$sale <- sale\n",
    "\n",
    "            s$type <- \"SOLD\"\n",
    "            \n",
    "            }\n",
    "            \n",
    "    \n",
    "    \n",
    "\n",
    "        return(b)   \n",
    "}  # fct\n",
    "\n",
    "updated_b <- update_b()\n",
    "updated_b  \n",
    "    "
   ]
  },
  {
   "cell_type": "code",
   "execution_count": 11,
   "id": "01e7538b-8837-46d3-b6c3-5d3671e79f5d",
   "metadata": {},
   "outputs": [],
   "source": [
    "# updated_b <- update_b()\n",
    "# updated_b"
   ]
  },
  {
   "cell_type": "code",
   "execution_count": null,
   "id": "89b172c0-403c-4719-90bb-b4bd26c8a5d3",
   "metadata": {},
   "outputs": [],
   "source": []
  },
  {
   "cell_type": "markdown",
   "id": "5f5abcf8-cdec-4a7f-af1f-50a2637d3bd6",
   "metadata": {},
   "source": [
    "### <font color = lime> Works with each sale type:( b > s , s > b, b = s, buys_cf, sells_cf )"
   ]
  },
  {
   "cell_type": "code",
   "execution_count": 12,
   "id": "02b86a6a-2d17-41e1-ba57-23314ad592ee",
   "metadata": {},
   "outputs": [
    {
     "name": "stdout",
     "output_type": "stream",
     "text": [
      " This function displays the Sale Type based on the quan values from the updated_b data.  \n",
      " Since the updated_b file is being used for evalutions, KEEP THINGS SIMPLE. \n",
      "\n",
      "This is a BUY carryforward transaction:  ( b_quan > s_quan )  \n",
      "Since this is a BUY carryforward transaction, the carryforward values need to be appended to buys[1, ] position \n",
      " T/F, good to go. Run:  snip buys[1, ] and sells[1,]  \n",
      " And good to go. Record the updated_b into the permanent sales_record df  \n",
      " And then begin a new loop  \n",
      "\n",
      "May need to examime more Sale Types ... when there is not enough Sell due to Sell CF values, then need to ..... ???  \n",
      "\n"
     ]
    }
   ],
   "source": [
    "evaluate_sale_type <- function () {\n",
    "    \n",
    "    cat(\" This function displays the Sale Type based on the quan values from the updated_b data. \", \"\\n\")\n",
    "    cat(\" Since the updated_b file is being used for evalutions, KEEP THINGS SIMPLE.\", \"\\n\\n\")\n",
    "\n",
    "    if(updated_b$quan > updated_b$sell_quan && updated_b$cf_quan > 0 ) {\n",
    "        cat(\"This is a BUY carryforward transaction:  ( b_quan > s_quan ) \", \"\\n\")\n",
    "        cat(\"Since this is a BUY carryforward transaction, the carryforward values need to be appended to buys[1, ] position\", \"\\n\")\n",
    "        cat(\" T/F, good to go. Run:  snip buys[1, ] and sells[1,] \", \"\\n\")\n",
    "        cat(\" And good to go. Record the updated_b into the permanent sales_record df \", \"\\n\")\n",
    "        cat(\" And then begin a new loop \" , \"\\n\\n\")\n",
    "    } else if(updated_b$quan == updated_b$sell_quan && updated_b$cf_quan == 0 ) {\n",
    "        cat(\"This is a simple transaction:  (b_quan == s_quan) \", \"\\n\")\n",
    "        cat(\" T/F good to go.  Run snip buys[1,], sells[1,] \", \"\\n\")\n",
    "        cat(\" And good to go. Record the updated_b into the permanent sales_record df \", \"\\n\")\n",
    "        cat(\" And then begin a new loop \", \"\\n\\n\")            \n",
    "    }else if (updated_b$quan < updated_b$sell_quan && updated_b$cf_quan == 0 ) {\n",
    "        cat(\"This is a SELL carryforward transaction:  ( b_quan < s_quan ) \", \"\\n\")\n",
    "        cat(\"Since this is SELL carryforward transaction, the carryforward values need to be appended to sells[1, ] position\", \"\\n\")\n",
    "        cat(\" T/F, good to go. Run:  snip buys[1, ] and sells[1,] \", \"\\n\")\n",
    "        cat(\" And good to go. Record the updated_b into the permanent sales_record df \", \"\\n\")\n",
    "        cat(\" And then begin a new loop \" , \"\\n\\n\")\n",
    "        }\n",
    "        \n",
    "        cat(\"May need to examime more Sale Types ... when there is not enough Sell due to Sell CF values, then need to ..... ??? \", \"\\n\\n\")\n",
    "    \n",
    "    }  # fct\n",
    "\n",
    "evaluate_sale_type()"
   ]
  },
  {
   "cell_type": "markdown",
   "id": "30bece1a-1bf9-490f-a665-33483217b1fd",
   "metadata": {},
   "source": [
    "## <font color = yellow> Delete one row from buys and sells"
   ]
  },
  {
   "cell_type": "code",
   "execution_count": 13,
   "id": "6e7ecb99-08c6-47b2-9459-dcb78518bba8",
   "metadata": {},
   "outputs": [
    {
     "data": {
      "text/html": [
       "23"
      ],
      "text/latex": [
       "23"
      ],
      "text/markdown": [
       "23"
      ],
      "text/plain": [
       "[1] 23"
      ]
     },
     "metadata": {},
     "output_type": "display_data"
    },
    {
     "data": {
      "text/html": [
       "22"
      ],
      "text/latex": [
       "22"
      ],
      "text/markdown": [
       "22"
      ],
      "text/plain": [
       "[1] 22"
      ]
     },
     "metadata": {},
     "output_type": "display_data"
    }
   ],
   "source": [
    "save_sell_one <- data.frame()   #  keep for c/f >> Sell[1, ]\n",
    "\n",
    "nrow(buys)\n",
    "\n",
    "save_sell_one <- sells [1, ]\n",
    "save_buy_one <- buys[-1,]\n",
    "\n",
    "buys <- buys[-1, ]\n",
    "sells <- sells[-1, ]\n",
    "\n",
    "nrow(buys)"
   ]
  },
  {
   "cell_type": "code",
   "execution_count": null,
   "id": "1717cd60-4aa1-4fed-bc93-41450e0677c2",
   "metadata": {},
   "outputs": [],
   "source": []
  },
  {
   "cell_type": "markdown",
   "id": "0d43233d-62de-4ac3-9e39-d0b622ce7e10",
   "metadata": {},
   "source": [
    "## <font color = yellow> Update the sales_records df w/ updated_b"
   ]
  },
  {
   "cell_type": "code",
   "execution_count": 14,
   "id": "44f1c396-4486-41d7-8882-a40e02f98b16",
   "metadata": {},
   "outputs": [
    {
     "data": {
      "text/html": [
       "<table class=\"dataframe\">\n",
       "<caption>A data.frame: 1 × 23</caption>\n",
       "<thead>\n",
       "\t<tr><th scope=col>index</th><th scope=col>date</th><th scope=col>type</th><th scope=col>co</th><th scope=col>quan</th><th scope=col>pps</th><th scope=col>basis</th><th scope=col>sale_quan</th><th scope=col>tally</th><th scope=col>cf_quan</th><th scope=col>⋯</th><th scope=col>buy_pps</th><th scope=col>buy_basis</th><th scope=col>sell_quan</th><th scope=col>sell_pps</th><th scope=col>sell_basis</th><th scope=col>profit_loss</th><th scope=col>Sell_cf</th><th scope=col>Sell_cf_pps</th><th scope=col>Sell_cf_basis</th><th scope=col>TorF</th></tr>\n",
       "\t<tr><th scope=col>&lt;int&gt;</th><th scope=col>&lt;date&gt;</th><th scope=col>&lt;chr&gt;</th><th scope=col>&lt;chr&gt;</th><th scope=col>&lt;int&gt;</th><th scope=col>&lt;dbl&gt;</th><th scope=col>&lt;dbl&gt;</th><th scope=col>&lt;int&gt;</th><th scope=col>&lt;int&gt;</th><th scope=col>&lt;int&gt;</th><th scope=col>⋯</th><th scope=col>&lt;dbl&gt;</th><th scope=col>&lt;dbl&gt;</th><th scope=col>&lt;int&gt;</th><th scope=col>&lt;dbl&gt;</th><th scope=col>&lt;dbl&gt;</th><th scope=col>&lt;dbl&gt;</th><th scope=col>&lt;int&gt;</th><th scope=col>&lt;dbl&gt;</th><th scope=col>&lt;dbl&gt;</th><th scope=col>&lt;int&gt;</th></tr>\n",
       "</thead>\n",
       "<tbody>\n",
       "\t<tr><td>1</td><td>2022-12-31</td><td>Buy</td><td>AMC</td><td>1050</td><td>4.07</td><td>4273.5</td><td>0</td><td>0</td><td>50</td><td>⋯</td><td>4.07</td><td>4070</td><td>1000</td><td>5.5124</td><td>5512.4</td><td>1442.4</td><td>0</td><td>0</td><td>0</td><td>0</td></tr>\n",
       "</tbody>\n",
       "</table>\n"
      ],
      "text/latex": [
       "A data.frame: 1 × 23\n",
       "\\begin{tabular}{lllllllllllllllllllll}\n",
       " index & date & type & co & quan & pps & basis & sale\\_quan & tally & cf\\_quan & ⋯ & buy\\_pps & buy\\_basis & sell\\_quan & sell\\_pps & sell\\_basis & profit\\_loss & Sell\\_cf & Sell\\_cf\\_pps & Sell\\_cf\\_basis & TorF\\\\\n",
       " <int> & <date> & <chr> & <chr> & <int> & <dbl> & <dbl> & <int> & <int> & <int> & ⋯ & <dbl> & <dbl> & <int> & <dbl> & <dbl> & <dbl> & <int> & <dbl> & <dbl> & <int>\\\\\n",
       "\\hline\n",
       "\t 1 & 2022-12-31 & Buy & AMC & 1050 & 4.07 & 4273.5 & 0 & 0 & 50 & ⋯ & 4.07 & 4070 & 1000 & 5.5124 & 5512.4 & 1442.4 & 0 & 0 & 0 & 0\\\\\n",
       "\\end{tabular}\n"
      ],
      "text/markdown": [
       "\n",
       "A data.frame: 1 × 23\n",
       "\n",
       "| index &lt;int&gt; | date &lt;date&gt; | type &lt;chr&gt; | co &lt;chr&gt; | quan &lt;int&gt; | pps &lt;dbl&gt; | basis &lt;dbl&gt; | sale_quan &lt;int&gt; | tally &lt;int&gt; | cf_quan &lt;int&gt; | ⋯ ⋯ | buy_pps &lt;dbl&gt; | buy_basis &lt;dbl&gt; | sell_quan &lt;int&gt; | sell_pps &lt;dbl&gt; | sell_basis &lt;dbl&gt; | profit_loss &lt;dbl&gt; | Sell_cf &lt;int&gt; | Sell_cf_pps &lt;dbl&gt; | Sell_cf_basis &lt;dbl&gt; | TorF &lt;int&gt; |\n",
       "|---|---|---|---|---|---|---|---|---|---|---|---|---|---|---|---|---|---|---|---|---|\n",
       "| 1 | 2022-12-31 | Buy | AMC | 1050 | 4.07 | 4273.5 | 0 | 0 | 50 | ⋯ | 4.07 | 4070 | 1000 | 5.5124 | 5512.4 | 1442.4 | 0 | 0 | 0 | 0 |\n",
       "\n"
      ],
      "text/plain": [
       "  index date       type co  quan pps  basis  sale_quan tally cf_quan ⋯ buy_pps\n",
       "1 1     2022-12-31 Buy  AMC 1050 4.07 4273.5 0         0     50      ⋯ 4.07   \n",
       "  buy_basis sell_quan sell_pps sell_basis profit_loss Sell_cf Sell_cf_pps\n",
       "1 4070      1000      5.5124   5512.4     1442.4      0       0          \n",
       "  Sell_cf_basis TorF\n",
       "1 0             0   "
      ]
     },
     "metadata": {},
     "output_type": "display_data"
    }
   ],
   "source": [
    "sale_records <- rbind(sale_records, updated_b)\n",
    "sale_records\n",
    "                      "
   ]
  },
  {
   "cell_type": "code",
   "execution_count": null,
   "id": "87cc100d-994c-411a-8e0a-b7083fc0cea3",
   "metadata": {},
   "outputs": [],
   "source": []
  },
  {
   "cell_type": "markdown",
   "id": "333f2288-156e-40d7-b4aa-c3f2d88ba08e",
   "metadata": {},
   "source": [
    "## <font color = yellow> Bind  buys & sells - when buy/sell c/f exists\n"
   ]
  },
  {
   "cell_type": "code",
   "execution_count": 15,
   "id": "54624e6b-c644-4f03-9403-7741466d233e",
   "metadata": {},
   "outputs": [
    {
     "data": {
      "text/html": [
       "<table class=\"dataframe\">\n",
       "<caption>A tibble: 4 × 2</caption>\n",
       "<thead>\n",
       "\t<tr><th scope=col>x</th><th scope=col>y</th></tr>\n",
       "\t<tr><th scope=col>&lt;dbl&gt;</th><th scope=col>&lt;dbl&gt;</th></tr>\n",
       "</thead>\n",
       "<tbody>\n",
       "\t<tr><td>1</td><td>3</td></tr>\n",
       "\t<tr><td>4</td><td>0</td></tr>\n",
       "\t<tr><td>2</td><td>2</td></tr>\n",
       "\t<tr><td>3</td><td>1</td></tr>\n",
       "</tbody>\n",
       "</table>\n"
      ],
      "text/latex": [
       "A tibble: 4 × 2\n",
       "\\begin{tabular}{ll}\n",
       " x & y\\\\\n",
       " <dbl> & <dbl>\\\\\n",
       "\\hline\n",
       "\t 1 & 3\\\\\n",
       "\t 4 & 0\\\\\n",
       "\t 2 & 2\\\\\n",
       "\t 3 & 1\\\\\n",
       "\\end{tabular}\n"
      ],
      "text/markdown": [
       "\n",
       "A tibble: 4 × 2\n",
       "\n",
       "| x &lt;dbl&gt; | y &lt;dbl&gt; |\n",
       "|---|---|\n",
       "| 1 | 3 |\n",
       "| 4 | 0 |\n",
       "| 2 | 2 |\n",
       "| 3 | 1 |\n",
       "\n"
      ],
      "text/plain": [
       "  x y\n",
       "1 1 3\n",
       "2 4 0\n",
       "3 2 2\n",
       "4 3 1"
      ]
     },
     "metadata": {},
     "output_type": "display_data"
    }
   ],
   "source": [
    "# good example from R:  ?add_row\n",
    "df <- tibble(x = 1:3, y = 3:1)\n",
    "\n",
    "df <- df %>% add_row(x = 4, y = 0, .before = 2)\n",
    "df"
   ]
  },
  {
   "cell_type": "code",
   "execution_count": null,
   "id": "ebf5831f-c5f1-4d4b-a1d9-306acaf06701",
   "metadata": {},
   "outputs": [],
   "source": []
  },
  {
   "cell_type": "code",
   "execution_count": 16,
   "id": "aefb85a4-516f-40f2-8eae-a269b975affa",
   "metadata": {},
   "outputs": [],
   "source": [
    "if (sale_records$cf_quan[1] == 0 ) {\n",
    "    cat(\"There is NO Buy c/f quan \", sale_records$cf_quan, \"\\n\")\n",
    "    }"
   ]
  },
  {
   "cell_type": "code",
   "execution_count": 17,
   "id": "cf89daa5-5a71-43c3-9209-aa8bcf0a9f1f",
   "metadata": {},
   "outputs": [
    {
     "name": "stdout",
     "output_type": "stream",
     "text": [
      "There IS Buy c/f quan  50 \n"
     ]
    }
   ],
   "source": [
    "# Here is is nec to update Buys[1, ]\n",
    "if (sale_records$cf_quan[1] > 0 ) {\n",
    "    cat(\"There IS Buy c/f quan \", sale_records$cf_quan, \"\\n\")\n",
    "    temp <- sale_records[1,]\n",
    "    temp$type <- \"Buy CF\"\n",
    "    temp$quan <- temp$cf_quan\n",
    "    temp$pps <- temp$cf_pps\n",
    "    temp$basis <- temp$cf_basis\n",
    "    \n",
    "    temp[ , 8:ncol(temp)] <- 0\n",
    "    test <- buys\n",
    "    test <- test %>% add_row(temp, .before = 1)\n",
    "    buys <- test\n",
    "    }"
   ]
  },
  {
   "cell_type": "code",
   "execution_count": 18,
   "id": "bde38e13-7113-4241-b01f-1cf91af66326",
   "metadata": {},
   "outputs": [
    {
     "name": "stdout",
     "output_type": "stream",
     "text": [
      "There is NO Sell c/f  \n"
     ]
    }
   ],
   "source": [
    "if (sale_records$Sell_cf[1] == 0 ) {\n",
    "    cat(\"There is NO Sell c/f \", sale_records$Sell_quan, \"\\n\")\n",
    "    }"
   ]
  },
  {
   "cell_type": "code",
   "execution_count": 19,
   "id": "78fcb6bb-22ec-4847-a098-43cddb2f24a7",
   "metadata": {},
   "outputs": [],
   "source": [
    "# Here it is nec to update the Sells [1, ] \n",
    "if (sale_records$Sell_cf[1] > 0 ) {\n",
    "    cat(\"There IS Sell c/f \", sale_records$Sell_cf, \"\\n\")\n",
    "    \n",
    "    temp <- save_sell_one\n",
    "    temp2 <-  temp <- sale_records[1,]\n",
    "    temp[ , 8:ncol(save_sell_one)] <- 0\n",
    "   \n",
    "    \n",
    "    temp$type <- \"Sell CF\"\n",
    "    temp$quan <- temp2$Sell_cf\n",
    "    temp$pps <- temp2$Sell_cf_pps\n",
    "    temp$basis <- temp2$Sell_cf_basis\n",
    "\n",
    "    sell_one <- temp\n",
    "    \n",
    "    test <- sells\n",
    "    test <- test %>% add_row(sell_one, .before = 1)\n",
    "    sells <- test\n",
    "    \n",
    "    \n",
    "    \n",
    "    \n",
    "    \n",
    "    }"
   ]
  },
  {
   "cell_type": "code",
   "execution_count": 20,
   "id": "ae06f907-52b0-43d3-b873-d4f913047494",
   "metadata": {},
   "outputs": [],
   "source": [
    "#  Here, there are no c/f issues , t/f , return()\n",
    "if (sale_records$cf_quan[1] == 0 && sale_records$Sell_cf[1] == 0 ) {\n",
    "    cat(\"There is NO Buy c/f or Sell c/f \", sale_records$cf_quan, \" \\t\", sale_records$Sell_cf, \"\\n\")\n",
    "    }\n"
   ]
  },
  {
   "cell_type": "code",
   "execution_count": 21,
   "id": "b58bdf84-2f57-4fc4-81a2-41621a6f0559",
   "metadata": {},
   "outputs": [
    {
     "data": {
      "text/html": [
       "23"
      ],
      "text/latex": [
       "23"
      ],
      "text/markdown": [
       "23"
      ],
      "text/plain": [
       "[1] 23"
      ]
     },
     "metadata": {},
     "output_type": "display_data"
    },
    {
     "data": {
      "text/html": [
       "<table class=\"dataframe\">\n",
       "<caption>A data.frame: 3 × 23</caption>\n",
       "<thead>\n",
       "\t<tr><th></th><th scope=col>index</th><th scope=col>date</th><th scope=col>type</th><th scope=col>co</th><th scope=col>quan</th><th scope=col>pps</th><th scope=col>basis</th><th scope=col>sale_quan</th><th scope=col>tally</th><th scope=col>cf_quan</th><th scope=col>⋯</th><th scope=col>buy_pps</th><th scope=col>buy_basis</th><th scope=col>sell_quan</th><th scope=col>sell_pps</th><th scope=col>sell_basis</th><th scope=col>profit_loss</th><th scope=col>Sell_cf</th><th scope=col>Sell_cf_pps</th><th scope=col>Sell_cf_basis</th><th scope=col>TorF</th></tr>\n",
       "\t<tr><th></th><th scope=col>&lt;int&gt;</th><th scope=col>&lt;date&gt;</th><th scope=col>&lt;chr&gt;</th><th scope=col>&lt;chr&gt;</th><th scope=col>&lt;int&gt;</th><th scope=col>&lt;dbl&gt;</th><th scope=col>&lt;dbl&gt;</th><th scope=col>&lt;dbl&gt;</th><th scope=col>&lt;dbl&gt;</th><th scope=col>&lt;dbl&gt;</th><th scope=col>⋯</th><th scope=col>&lt;dbl&gt;</th><th scope=col>&lt;dbl&gt;</th><th scope=col>&lt;dbl&gt;</th><th scope=col>&lt;dbl&gt;</th><th scope=col>&lt;dbl&gt;</th><th scope=col>&lt;dbl&gt;</th><th scope=col>&lt;dbl&gt;</th><th scope=col>&lt;dbl&gt;</th><th scope=col>&lt;dbl&gt;</th><th scope=col>&lt;dbl&gt;</th></tr>\n",
       "</thead>\n",
       "<tbody>\n",
       "\t<tr><th scope=row>1</th><td>1</td><td>2022-12-31</td><td>Buy CF</td><td>AMC</td><td>  50</td><td>4.070</td><td> 203.5</td><td>0</td><td>0</td><td>0</td><td>⋯</td><td>0</td><td>0</td><td>0</td><td>0</td><td>0</td><td>0</td><td>0</td><td>0</td><td>0</td><td>0</td></tr>\n",
       "\t<tr><th scope=row>2</th><td>3</td><td>2023-01-20</td><td>Buy   </td><td>AMC</td><td>1000</td><td>5.625</td><td>5625.0</td><td>0</td><td>0</td><td>0</td><td>⋯</td><td>0</td><td>0</td><td>0</td><td>0</td><td>0</td><td>0</td><td>0</td><td>0</td><td>0</td><td>0</td></tr>\n",
       "\t<tr><th scope=row>3</th><td>5</td><td>2023-01-23</td><td>Buy   </td><td>AMC</td><td>1000</td><td>5.788</td><td>5788.0</td><td>0</td><td>0</td><td>0</td><td>⋯</td><td>0</td><td>0</td><td>0</td><td>0</td><td>0</td><td>0</td><td>0</td><td>0</td><td>0</td><td>0</td></tr>\n",
       "</tbody>\n",
       "</table>\n"
      ],
      "text/latex": [
       "A data.frame: 3 × 23\n",
       "\\begin{tabular}{r|lllllllllllllllllllll}\n",
       "  & index & date & type & co & quan & pps & basis & sale\\_quan & tally & cf\\_quan & ⋯ & buy\\_pps & buy\\_basis & sell\\_quan & sell\\_pps & sell\\_basis & profit\\_loss & Sell\\_cf & Sell\\_cf\\_pps & Sell\\_cf\\_basis & TorF\\\\\n",
       "  & <int> & <date> & <chr> & <chr> & <int> & <dbl> & <dbl> & <dbl> & <dbl> & <dbl> & ⋯ & <dbl> & <dbl> & <dbl> & <dbl> & <dbl> & <dbl> & <dbl> & <dbl> & <dbl> & <dbl>\\\\\n",
       "\\hline\n",
       "\t1 & 1 & 2022-12-31 & Buy CF & AMC &   50 & 4.070 &  203.5 & 0 & 0 & 0 & ⋯ & 0 & 0 & 0 & 0 & 0 & 0 & 0 & 0 & 0 & 0\\\\\n",
       "\t2 & 3 & 2023-01-20 & Buy    & AMC & 1000 & 5.625 & 5625.0 & 0 & 0 & 0 & ⋯ & 0 & 0 & 0 & 0 & 0 & 0 & 0 & 0 & 0 & 0\\\\\n",
       "\t3 & 5 & 2023-01-23 & Buy    & AMC & 1000 & 5.788 & 5788.0 & 0 & 0 & 0 & ⋯ & 0 & 0 & 0 & 0 & 0 & 0 & 0 & 0 & 0 & 0\\\\\n",
       "\\end{tabular}\n"
      ],
      "text/markdown": [
       "\n",
       "A data.frame: 3 × 23\n",
       "\n",
       "| <!--/--> | index &lt;int&gt; | date &lt;date&gt; | type &lt;chr&gt; | co &lt;chr&gt; | quan &lt;int&gt; | pps &lt;dbl&gt; | basis &lt;dbl&gt; | sale_quan &lt;dbl&gt; | tally &lt;dbl&gt; | cf_quan &lt;dbl&gt; | ⋯ ⋯ | buy_pps &lt;dbl&gt; | buy_basis &lt;dbl&gt; | sell_quan &lt;dbl&gt; | sell_pps &lt;dbl&gt; | sell_basis &lt;dbl&gt; | profit_loss &lt;dbl&gt; | Sell_cf &lt;dbl&gt; | Sell_cf_pps &lt;dbl&gt; | Sell_cf_basis &lt;dbl&gt; | TorF &lt;dbl&gt; |\n",
       "|---|---|---|---|---|---|---|---|---|---|---|---|---|---|---|---|---|---|---|---|---|---|\n",
       "| 1 | 1 | 2022-12-31 | Buy CF | AMC |   50 | 4.070 |  203.5 | 0 | 0 | 0 | ⋯ | 0 | 0 | 0 | 0 | 0 | 0 | 0 | 0 | 0 | 0 |\n",
       "| 2 | 3 | 2023-01-20 | Buy    | AMC | 1000 | 5.625 | 5625.0 | 0 | 0 | 0 | ⋯ | 0 | 0 | 0 | 0 | 0 | 0 | 0 | 0 | 0 | 0 |\n",
       "| 3 | 5 | 2023-01-23 | Buy    | AMC | 1000 | 5.788 | 5788.0 | 0 | 0 | 0 | ⋯ | 0 | 0 | 0 | 0 | 0 | 0 | 0 | 0 | 0 | 0 |\n",
       "\n"
      ],
      "text/plain": [
       "  index date       type   co  quan pps   basis  sale_quan tally cf_quan ⋯\n",
       "1 1     2022-12-31 Buy CF AMC   50 4.070  203.5 0         0     0       ⋯\n",
       "2 3     2023-01-20 Buy    AMC 1000 5.625 5625.0 0         0     0       ⋯\n",
       "3 5     2023-01-23 Buy    AMC 1000 5.788 5788.0 0         0     0       ⋯\n",
       "  buy_pps buy_basis sell_quan sell_pps sell_basis profit_loss Sell_cf\n",
       "1 0       0         0         0        0          0           0      \n",
       "2 0       0         0         0        0          0           0      \n",
       "3 0       0         0         0        0          0           0      \n",
       "  Sell_cf_pps Sell_cf_basis TorF\n",
       "1 0           0             0   \n",
       "2 0           0             0   \n",
       "3 0           0             0   "
      ]
     },
     "metadata": {},
     "output_type": "display_data"
    }
   ],
   "source": [
    "nrow(buys)\n",
    "head(buys,3)"
   ]
  },
  {
   "cell_type": "code",
   "execution_count": 22,
   "id": "d7fdd965-080a-4189-8f49-40135d3a8eed",
   "metadata": {},
   "outputs": [
    {
     "data": {
      "text/html": [
       "17"
      ],
      "text/latex": [
       "17"
      ],
      "text/markdown": [
       "17"
      ],
      "text/plain": [
       "[1] 17"
      ]
     },
     "metadata": {},
     "output_type": "display_data"
    },
    {
     "data": {
      "text/html": [
       "<table class=\"dataframe\">\n",
       "<caption>A data.frame: 3 × 23</caption>\n",
       "<thead>\n",
       "\t<tr><th></th><th scope=col>index</th><th scope=col>date</th><th scope=col>type</th><th scope=col>co</th><th scope=col>quan</th><th scope=col>pps</th><th scope=col>basis</th><th scope=col>sale_quan</th><th scope=col>tally</th><th scope=col>cf_quan</th><th scope=col>⋯</th><th scope=col>buy_pps</th><th scope=col>buy_basis</th><th scope=col>sell_quan</th><th scope=col>sell_pps</th><th scope=col>sell_basis</th><th scope=col>profit_loss</th><th scope=col>Sell_cf</th><th scope=col>Sell_cf_pps</th><th scope=col>Sell_cf_basis</th><th scope=col>TorF</th></tr>\n",
       "\t<tr><th></th><th scope=col>&lt;int&gt;</th><th scope=col>&lt;date&gt;</th><th scope=col>&lt;chr&gt;</th><th scope=col>&lt;chr&gt;</th><th scope=col>&lt;int&gt;</th><th scope=col>&lt;dbl&gt;</th><th scope=col>&lt;dbl&gt;</th><th scope=col>&lt;int&gt;</th><th scope=col>&lt;int&gt;</th><th scope=col>&lt;int&gt;</th><th scope=col>⋯</th><th scope=col>&lt;dbl&gt;</th><th scope=col>&lt;dbl&gt;</th><th scope=col>&lt;int&gt;</th><th scope=col>&lt;dbl&gt;</th><th scope=col>&lt;dbl&gt;</th><th scope=col>&lt;dbl&gt;</th><th scope=col>&lt;int&gt;</th><th scope=col>&lt;dbl&gt;</th><th scope=col>&lt;dbl&gt;</th><th scope=col>&lt;int&gt;</th></tr>\n",
       "</thead>\n",
       "<tbody>\n",
       "\t<tr><th scope=row>4</th><td>4</td><td>2023-02-03</td><td>Sell</td><td>AMC</td><td>1000</td><td>6.68255</td><td>6682.55</td><td>0</td><td>0</td><td>0</td><td>⋯</td><td>0</td><td>0</td><td>0</td><td>0</td><td>0</td><td>0</td><td>0</td><td>0</td><td>0</td><td>0</td></tr>\n",
       "\t<tr><th scope=row>6</th><td>6</td><td>2023-02-03</td><td>Sell</td><td>AMC</td><td>1000</td><td>6.25500</td><td>6255.00</td><td>0</td><td>0</td><td>0</td><td>⋯</td><td>0</td><td>0</td><td>0</td><td>0</td><td>0</td><td>0</td><td>0</td><td>0</td><td>0</td><td>0</td></tr>\n",
       "\t<tr><th scope=row>8</th><td>8</td><td>2023-02-03</td><td>Sell</td><td>AMC</td><td>1000</td><td>6.19010</td><td>6190.10</td><td>0</td><td>0</td><td>0</td><td>⋯</td><td>0</td><td>0</td><td>0</td><td>0</td><td>0</td><td>0</td><td>0</td><td>0</td><td>0</td><td>0</td></tr>\n",
       "</tbody>\n",
       "</table>\n"
      ],
      "text/latex": [
       "A data.frame: 3 × 23\n",
       "\\begin{tabular}{r|lllllllllllllllllllll}\n",
       "  & index & date & type & co & quan & pps & basis & sale\\_quan & tally & cf\\_quan & ⋯ & buy\\_pps & buy\\_basis & sell\\_quan & sell\\_pps & sell\\_basis & profit\\_loss & Sell\\_cf & Sell\\_cf\\_pps & Sell\\_cf\\_basis & TorF\\\\\n",
       "  & <int> & <date> & <chr> & <chr> & <int> & <dbl> & <dbl> & <int> & <int> & <int> & ⋯ & <dbl> & <dbl> & <int> & <dbl> & <dbl> & <dbl> & <int> & <dbl> & <dbl> & <int>\\\\\n",
       "\\hline\n",
       "\t4 & 4 & 2023-02-03 & Sell & AMC & 1000 & 6.68255 & 6682.55 & 0 & 0 & 0 & ⋯ & 0 & 0 & 0 & 0 & 0 & 0 & 0 & 0 & 0 & 0\\\\\n",
       "\t6 & 6 & 2023-02-03 & Sell & AMC & 1000 & 6.25500 & 6255.00 & 0 & 0 & 0 & ⋯ & 0 & 0 & 0 & 0 & 0 & 0 & 0 & 0 & 0 & 0\\\\\n",
       "\t8 & 8 & 2023-02-03 & Sell & AMC & 1000 & 6.19010 & 6190.10 & 0 & 0 & 0 & ⋯ & 0 & 0 & 0 & 0 & 0 & 0 & 0 & 0 & 0 & 0\\\\\n",
       "\\end{tabular}\n"
      ],
      "text/markdown": [
       "\n",
       "A data.frame: 3 × 23\n",
       "\n",
       "| <!--/--> | index &lt;int&gt; | date &lt;date&gt; | type &lt;chr&gt; | co &lt;chr&gt; | quan &lt;int&gt; | pps &lt;dbl&gt; | basis &lt;dbl&gt; | sale_quan &lt;int&gt; | tally &lt;int&gt; | cf_quan &lt;int&gt; | ⋯ ⋯ | buy_pps &lt;dbl&gt; | buy_basis &lt;dbl&gt; | sell_quan &lt;int&gt; | sell_pps &lt;dbl&gt; | sell_basis &lt;dbl&gt; | profit_loss &lt;dbl&gt; | Sell_cf &lt;int&gt; | Sell_cf_pps &lt;dbl&gt; | Sell_cf_basis &lt;dbl&gt; | TorF &lt;int&gt; |\n",
       "|---|---|---|---|---|---|---|---|---|---|---|---|---|---|---|---|---|---|---|---|---|---|\n",
       "| 4 | 4 | 2023-02-03 | Sell | AMC | 1000 | 6.68255 | 6682.55 | 0 | 0 | 0 | ⋯ | 0 | 0 | 0 | 0 | 0 | 0 | 0 | 0 | 0 | 0 |\n",
       "| 6 | 6 | 2023-02-03 | Sell | AMC | 1000 | 6.25500 | 6255.00 | 0 | 0 | 0 | ⋯ | 0 | 0 | 0 | 0 | 0 | 0 | 0 | 0 | 0 | 0 |\n",
       "| 8 | 8 | 2023-02-03 | Sell | AMC | 1000 | 6.19010 | 6190.10 | 0 | 0 | 0 | ⋯ | 0 | 0 | 0 | 0 | 0 | 0 | 0 | 0 | 0 | 0 |\n",
       "\n"
      ],
      "text/plain": [
       "  index date       type co  quan pps     basis   sale_quan tally cf_quan ⋯\n",
       "4 4     2023-02-03 Sell AMC 1000 6.68255 6682.55 0         0     0       ⋯\n",
       "6 6     2023-02-03 Sell AMC 1000 6.25500 6255.00 0         0     0       ⋯\n",
       "8 8     2023-02-03 Sell AMC 1000 6.19010 6190.10 0         0     0       ⋯\n",
       "  buy_pps buy_basis sell_quan sell_pps sell_basis profit_loss Sell_cf\n",
       "4 0       0         0         0        0          0           0      \n",
       "6 0       0         0         0        0          0           0      \n",
       "8 0       0         0         0        0          0           0      \n",
       "  Sell_cf_pps Sell_cf_basis TorF\n",
       "4 0           0             0   \n",
       "6 0           0             0   \n",
       "8 0           0             0   "
      ]
     },
     "metadata": {},
     "output_type": "display_data"
    }
   ],
   "source": [
    "nrow(sells)\n",
    "head(sells, 3)"
   ]
  },
  {
   "cell_type": "code",
   "execution_count": 23,
   "id": "c8c67c0c-77c7-4fe9-b224-9d8afecddb3f",
   "metadata": {},
   "outputs": [],
   "source": [
    "#  # Only once per loop\n",
    "# test <- test %>% add_row(temp, .before = 1)\n",
    "# head(test, 3)"
   ]
  },
  {
   "cell_type": "code",
   "execution_count": 24,
   "id": "ae6231d1-0886-472d-8503-a11e04165b1a",
   "metadata": {},
   "outputs": [
    {
     "data": {
      "text/html": [
       "<table class=\"dataframe\">\n",
       "<caption>A data.frame: 1 × 23</caption>\n",
       "<thead>\n",
       "\t<tr><th scope=col>index</th><th scope=col>date</th><th scope=col>type</th><th scope=col>co</th><th scope=col>quan</th><th scope=col>pps</th><th scope=col>basis</th><th scope=col>sale_quan</th><th scope=col>tally</th><th scope=col>cf_quan</th><th scope=col>⋯</th><th scope=col>buy_pps</th><th scope=col>buy_basis</th><th scope=col>sell_quan</th><th scope=col>sell_pps</th><th scope=col>sell_basis</th><th scope=col>profit_loss</th><th scope=col>Sell_cf</th><th scope=col>Sell_cf_pps</th><th scope=col>Sell_cf_basis</th><th scope=col>TorF</th></tr>\n",
       "\t<tr><th scope=col>&lt;int&gt;</th><th scope=col>&lt;date&gt;</th><th scope=col>&lt;chr&gt;</th><th scope=col>&lt;chr&gt;</th><th scope=col>&lt;int&gt;</th><th scope=col>&lt;dbl&gt;</th><th scope=col>&lt;dbl&gt;</th><th scope=col>&lt;int&gt;</th><th scope=col>&lt;int&gt;</th><th scope=col>&lt;int&gt;</th><th scope=col>⋯</th><th scope=col>&lt;dbl&gt;</th><th scope=col>&lt;dbl&gt;</th><th scope=col>&lt;int&gt;</th><th scope=col>&lt;dbl&gt;</th><th scope=col>&lt;dbl&gt;</th><th scope=col>&lt;dbl&gt;</th><th scope=col>&lt;int&gt;</th><th scope=col>&lt;dbl&gt;</th><th scope=col>&lt;dbl&gt;</th><th scope=col>&lt;int&gt;</th></tr>\n",
       "</thead>\n",
       "<tbody>\n",
       "\t<tr><td>1</td><td>2022-12-31</td><td>Buy</td><td>AMC</td><td>1050</td><td>4.07</td><td>4273.5</td><td>0</td><td>0</td><td>50</td><td>⋯</td><td>4.07</td><td>4070</td><td>1000</td><td>5.5124</td><td>5512.4</td><td>1442.4</td><td>0</td><td>0</td><td>0</td><td>0</td></tr>\n",
       "</tbody>\n",
       "</table>\n"
      ],
      "text/latex": [
       "A data.frame: 1 × 23\n",
       "\\begin{tabular}{lllllllllllllllllllll}\n",
       " index & date & type & co & quan & pps & basis & sale\\_quan & tally & cf\\_quan & ⋯ & buy\\_pps & buy\\_basis & sell\\_quan & sell\\_pps & sell\\_basis & profit\\_loss & Sell\\_cf & Sell\\_cf\\_pps & Sell\\_cf\\_basis & TorF\\\\\n",
       " <int> & <date> & <chr> & <chr> & <int> & <dbl> & <dbl> & <int> & <int> & <int> & ⋯ & <dbl> & <dbl> & <int> & <dbl> & <dbl> & <dbl> & <int> & <dbl> & <dbl> & <int>\\\\\n",
       "\\hline\n",
       "\t 1 & 2022-12-31 & Buy & AMC & 1050 & 4.07 & 4273.5 & 0 & 0 & 50 & ⋯ & 4.07 & 4070 & 1000 & 5.5124 & 5512.4 & 1442.4 & 0 & 0 & 0 & 0\\\\\n",
       "\\end{tabular}\n"
      ],
      "text/markdown": [
       "\n",
       "A data.frame: 1 × 23\n",
       "\n",
       "| index &lt;int&gt; | date &lt;date&gt; | type &lt;chr&gt; | co &lt;chr&gt; | quan &lt;int&gt; | pps &lt;dbl&gt; | basis &lt;dbl&gt; | sale_quan &lt;int&gt; | tally &lt;int&gt; | cf_quan &lt;int&gt; | ⋯ ⋯ | buy_pps &lt;dbl&gt; | buy_basis &lt;dbl&gt; | sell_quan &lt;int&gt; | sell_pps &lt;dbl&gt; | sell_basis &lt;dbl&gt; | profit_loss &lt;dbl&gt; | Sell_cf &lt;int&gt; | Sell_cf_pps &lt;dbl&gt; | Sell_cf_basis &lt;dbl&gt; | TorF &lt;int&gt; |\n",
       "|---|---|---|---|---|---|---|---|---|---|---|---|---|---|---|---|---|---|---|---|---|\n",
       "| 1 | 2022-12-31 | Buy | AMC | 1050 | 4.07 | 4273.5 | 0 | 0 | 50 | ⋯ | 4.07 | 4070 | 1000 | 5.5124 | 5512.4 | 1442.4 | 0 | 0 | 0 | 0 |\n",
       "\n"
      ],
      "text/plain": [
       "  index date       type co  quan pps  basis  sale_quan tally cf_quan ⋯ buy_pps\n",
       "1 1     2022-12-31 Buy  AMC 1050 4.07 4273.5 0         0     50      ⋯ 4.07   \n",
       "  buy_basis sell_quan sell_pps sell_basis profit_loss Sell_cf Sell_cf_pps\n",
       "1 4070      1000      5.5124   5512.4     1442.4      0       0          \n",
       "  Sell_cf_basis TorF\n",
       "1 0             0   "
      ]
     },
     "metadata": {},
     "output_type": "display_data"
    }
   ],
   "source": [
    "sale_records"
   ]
  },
  {
   "cell_type": "markdown",
   "id": "10a3a398-05db-4786-914e-ad9ace85e93b",
   "metadata": {},
   "source": [
    "### <font color = lime> Got it! "
   ]
  },
  {
   "cell_type": "code",
   "execution_count": null,
   "id": "bab0f91d-a01c-4354-afc0-793ec3b482ad",
   "metadata": {},
   "outputs": [],
   "source": []
  },
  {
   "cell_type": "code",
   "execution_count": null,
   "id": "ccc10c17-a053-44f1-9c93-d6b37bc855c9",
   "metadata": {},
   "outputs": [],
   "source": []
  },
  {
   "cell_type": "code",
   "execution_count": 25,
   "id": "8108093a-0570-4af3-817a-1d6b2d0e293a",
   "metadata": {},
   "outputs": [
    {
     "name": "stdout",
     "output_type": "stream",
     "text": [
      "              1           \n",
      "index         \"1\"         \n",
      "date          \"2022-12-31\"\n",
      "type          \"Buy\"       \n",
      "co            \"AMC\"       \n",
      "quan          \"1050\"      \n",
      "pps           \"4.07\"      \n",
      "basis         \"4273.5\"    \n",
      "sale_quan     \"0\"         \n",
      "tally         \"0\"         \n",
      "cf_quan       \"0\"         \n",
      "cf_pps        \"0\"         \n",
      "cf_basis      \"0\"         \n",
      "buy_quan      \"0\"         \n",
      "buy_pps       \"0\"         \n",
      "buy_basis     \"0\"         \n",
      "sell_quan     \"0\"         \n",
      "sell_pps      \"0\"         \n",
      "sell_basis    \"0\"         \n",
      "profit_loss   \"0\"         \n",
      "Sell_cf       \"0\"         \n",
      "Sell_cf_pps   \"0\"         \n",
      "Sell_cf_basis \"0\"         \n",
      "TorF          \"0\"         \n"
     ]
    }
   ],
   "source": [
    "print(t(b))"
   ]
  },
  {
   "cell_type": "code",
   "execution_count": null,
   "id": "e1e64fda-22b1-46d5-82b7-d62f047f657a",
   "metadata": {},
   "outputs": [],
   "source": []
  },
  {
   "cell_type": "code",
   "execution_count": 26,
   "id": "558ac618-20c0-44d1-92da-2293b36c7aad",
   "metadata": {},
   "outputs": [
    {
     "ename": "ERROR",
     "evalue": "Error in eval(expr, envir, enclos): object 'stopps' not found\n",
     "output_type": "error",
     "traceback": [
      "Error in eval(expr, envir, enclos): object 'stopps' not found\nTraceback:\n"
     ]
    }
   ],
   "source": [
    "stopps #  Old code"
   ]
  },
  {
   "cell_type": "code",
   "execution_count": null,
   "id": "5dc6f7ef-b304-4455-a71c-6eb0e6917eee",
   "metadata": {},
   "outputs": [],
   "source": []
  },
  {
   "cell_type": "markdown",
   "id": "5af8547e-56ed-433c-8ab9-f582710678ce",
   "metadata": {},
   "source": [
    "## <font color = yellow> Continue! Inputs: buys, sells, sale_records "
   ]
  },
  {
   "cell_type": "code",
   "execution_count": 27,
   "id": "a71a31a6-69bd-4041-8fad-c543c5ef7732",
   "metadata": {},
   "outputs": [
    {
     "data": {
      "text/html": [
       "23"
      ],
      "text/latex": [
       "23"
      ],
      "text/markdown": [
       "23"
      ],
      "text/plain": [
       "[1] 23"
      ]
     },
     "metadata": {},
     "output_type": "display_data"
    },
    {
     "data": {
      "text/html": [
       "17"
      ],
      "text/latex": [
       "17"
      ],
      "text/markdown": [
       "17"
      ],
      "text/plain": [
       "[1] 17"
      ]
     },
     "metadata": {},
     "output_type": "display_data"
    },
    {
     "data": {
      "text/html": [
       "1"
      ],
      "text/latex": [
       "1"
      ],
      "text/markdown": [
       "1"
      ],
      "text/plain": [
       "[1] 1"
      ]
     },
     "metadata": {},
     "output_type": "display_data"
    }
   ],
   "source": [
    "nrow(buys)    # if  b > s, then -1, +1 , t/f 23/17\n",
    "nrow(sells)   # if  s > b, then -1, +1 , t/f 22/18\n",
    "nrow(sale_records)\n",
    "\n",
    "# "
   ]
  },
  {
   "cell_type": "code",
   "execution_count": null,
   "id": "beeb8a5b-1dd6-43e6-8db6-e3b03fd388ca",
   "metadata": {},
   "outputs": [],
   "source": []
  },
  {
   "cell_type": "code",
   "execution_count": 28,
   "id": "c707802d-aed2-4ce8-be9a-aedda0ec9b12",
   "metadata": {},
   "outputs": [
    {
     "data": {
      "text/html": [
       "<table class=\"dataframe\">\n",
       "<caption>A data.frame: 1 × 23</caption>\n",
       "<thead>\n",
       "\t<tr><th></th><th scope=col>index</th><th scope=col>date</th><th scope=col>type</th><th scope=col>co</th><th scope=col>quan</th><th scope=col>pps</th><th scope=col>basis</th><th scope=col>sale_quan</th><th scope=col>tally</th><th scope=col>cf_quan</th><th scope=col>⋯</th><th scope=col>buy_pps</th><th scope=col>buy_basis</th><th scope=col>sell_quan</th><th scope=col>sell_pps</th><th scope=col>sell_basis</th><th scope=col>profit_loss</th><th scope=col>Sell_cf</th><th scope=col>Sell_cf_pps</th><th scope=col>Sell_cf_basis</th><th scope=col>TorF</th></tr>\n",
       "\t<tr><th></th><th scope=col>&lt;int&gt;</th><th scope=col>&lt;date&gt;</th><th scope=col>&lt;chr&gt;</th><th scope=col>&lt;chr&gt;</th><th scope=col>&lt;int&gt;</th><th scope=col>&lt;dbl&gt;</th><th scope=col>&lt;dbl&gt;</th><th scope=col>&lt;dbl&gt;</th><th scope=col>&lt;dbl&gt;</th><th scope=col>&lt;dbl&gt;</th><th scope=col>⋯</th><th scope=col>&lt;dbl&gt;</th><th scope=col>&lt;dbl&gt;</th><th scope=col>&lt;dbl&gt;</th><th scope=col>&lt;dbl&gt;</th><th scope=col>&lt;dbl&gt;</th><th scope=col>&lt;dbl&gt;</th><th scope=col>&lt;dbl&gt;</th><th scope=col>&lt;dbl&gt;</th><th scope=col>&lt;dbl&gt;</th><th scope=col>&lt;dbl&gt;</th></tr>\n",
       "</thead>\n",
       "<tbody>\n",
       "\t<tr><th scope=row>1</th><td>1</td><td>2022-12-31</td><td>Buy CF</td><td>AMC</td><td>50</td><td>4.07</td><td>203.5</td><td>0</td><td>0</td><td>0</td><td>⋯</td><td>0</td><td>0</td><td>0</td><td>0</td><td>0</td><td>0</td><td>0</td><td>0</td><td>0</td><td>0</td></tr>\n",
       "</tbody>\n",
       "</table>\n"
      ],
      "text/latex": [
       "A data.frame: 1 × 23\n",
       "\\begin{tabular}{r|lllllllllllllllllllll}\n",
       "  & index & date & type & co & quan & pps & basis & sale\\_quan & tally & cf\\_quan & ⋯ & buy\\_pps & buy\\_basis & sell\\_quan & sell\\_pps & sell\\_basis & profit\\_loss & Sell\\_cf & Sell\\_cf\\_pps & Sell\\_cf\\_basis & TorF\\\\\n",
       "  & <int> & <date> & <chr> & <chr> & <int> & <dbl> & <dbl> & <dbl> & <dbl> & <dbl> & ⋯ & <dbl> & <dbl> & <dbl> & <dbl> & <dbl> & <dbl> & <dbl> & <dbl> & <dbl> & <dbl>\\\\\n",
       "\\hline\n",
       "\t1 & 1 & 2022-12-31 & Buy CF & AMC & 50 & 4.07 & 203.5 & 0 & 0 & 0 & ⋯ & 0 & 0 & 0 & 0 & 0 & 0 & 0 & 0 & 0 & 0\\\\\n",
       "\\end{tabular}\n"
      ],
      "text/markdown": [
       "\n",
       "A data.frame: 1 × 23\n",
       "\n",
       "| <!--/--> | index &lt;int&gt; | date &lt;date&gt; | type &lt;chr&gt; | co &lt;chr&gt; | quan &lt;int&gt; | pps &lt;dbl&gt; | basis &lt;dbl&gt; | sale_quan &lt;dbl&gt; | tally &lt;dbl&gt; | cf_quan &lt;dbl&gt; | ⋯ ⋯ | buy_pps &lt;dbl&gt; | buy_basis &lt;dbl&gt; | sell_quan &lt;dbl&gt; | sell_pps &lt;dbl&gt; | sell_basis &lt;dbl&gt; | profit_loss &lt;dbl&gt; | Sell_cf &lt;dbl&gt; | Sell_cf_pps &lt;dbl&gt; | Sell_cf_basis &lt;dbl&gt; | TorF &lt;dbl&gt; |\n",
       "|---|---|---|---|---|---|---|---|---|---|---|---|---|---|---|---|---|---|---|---|---|---|\n",
       "| 1 | 1 | 2022-12-31 | Buy CF | AMC | 50 | 4.07 | 203.5 | 0 | 0 | 0 | ⋯ | 0 | 0 | 0 | 0 | 0 | 0 | 0 | 0 | 0 | 0 |\n",
       "\n"
      ],
      "text/plain": [
       "  index date       type   co  quan pps  basis sale_quan tally cf_quan ⋯ buy_pps\n",
       "1 1     2022-12-31 Buy CF AMC 50   4.07 203.5 0         0     0       ⋯ 0      \n",
       "  buy_basis sell_quan sell_pps sell_basis profit_loss Sell_cf Sell_cf_pps\n",
       "1 0         0         0        0          0           0       0          \n",
       "  Sell_cf_basis TorF\n",
       "1 0             0   "
      ]
     },
     "metadata": {},
     "output_type": "display_data"
    },
    {
     "data": {
      "text/html": [
       "<table class=\"dataframe\">\n",
       "<caption>A data.frame: 1 × 23</caption>\n",
       "<thead>\n",
       "\t<tr><th></th><th scope=col>index</th><th scope=col>date</th><th scope=col>type</th><th scope=col>co</th><th scope=col>quan</th><th scope=col>pps</th><th scope=col>basis</th><th scope=col>sale_quan</th><th scope=col>tally</th><th scope=col>cf_quan</th><th scope=col>⋯</th><th scope=col>buy_pps</th><th scope=col>buy_basis</th><th scope=col>sell_quan</th><th scope=col>sell_pps</th><th scope=col>sell_basis</th><th scope=col>profit_loss</th><th scope=col>Sell_cf</th><th scope=col>Sell_cf_pps</th><th scope=col>Sell_cf_basis</th><th scope=col>TorF</th></tr>\n",
       "\t<tr><th></th><th scope=col>&lt;int&gt;</th><th scope=col>&lt;date&gt;</th><th scope=col>&lt;chr&gt;</th><th scope=col>&lt;chr&gt;</th><th scope=col>&lt;int&gt;</th><th scope=col>&lt;dbl&gt;</th><th scope=col>&lt;dbl&gt;</th><th scope=col>&lt;int&gt;</th><th scope=col>&lt;int&gt;</th><th scope=col>&lt;int&gt;</th><th scope=col>⋯</th><th scope=col>&lt;dbl&gt;</th><th scope=col>&lt;dbl&gt;</th><th scope=col>&lt;int&gt;</th><th scope=col>&lt;dbl&gt;</th><th scope=col>&lt;dbl&gt;</th><th scope=col>&lt;dbl&gt;</th><th scope=col>&lt;int&gt;</th><th scope=col>&lt;dbl&gt;</th><th scope=col>&lt;dbl&gt;</th><th scope=col>&lt;int&gt;</th></tr>\n",
       "</thead>\n",
       "<tbody>\n",
       "\t<tr><th scope=row>4</th><td>4</td><td>2023-02-03</td><td>Sell</td><td>AMC</td><td>1000</td><td>6.68255</td><td>6682.55</td><td>0</td><td>0</td><td>0</td><td>⋯</td><td>0</td><td>0</td><td>0</td><td>0</td><td>0</td><td>0</td><td>0</td><td>0</td><td>0</td><td>0</td></tr>\n",
       "</tbody>\n",
       "</table>\n"
      ],
      "text/latex": [
       "A data.frame: 1 × 23\n",
       "\\begin{tabular}{r|lllllllllllllllllllll}\n",
       "  & index & date & type & co & quan & pps & basis & sale\\_quan & tally & cf\\_quan & ⋯ & buy\\_pps & buy\\_basis & sell\\_quan & sell\\_pps & sell\\_basis & profit\\_loss & Sell\\_cf & Sell\\_cf\\_pps & Sell\\_cf\\_basis & TorF\\\\\n",
       "  & <int> & <date> & <chr> & <chr> & <int> & <dbl> & <dbl> & <int> & <int> & <int> & ⋯ & <dbl> & <dbl> & <int> & <dbl> & <dbl> & <dbl> & <int> & <dbl> & <dbl> & <int>\\\\\n",
       "\\hline\n",
       "\t4 & 4 & 2023-02-03 & Sell & AMC & 1000 & 6.68255 & 6682.55 & 0 & 0 & 0 & ⋯ & 0 & 0 & 0 & 0 & 0 & 0 & 0 & 0 & 0 & 0\\\\\n",
       "\\end{tabular}\n"
      ],
      "text/markdown": [
       "\n",
       "A data.frame: 1 × 23\n",
       "\n",
       "| <!--/--> | index &lt;int&gt; | date &lt;date&gt; | type &lt;chr&gt; | co &lt;chr&gt; | quan &lt;int&gt; | pps &lt;dbl&gt; | basis &lt;dbl&gt; | sale_quan &lt;int&gt; | tally &lt;int&gt; | cf_quan &lt;int&gt; | ⋯ ⋯ | buy_pps &lt;dbl&gt; | buy_basis &lt;dbl&gt; | sell_quan &lt;int&gt; | sell_pps &lt;dbl&gt; | sell_basis &lt;dbl&gt; | profit_loss &lt;dbl&gt; | Sell_cf &lt;int&gt; | Sell_cf_pps &lt;dbl&gt; | Sell_cf_basis &lt;dbl&gt; | TorF &lt;int&gt; |\n",
       "|---|---|---|---|---|---|---|---|---|---|---|---|---|---|---|---|---|---|---|---|---|---|\n",
       "| 4 | 4 | 2023-02-03 | Sell | AMC | 1000 | 6.68255 | 6682.55 | 0 | 0 | 0 | ⋯ | 0 | 0 | 0 | 0 | 0 | 0 | 0 | 0 | 0 | 0 |\n",
       "\n"
      ],
      "text/plain": [
       "  index date       type co  quan pps     basis   sale_quan tally cf_quan ⋯\n",
       "4 4     2023-02-03 Sell AMC 1000 6.68255 6682.55 0         0     0       ⋯\n",
       "  buy_pps buy_basis sell_quan sell_pps sell_basis profit_loss Sell_cf\n",
       "4 0       0         0         0        0          0           0      \n",
       "  Sell_cf_pps Sell_cf_basis TorF\n",
       "4 0           0             0   "
      ]
     },
     "metadata": {},
     "output_type": "display_data"
    }
   ],
   "source": [
    "b <- buys[1,]\n",
    "s <- sells[1,]\n",
    "b\n",
    "s"
   ]
  },
  {
   "cell_type": "code",
   "execution_count": 29,
   "id": "c36fab8a-279e-4221-be1c-a5f942781a8e",
   "metadata": {},
   "outputs": [
    {
     "name": "stdout",
     "output_type": "stream",
     "text": [
      "              1           \n",
      "index         \"1\"         \n",
      "date          \"2022-12-31\"\n",
      "type          \"Buy CF\"    \n",
      "co            \"AMC\"       \n",
      "quan          \"50\"        \n",
      "pps           \"4.07\"      \n",
      "basis         \"203.5\"     \n",
      "sale_quan     \"0\"         \n",
      "tally         \"0\"         \n",
      "cf_quan       \"0\"         \n",
      "cf_pps        \"0\"         \n",
      "cf_basis      \"0\"         \n",
      "buy_quan      \"0\"         \n",
      "buy_pps       \"0\"         \n",
      "buy_basis     \"0\"         \n",
      "sell_quan     \"0\"         \n",
      "sell_pps      \"0\"         \n",
      "sell_basis    \"0\"         \n",
      "profit_loss   \"0\"         \n",
      "Sell_cf       \"0\"         \n",
      "Sell_cf_pps   \"0\"         \n",
      "Sell_cf_basis \"0\"         \n",
      "TorF          \"0\"         \n"
     ]
    }
   ],
   "source": [
    "print(t(b))"
   ]
  },
  {
   "cell_type": "code",
   "execution_count": null,
   "id": "6f4b8e8c-ada2-4934-aeab-ab5d97cd5d08",
   "metadata": {},
   "outputs": [],
   "source": []
  },
  {
   "cell_type": "code",
   "execution_count": null,
   "id": "3fc178d0-ecb1-4435-900d-0d8016098ae3",
   "metadata": {},
   "outputs": [],
   "source": []
  },
  {
   "cell_type": "code",
   "execution_count": 30,
   "id": "3b152a3e-c7de-4314-8ddc-cf6c5d876ace",
   "metadata": {},
   "outputs": [
    {
     "data": {
      "text/html": [
       "<table class=\"dataframe\">\n",
       "<caption>A data.frame: 1 × 23</caption>\n",
       "<thead>\n",
       "\t<tr><th scope=col>index</th><th scope=col>date</th><th scope=col>type</th><th scope=col>co</th><th scope=col>quan</th><th scope=col>pps</th><th scope=col>basis</th><th scope=col>sale_quan</th><th scope=col>tally</th><th scope=col>cf_quan</th><th scope=col>⋯</th><th scope=col>buy_pps</th><th scope=col>buy_basis</th><th scope=col>sell_quan</th><th scope=col>sell_pps</th><th scope=col>sell_basis</th><th scope=col>profit_loss</th><th scope=col>Sell_cf</th><th scope=col>Sell_cf_pps</th><th scope=col>Sell_cf_basis</th><th scope=col>TorF</th></tr>\n",
       "\t<tr><th scope=col>&lt;int&gt;</th><th scope=col>&lt;date&gt;</th><th scope=col>&lt;chr&gt;</th><th scope=col>&lt;chr&gt;</th><th scope=col>&lt;int&gt;</th><th scope=col>&lt;dbl&gt;</th><th scope=col>&lt;dbl&gt;</th><th scope=col>&lt;int&gt;</th><th scope=col>&lt;int&gt;</th><th scope=col>&lt;int&gt;</th><th scope=col>⋯</th><th scope=col>&lt;dbl&gt;</th><th scope=col>&lt;dbl&gt;</th><th scope=col>&lt;int&gt;</th><th scope=col>&lt;dbl&gt;</th><th scope=col>&lt;dbl&gt;</th><th scope=col>&lt;dbl&gt;</th><th scope=col>&lt;int&gt;</th><th scope=col>&lt;dbl&gt;</th><th scope=col>&lt;dbl&gt;</th><th scope=col>&lt;int&gt;</th></tr>\n",
       "</thead>\n",
       "<tbody>\n",
       "\t<tr><td>1</td><td>2022-12-31</td><td>Buy</td><td>AMC</td><td>1050</td><td>4.07</td><td>4273.5</td><td>0</td><td>0</td><td>50</td><td>⋯</td><td>4.07</td><td>4070</td><td>1000</td><td>5.5124</td><td>5512.4</td><td>1442.4</td><td>0</td><td>0</td><td>0</td><td>0</td></tr>\n",
       "</tbody>\n",
       "</table>\n"
      ],
      "text/latex": [
       "A data.frame: 1 × 23\n",
       "\\begin{tabular}{lllllllllllllllllllll}\n",
       " index & date & type & co & quan & pps & basis & sale\\_quan & tally & cf\\_quan & ⋯ & buy\\_pps & buy\\_basis & sell\\_quan & sell\\_pps & sell\\_basis & profit\\_loss & Sell\\_cf & Sell\\_cf\\_pps & Sell\\_cf\\_basis & TorF\\\\\n",
       " <int> & <date> & <chr> & <chr> & <int> & <dbl> & <dbl> & <int> & <int> & <int> & ⋯ & <dbl> & <dbl> & <int> & <dbl> & <dbl> & <dbl> & <int> & <dbl> & <dbl> & <int>\\\\\n",
       "\\hline\n",
       "\t 1 & 2022-12-31 & Buy & AMC & 1050 & 4.07 & 4273.5 & 0 & 0 & 50 & ⋯ & 4.07 & 4070 & 1000 & 5.5124 & 5512.4 & 1442.4 & 0 & 0 & 0 & 0\\\\\n",
       "\\end{tabular}\n"
      ],
      "text/markdown": [
       "\n",
       "A data.frame: 1 × 23\n",
       "\n",
       "| index &lt;int&gt; | date &lt;date&gt; | type &lt;chr&gt; | co &lt;chr&gt; | quan &lt;int&gt; | pps &lt;dbl&gt; | basis &lt;dbl&gt; | sale_quan &lt;int&gt; | tally &lt;int&gt; | cf_quan &lt;int&gt; | ⋯ ⋯ | buy_pps &lt;dbl&gt; | buy_basis &lt;dbl&gt; | sell_quan &lt;int&gt; | sell_pps &lt;dbl&gt; | sell_basis &lt;dbl&gt; | profit_loss &lt;dbl&gt; | Sell_cf &lt;int&gt; | Sell_cf_pps &lt;dbl&gt; | Sell_cf_basis &lt;dbl&gt; | TorF &lt;int&gt; |\n",
       "|---|---|---|---|---|---|---|---|---|---|---|---|---|---|---|---|---|---|---|---|---|\n",
       "| 1 | 2022-12-31 | Buy | AMC | 1050 | 4.07 | 4273.5 | 0 | 0 | 50 | ⋯ | 4.07 | 4070 | 1000 | 5.5124 | 5512.4 | 1442.4 | 0 | 0 | 0 | 0 |\n",
       "\n"
      ],
      "text/plain": [
       "  index date       type co  quan pps  basis  sale_quan tally cf_quan ⋯ buy_pps\n",
       "1 1     2022-12-31 Buy  AMC 1050 4.07 4273.5 0         0     50      ⋯ 4.07   \n",
       "  buy_basis sell_quan sell_pps sell_basis profit_loss Sell_cf Sell_cf_pps\n",
       "1 4070      1000      5.5124   5512.4     1442.4      0       0          \n",
       "  Sell_cf_basis TorF\n",
       "1 0             0   "
      ]
     },
     "metadata": {},
     "output_type": "display_data"
    }
   ],
   "source": [
    "sale_records\n"
   ]
  },
  {
   "cell_type": "markdown",
   "id": "31f51e3d-191f-452b-b4d0-9a9cab7ba55c",
   "metadata": {},
   "source": [
    "## <font color = yellow> Update b"
   ]
  },
  {
   "cell_type": "code",
   "execution_count": null,
   "id": "b9477fb0-de01-4d4e-865a-b05786c7b4fd",
   "metadata": {},
   "outputs": [],
   "source": []
  },
  {
   "cell_type": "code",
   "execution_count": 31,
   "id": "e1d3fcc7-1095-4939-bfec-9c251362215a",
   "metadata": {},
   "outputs": [
    {
     "name": "stdout",
     "output_type": "stream",
     "text": [
      "Inside update_b, test for: $quan < s$quan && b$type == 'Buy CF':  \n",
      "True \n",
      "Inside update_b, and the 5'th else if ... when there exists 'Buy-CF'  \n"
     ]
    },
    {
     "data": {
      "text/html": [
       "<table class=\"dataframe\">\n",
       "<caption>A data.frame: 1 × 23</caption>\n",
       "<thead>\n",
       "\t<tr><th></th><th scope=col>index</th><th scope=col>date</th><th scope=col>type</th><th scope=col>co</th><th scope=col>quan</th><th scope=col>pps</th><th scope=col>basis</th><th scope=col>sale_quan</th><th scope=col>tally</th><th scope=col>cf_quan</th><th scope=col>⋯</th><th scope=col>buy_pps</th><th scope=col>buy_basis</th><th scope=col>sell_quan</th><th scope=col>sell_pps</th><th scope=col>sell_basis</th><th scope=col>profit_loss</th><th scope=col>Sell_cf</th><th scope=col>Sell_cf_pps</th><th scope=col>Sell_cf_basis</th><th scope=col>TorF</th></tr>\n",
       "\t<tr><th></th><th scope=col>&lt;int&gt;</th><th scope=col>&lt;date&gt;</th><th scope=col>&lt;chr&gt;</th><th scope=col>&lt;chr&gt;</th><th scope=col>&lt;int&gt;</th><th scope=col>&lt;dbl&gt;</th><th scope=col>&lt;dbl&gt;</th><th scope=col>&lt;dbl&gt;</th><th scope=col>&lt;dbl&gt;</th><th scope=col>&lt;dbl&gt;</th><th scope=col>⋯</th><th scope=col>&lt;dbl&gt;</th><th scope=col>&lt;dbl&gt;</th><th scope=col>&lt;int&gt;</th><th scope=col>&lt;dbl&gt;</th><th scope=col>&lt;dbl&gt;</th><th scope=col>&lt;dbl&gt;</th><th scope=col>&lt;int&gt;</th><th scope=col>&lt;dbl&gt;</th><th scope=col>&lt;dbl&gt;</th><th scope=col>&lt;dbl&gt;</th></tr>\n",
       "</thead>\n",
       "<tbody>\n",
       "\t<tr><th scope=row>1</th><td>1</td><td>2022-12-31</td><td>Buy-2xCF</td><td>AMC</td><td>50</td><td>4.07</td><td>203.5</td><td>0</td><td>0</td><td>0</td><td>⋯</td><td>0</td><td>0</td><td>50</td><td>5.5124</td><td>275.62</td><td>72.12</td><td>950</td><td>5.5124</td><td>0</td><td>0</td></tr>\n",
       "</tbody>\n",
       "</table>\n"
      ],
      "text/latex": [
       "A data.frame: 1 × 23\n",
       "\\begin{tabular}{r|lllllllllllllllllllll}\n",
       "  & index & date & type & co & quan & pps & basis & sale\\_quan & tally & cf\\_quan & ⋯ & buy\\_pps & buy\\_basis & sell\\_quan & sell\\_pps & sell\\_basis & profit\\_loss & Sell\\_cf & Sell\\_cf\\_pps & Sell\\_cf\\_basis & TorF\\\\\n",
       "  & <int> & <date> & <chr> & <chr> & <int> & <dbl> & <dbl> & <dbl> & <dbl> & <dbl> & ⋯ & <dbl> & <dbl> & <int> & <dbl> & <dbl> & <dbl> & <int> & <dbl> & <dbl> & <dbl>\\\\\n",
       "\\hline\n",
       "\t1 & 1 & 2022-12-31 & Buy-2xCF & AMC & 50 & 4.07 & 203.5 & 0 & 0 & 0 & ⋯ & 0 & 0 & 50 & 5.5124 & 275.62 & 72.12 & 950 & 5.5124 & 0 & 0\\\\\n",
       "\\end{tabular}\n"
      ],
      "text/markdown": [
       "\n",
       "A data.frame: 1 × 23\n",
       "\n",
       "| <!--/--> | index &lt;int&gt; | date &lt;date&gt; | type &lt;chr&gt; | co &lt;chr&gt; | quan &lt;int&gt; | pps &lt;dbl&gt; | basis &lt;dbl&gt; | sale_quan &lt;dbl&gt; | tally &lt;dbl&gt; | cf_quan &lt;dbl&gt; | ⋯ ⋯ | buy_pps &lt;dbl&gt; | buy_basis &lt;dbl&gt; | sell_quan &lt;int&gt; | sell_pps &lt;dbl&gt; | sell_basis &lt;dbl&gt; | profit_loss &lt;dbl&gt; | Sell_cf &lt;int&gt; | Sell_cf_pps &lt;dbl&gt; | Sell_cf_basis &lt;dbl&gt; | TorF &lt;dbl&gt; |\n",
       "|---|---|---|---|---|---|---|---|---|---|---|---|---|---|---|---|---|---|---|---|---|---|\n",
       "| 1 | 1 | 2022-12-31 | Buy-2xCF | AMC | 50 | 4.07 | 203.5 | 0 | 0 | 0 | ⋯ | 0 | 0 | 50 | 5.5124 | 275.62 | 72.12 | 950 | 5.5124 | 0 | 0 |\n",
       "\n"
      ],
      "text/plain": [
       "  index date       type     co  quan pps  basis sale_quan tally cf_quan ⋯\n",
       "1 1     2022-12-31 Buy-2xCF AMC 50   4.07 203.5 0         0     0       ⋯\n",
       "  buy_pps buy_basis sell_quan sell_pps sell_basis profit_loss Sell_cf\n",
       "1 0       0         50        5.5124   275.62     72.12       950    \n",
       "  Sell_cf_pps Sell_cf_basis TorF\n",
       "1 5.5124      0             0   "
      ]
     },
     "metadata": {},
     "output_type": "display_data"
    }
   ],
   "source": [
    "# update b based on Sale Type: \n",
    "\n",
    "update_b <- function(b) {\n",
    "    \n",
    "     cat(\"Inside update_b, test for: $quan < s$quan && b$type == 'Buy CF': \", \"\\n\")\n",
    "    \n",
    "        if(b$quan < s$quan && b$type == 'Buy CF') {\n",
    "            cat(\"True\", \"\\n\")\n",
    "            }\n",
    "\n",
    "        sale <- s$quan\n",
    "        bs_ratio <- b$quan / s$quan\n",
    "        cf_quan <-  b$quan - s$quan\n",
    "\n",
    "        # assign the cf values - if they exist\n",
    "         #  b > s ... restricted to Buy only\n",
    "        if ( b$quan > s$quan && b$type == \"Buy\") {  \n",
    "            \n",
    "            # b$sale_quan <- b$quan\n",
    "            b$buy_quan <- s$quan\n",
    "            b$buy_pps <-  b$pps\n",
    "            b$buy_basis <-  b$buy_quan * b$pps\n",
    "\n",
    "\n",
    "            b$sell_quan <- s$quan    # cannot sell more than the buy_quan\n",
    "           # b$sell_quan <- b$quan\n",
    "            b$sell_pps <- s$pps\n",
    "            b$sell_basis <- s$quan * s$pps\n",
    "\n",
    "            b$cf_quan <- (b$quan - s$quan)        \n",
    "            b$cf_pps <- b$pps\n",
    "            b$cf_basis <- cf_quan * b$pps           \n",
    "\n",
    "            b$profit_loss <- b$sell_basis - b$buy_basis\n",
    "            # b$sale <- sale\n",
    "\n",
    "            s$type <- \"Buy-CF\"\n",
    "            \n",
    "            \n",
    "            \n",
    "            \n",
    "            \n",
    "            \n",
    "            \n",
    "            \n",
    "            \n",
    "            \n",
    "            \n",
    "            \n",
    "            \n",
    "            \n",
    "            \n",
    "            \n",
    "            \n",
    "            \n",
    "            \n",
    "            \n",
    "            \n",
    "            }else if( b$quan < s$quan && b$type == 'Buy CF') {    \n",
    "                 \n",
    "        cat(\"Inside update_b, and the 5'th else if ... when there exists 'Buy-CF' \", \"\\n\")\n",
    "            \n",
    "            temp <- b   # protect b from errors\n",
    "            \n",
    "            \n",
    "        # Sale \n",
    "            \n",
    "            \n",
    "            temp$type <- \"Buy-2xCF\"\n",
    "           \n",
    "            \n",
    "            temp$sell_quan <- temp$quan\n",
    "            temp$sell_pps <- sale_records$sell_pps[1]\n",
    "            temp$sell_basis <- temp$sell_quan * sale_records$sell_pps\n",
    "            temp$profit_loss <- temp$sell_basis - temp$basis\n",
    "           \n",
    "        # Sell c/f \n",
    "\n",
    "#              temp$cf_quan <- (b$quan - s$quan)        \n",
    "#              temp$cf_pps <- b$pps\n",
    "#              temp$cf_basis <- cf_quan * b$pps             \n",
    "            \n",
    "            \n",
    "\n",
    "            \n",
    "        # \n",
    "            \n",
    "            # update Sale c/f  from sale_records\n",
    "            \n",
    "            \n",
    "            temp$Sell_cf  <-  sale_records$sell_quan - sale_records$cf_quan \n",
    "            temp$Sell_cf_pps   <- sale_records$sell_pps\n",
    "            \n",
    "         #  temp$Sell_cf_basis <- temp$Sell_cf * temp$Sell_cf_pps\n",
    "            \n",
    "            # update b with temp\n",
    "            b <- temp\n",
    "\n",
    "            s$type <- \"Buy-2xCF\"       \n",
    "    \n",
    "            \n",
    "            \n",
    "            \n",
    "            \n",
    "            \n",
    "            \n",
    "            \n",
    "            \n",
    "            \n",
    "            \n",
    "            \n",
    "            \n",
    "            \n",
    "            \n",
    "            \n",
    "            \n",
    "            \n",
    "            \n",
    "            \n",
    "            \n",
    "            \n",
    "            \n",
    "            \n",
    "            \n",
    "            \n",
    "            \n",
    "       # ( s > b ), has sell carryforward\n",
    "        }else if(s$quan > b$quan) {\n",
    "            \n",
    "            \n",
    "            b$sale_quan <- b$quan\n",
    "           # b$buy_quan <- s$quan \n",
    "            b$buy_quan <- b$quan\n",
    "            b$buy_pps <-  b$pps\n",
    "            b$buy_basis <-  b$buy_quan * b$pps\n",
    "\n",
    "        \n",
    "            # Sell c/f\n",
    "            S_cf_quan <- s$quan - b$quan           \n",
    "            b$Sell_cf <-S_cf_quan\n",
    "            b$Sell_cf_pps <- s$pps\n",
    "            b$Sell_cf_basis <- S_cf_quan * s$pps\n",
    "            \n",
    "\n",
    "            # b$sell_quan <- s$quan    # cannot sell more than the buy_quan\n",
    "            b$sell_quan <- b$quan\n",
    "            b$sell_pps <- s$pps\n",
    "            b$sell_basis <- b$quan * s$pps\n",
    "\n",
    "            b$profit_loss <- b$sell_basis - b$buy_basis\n",
    "            \n",
    "            \n",
    "            \n",
    "            \n",
    "            # b$sale <- sale\n",
    "\n",
    "            s$type <- \"SELL-CF\"   \n",
    "            \n",
    "        }else if (s$quan == b$quan) {\n",
    "            \n",
    "        \n",
    "            \n",
    "            \n",
    "             # b$sale_quan <- b$quan\n",
    "            b$buy_quan <- s$quan\n",
    "            b$buy_pps <-  b$pps\n",
    "            b$buy_basis <-  b$buy_quan * b$pps\n",
    "\n",
    "\n",
    "            b$sell_quan <- s$quan    # cannot sell more than the buy_quan\n",
    "           # b$sell_quan <- b$quan\n",
    "            b$sell_pps <- s$pps\n",
    "            b$sell_basis <- s$quan * s$pps\n",
    "\n",
    "            b$profit_loss <- b$sell_basis - b$buy_basis\n",
    "            # b$sale <- sale\n",
    "\n",
    "            s$type <- \"SOLD\"\n",
    "            \n",
    "            }\n",
    "        \n",
    "   \n",
    "#         }else if( b$quan < s$quan && b$type == 'Buy CF') {    \n",
    "                 \n",
    "#         cat(\"Inside update_b, and the 5'th else if ... when there exists 'Buy-CF' \", \"\\n\")\n",
    "            \n",
    "#             temp <- b   # protect b from errors\n",
    "            \n",
    "            \n",
    "#         # Sale \n",
    "#             temp$type <- \"Buy-2xCF\"\n",
    "#             temp$sell_quan <- temp$quan\n",
    "#             temp$sell_pps <- sale_records$sell_pps[1]\n",
    "#             temp$sell_basis <- temp$sell_quan * temp_sell_pps\n",
    "\n",
    "           \n",
    "#         # Sell c/f \n",
    "\n",
    "#              temp$cf_quan <- (b$quan - s$quan)        \n",
    "#              temp$cf_pps <- b$pps\n",
    "#              temp$cf_basis <- cf_quan * b$pps           \n",
    "\n",
    "#             temp$profit_loss <- b$sell_basis - b$buy_basis\n",
    "#         # \n",
    "            \n",
    "#             # update b from temp\n",
    "            \n",
    "#             b <- temp\n",
    "\n",
    "#             s$type <- \"Buy-2CF\"\n",
    "            \n",
    "#         }\n",
    "      \n",
    "\n",
    "        return(b)   \n",
    "}  # fct\n",
    "\n",
    "updated_b <- update_b(b)\n",
    "updated_b  \n",
    "    "
   ]
  },
  {
   "cell_type": "code",
   "execution_count": 32,
   "id": "1d0caada-f7c8-4822-94f8-7719839eb506",
   "metadata": {
    "tags": []
   },
   "outputs": [
    {
     "name": "stdout",
     "output_type": "stream",
     "text": [
      "              1           \n",
      "index         \"1\"         \n",
      "date          \"2022-12-31\"\n",
      "type          \"Buy-2xCF\"  \n",
      "co            \"AMC\"       \n",
      "quan          \"50\"        \n",
      "pps           \"4.07\"      \n",
      "basis         \"203.5\"     \n",
      "sale_quan     \"0\"         \n",
      "tally         \"0\"         \n",
      "cf_quan       \"0\"         \n",
      "cf_pps        \"0\"         \n",
      "cf_basis      \"0\"         \n",
      "buy_quan      \"0\"         \n",
      "buy_pps       \"0\"         \n",
      "buy_basis     \"0\"         \n",
      "sell_quan     \"50\"        \n",
      "sell_pps      \"5.5124\"    \n",
      "sell_basis    \"275.62\"    \n",
      "profit_loss   \"72.12\"     \n",
      "Sell_cf       \"950\"       \n",
      "Sell_cf_pps   \"5.5124\"    \n",
      "Sell_cf_basis \"0\"         \n",
      "TorF          \"0\"         \n"
     ]
    }
   ],
   "source": [
    "print(t(updated_b))"
   ]
  },
  {
   "cell_type": "code",
   "execution_count": null,
   "id": "5c8b3a1a-442c-483e-b932-40aabc91f49a",
   "metadata": {},
   "outputs": [],
   "source": []
  },
  {
   "cell_type": "markdown",
   "id": "90c7b050-17e0-4b5b-9659-7cb6ebdecc6c",
   "metadata": {},
   "source": [
    "## <font color = yellow> Delete one row from buys and sells\n",
    "    \n",
    "#### Nec to start loop at the first (unprocessed rows in buys / sells at the top of the loop"
   ]
  },
  {
   "cell_type": "code",
   "execution_count": 33,
   "id": "e2b2765b-df84-4fe1-bff8-0eef3aa480f0",
   "metadata": {},
   "outputs": [
    {
     "data": {
      "text/html": [
       "23"
      ],
      "text/latex": [
       "23"
      ],
      "text/markdown": [
       "23"
      ],
      "text/plain": [
       "[1] 23"
      ]
     },
     "metadata": {},
     "output_type": "display_data"
    },
    {
     "data": {
      "text/html": [
       "22"
      ],
      "text/latex": [
       "22"
      ],
      "text/markdown": [
       "22"
      ],
      "text/plain": [
       "[1] 22"
      ]
     },
     "metadata": {},
     "output_type": "display_data"
    }
   ],
   "source": [
    "save_sell_one <- data.frame()   #  keep for c/f >> Sell[1, ]\n",
    "\n",
    "nrow(buys)\n",
    "\n",
    "save_sell_one <- sells [1, ]\n",
    "save_buy_one <- buys[-1,]\n",
    "\n",
    "buys <- buys[-1, ]\n",
    "sells <- sells[-1, ]\n",
    "\n",
    "nrow(buys)"
   ]
  },
  {
   "cell_type": "code",
   "execution_count": null,
   "id": "c8c38b9c-8ca9-401d-8203-dbff36e4408c",
   "metadata": {},
   "outputs": [],
   "source": []
  },
  {
   "cell_type": "markdown",
   "id": "9154257b-1029-43f7-874b-2e738d1e0da5",
   "metadata": {},
   "source": [
    "## <font color = yellow> Update the sales_records df w/ updated_b"
   ]
  },
  {
   "cell_type": "code",
   "execution_count": 34,
   "id": "e54c64f2-e095-4e6c-bf76-d3e352ee6d11",
   "metadata": {},
   "outputs": [
    {
     "data": {
      "text/html": [
       "<table class=\"dataframe\">\n",
       "<caption>A data.frame: 2 × 23</caption>\n",
       "<thead>\n",
       "\t<tr><th scope=col>index</th><th scope=col>date</th><th scope=col>type</th><th scope=col>co</th><th scope=col>quan</th><th scope=col>pps</th><th scope=col>basis</th><th scope=col>sale_quan</th><th scope=col>tally</th><th scope=col>cf_quan</th><th scope=col>⋯</th><th scope=col>buy_pps</th><th scope=col>buy_basis</th><th scope=col>sell_quan</th><th scope=col>sell_pps</th><th scope=col>sell_basis</th><th scope=col>profit_loss</th><th scope=col>Sell_cf</th><th scope=col>Sell_cf_pps</th><th scope=col>Sell_cf_basis</th><th scope=col>TorF</th></tr>\n",
       "\t<tr><th scope=col>&lt;int&gt;</th><th scope=col>&lt;date&gt;</th><th scope=col>&lt;chr&gt;</th><th scope=col>&lt;chr&gt;</th><th scope=col>&lt;int&gt;</th><th scope=col>&lt;dbl&gt;</th><th scope=col>&lt;dbl&gt;</th><th scope=col>&lt;dbl&gt;</th><th scope=col>&lt;dbl&gt;</th><th scope=col>&lt;dbl&gt;</th><th scope=col>⋯</th><th scope=col>&lt;dbl&gt;</th><th scope=col>&lt;dbl&gt;</th><th scope=col>&lt;int&gt;</th><th scope=col>&lt;dbl&gt;</th><th scope=col>&lt;dbl&gt;</th><th scope=col>&lt;dbl&gt;</th><th scope=col>&lt;int&gt;</th><th scope=col>&lt;dbl&gt;</th><th scope=col>&lt;dbl&gt;</th><th scope=col>&lt;dbl&gt;</th></tr>\n",
       "</thead>\n",
       "<tbody>\n",
       "\t<tr><td>1</td><td>2022-12-31</td><td>Buy     </td><td>AMC</td><td>1050</td><td>4.07</td><td>4273.5</td><td>0</td><td>0</td><td>50</td><td>⋯</td><td>4.07</td><td>4070</td><td>1000</td><td>5.5124</td><td>5512.40</td><td>1442.40</td><td>  0</td><td>0.0000</td><td>0</td><td>0</td></tr>\n",
       "\t<tr><td>1</td><td>2022-12-31</td><td>Buy-2xCF</td><td>AMC</td><td>  50</td><td>4.07</td><td> 203.5</td><td>0</td><td>0</td><td> 0</td><td>⋯</td><td>0.00</td><td>   0</td><td>  50</td><td>5.5124</td><td> 275.62</td><td>  72.12</td><td>950</td><td>5.5124</td><td>0</td><td>0</td></tr>\n",
       "</tbody>\n",
       "</table>\n"
      ],
      "text/latex": [
       "A data.frame: 2 × 23\n",
       "\\begin{tabular}{lllllllllllllllllllll}\n",
       " index & date & type & co & quan & pps & basis & sale\\_quan & tally & cf\\_quan & ⋯ & buy\\_pps & buy\\_basis & sell\\_quan & sell\\_pps & sell\\_basis & profit\\_loss & Sell\\_cf & Sell\\_cf\\_pps & Sell\\_cf\\_basis & TorF\\\\\n",
       " <int> & <date> & <chr> & <chr> & <int> & <dbl> & <dbl> & <dbl> & <dbl> & <dbl> & ⋯ & <dbl> & <dbl> & <int> & <dbl> & <dbl> & <dbl> & <int> & <dbl> & <dbl> & <dbl>\\\\\n",
       "\\hline\n",
       "\t 1 & 2022-12-31 & Buy      & AMC & 1050 & 4.07 & 4273.5 & 0 & 0 & 50 & ⋯ & 4.07 & 4070 & 1000 & 5.5124 & 5512.40 & 1442.40 &   0 & 0.0000 & 0 & 0\\\\\n",
       "\t 1 & 2022-12-31 & Buy-2xCF & AMC &   50 & 4.07 &  203.5 & 0 & 0 &  0 & ⋯ & 0.00 &    0 &   50 & 5.5124 &  275.62 &   72.12 & 950 & 5.5124 & 0 & 0\\\\\n",
       "\\end{tabular}\n"
      ],
      "text/markdown": [
       "\n",
       "A data.frame: 2 × 23\n",
       "\n",
       "| index &lt;int&gt; | date &lt;date&gt; | type &lt;chr&gt; | co &lt;chr&gt; | quan &lt;int&gt; | pps &lt;dbl&gt; | basis &lt;dbl&gt; | sale_quan &lt;dbl&gt; | tally &lt;dbl&gt; | cf_quan &lt;dbl&gt; | ⋯ ⋯ | buy_pps &lt;dbl&gt; | buy_basis &lt;dbl&gt; | sell_quan &lt;int&gt; | sell_pps &lt;dbl&gt; | sell_basis &lt;dbl&gt; | profit_loss &lt;dbl&gt; | Sell_cf &lt;int&gt; | Sell_cf_pps &lt;dbl&gt; | Sell_cf_basis &lt;dbl&gt; | TorF &lt;dbl&gt; |\n",
       "|---|---|---|---|---|---|---|---|---|---|---|---|---|---|---|---|---|---|---|---|---|\n",
       "| 1 | 2022-12-31 | Buy      | AMC | 1050 | 4.07 | 4273.5 | 0 | 0 | 50 | ⋯ | 4.07 | 4070 | 1000 | 5.5124 | 5512.40 | 1442.40 |   0 | 0.0000 | 0 | 0 |\n",
       "| 1 | 2022-12-31 | Buy-2xCF | AMC |   50 | 4.07 |  203.5 | 0 | 0 |  0 | ⋯ | 0.00 |    0 |   50 | 5.5124 |  275.62 |   72.12 | 950 | 5.5124 | 0 | 0 |\n",
       "\n"
      ],
      "text/plain": [
       "  index date       type     co  quan pps  basis  sale_quan tally cf_quan ⋯\n",
       "1 1     2022-12-31 Buy      AMC 1050 4.07 4273.5 0         0     50      ⋯\n",
       "2 1     2022-12-31 Buy-2xCF AMC   50 4.07  203.5 0         0      0      ⋯\n",
       "  buy_pps buy_basis sell_quan sell_pps sell_basis profit_loss Sell_cf\n",
       "1 4.07    4070      1000      5.5124   5512.40    1442.40       0    \n",
       "2 0.00       0        50      5.5124    275.62      72.12     950    \n",
       "  Sell_cf_pps Sell_cf_basis TorF\n",
       "1 0.0000      0             0   \n",
       "2 5.5124      0             0   "
      ]
     },
     "metadata": {},
     "output_type": "display_data"
    }
   ],
   "source": [
    "sale_records <- rbind(sale_records, updated_b)\n",
    "sale_records"
   ]
  },
  {
   "cell_type": "code",
   "execution_count": null,
   "id": "16bf2a83-6e1b-4172-a07d-45f448ecb857",
   "metadata": {},
   "outputs": [],
   "source": []
  },
  {
   "cell_type": "markdown",
   "id": "83f2d524-34f6-41fd-a840-237830d9d494",
   "metadata": {},
   "source": [
    "## <font color = yellow> "
   ]
  },
  {
   "cell_type": "code",
   "execution_count": null,
   "id": "54029f63-eb39-49d1-a75a-e7408ef146ea",
   "metadata": {},
   "outputs": [],
   "source": []
  }
 ],
 "metadata": {
  "kernelspec": {
   "display_name": "R",
   "language": "R",
   "name": "ir"
  },
  "language_info": {
   "codemirror_mode": "r",
   "file_extension": ".r",
   "mimetype": "text/x-r-source",
   "name": "R",
   "pygments_lexer": "r",
   "version": "4.3.0"
  }
 },
 "nbformat": 4,
 "nbformat_minor": 5
}
