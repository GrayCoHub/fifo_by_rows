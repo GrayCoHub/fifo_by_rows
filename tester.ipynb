{
 "cells": [
  {
   "cell_type": "code",
   "execution_count": null,
   "id": "70ee7ea3-d2c5-45be-8527-10043aab7f6b",
   "metadata": {},
   "outputs": [],
   "source": []
  },
  {
   "cell_type": "code",
   "execution_count": 1,
   "id": "8ff72355-e30c-486c-be3e-086955d46e2b",
   "metadata": {},
   "outputs": [],
   "source": [
    " df <- read.csv(\"fifo_new.csv\", header = TRUE, sep = \",\")\n",
    "df$sale <- as.integer(df$sale)\n"
   ]
  },
  {
   "cell_type": "code",
   "execution_count": null,
   "id": "e679d756-61f6-4c3f-9432-513c8e550f25",
   "metadata": {},
   "outputs": [],
   "source": []
  },
  {
   "cell_type": "code",
   "execution_count": 2,
   "id": "deaa06de-a4cb-4062-9f18-fcb64f81c12e",
   "metadata": {},
   "outputs": [],
   "source": [
    "df_sales <- data.frame()\n",
    "buys <- df[df$type == 'Buy', ]  # Filter buys\n",
    "sells <- df[df$type == 'Sell', ]  # Filter sells"
   ]
  },
  {
   "cell_type": "code",
   "execution_count": 3,
   "id": "77a2ef88-8567-426b-85fb-fbb0c221f3ef",
   "metadata": {},
   "outputs": [],
   "source": [
    "i <- 1 "
   ]
  },
  {
   "cell_type": "markdown",
   "id": "1cddb4d1-8c9b-42db-9980-40f27876fbcd",
   "metadata": {},
   "source": [
    "## <font color = yellow> Create b and s, then modify b in process_sale () fct"
   ]
  },
  {
   "cell_type": "code",
   "execution_count": 4,
   "id": "62e2281e-019d-4300-b6a1-f8358c7b83e4",
   "metadata": {},
   "outputs": [
    {
     "data": {
      "text/html": [
       "<table class=\"dataframe\">\n",
       "<caption>A data.frame: 1 × 20</caption>\n",
       "<thead>\n",
       "\t<tr><th></th><th scope=col>index</th><th scope=col>date</th><th scope=col>type</th><th scope=col>co</th><th scope=col>quan</th><th scope=col>pps</th><th scope=col>basis</th><th scope=col>sale_quan</th><th scope=col>tally</th><th scope=col>cf_quan</th><th scope=col>cf_pps</th><th scope=col>cf_basis</th><th scope=col>buy_quan</th><th scope=col>buy_pps</th><th scope=col>buy_basis</th><th scope=col>sell_quan</th><th scope=col>sell_pps</th><th scope=col>sell_basis</th><th scope=col>profit_loss</th><th scope=col>sale</th></tr>\n",
       "\t<tr><th></th><th scope=col>&lt;int&gt;</th><th scope=col>&lt;int&gt;</th><th scope=col>&lt;chr&gt;</th><th scope=col>&lt;chr&gt;</th><th scope=col>&lt;int&gt;</th><th scope=col>&lt;dbl&gt;</th><th scope=col>&lt;dbl&gt;</th><th scope=col>&lt;int&gt;</th><th scope=col>&lt;dbl&gt;</th><th scope=col>&lt;int&gt;</th><th scope=col>&lt;dbl&gt;</th><th scope=col>&lt;dbl&gt;</th><th scope=col>&lt;int&gt;</th><th scope=col>&lt;dbl&gt;</th><th scope=col>&lt;dbl&gt;</th><th scope=col>&lt;int&gt;</th><th scope=col>&lt;dbl&gt;</th><th scope=col>&lt;dbl&gt;</th><th scope=col>&lt;int&gt;</th><th scope=col>&lt;int&gt;</th></tr>\n",
       "</thead>\n",
       "<tbody>\n",
       "\t<tr><th scope=row>1</th><td>1</td><td>44926</td><td>Buy</td><td>AMC</td><td>1000</td><td>4.07</td><td>4273.5</td><td>0</td><td>0</td><td>0</td><td>0</td><td>0</td><td>0</td><td>0</td><td>0</td><td>0</td><td>0</td><td>0</td><td>0</td><td>0</td></tr>\n",
       "</tbody>\n",
       "</table>\n"
      ],
      "text/latex": [
       "A data.frame: 1 × 20\n",
       "\\begin{tabular}{r|llllllllllllllllllll}\n",
       "  & index & date & type & co & quan & pps & basis & sale\\_quan & tally & cf\\_quan & cf\\_pps & cf\\_basis & buy\\_quan & buy\\_pps & buy\\_basis & sell\\_quan & sell\\_pps & sell\\_basis & profit\\_loss & sale\\\\\n",
       "  & <int> & <int> & <chr> & <chr> & <int> & <dbl> & <dbl> & <int> & <dbl> & <int> & <dbl> & <dbl> & <int> & <dbl> & <dbl> & <int> & <dbl> & <dbl> & <int> & <int>\\\\\n",
       "\\hline\n",
       "\t1 & 1 & 44926 & Buy & AMC & 1000 & 4.07 & 4273.5 & 0 & 0 & 0 & 0 & 0 & 0 & 0 & 0 & 0 & 0 & 0 & 0 & 0\\\\\n",
       "\\end{tabular}\n"
      ],
      "text/markdown": [
       "\n",
       "A data.frame: 1 × 20\n",
       "\n",
       "| <!--/--> | index &lt;int&gt; | date &lt;int&gt; | type &lt;chr&gt; | co &lt;chr&gt; | quan &lt;int&gt; | pps &lt;dbl&gt; | basis &lt;dbl&gt; | sale_quan &lt;int&gt; | tally &lt;dbl&gt; | cf_quan &lt;int&gt; | cf_pps &lt;dbl&gt; | cf_basis &lt;dbl&gt; | buy_quan &lt;int&gt; | buy_pps &lt;dbl&gt; | buy_basis &lt;dbl&gt; | sell_quan &lt;int&gt; | sell_pps &lt;dbl&gt; | sell_basis &lt;dbl&gt; | profit_loss &lt;int&gt; | sale &lt;int&gt; |\n",
       "|---|---|---|---|---|---|---|---|---|---|---|---|---|---|---|---|---|---|---|---|---|\n",
       "| 1 | 1 | 44926 | Buy | AMC | 1000 | 4.07 | 4273.5 | 0 | 0 | 0 | 0 | 0 | 0 | 0 | 0 | 0 | 0 | 0 | 0 | 0 |\n",
       "\n"
      ],
      "text/plain": [
       "  index date  type co  quan pps  basis  sale_quan tally cf_quan cf_pps cf_basis\n",
       "1 1     44926 Buy  AMC 1000 4.07 4273.5 0         0     0       0      0       \n",
       "  buy_quan buy_pps buy_basis sell_quan sell_pps sell_basis profit_loss sale\n",
       "1 0        0       0         0         0        0          0           0   "
      ]
     },
     "metadata": {},
     "output_type": "display_data"
    },
    {
     "data": {
      "text/html": [
       "<table class=\"dataframe\">\n",
       "<caption>A data.frame: 1 × 20</caption>\n",
       "<thead>\n",
       "\t<tr><th></th><th scope=col>index</th><th scope=col>date</th><th scope=col>type</th><th scope=col>co</th><th scope=col>quan</th><th scope=col>pps</th><th scope=col>basis</th><th scope=col>sale_quan</th><th scope=col>tally</th><th scope=col>cf_quan</th><th scope=col>cf_pps</th><th scope=col>cf_basis</th><th scope=col>buy_quan</th><th scope=col>buy_pps</th><th scope=col>buy_basis</th><th scope=col>sell_quan</th><th scope=col>sell_pps</th><th scope=col>sell_basis</th><th scope=col>profit_loss</th><th scope=col>sale</th></tr>\n",
       "\t<tr><th></th><th scope=col>&lt;int&gt;</th><th scope=col>&lt;int&gt;</th><th scope=col>&lt;chr&gt;</th><th scope=col>&lt;chr&gt;</th><th scope=col>&lt;int&gt;</th><th scope=col>&lt;dbl&gt;</th><th scope=col>&lt;dbl&gt;</th><th scope=col>&lt;int&gt;</th><th scope=col>&lt;dbl&gt;</th><th scope=col>&lt;int&gt;</th><th scope=col>&lt;dbl&gt;</th><th scope=col>&lt;dbl&gt;</th><th scope=col>&lt;int&gt;</th><th scope=col>&lt;dbl&gt;</th><th scope=col>&lt;dbl&gt;</th><th scope=col>&lt;int&gt;</th><th scope=col>&lt;dbl&gt;</th><th scope=col>&lt;dbl&gt;</th><th scope=col>&lt;int&gt;</th><th scope=col>&lt;int&gt;</th></tr>\n",
       "</thead>\n",
       "<tbody>\n",
       "\t<tr><th scope=row>2</th><td>2</td><td>44953</td><td>Sell</td><td>AMC</td><td>1000</td><td>5.5124</td><td>5512.4</td><td>0</td><td>0</td><td>0</td><td>0</td><td>0</td><td>0</td><td>0</td><td>0</td><td>0</td><td>0</td><td>0</td><td>0</td><td>0</td></tr>\n",
       "</tbody>\n",
       "</table>\n"
      ],
      "text/latex": [
       "A data.frame: 1 × 20\n",
       "\\begin{tabular}{r|llllllllllllllllllll}\n",
       "  & index & date & type & co & quan & pps & basis & sale\\_quan & tally & cf\\_quan & cf\\_pps & cf\\_basis & buy\\_quan & buy\\_pps & buy\\_basis & sell\\_quan & sell\\_pps & sell\\_basis & profit\\_loss & sale\\\\\n",
       "  & <int> & <int> & <chr> & <chr> & <int> & <dbl> & <dbl> & <int> & <dbl> & <int> & <dbl> & <dbl> & <int> & <dbl> & <dbl> & <int> & <dbl> & <dbl> & <int> & <int>\\\\\n",
       "\\hline\n",
       "\t2 & 2 & 44953 & Sell & AMC & 1000 & 5.5124 & 5512.4 & 0 & 0 & 0 & 0 & 0 & 0 & 0 & 0 & 0 & 0 & 0 & 0 & 0\\\\\n",
       "\\end{tabular}\n"
      ],
      "text/markdown": [
       "\n",
       "A data.frame: 1 × 20\n",
       "\n",
       "| <!--/--> | index &lt;int&gt; | date &lt;int&gt; | type &lt;chr&gt; | co &lt;chr&gt; | quan &lt;int&gt; | pps &lt;dbl&gt; | basis &lt;dbl&gt; | sale_quan &lt;int&gt; | tally &lt;dbl&gt; | cf_quan &lt;int&gt; | cf_pps &lt;dbl&gt; | cf_basis &lt;dbl&gt; | buy_quan &lt;int&gt; | buy_pps &lt;dbl&gt; | buy_basis &lt;dbl&gt; | sell_quan &lt;int&gt; | sell_pps &lt;dbl&gt; | sell_basis &lt;dbl&gt; | profit_loss &lt;int&gt; | sale &lt;int&gt; |\n",
       "|---|---|---|---|---|---|---|---|---|---|---|---|---|---|---|---|---|---|---|---|---|\n",
       "| 2 | 2 | 44953 | Sell | AMC | 1000 | 5.5124 | 5512.4 | 0 | 0 | 0 | 0 | 0 | 0 | 0 | 0 | 0 | 0 | 0 | 0 | 0 |\n",
       "\n"
      ],
      "text/plain": [
       "  index date  type co  quan pps    basis  sale_quan tally cf_quan cf_pps\n",
       "2 2     44953 Sell AMC 1000 5.5124 5512.4 0         0     0       0     \n",
       "  cf_basis buy_quan buy_pps buy_basis sell_quan sell_pps sell_basis profit_loss\n",
       "2 0        0        0       0         0         0        0          0          \n",
       "  sale\n",
       "2 0   "
      ]
     },
     "metadata": {},
     "output_type": "display_data"
    }
   ],
   "source": [
    "# create one line dfs (first row ) from buys and sells dfs\n",
    "s <- data.frame()\n",
    "b <- data.frame()\n",
    "\n",
    "# Filters the dfs buys and sells, then creates the single row dfs: b & s\n",
    "\n",
    "row_b <- function(b) {\n",
    "        b <- b\n",
    "        b <- buys[i,]\n",
    "        return(b)\n",
    "    }\n",
    "\n",
    "row_s <- function(s) {\n",
    "        s <- s\n",
    "        s <- sells[i,]\n",
    "        return(s)\n",
    "    }\n",
    "\n",
    "\n",
    "b <- row_b(b)   \n",
    "s <- row_s(s)    \n",
    "\n",
    "\n",
    "b\n",
    "s\n"
   ]
  },
  {
   "cell_type": "markdown",
   "id": "2b1ce22d-f411-4e05-bc85-986cfb62cad5",
   "metadata": {},
   "source": [
    "### <font color = yellow> Pass b to the fct: process_sale(b) - which will modify b and return as new variable"
   ]
  },
  {
   "cell_type": "code",
   "execution_count": 5,
   "id": "8ae83675-9365-4928-9ef6-3604777d43db",
   "metadata": {},
   "outputs": [],
   "source": [
    "process_sale <- function(b) {\n",
    "    \n",
    "     # b <- b\n",
    "    \n",
    "    cat(\"\\n\\n\",\" Top of process sale function (): \", \"\\n\")\n",
    "    \n",
    "    sale <- s$quan\n",
    "    bs_ratio <- b$quan / s$quan\n",
    "    cf_quan <-  b$quan - s$quan\n",
    "    \n",
    "    # assign the cf values - if they exist\n",
    "    if(b$quan > s$quan) {\n",
    "        b$cf_quan <- (b$quan - s$quan)        \n",
    "        b$cf_pps <- b$pps\n",
    "        b$cf_basis <- cf_quan * b$pps\n",
    "    } else {\n",
    "    b$sale_quan <- b$quan\n",
    "    b$buy_quan <- s$quan \n",
    "    b$buy_pps <-  b$pps\n",
    "    b$buy_basis <-  b$buy_quan * b$pps\n",
    "\n",
    "    b$sell_quan <- s$quan\n",
    "    b$sell_pps <- s$pps\n",
    "    b$sell_basis <- s$quan * s$pps\n",
    "\n",
    "    b$profit_loss <- b$sell_basis - b$buy_basis\n",
    "    b$sale <- sale\n",
    "    \n",
    "    s$type <- \"SOLD\"  \n",
    "        \n",
    "    } # else\n",
    "    \n",
    "    return(b)\n",
    "    }"
   ]
  },
  {
   "cell_type": "code",
   "execution_count": 6,
   "id": "bf83e3b9-50db-4000-a5cb-c25d2b43045b",
   "metadata": {},
   "outputs": [
    {
     "name": "stdout",
     "output_type": "stream",
     "text": [
      "\n",
      "\n",
      "  Top of process sale function ():  \n"
     ]
    },
    {
     "data": {
      "text/html": [
       "<table class=\"dataframe\">\n",
       "<caption>A data.frame: 1 × 20</caption>\n",
       "<thead>\n",
       "\t<tr><th></th><th scope=col>index</th><th scope=col>date</th><th scope=col>type</th><th scope=col>co</th><th scope=col>quan</th><th scope=col>pps</th><th scope=col>basis</th><th scope=col>sale_quan</th><th scope=col>tally</th><th scope=col>cf_quan</th><th scope=col>cf_pps</th><th scope=col>cf_basis</th><th scope=col>buy_quan</th><th scope=col>buy_pps</th><th scope=col>buy_basis</th><th scope=col>sell_quan</th><th scope=col>sell_pps</th><th scope=col>sell_basis</th><th scope=col>profit_loss</th><th scope=col>sale</th></tr>\n",
       "\t<tr><th></th><th scope=col>&lt;int&gt;</th><th scope=col>&lt;int&gt;</th><th scope=col>&lt;chr&gt;</th><th scope=col>&lt;chr&gt;</th><th scope=col>&lt;int&gt;</th><th scope=col>&lt;dbl&gt;</th><th scope=col>&lt;dbl&gt;</th><th scope=col>&lt;int&gt;</th><th scope=col>&lt;dbl&gt;</th><th scope=col>&lt;int&gt;</th><th scope=col>&lt;dbl&gt;</th><th scope=col>&lt;dbl&gt;</th><th scope=col>&lt;int&gt;</th><th scope=col>&lt;dbl&gt;</th><th scope=col>&lt;dbl&gt;</th><th scope=col>&lt;int&gt;</th><th scope=col>&lt;dbl&gt;</th><th scope=col>&lt;dbl&gt;</th><th scope=col>&lt;dbl&gt;</th><th scope=col>&lt;int&gt;</th></tr>\n",
       "</thead>\n",
       "<tbody>\n",
       "\t<tr><th scope=row>1</th><td>1</td><td>44926</td><td>Buy</td><td>AMC</td><td>1000</td><td>4.07</td><td>4273.5</td><td>1000</td><td>0</td><td>0</td><td>0</td><td>0</td><td>1000</td><td>4.07</td><td>4070</td><td>1000</td><td>5.5124</td><td>5512.4</td><td>1442.4</td><td>1000</td></tr>\n",
       "</tbody>\n",
       "</table>\n"
      ],
      "text/latex": [
       "A data.frame: 1 × 20\n",
       "\\begin{tabular}{r|llllllllllllllllllll}\n",
       "  & index & date & type & co & quan & pps & basis & sale\\_quan & tally & cf\\_quan & cf\\_pps & cf\\_basis & buy\\_quan & buy\\_pps & buy\\_basis & sell\\_quan & sell\\_pps & sell\\_basis & profit\\_loss & sale\\\\\n",
       "  & <int> & <int> & <chr> & <chr> & <int> & <dbl> & <dbl> & <int> & <dbl> & <int> & <dbl> & <dbl> & <int> & <dbl> & <dbl> & <int> & <dbl> & <dbl> & <dbl> & <int>\\\\\n",
       "\\hline\n",
       "\t1 & 1 & 44926 & Buy & AMC & 1000 & 4.07 & 4273.5 & 1000 & 0 & 0 & 0 & 0 & 1000 & 4.07 & 4070 & 1000 & 5.5124 & 5512.4 & 1442.4 & 1000\\\\\n",
       "\\end{tabular}\n"
      ],
      "text/markdown": [
       "\n",
       "A data.frame: 1 × 20\n",
       "\n",
       "| <!--/--> | index &lt;int&gt; | date &lt;int&gt; | type &lt;chr&gt; | co &lt;chr&gt; | quan &lt;int&gt; | pps &lt;dbl&gt; | basis &lt;dbl&gt; | sale_quan &lt;int&gt; | tally &lt;dbl&gt; | cf_quan &lt;int&gt; | cf_pps &lt;dbl&gt; | cf_basis &lt;dbl&gt; | buy_quan &lt;int&gt; | buy_pps &lt;dbl&gt; | buy_basis &lt;dbl&gt; | sell_quan &lt;int&gt; | sell_pps &lt;dbl&gt; | sell_basis &lt;dbl&gt; | profit_loss &lt;dbl&gt; | sale &lt;int&gt; |\n",
       "|---|---|---|---|---|---|---|---|---|---|---|---|---|---|---|---|---|---|---|---|---|\n",
       "| 1 | 1 | 44926 | Buy | AMC | 1000 | 4.07 | 4273.5 | 1000 | 0 | 0 | 0 | 0 | 1000 | 4.07 | 4070 | 1000 | 5.5124 | 5512.4 | 1442.4 | 1000 |\n",
       "\n"
      ],
      "text/plain": [
       "  index date  type co  quan pps  basis  sale_quan tally cf_quan cf_pps cf_basis\n",
       "1 1     44926 Buy  AMC 1000 4.07 4273.5 1000      0     0       0      0       \n",
       "  buy_quan buy_pps buy_basis sell_quan sell_pps sell_basis profit_loss sale\n",
       "1 1000     4.07    4070      1000      5.5124   5512.4     1442.4      1000"
      ]
     },
     "metadata": {},
     "output_type": "display_data"
    }
   ],
   "source": [
    "# result var w/ fct call\n",
    "check <- process_sale(b)\n",
    "\n",
    "# result var\n",
    "check"
   ]
  },
  {
   "cell_type": "code",
   "execution_count": null,
   "id": "2bf15b50-3505-4a81-8571-bf03bb2a7ef5",
   "metadata": {},
   "outputs": [],
   "source": []
  },
  {
   "cell_type": "markdown",
   "id": "ebd91b56-f42d-4c06-ad5e-48948de121c0",
   "metadata": {},
   "source": [
    "## <font color = yellow> Next, have the fct, process_sale(), work w/in a for-loop()"
   ]
  },
  {
   "cell_type": "code",
   "execution_count": null,
   "id": "c0d81cbb-ed86-40d2-8f56-b1870213eb5c",
   "metadata": {},
   "outputs": [],
   "source": []
  },
  {
   "cell_type": "code",
   "execution_count": 26,
   "id": "6237634d-6a80-47be-a690-7baabce008c1",
   "metadata": {},
   "outputs": [],
   "source": [
    " df <- read.csv(\"fifo_new.csv\", header = TRUE, sep = \",\")\n",
    "df$sale <- as.integer(df$sale)\n",
    "df_sales <- data.frame()\n",
    "buys <- df[df$type == 'Buy', ]  # Filter buys\n",
    "sells <- df[df$type == 'Sell', ]  # Filter sells\n"
   ]
  },
  {
   "cell_type": "code",
   "execution_count": 27,
   "id": "034287b2-2644-4a1c-896c-fa8b1083e9f4",
   "metadata": {},
   "outputs": [
    {
     "data": {
      "text/html": [
       "<table class=\"dataframe\">\n",
       "<caption>A data.frame: 3 × 20</caption>\n",
       "<thead>\n",
       "\t<tr><th></th><th scope=col>index</th><th scope=col>date</th><th scope=col>type</th><th scope=col>co</th><th scope=col>quan</th><th scope=col>pps</th><th scope=col>basis</th><th scope=col>sale_quan</th><th scope=col>tally</th><th scope=col>cf_quan</th><th scope=col>cf_pps</th><th scope=col>cf_basis</th><th scope=col>buy_quan</th><th scope=col>buy_pps</th><th scope=col>buy_basis</th><th scope=col>sell_quan</th><th scope=col>sell_pps</th><th scope=col>sell_basis</th><th scope=col>profit_loss</th><th scope=col>sale</th></tr>\n",
       "\t<tr><th></th><th scope=col>&lt;int&gt;</th><th scope=col>&lt;int&gt;</th><th scope=col>&lt;chr&gt;</th><th scope=col>&lt;chr&gt;</th><th scope=col>&lt;int&gt;</th><th scope=col>&lt;dbl&gt;</th><th scope=col>&lt;dbl&gt;</th><th scope=col>&lt;int&gt;</th><th scope=col>&lt;dbl&gt;</th><th scope=col>&lt;int&gt;</th><th scope=col>&lt;dbl&gt;</th><th scope=col>&lt;dbl&gt;</th><th scope=col>&lt;int&gt;</th><th scope=col>&lt;dbl&gt;</th><th scope=col>&lt;dbl&gt;</th><th scope=col>&lt;int&gt;</th><th scope=col>&lt;dbl&gt;</th><th scope=col>&lt;dbl&gt;</th><th scope=col>&lt;int&gt;</th><th scope=col>&lt;int&gt;</th></tr>\n",
       "</thead>\n",
       "<tbody>\n",
       "\t<tr><th scope=row>1</th><td>1</td><td>44926</td><td>Buy</td><td>AMC</td><td>1000</td><td>4.070</td><td>4273.5</td><td>0</td><td>0</td><td>0</td><td>0</td><td>0</td><td>0</td><td>0</td><td>0</td><td>0</td><td>0</td><td>0</td><td>0</td><td>0</td></tr>\n",
       "\t<tr><th scope=row>3</th><td>3</td><td>44946</td><td>Buy</td><td>AMC</td><td>1000</td><td>5.625</td><td>5625.0</td><td>0</td><td>0</td><td>0</td><td>0</td><td>0</td><td>0</td><td>0</td><td>0</td><td>0</td><td>0</td><td>0</td><td>0</td><td>0</td></tr>\n",
       "\t<tr><th scope=row>5</th><td>5</td><td>44949</td><td>Buy</td><td>AMC</td><td>1000</td><td>5.788</td><td>5788.0</td><td>0</td><td>0</td><td>0</td><td>0</td><td>0</td><td>0</td><td>0</td><td>0</td><td>0</td><td>0</td><td>0</td><td>0</td><td>0</td></tr>\n",
       "</tbody>\n",
       "</table>\n"
      ],
      "text/latex": [
       "A data.frame: 3 × 20\n",
       "\\begin{tabular}{r|llllllllllllllllllll}\n",
       "  & index & date & type & co & quan & pps & basis & sale\\_quan & tally & cf\\_quan & cf\\_pps & cf\\_basis & buy\\_quan & buy\\_pps & buy\\_basis & sell\\_quan & sell\\_pps & sell\\_basis & profit\\_loss & sale\\\\\n",
       "  & <int> & <int> & <chr> & <chr> & <int> & <dbl> & <dbl> & <int> & <dbl> & <int> & <dbl> & <dbl> & <int> & <dbl> & <dbl> & <int> & <dbl> & <dbl> & <int> & <int>\\\\\n",
       "\\hline\n",
       "\t1 & 1 & 44926 & Buy & AMC & 1000 & 4.070 & 4273.5 & 0 & 0 & 0 & 0 & 0 & 0 & 0 & 0 & 0 & 0 & 0 & 0 & 0\\\\\n",
       "\t3 & 3 & 44946 & Buy & AMC & 1000 & 5.625 & 5625.0 & 0 & 0 & 0 & 0 & 0 & 0 & 0 & 0 & 0 & 0 & 0 & 0 & 0\\\\\n",
       "\t5 & 5 & 44949 & Buy & AMC & 1000 & 5.788 & 5788.0 & 0 & 0 & 0 & 0 & 0 & 0 & 0 & 0 & 0 & 0 & 0 & 0 & 0\\\\\n",
       "\\end{tabular}\n"
      ],
      "text/markdown": [
       "\n",
       "A data.frame: 3 × 20\n",
       "\n",
       "| <!--/--> | index &lt;int&gt; | date &lt;int&gt; | type &lt;chr&gt; | co &lt;chr&gt; | quan &lt;int&gt; | pps &lt;dbl&gt; | basis &lt;dbl&gt; | sale_quan &lt;int&gt; | tally &lt;dbl&gt; | cf_quan &lt;int&gt; | cf_pps &lt;dbl&gt; | cf_basis &lt;dbl&gt; | buy_quan &lt;int&gt; | buy_pps &lt;dbl&gt; | buy_basis &lt;dbl&gt; | sell_quan &lt;int&gt; | sell_pps &lt;dbl&gt; | sell_basis &lt;dbl&gt; | profit_loss &lt;int&gt; | sale &lt;int&gt; |\n",
       "|---|---|---|---|---|---|---|---|---|---|---|---|---|---|---|---|---|---|---|---|---|\n",
       "| 1 | 1 | 44926 | Buy | AMC | 1000 | 4.070 | 4273.5 | 0 | 0 | 0 | 0 | 0 | 0 | 0 | 0 | 0 | 0 | 0 | 0 | 0 |\n",
       "| 3 | 3 | 44946 | Buy | AMC | 1000 | 5.625 | 5625.0 | 0 | 0 | 0 | 0 | 0 | 0 | 0 | 0 | 0 | 0 | 0 | 0 | 0 |\n",
       "| 5 | 5 | 44949 | Buy | AMC | 1000 | 5.788 | 5788.0 | 0 | 0 | 0 | 0 | 0 | 0 | 0 | 0 | 0 | 0 | 0 | 0 | 0 |\n",
       "\n"
      ],
      "text/plain": [
       "  index date  type co  quan pps   basis  sale_quan tally cf_quan cf_pps\n",
       "1 1     44926 Buy  AMC 1000 4.070 4273.5 0         0     0       0     \n",
       "3 3     44946 Buy  AMC 1000 5.625 5625.0 0         0     0       0     \n",
       "5 5     44949 Buy  AMC 1000 5.788 5788.0 0         0     0       0     \n",
       "  cf_basis buy_quan buy_pps buy_basis sell_quan sell_pps sell_basis profit_loss\n",
       "1 0        0        0       0         0         0        0          0          \n",
       "3 0        0        0       0         0         0        0          0          \n",
       "5 0        0        0       0         0         0        0          0          \n",
       "  sale\n",
       "1 0   \n",
       "3 0   \n",
       "5 0   "
      ]
     },
     "metadata": {},
     "output_type": "display_data"
    },
    {
     "data": {
      "text/html": [
       "<table class=\"dataframe\">\n",
       "<caption>A data.frame: 3 × 20</caption>\n",
       "<thead>\n",
       "\t<tr><th></th><th scope=col>index</th><th scope=col>date</th><th scope=col>type</th><th scope=col>co</th><th scope=col>quan</th><th scope=col>pps</th><th scope=col>basis</th><th scope=col>sale_quan</th><th scope=col>tally</th><th scope=col>cf_quan</th><th scope=col>cf_pps</th><th scope=col>cf_basis</th><th scope=col>buy_quan</th><th scope=col>buy_pps</th><th scope=col>buy_basis</th><th scope=col>sell_quan</th><th scope=col>sell_pps</th><th scope=col>sell_basis</th><th scope=col>profit_loss</th><th scope=col>sale</th></tr>\n",
       "\t<tr><th></th><th scope=col>&lt;int&gt;</th><th scope=col>&lt;int&gt;</th><th scope=col>&lt;chr&gt;</th><th scope=col>&lt;chr&gt;</th><th scope=col>&lt;int&gt;</th><th scope=col>&lt;dbl&gt;</th><th scope=col>&lt;dbl&gt;</th><th scope=col>&lt;int&gt;</th><th scope=col>&lt;dbl&gt;</th><th scope=col>&lt;int&gt;</th><th scope=col>&lt;dbl&gt;</th><th scope=col>&lt;dbl&gt;</th><th scope=col>&lt;int&gt;</th><th scope=col>&lt;dbl&gt;</th><th scope=col>&lt;dbl&gt;</th><th scope=col>&lt;int&gt;</th><th scope=col>&lt;dbl&gt;</th><th scope=col>&lt;dbl&gt;</th><th scope=col>&lt;int&gt;</th><th scope=col>&lt;int&gt;</th></tr>\n",
       "</thead>\n",
       "<tbody>\n",
       "\t<tr><th scope=row>2</th><td>2</td><td>44953</td><td>Sell</td><td>AMC</td><td>1000</td><td>5.51240</td><td>5512.40</td><td>0</td><td>0</td><td>0</td><td>0</td><td>0</td><td>0</td><td>0</td><td>0</td><td>0</td><td>0</td><td>0</td><td>0</td><td>0</td></tr>\n",
       "\t<tr><th scope=row>4</th><td>4</td><td>44960</td><td>Sell</td><td>AMC</td><td>1000</td><td>6.68255</td><td>6682.55</td><td>0</td><td>0</td><td>0</td><td>0</td><td>0</td><td>0</td><td>0</td><td>0</td><td>0</td><td>0</td><td>0</td><td>0</td><td>0</td></tr>\n",
       "\t<tr><th scope=row>6</th><td>6</td><td>44960</td><td>Sell</td><td>AMC</td><td>1000</td><td>6.25500</td><td>6255.00</td><td>0</td><td>0</td><td>0</td><td>0</td><td>0</td><td>0</td><td>0</td><td>0</td><td>0</td><td>0</td><td>0</td><td>0</td><td>0</td></tr>\n",
       "</tbody>\n",
       "</table>\n"
      ],
      "text/latex": [
       "A data.frame: 3 × 20\n",
       "\\begin{tabular}{r|llllllllllllllllllll}\n",
       "  & index & date & type & co & quan & pps & basis & sale\\_quan & tally & cf\\_quan & cf\\_pps & cf\\_basis & buy\\_quan & buy\\_pps & buy\\_basis & sell\\_quan & sell\\_pps & sell\\_basis & profit\\_loss & sale\\\\\n",
       "  & <int> & <int> & <chr> & <chr> & <int> & <dbl> & <dbl> & <int> & <dbl> & <int> & <dbl> & <dbl> & <int> & <dbl> & <dbl> & <int> & <dbl> & <dbl> & <int> & <int>\\\\\n",
       "\\hline\n",
       "\t2 & 2 & 44953 & Sell & AMC & 1000 & 5.51240 & 5512.40 & 0 & 0 & 0 & 0 & 0 & 0 & 0 & 0 & 0 & 0 & 0 & 0 & 0\\\\\n",
       "\t4 & 4 & 44960 & Sell & AMC & 1000 & 6.68255 & 6682.55 & 0 & 0 & 0 & 0 & 0 & 0 & 0 & 0 & 0 & 0 & 0 & 0 & 0\\\\\n",
       "\t6 & 6 & 44960 & Sell & AMC & 1000 & 6.25500 & 6255.00 & 0 & 0 & 0 & 0 & 0 & 0 & 0 & 0 & 0 & 0 & 0 & 0 & 0\\\\\n",
       "\\end{tabular}\n"
      ],
      "text/markdown": [
       "\n",
       "A data.frame: 3 × 20\n",
       "\n",
       "| <!--/--> | index &lt;int&gt; | date &lt;int&gt; | type &lt;chr&gt; | co &lt;chr&gt; | quan &lt;int&gt; | pps &lt;dbl&gt; | basis &lt;dbl&gt; | sale_quan &lt;int&gt; | tally &lt;dbl&gt; | cf_quan &lt;int&gt; | cf_pps &lt;dbl&gt; | cf_basis &lt;dbl&gt; | buy_quan &lt;int&gt; | buy_pps &lt;dbl&gt; | buy_basis &lt;dbl&gt; | sell_quan &lt;int&gt; | sell_pps &lt;dbl&gt; | sell_basis &lt;dbl&gt; | profit_loss &lt;int&gt; | sale &lt;int&gt; |\n",
       "|---|---|---|---|---|---|---|---|---|---|---|---|---|---|---|---|---|---|---|---|---|\n",
       "| 2 | 2 | 44953 | Sell | AMC | 1000 | 5.51240 | 5512.40 | 0 | 0 | 0 | 0 | 0 | 0 | 0 | 0 | 0 | 0 | 0 | 0 | 0 |\n",
       "| 4 | 4 | 44960 | Sell | AMC | 1000 | 6.68255 | 6682.55 | 0 | 0 | 0 | 0 | 0 | 0 | 0 | 0 | 0 | 0 | 0 | 0 | 0 |\n",
       "| 6 | 6 | 44960 | Sell | AMC | 1000 | 6.25500 | 6255.00 | 0 | 0 | 0 | 0 | 0 | 0 | 0 | 0 | 0 | 0 | 0 | 0 | 0 |\n",
       "\n"
      ],
      "text/plain": [
       "  index date  type co  quan pps     basis   sale_quan tally cf_quan cf_pps\n",
       "2 2     44953 Sell AMC 1000 5.51240 5512.40 0         0     0       0     \n",
       "4 4     44960 Sell AMC 1000 6.68255 6682.55 0         0     0       0     \n",
       "6 6     44960 Sell AMC 1000 6.25500 6255.00 0         0     0       0     \n",
       "  cf_basis buy_quan buy_pps buy_basis sell_quan sell_pps sell_basis profit_loss\n",
       "2 0        0        0       0         0         0        0          0          \n",
       "4 0        0        0       0         0         0        0          0          \n",
       "6 0        0        0       0         0         0        0          0          \n",
       "  sale\n",
       "2 0   \n",
       "4 0   \n",
       "6 0   "
      ]
     },
     "metadata": {},
     "output_type": "display_data"
    }
   ],
   "source": [
    "head(buys, 3)\n",
    "head(sells, 3)"
   ]
  },
  {
   "cell_type": "code",
   "execution_count": 28,
   "id": "6ffff8aa-7c92-4e29-9fef-74c356d1ea10",
   "metadata": {},
   "outputs": [],
   "source": [
    "process_sale <- function(b, buys) {\n",
    "    \n",
    "    \n",
    "    #b <- b\n",
    "    # s < s\n",
    "   # buys <- buys\n",
    "    \n",
    "    cat(\"Inside: process sale function ().  Have the [i] value of: \", i,  \"\\n\")\n",
    "    \n",
    "    sale <- s$quan\n",
    "    bs_ratio <- b$quan / s$quan\n",
    "    cf_quan <-  b$quan - s$quan\n",
    "    \n",
    "    # assign the cf values - if they exist\n",
    "#     if(b$quan[i] > s$quan[i]) {\n",
    "#         b$cf_quan[i] <- (b$quan[i] - s$quan[i])        \n",
    "#         b$cf_pps[i] <- b$pps[i]\n",
    "#         b$cf_basis[i] <- cf_quan[i] * b$pps[i]\n",
    "#     }\n",
    "    \n",
    "    # assign regular sale values: ALWAYS \n",
    "    b$sale_quan <- b$quan\n",
    "    b$buy_quan <- s$quan \n",
    "    b$buy_pps <-  b$pps\n",
    "    b$buy_basis <-  b$buy_quan * b$pps\n",
    "\n",
    "    b$sell_quan <- s$quan\n",
    "    b$sell_pps <- s$pps\n",
    "    b$sell_basis <- s$quan * s$pps\n",
    "\n",
    "    b$profit_loss <- b$sell_basis - b$buy_basis\n",
    "    b$sale <- sale\n",
    "    \n",
    "    s$type <- \"SOLD\"\n",
    "    \n",
    "#      b$sale_quan[i] <- b$quan[i]\n",
    "#     b$buy_quan[i] <- s$quan[i] \n",
    "#     b$buy_pps[i] <-  b$pps[i]\n",
    "#     b$buy_basis[i] <-  b$buy_quan * b$pps[i]\n",
    "\n",
    "#     b$sell_quan[i] <- s$quan[i]\n",
    "#     b$sell_pps[i] <- s$pps[i]\n",
    "#     b$sell_basis[i] <- s$quan[i] * s$pps[i]\n",
    "\n",
    "#     b$profit_loss[i] <- b$sell_basis[i] - b$buy_basis[i]\n",
    "#     b$sale <- sale[i]\n",
    "    \n",
    "#    s$type[i] <- \"SOLD\"\n",
    "    \n",
    "    buys <- buys[-1, ]   # clip the first row in buys\n",
    "        \n",
    "        \n",
    "    return(b)\n",
    "    }"
   ]
  },
  {
   "cell_type": "code",
   "execution_count": null,
   "id": "4825b4b9-5e6e-4a01-8785-37011c1f25e4",
   "metadata": {},
   "outputs": [],
   "source": []
  },
  {
   "cell_type": "code",
   "execution_count": 29,
   "id": "4cfdb929-9c52-4ce5-b249-f0616c8eec53",
   "metadata": {},
   "outputs": [
    {
     "data": {
      "text/html": [
       "<table class=\"dataframe\">\n",
       "<caption>A data.frame: 1 × 20</caption>\n",
       "<thead>\n",
       "\t<tr><th></th><th scope=col>index</th><th scope=col>date</th><th scope=col>type</th><th scope=col>co</th><th scope=col>quan</th><th scope=col>pps</th><th scope=col>basis</th><th scope=col>sale_quan</th><th scope=col>tally</th><th scope=col>cf_quan</th><th scope=col>cf_pps</th><th scope=col>cf_basis</th><th scope=col>buy_quan</th><th scope=col>buy_pps</th><th scope=col>buy_basis</th><th scope=col>sell_quan</th><th scope=col>sell_pps</th><th scope=col>sell_basis</th><th scope=col>profit_loss</th><th scope=col>sale</th></tr>\n",
       "\t<tr><th></th><th scope=col>&lt;int&gt;</th><th scope=col>&lt;int&gt;</th><th scope=col>&lt;chr&gt;</th><th scope=col>&lt;chr&gt;</th><th scope=col>&lt;int&gt;</th><th scope=col>&lt;dbl&gt;</th><th scope=col>&lt;dbl&gt;</th><th scope=col>&lt;int&gt;</th><th scope=col>&lt;dbl&gt;</th><th scope=col>&lt;int&gt;</th><th scope=col>&lt;dbl&gt;</th><th scope=col>&lt;dbl&gt;</th><th scope=col>&lt;int&gt;</th><th scope=col>&lt;dbl&gt;</th><th scope=col>&lt;dbl&gt;</th><th scope=col>&lt;int&gt;</th><th scope=col>&lt;dbl&gt;</th><th scope=col>&lt;dbl&gt;</th><th scope=col>&lt;int&gt;</th><th scope=col>&lt;int&gt;</th></tr>\n",
       "</thead>\n",
       "<tbody>\n",
       "\t<tr><th scope=row>1</th><td>1</td><td>44926</td><td>Buy</td><td>AMC</td><td>1000</td><td>4.07</td><td>4273.5</td><td>0</td><td>0</td><td>0</td><td>0</td><td>0</td><td>0</td><td>0</td><td>0</td><td>0</td><td>0</td><td>0</td><td>0</td><td>0</td></tr>\n",
       "</tbody>\n",
       "</table>\n"
      ],
      "text/latex": [
       "A data.frame: 1 × 20\n",
       "\\begin{tabular}{r|llllllllllllllllllll}\n",
       "  & index & date & type & co & quan & pps & basis & sale\\_quan & tally & cf\\_quan & cf\\_pps & cf\\_basis & buy\\_quan & buy\\_pps & buy\\_basis & sell\\_quan & sell\\_pps & sell\\_basis & profit\\_loss & sale\\\\\n",
       "  & <int> & <int> & <chr> & <chr> & <int> & <dbl> & <dbl> & <int> & <dbl> & <int> & <dbl> & <dbl> & <int> & <dbl> & <dbl> & <int> & <dbl> & <dbl> & <int> & <int>\\\\\n",
       "\\hline\n",
       "\t1 & 1 & 44926 & Buy & AMC & 1000 & 4.07 & 4273.5 & 0 & 0 & 0 & 0 & 0 & 0 & 0 & 0 & 0 & 0 & 0 & 0 & 0\\\\\n",
       "\\end{tabular}\n"
      ],
      "text/markdown": [
       "\n",
       "A data.frame: 1 × 20\n",
       "\n",
       "| <!--/--> | index &lt;int&gt; | date &lt;int&gt; | type &lt;chr&gt; | co &lt;chr&gt; | quan &lt;int&gt; | pps &lt;dbl&gt; | basis &lt;dbl&gt; | sale_quan &lt;int&gt; | tally &lt;dbl&gt; | cf_quan &lt;int&gt; | cf_pps &lt;dbl&gt; | cf_basis &lt;dbl&gt; | buy_quan &lt;int&gt; | buy_pps &lt;dbl&gt; | buy_basis &lt;dbl&gt; | sell_quan &lt;int&gt; | sell_pps &lt;dbl&gt; | sell_basis &lt;dbl&gt; | profit_loss &lt;int&gt; | sale &lt;int&gt; |\n",
       "|---|---|---|---|---|---|---|---|---|---|---|---|---|---|---|---|---|---|---|---|---|\n",
       "| 1 | 1 | 44926 | Buy | AMC | 1000 | 4.07 | 4273.5 | 0 | 0 | 0 | 0 | 0 | 0 | 0 | 0 | 0 | 0 | 0 | 0 | 0 |\n",
       "\n"
      ],
      "text/plain": [
       "  index date  type co  quan pps  basis  sale_quan tally cf_quan cf_pps cf_basis\n",
       "1 1     44926 Buy  AMC 1000 4.07 4273.5 0         0     0       0      0       \n",
       "  buy_quan buy_pps buy_basis sell_quan sell_pps sell_basis profit_loss sale\n",
       "1 0        0       0         0         0        0          0           0   "
      ]
     },
     "metadata": {},
     "output_type": "display_data"
    },
    {
     "data": {
      "text/html": [
       "<table class=\"dataframe\">\n",
       "<caption>A data.frame: 1 × 20</caption>\n",
       "<thead>\n",
       "\t<tr><th></th><th scope=col>index</th><th scope=col>date</th><th scope=col>type</th><th scope=col>co</th><th scope=col>quan</th><th scope=col>pps</th><th scope=col>basis</th><th scope=col>sale_quan</th><th scope=col>tally</th><th scope=col>cf_quan</th><th scope=col>cf_pps</th><th scope=col>cf_basis</th><th scope=col>buy_quan</th><th scope=col>buy_pps</th><th scope=col>buy_basis</th><th scope=col>sell_quan</th><th scope=col>sell_pps</th><th scope=col>sell_basis</th><th scope=col>profit_loss</th><th scope=col>sale</th></tr>\n",
       "\t<tr><th></th><th scope=col>&lt;int&gt;</th><th scope=col>&lt;int&gt;</th><th scope=col>&lt;chr&gt;</th><th scope=col>&lt;chr&gt;</th><th scope=col>&lt;int&gt;</th><th scope=col>&lt;dbl&gt;</th><th scope=col>&lt;dbl&gt;</th><th scope=col>&lt;int&gt;</th><th scope=col>&lt;dbl&gt;</th><th scope=col>&lt;int&gt;</th><th scope=col>&lt;dbl&gt;</th><th scope=col>&lt;dbl&gt;</th><th scope=col>&lt;int&gt;</th><th scope=col>&lt;dbl&gt;</th><th scope=col>&lt;dbl&gt;</th><th scope=col>&lt;int&gt;</th><th scope=col>&lt;dbl&gt;</th><th scope=col>&lt;dbl&gt;</th><th scope=col>&lt;int&gt;</th><th scope=col>&lt;int&gt;</th></tr>\n",
       "</thead>\n",
       "<tbody>\n",
       "\t<tr><th scope=row>2</th><td>2</td><td>44953</td><td>Sell</td><td>AMC</td><td>1000</td><td>5.5124</td><td>5512.4</td><td>0</td><td>0</td><td>0</td><td>0</td><td>0</td><td>0</td><td>0</td><td>0</td><td>0</td><td>0</td><td>0</td><td>0</td><td>0</td></tr>\n",
       "</tbody>\n",
       "</table>\n"
      ],
      "text/latex": [
       "A data.frame: 1 × 20\n",
       "\\begin{tabular}{r|llllllllllllllllllll}\n",
       "  & index & date & type & co & quan & pps & basis & sale\\_quan & tally & cf\\_quan & cf\\_pps & cf\\_basis & buy\\_quan & buy\\_pps & buy\\_basis & sell\\_quan & sell\\_pps & sell\\_basis & profit\\_loss & sale\\\\\n",
       "  & <int> & <int> & <chr> & <chr> & <int> & <dbl> & <dbl> & <int> & <dbl> & <int> & <dbl> & <dbl> & <int> & <dbl> & <dbl> & <int> & <dbl> & <dbl> & <int> & <int>\\\\\n",
       "\\hline\n",
       "\t2 & 2 & 44953 & Sell & AMC & 1000 & 5.5124 & 5512.4 & 0 & 0 & 0 & 0 & 0 & 0 & 0 & 0 & 0 & 0 & 0 & 0 & 0\\\\\n",
       "\\end{tabular}\n"
      ],
      "text/markdown": [
       "\n",
       "A data.frame: 1 × 20\n",
       "\n",
       "| <!--/--> | index &lt;int&gt; | date &lt;int&gt; | type &lt;chr&gt; | co &lt;chr&gt; | quan &lt;int&gt; | pps &lt;dbl&gt; | basis &lt;dbl&gt; | sale_quan &lt;int&gt; | tally &lt;dbl&gt; | cf_quan &lt;int&gt; | cf_pps &lt;dbl&gt; | cf_basis &lt;dbl&gt; | buy_quan &lt;int&gt; | buy_pps &lt;dbl&gt; | buy_basis &lt;dbl&gt; | sell_quan &lt;int&gt; | sell_pps &lt;dbl&gt; | sell_basis &lt;dbl&gt; | profit_loss &lt;int&gt; | sale &lt;int&gt; |\n",
       "|---|---|---|---|---|---|---|---|---|---|---|---|---|---|---|---|---|---|---|---|---|\n",
       "| 2 | 2 | 44953 | Sell | AMC | 1000 | 5.5124 | 5512.4 | 0 | 0 | 0 | 0 | 0 | 0 | 0 | 0 | 0 | 0 | 0 | 0 | 0 |\n",
       "\n"
      ],
      "text/plain": [
       "  index date  type co  quan pps    basis  sale_quan tally cf_quan cf_pps\n",
       "2 2     44953 Sell AMC 1000 5.5124 5512.4 0         0     0       0     \n",
       "  cf_basis buy_quan buy_pps buy_basis sell_quan sell_pps sell_basis profit_loss\n",
       "2 0        0        0       0         0         0        0          0          \n",
       "  sale\n",
       "2 0   "
      ]
     },
     "metadata": {},
     "output_type": "display_data"
    }
   ],
   "source": [
    "# create one line dfs (first row ) from buys and sells dfs\n",
    "s <- data.frame()\n",
    "b <- data.frame()\n",
    "\n",
    "# Filters the dfs buys and sells, then creates the single row dfs: b & s\n",
    "\n",
    "row_b <- function(b) {\n",
    "        b <- b\n",
    "        b <- buys[1,]\n",
    "        return(b)\n",
    "    }\n",
    "\n",
    "row_s <- function(s) {\n",
    "        s <- s\n",
    "        s <- sells[1,]\n",
    "        return(s)\n",
    "    }\n",
    "\n",
    "\n",
    "b <- row_b(b)   \n",
    "s <- row_s(s)    \n",
    "\n",
    "\n",
    "b\n",
    "s\n"
   ]
  },
  {
   "cell_type": "code",
   "execution_count": null,
   "id": "a700afb3-a1b1-41c6-a3dd-f209aee54155",
   "metadata": {},
   "outputs": [],
   "source": []
  },
  {
   "cell_type": "code",
   "execution_count": 30,
   "id": "2c4d697f-68da-4222-b17f-00a3a2f61e6d",
   "metadata": {},
   "outputs": [
    {
     "name": "stdout",
     "output_type": "stream",
     "text": [
      "\n",
      " test print i:  1 \n",
      "The b row index value here is:  1 \n",
      "The buys first row index value here is:  1 \n",
      "Inside: process sale function ().  Have the [i] value of:  1 \n",
      "Inside: process sale function ().  Have the [i] value of:  1 \n",
      "testing value of i outside fct  1 \n"
     ]
    },
    {
     "data": {
      "text/html": [
       "<table class=\"dataframe\">\n",
       "<caption>A data.frame: 3 × 20</caption>\n",
       "<thead>\n",
       "\t<tr><th scope=col>index</th><th scope=col>date</th><th scope=col>type</th><th scope=col>co</th><th scope=col>quan</th><th scope=col>pps</th><th scope=col>basis</th><th scope=col>sale_quan</th><th scope=col>tally</th><th scope=col>cf_quan</th><th scope=col>cf_pps</th><th scope=col>cf_basis</th><th scope=col>buy_quan</th><th scope=col>buy_pps</th><th scope=col>buy_basis</th><th scope=col>sell_quan</th><th scope=col>sell_pps</th><th scope=col>sell_basis</th><th scope=col>profit_loss</th><th scope=col>sale</th></tr>\n",
       "\t<tr><th scope=col>&lt;int&gt;</th><th scope=col>&lt;int&gt;</th><th scope=col>&lt;chr&gt;</th><th scope=col>&lt;chr&gt;</th><th scope=col>&lt;int&gt;</th><th scope=col>&lt;dbl&gt;</th><th scope=col>&lt;dbl&gt;</th><th scope=col>&lt;int&gt;</th><th scope=col>&lt;dbl&gt;</th><th scope=col>&lt;int&gt;</th><th scope=col>&lt;dbl&gt;</th><th scope=col>&lt;dbl&gt;</th><th scope=col>&lt;int&gt;</th><th scope=col>&lt;dbl&gt;</th><th scope=col>&lt;dbl&gt;</th><th scope=col>&lt;int&gt;</th><th scope=col>&lt;dbl&gt;</th><th scope=col>&lt;dbl&gt;</th><th scope=col>&lt;dbl&gt;</th><th scope=col>&lt;int&gt;</th></tr>\n",
       "</thead>\n",
       "<tbody>\n",
       "\t<tr><td>1</td><td>44926</td><td>Buy</td><td>AMC</td><td>1000</td><td>4.07</td><td>4273.5</td><td>1000</td><td>0</td><td>0</td><td>0</td><td>0</td><td>1000</td><td>4.07</td><td>4070</td><td>1000</td><td>5.5124</td><td>5512.4</td><td>1442.4</td><td>1000</td></tr>\n",
       "\t<tr><td>1</td><td>44926</td><td>Buy</td><td>AMC</td><td>1000</td><td>4.07</td><td>4273.5</td><td>1000</td><td>0</td><td>0</td><td>0</td><td>0</td><td>1000</td><td>4.07</td><td>4070</td><td>1000</td><td>5.5124</td><td>5512.4</td><td>1442.4</td><td>1000</td></tr>\n",
       "\t<tr><td>1</td><td>44926</td><td>Buy</td><td>AMC</td><td>1000</td><td>4.07</td><td>4273.5</td><td>1000</td><td>0</td><td>0</td><td>0</td><td>0</td><td>1000</td><td>4.07</td><td>4070</td><td>1000</td><td>5.5124</td><td>5512.4</td><td>1442.4</td><td>1000</td></tr>\n",
       "</tbody>\n",
       "</table>\n"
      ],
      "text/latex": [
       "A data.frame: 3 × 20\n",
       "\\begin{tabular}{llllllllllllllllllll}\n",
       " index & date & type & co & quan & pps & basis & sale\\_quan & tally & cf\\_quan & cf\\_pps & cf\\_basis & buy\\_quan & buy\\_pps & buy\\_basis & sell\\_quan & sell\\_pps & sell\\_basis & profit\\_loss & sale\\\\\n",
       " <int> & <int> & <chr> & <chr> & <int> & <dbl> & <dbl> & <int> & <dbl> & <int> & <dbl> & <dbl> & <int> & <dbl> & <dbl> & <int> & <dbl> & <dbl> & <dbl> & <int>\\\\\n",
       "\\hline\n",
       "\t 1 & 44926 & Buy & AMC & 1000 & 4.07 & 4273.5 & 1000 & 0 & 0 & 0 & 0 & 1000 & 4.07 & 4070 & 1000 & 5.5124 & 5512.4 & 1442.4 & 1000\\\\\n",
       "\t 1 & 44926 & Buy & AMC & 1000 & 4.07 & 4273.5 & 1000 & 0 & 0 & 0 & 0 & 1000 & 4.07 & 4070 & 1000 & 5.5124 & 5512.4 & 1442.4 & 1000\\\\\n",
       "\t 1 & 44926 & Buy & AMC & 1000 & 4.07 & 4273.5 & 1000 & 0 & 0 & 0 & 0 & 1000 & 4.07 & 4070 & 1000 & 5.5124 & 5512.4 & 1442.4 & 1000\\\\\n",
       "\\end{tabular}\n"
      ],
      "text/markdown": [
       "\n",
       "A data.frame: 3 × 20\n",
       "\n",
       "| index &lt;int&gt; | date &lt;int&gt; | type &lt;chr&gt; | co &lt;chr&gt; | quan &lt;int&gt; | pps &lt;dbl&gt; | basis &lt;dbl&gt; | sale_quan &lt;int&gt; | tally &lt;dbl&gt; | cf_quan &lt;int&gt; | cf_pps &lt;dbl&gt; | cf_basis &lt;dbl&gt; | buy_quan &lt;int&gt; | buy_pps &lt;dbl&gt; | buy_basis &lt;dbl&gt; | sell_quan &lt;int&gt; | sell_pps &lt;dbl&gt; | sell_basis &lt;dbl&gt; | profit_loss &lt;dbl&gt; | sale &lt;int&gt; |\n",
       "|---|---|---|---|---|---|---|---|---|---|---|---|---|---|---|---|---|---|---|---|\n",
       "| 1 | 44926 | Buy | AMC | 1000 | 4.07 | 4273.5 | 1000 | 0 | 0 | 0 | 0 | 1000 | 4.07 | 4070 | 1000 | 5.5124 | 5512.4 | 1442.4 | 1000 |\n",
       "| 1 | 44926 | Buy | AMC | 1000 | 4.07 | 4273.5 | 1000 | 0 | 0 | 0 | 0 | 1000 | 4.07 | 4070 | 1000 | 5.5124 | 5512.4 | 1442.4 | 1000 |\n",
       "| 1 | 44926 | Buy | AMC | 1000 | 4.07 | 4273.5 | 1000 | 0 | 0 | 0 | 0 | 1000 | 4.07 | 4070 | 1000 | 5.5124 | 5512.4 | 1442.4 | 1000 |\n",
       "\n"
      ],
      "text/plain": [
       "  index date  type co  quan pps  basis  sale_quan tally cf_quan cf_pps cf_basis\n",
       "1 1     44926 Buy  AMC 1000 4.07 4273.5 1000      0     0       0      0       \n",
       "2 1     44926 Buy  AMC 1000 4.07 4273.5 1000      0     0       0      0       \n",
       "3 1     44926 Buy  AMC 1000 4.07 4273.5 1000      0     0       0      0       \n",
       "  buy_quan buy_pps buy_basis sell_quan sell_pps sell_basis profit_loss sale\n",
       "1 1000     4.07    4070      1000      5.5124   5512.4     1442.4      1000\n",
       "2 1000     4.07    4070      1000      5.5124   5512.4     1442.4      1000\n",
       "3 1000     4.07    4070      1000      5.5124   5512.4     1442.4      1000"
      ]
     },
     "metadata": {},
     "output_type": "display_data"
    }
   ],
   "source": [
    "x <- 3\n",
    "\n",
    "for(i in 1:x) {\n",
    "    \n",
    "    cat(\"\\n\", \"test print i: \", i, \"\\n\")\n",
    "    \n",
    "    b <- buys[i, ]   \n",
    "    s <- sells[i, ]\n",
    "\n",
    "    cat(\"The b row index value here is: \", b$index, \"\\n\")\n",
    "    cat(\"The buys first row index value here is: \", buys$index[i ], \"\\n\")\n",
    "    \n",
    "    test <- process_sale(b, buys)\n",
    "    return(test)\n",
    "    \n",
    "    \n",
    "    }\n",
    "test <- process_sale(b,buys)\n",
    "cat(\"testing value of i outside fct \", i, \"\\n\")\n",
    "check <- rbind(test, check)\n",
    "check\n",
    "\n"
   ]
  },
  {
   "cell_type": "code",
   "execution_count": 31,
   "id": "a8404e3e-014a-437a-9886-66b977325f8c",
   "metadata": {},
   "outputs": [
    {
     "data": {
      "text/html": [
       "<table class=\"dataframe\">\n",
       "<caption>A data.frame: 3 × 20</caption>\n",
       "<thead>\n",
       "\t<tr><th></th><th scope=col>index</th><th scope=col>date</th><th scope=col>type</th><th scope=col>co</th><th scope=col>quan</th><th scope=col>pps</th><th scope=col>basis</th><th scope=col>sale_quan</th><th scope=col>tally</th><th scope=col>cf_quan</th><th scope=col>cf_pps</th><th scope=col>cf_basis</th><th scope=col>buy_quan</th><th scope=col>buy_pps</th><th scope=col>buy_basis</th><th scope=col>sell_quan</th><th scope=col>sell_pps</th><th scope=col>sell_basis</th><th scope=col>profit_loss</th><th scope=col>sale</th></tr>\n",
       "\t<tr><th></th><th scope=col>&lt;int&gt;</th><th scope=col>&lt;int&gt;</th><th scope=col>&lt;chr&gt;</th><th scope=col>&lt;chr&gt;</th><th scope=col>&lt;int&gt;</th><th scope=col>&lt;dbl&gt;</th><th scope=col>&lt;dbl&gt;</th><th scope=col>&lt;int&gt;</th><th scope=col>&lt;dbl&gt;</th><th scope=col>&lt;int&gt;</th><th scope=col>&lt;dbl&gt;</th><th scope=col>&lt;dbl&gt;</th><th scope=col>&lt;int&gt;</th><th scope=col>&lt;dbl&gt;</th><th scope=col>&lt;dbl&gt;</th><th scope=col>&lt;int&gt;</th><th scope=col>&lt;dbl&gt;</th><th scope=col>&lt;dbl&gt;</th><th scope=col>&lt;int&gt;</th><th scope=col>&lt;int&gt;</th></tr>\n",
       "</thead>\n",
       "<tbody>\n",
       "\t<tr><th scope=row>1</th><td>1</td><td>44926</td><td>Buy</td><td>AMC</td><td>1000</td><td>4.070</td><td>4273.5</td><td>0</td><td>0</td><td>0</td><td>0</td><td>0</td><td>0</td><td>0</td><td>0</td><td>0</td><td>0</td><td>0</td><td>0</td><td>0</td></tr>\n",
       "\t<tr><th scope=row>3</th><td>3</td><td>44946</td><td>Buy</td><td>AMC</td><td>1000</td><td>5.625</td><td>5625.0</td><td>0</td><td>0</td><td>0</td><td>0</td><td>0</td><td>0</td><td>0</td><td>0</td><td>0</td><td>0</td><td>0</td><td>0</td><td>0</td></tr>\n",
       "\t<tr><th scope=row>5</th><td>5</td><td>44949</td><td>Buy</td><td>AMC</td><td>1000</td><td>5.788</td><td>5788.0</td><td>0</td><td>0</td><td>0</td><td>0</td><td>0</td><td>0</td><td>0</td><td>0</td><td>0</td><td>0</td><td>0</td><td>0</td><td>0</td></tr>\n",
       "</tbody>\n",
       "</table>\n"
      ],
      "text/latex": [
       "A data.frame: 3 × 20\n",
       "\\begin{tabular}{r|llllllllllllllllllll}\n",
       "  & index & date & type & co & quan & pps & basis & sale\\_quan & tally & cf\\_quan & cf\\_pps & cf\\_basis & buy\\_quan & buy\\_pps & buy\\_basis & sell\\_quan & sell\\_pps & sell\\_basis & profit\\_loss & sale\\\\\n",
       "  & <int> & <int> & <chr> & <chr> & <int> & <dbl> & <dbl> & <int> & <dbl> & <int> & <dbl> & <dbl> & <int> & <dbl> & <dbl> & <int> & <dbl> & <dbl> & <int> & <int>\\\\\n",
       "\\hline\n",
       "\t1 & 1 & 44926 & Buy & AMC & 1000 & 4.070 & 4273.5 & 0 & 0 & 0 & 0 & 0 & 0 & 0 & 0 & 0 & 0 & 0 & 0 & 0\\\\\n",
       "\t3 & 3 & 44946 & Buy & AMC & 1000 & 5.625 & 5625.0 & 0 & 0 & 0 & 0 & 0 & 0 & 0 & 0 & 0 & 0 & 0 & 0 & 0\\\\\n",
       "\t5 & 5 & 44949 & Buy & AMC & 1000 & 5.788 & 5788.0 & 0 & 0 & 0 & 0 & 0 & 0 & 0 & 0 & 0 & 0 & 0 & 0 & 0\\\\\n",
       "\\end{tabular}\n"
      ],
      "text/markdown": [
       "\n",
       "A data.frame: 3 × 20\n",
       "\n",
       "| <!--/--> | index &lt;int&gt; | date &lt;int&gt; | type &lt;chr&gt; | co &lt;chr&gt; | quan &lt;int&gt; | pps &lt;dbl&gt; | basis &lt;dbl&gt; | sale_quan &lt;int&gt; | tally &lt;dbl&gt; | cf_quan &lt;int&gt; | cf_pps &lt;dbl&gt; | cf_basis &lt;dbl&gt; | buy_quan &lt;int&gt; | buy_pps &lt;dbl&gt; | buy_basis &lt;dbl&gt; | sell_quan &lt;int&gt; | sell_pps &lt;dbl&gt; | sell_basis &lt;dbl&gt; | profit_loss &lt;int&gt; | sale &lt;int&gt; |\n",
       "|---|---|---|---|---|---|---|---|---|---|---|---|---|---|---|---|---|---|---|---|---|\n",
       "| 1 | 1 | 44926 | Buy | AMC | 1000 | 4.070 | 4273.5 | 0 | 0 | 0 | 0 | 0 | 0 | 0 | 0 | 0 | 0 | 0 | 0 | 0 |\n",
       "| 3 | 3 | 44946 | Buy | AMC | 1000 | 5.625 | 5625.0 | 0 | 0 | 0 | 0 | 0 | 0 | 0 | 0 | 0 | 0 | 0 | 0 | 0 |\n",
       "| 5 | 5 | 44949 | Buy | AMC | 1000 | 5.788 | 5788.0 | 0 | 0 | 0 | 0 | 0 | 0 | 0 | 0 | 0 | 0 | 0 | 0 | 0 |\n",
       "\n"
      ],
      "text/plain": [
       "  index date  type co  quan pps   basis  sale_quan tally cf_quan cf_pps\n",
       "1 1     44926 Buy  AMC 1000 4.070 4273.5 0         0     0       0     \n",
       "3 3     44946 Buy  AMC 1000 5.625 5625.0 0         0     0       0     \n",
       "5 5     44949 Buy  AMC 1000 5.788 5788.0 0         0     0       0     \n",
       "  cf_basis buy_quan buy_pps buy_basis sell_quan sell_pps sell_basis profit_loss\n",
       "1 0        0        0       0         0         0        0          0          \n",
       "3 0        0        0       0         0         0        0          0          \n",
       "5 0        0        0       0         0         0        0          0          \n",
       "  sale\n",
       "1 0   \n",
       "3 0   \n",
       "5 0   "
      ]
     },
     "metadata": {},
     "output_type": "display_data"
    }
   ],
   "source": [
    "head(buys, 3)"
   ]
  },
  {
   "cell_type": "code",
   "execution_count": null,
   "id": "83d8bbd7-4c67-40f4-9a6c-6c4635d8ab32",
   "metadata": {},
   "outputs": [],
   "source": []
  },
  {
   "cell_type": "code",
   "execution_count": null,
   "id": "eec9d30d-59b5-4c27-b87d-955c9c7a798e",
   "metadata": {},
   "outputs": [],
   "source": []
  },
  {
   "cell_type": "code",
   "execution_count": null,
   "id": "f84d2cb8-c684-4c41-a133-846f5d8dbf2b",
   "metadata": {},
   "outputs": [],
   "source": []
  },
  {
   "cell_type": "code",
   "execution_count": 32,
   "id": "765d2253-0533-4405-bcf1-60a12cd33ac6",
   "metadata": {},
   "outputs": [],
   "source": [
    "# correctly format the sales_book df\n",
    "sales_book <- b"
   ]
  },
  {
   "cell_type": "code",
   "execution_count": 33,
   "id": "43ee1b76-ba7a-4451-b1df-0f90128b63b8",
   "metadata": {},
   "outputs": [],
   "source": [
    "conductor <- function(b) {\n",
    "    b <- b\n",
    "    \n",
    "    if(b$quan == s$quan) \n",
    "        temp <- process_sale(b)\n",
    "        records_keep <- rbind(df_sales, temp)\n",
    "        return(records_keep)\n",
    "    }"
   ]
  },
  {
   "cell_type": "code",
   "execution_count": 34,
   "id": "ce536829-4e3b-49b2-b452-277e912bcfd5",
   "metadata": {},
   "outputs": [
    {
     "name": "stdout",
     "output_type": "stream",
     "text": [
      "Inside: process sale function ().  Have the [i] value of:  1 \n"
     ]
    },
    {
     "ename": "ERROR",
     "evalue": "Error in process_sale(b): argument \"buys\" is missing, with no default\n",
     "output_type": "error",
     "traceback": [
      "Error in process_sale(b): argument \"buys\" is missing, with no default\nTraceback:\n",
      "1. conductor(b)",
      "2. process_sale(b)   # at line 4-5 of file <text>"
     ]
    }
   ],
   "source": [
    "temp <- conductor(b)\n",
    "temp\n",
    "sales_book <- temp\n",
    "sales_book\n"
   ]
  },
  {
   "cell_type": "code",
   "execution_count": null,
   "id": "0d2efd85-f893-4b2a-8c12-a8e89120e19f",
   "metadata": {},
   "outputs": [],
   "source": [
    "head(buys, 3)\n",
    "head(sells,3)"
   ]
  },
  {
   "cell_type": "code",
   "execution_count": null,
   "id": "54dace32-5c04-4eb6-a4b2-4f766d8ff2d6",
   "metadata": {},
   "outputs": [],
   "source": []
  },
  {
   "cell_type": "code",
   "execution_count": null,
   "id": "f6a40f24-d030-4d21-831c-1741be2f61fd",
   "metadata": {},
   "outputs": [],
   "source": []
  },
  {
   "cell_type": "code",
   "execution_count": null,
   "id": "f3527451-baab-4c2b-8f93-39a24d35ae40",
   "metadata": {},
   "outputs": [],
   "source": []
  },
  {
   "cell_type": "code",
   "execution_count": null,
   "id": "15249ef8-fff4-43ec-ae5a-38fbd4a01109",
   "metadata": {},
   "outputs": [],
   "source": []
  },
  {
   "cell_type": "code",
   "execution_count": null,
   "id": "90851971-a1e2-4f9a-b8dc-440c14b6be19",
   "metadata": {},
   "outputs": [],
   "source": [
    "# records_keep <- data.frame()\n",
    "\n",
    "for(i in 1:nrow(buys)) {\n",
    "    \n",
    "   b <- buys[i,]  \n",
    "   s <- sells[i,]\n",
    " \n",
    "    cat(\"pass is: \", i, \"\\n\")\n",
    "    \n",
    "    \n",
    "    conductor <- function(b) {\n",
    "        #b <- b\n",
    "\n",
    "        if(b$quan == s$quan) {\n",
    "            temp <- process_sale(b)\n",
    "            records_keep <- rbind(sales_book, temp)\n",
    "            return(records_keep)\n",
    "            }\n",
    "    \n",
    "        b <- buys[i + 1, ]\n",
    "        temp <- conductor(b)\n",
    "        temp\n",
    "        sales_book <- rbind(sales_book, temp)\n",
    "        return(sales_book)\n",
    "    }\n",
    "    \n",
    "sales_book <- conductor(b)\n",
    "}\n",
    "\n",
    "sales_book"
   ]
  },
  {
   "cell_type": "code",
   "execution_count": null,
   "id": "16004207-ed45-4f26-9157-c53bac28c5c0",
   "metadata": {},
   "outputs": [],
   "source": [
    "nrow(sales_book)\n",
    "sales_book"
   ]
  },
  {
   "cell_type": "code",
   "execution_count": null,
   "id": "a7a15b0b-a4ba-4ce0-93a2-93934e9d6e47",
   "metadata": {},
   "outputs": [],
   "source": []
  },
  {
   "cell_type": "code",
   "execution_count": null,
   "id": "41490b42-3a9c-416b-900b-57d87ceb8ddf",
   "metadata": {},
   "outputs": [],
   "source": [
    "\n",
    "for(i in 1:nrow(df[1:3,])) {\n",
    "    cat(\"Howdy for row, \", i, \"\\n\")\n",
    "    }"
   ]
  },
  {
   "cell_type": "code",
   "execution_count": null,
   "id": "ebdbf8ff-3058-4451-8f01-eb11435618c6",
   "metadata": {},
   "outputs": [],
   "source": []
  },
  {
   "cell_type": "code",
   "execution_count": null,
   "id": "f7dd5a75-9d2e-415e-bdd3-23d49d7f33f6",
   "metadata": {},
   "outputs": [],
   "source": [
    "stopps"
   ]
  },
  {
   "cell_type": "code",
   "execution_count": null,
   "id": "fbb90ed5-0ce4-4783-a702-e31efa8d46a2",
   "metadata": {},
   "outputs": [],
   "source": []
  },
  {
   "cell_type": "code",
   "execution_count": null,
   "id": "6df95728-d2be-41e6-82ee-ae6c2f4a45a3",
   "metadata": {},
   "outputs": [],
   "source": [
    "# Initialize an empty data frame to store sales records\n",
    "sales_book <- data.frame()\n",
    "\n",
    "# Loop through the rows of buys and sells\n",
    "for (i in 1:nrow(buys)) {\n",
    "    b <- buys[i,]\n",
    "    s <- sells[i,]\n",
    "    \n",
    "    cat(\"pass is: \", i, \"\\n\")\n",
    "    \n",
    "    # Define the conductor function\n",
    "    conductor <- function(b) {\n",
    "        if (b$quan == s$quan) {\n",
    "            temp <- process_sale(b)\n",
    "            records_keep <- rbind(sales_book, temp)\n",
    "            return(records_keep)\n",
    "        }\n",
    "        \n",
    "        # Update b to the next row\n",
    "        b <- buys[i + 1,]\n",
    "        temp <- conductor(b)\n",
    "        sales_book <- rbind(sales_book, temp)\n",
    "        return(sales_book)\n",
    "    }\n",
    "    \n",
    "    # Call the conductor function\n",
    "    sales_book <- conductor(b)\n",
    "}\n",
    "\n",
    "# Print the final sales_book data frame\n",
    "sales_book\n"
   ]
  },
  {
   "cell_type": "code",
   "execution_count": null,
   "id": "961ef537-a340-4996-a2fb-705f76e553e3",
   "metadata": {},
   "outputs": [],
   "source": [
    "nrow(sales_book)"
   ]
  },
  {
   "cell_type": "code",
   "execution_count": null,
   "id": "6fd5d7a1-d0d1-47e7-9b8e-3514d256b4db",
   "metadata": {},
   "outputs": [],
   "source": [
    "nrow(records_keep)"
   ]
  }
 ],
 "metadata": {
  "kernelspec": {
   "display_name": "R",
   "language": "R",
   "name": "ir"
  },
  "language_info": {
   "codemirror_mode": "r",
   "file_extension": ".r",
   "mimetype": "text/x-r-source",
   "name": "R",
   "pygments_lexer": "r",
   "version": "4.3.0"
  }
 },
 "nbformat": 4,
 "nbformat_minor": 5
}
