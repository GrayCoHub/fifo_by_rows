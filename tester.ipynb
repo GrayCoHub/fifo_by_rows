{
 "cells": [
  {
   "cell_type": "code",
   "execution_count": null,
   "id": "70ee7ea3-d2c5-45be-8527-10043aab7f6b",
   "metadata": {},
   "outputs": [],
   "source": []
  },
  {
   "cell_type": "code",
   "execution_count": 1,
   "id": "8ff72355-e30c-486c-be3e-086955d46e2b",
   "metadata": {},
   "outputs": [],
   "source": [
    " df <- read.csv(\"fifo_new.csv\", header = TRUE, sep = \",\")\n",
    "df$sale <- as.integer(df$sale)\n"
   ]
  },
  {
   "cell_type": "code",
   "execution_count": null,
   "id": "e679d756-61f6-4c3f-9432-513c8e550f25",
   "metadata": {},
   "outputs": [],
   "source": []
  },
  {
   "cell_type": "code",
   "execution_count": 2,
   "id": "deaa06de-a4cb-4062-9f18-fcb64f81c12e",
   "metadata": {},
   "outputs": [],
   "source": [
    "# filter df to create 2 new dfs: buys and sells\n",
    "df_sales <- data.frame()\n",
    "buys <- df[df$type == 'Buy', ]  # Filter buys\n",
    "sells <- df[df$type == 'Sell', ]  # Filter sells"
   ]
  },
  {
   "cell_type": "code",
   "execution_count": 3,
   "id": "77a2ef88-8567-426b-85fb-fbb0c221f3ef",
   "metadata": {},
   "outputs": [],
   "source": [
    "# create the single row dfs (first row from buys and sells)\n",
    "\n",
    "b <- buys[1,]\n",
    "s <- sells[1,]"
   ]
  },
  {
   "cell_type": "code",
   "execution_count": 4,
   "id": "c1b14773-e20c-434e-b6bf-90efc294bdde",
   "metadata": {},
   "outputs": [
    {
     "ename": "ERROR",
     "evalue": "Error in parse(text = x, srcfile = src): <text>:1:5: unexpected '\\\\'\n1: stop\\\n        ^\n",
     "output_type": "error",
     "traceback": [
      "Error in parse(text = x, srcfile = src): <text>:1:5: unexpected '\\\\'\n1: stop\\\n        ^\nTraceback:\n"
     ]
    }
   ],
   "source": [
    "stop\\ps"
   ]
  },
  {
   "cell_type": "markdown",
   "id": "766fee25-2046-4fa3-9c2d-7ea860917ccc",
   "metadata": {},
   "source": [
    "## <font color = yellow> Working Example for demo"
   ]
  },
  {
   "cell_type": "code",
   "execution_count": null,
   "id": "18f67185-4939-4b09-bc93-ccb66b842acd",
   "metadata": {},
   "outputs": [],
   "source": [
    "# This will demo passing a df, modi a row from that df, bind that modi to \n",
    "#  a new df, and then loop 3x to achieve binding 3 modi rows to the new df, \n",
    "#  then pass the new 3 row df to the result variable\n",
    "\n",
    "\n",
    "modified_function <- function(buys) {\n",
    "    # Initialize an empty data frame to store modified versions\n",
    "    modified_df <- data.frame()\n",
    "\n",
    "    # Loop through the modifications (replace with your actual loop)\n",
    "    for (i in 1:3) {\n",
    "        # Modify the original_df (replace with your actual modification logic)\n",
    "        modified_row <- buys[i,]\n",
    "\n",
    "        # Append the modified row to the data frame\n",
    "        modified_df <- rbind(modified_df, modified_row)\n",
    "    }\n",
    "    # Return the final modified data frame\n",
    "    return(modified_df)\n",
    "    }\n",
    "\n",
    "\n",
    "\n",
    "# the result variable has the first 3 rows of data from the buys df\n",
    "modified_df <- modified_function(buys)\n",
    "modified_df"
   ]
  },
  {
   "cell_type": "code",
   "execution_count": null,
   "id": "a23c23d7-e9c2-4583-b85a-00bfe5d5fed8",
   "metadata": {},
   "outputs": [],
   "source": []
  },
  {
   "cell_type": "code",
   "execution_count": null,
   "id": "220f259d-94f3-4dc3-8e9f-8dae480e50a3",
   "metadata": {},
   "outputs": [],
   "source": [
    "stopps"
   ]
  },
  {
   "cell_type": "markdown",
   "id": "56b3689a-07b3-4787-a1b0-ecb93f720ddd",
   "metadata": {},
   "source": [
    "## <font color = yellow> Next, reduce buys using buys[-1, ]"
   ]
  },
  {
   "cell_type": "code",
   "execution_count": null,
   "id": "4590502f-2e92-4a21-97cb-9c237afb9f79",
   "metadata": {},
   "outputs": [],
   "source": [
    "\n",
    "modified_function <- function(buys) {\n",
    "    # Initialize an empty data frame to store modified versions\n",
    "    modified_df <- data.frame()\n",
    "\n",
    "    # Loop through the modifications (replace with your actual loop)\n",
    "    for (i in 1:3) {\n",
    "        # Modify the original_df (replace with your actual modification logic)\n",
    "        cat(\"The nrow of buys is: \", nrow(buys), \"\\n\")\n",
    "        \n",
    "        modified_row <- buys[1,]\n",
    "\n",
    "        # Append the modified row to the data frame\n",
    "        modified_df <- rbind(modified_df, modified_row)\n",
    "        \n",
    "        buys <- buys[-1, ]\n",
    "    }\n",
    "    # Return the final modified data frame\n",
    "    return(modified_df)\n",
    "    }\n",
    "\n",
    "\n",
    "# the result variable has the first 3 rows of data from the buys df\n",
    "modified_df <- modified_function(buys)\n",
    "modified_df"
   ]
  },
  {
   "cell_type": "code",
   "execution_count": null,
   "id": "649ef056-4b08-4b8f-967a-17ff77db25c4",
   "metadata": {},
   "outputs": [],
   "source": []
  },
  {
   "cell_type": "code",
   "execution_count": null,
   "id": "84f66cd7-bbaf-4f28-a5b9-357c36d4d1fe",
   "metadata": {},
   "outputs": [],
   "source": [
    "stopps"
   ]
  },
  {
   "cell_type": "code",
   "execution_count": null,
   "id": "5197062b-4637-43c3-ae3c-29a7ea2bdcd3",
   "metadata": {},
   "outputs": [],
   "source": []
  },
  {
   "cell_type": "markdown",
   "id": "9ecce8f1-5562-45ca-98ef-75fdc6217a8f",
   "metadata": {},
   "source": [
    "## <font color = yellow> Next, return the reduce buys df using return (list)"
   ]
  },
  {
   "cell_type": "code",
   "execution_count": null,
   "id": "7eff659e-2b85-41c1-ae0d-6cb6f02b5c42",
   "metadata": {},
   "outputs": [],
   "source": [
    "modified_function <- function(buys) {\n",
    "    # Initialize an empty data frame to store modified versions\n",
    "    modified_df <- data.frame()\n",
    "\n",
    "    # Loop through the modifications (replace with your actual loop)\n",
    "    for (i in 1:3) {\n",
    "        # Modify the original_df (replace with your actual modification logic)\n",
    "        cat(\"The nrow of buys is: \", nrow(buys), \"\\n\")\n",
    "        \n",
    "        modified_row <- buys[1,]\n",
    "\n",
    "        # Append the modified row to the data frame\n",
    "        modified_df <- rbind(modified_df, modified_row)\n",
    "        \n",
    "        buys <- buys[-1]\n",
    "    }\n",
    "    # Return a list\n",
    "    return_list <- as.list(modified_df, buys)\n",
    "    return(return_list)\n",
    "    }\n",
    "\n",
    "\n",
    "\n",
    "# return(list(df = df, df_records = df_records, buys = buys, sells = sells))\n",
    "\n",
    "# Access the dataframes from returned list\n",
    "# df <- dfs$df\n",
    "# df_records <- dfs$df_records\n",
    "# buys <- dfs$buys\n",
    "# sells <- dfs$sells\n",
    "\n",
    "modified_df <- modified_df\n",
    "buys <- buys\n",
    "\n",
    "nrow(buys)\n",
    "buys[1,]\n",
    "modified_df"
   ]
  },
  {
   "cell_type": "code",
   "execution_count": null,
   "id": "b05d7e7d-5e3c-4550-a35c-ceb5b3218b46",
   "metadata": {},
   "outputs": [],
   "source": []
  },
  {
   "cell_type": "markdown",
   "id": "3897d08e-8c32-49b5-8453-830f90516e32",
   "metadata": {},
   "source": [
    "#### <font color = lime> Perfect!  3 different rows of buys were returned"
   ]
  },
  {
   "cell_type": "code",
   "execution_count": null,
   "id": "779a55ab-5cf3-4245-b39f-023d0354a6d7",
   "metadata": {},
   "outputs": [],
   "source": []
  },
  {
   "cell_type": "markdown",
   "id": "2b1ce22d-f411-4e05-bc85-986cfb62cad5",
   "metadata": {},
   "source": [
    "## <font color = yellow> Next, make mods to b, then return those changes"
   ]
  },
  {
   "cell_type": "code",
   "execution_count": null,
   "id": "8ae83675-9365-4928-9ef6-3604777d43db",
   "metadata": {},
   "outputs": [],
   "source": [
    "include_sale_data_to_b <- function(b,s) {\n",
    "    \n",
    "     b <- b\n",
    "    s <- s\n",
    "    \n",
    "    cat(\"\\n\\n\",\" Top of process sale function (): \", \"\\n\")\n",
    "    \n",
    "    sale <- s$quan\n",
    "    bs_ratio <- b$quan / s$quan\n",
    "    cf_quan <-  b$quan - s$quan\n",
    "    \n",
    "    # assign the cf values - if they exist\n",
    "    if(b$quan > s$quan) {\n",
    "        b$cf_quan <- (b$quan - s$quan)        \n",
    "        b$cf_pps <- b$pps\n",
    "        b$cf_basis <- cf_quan * b$pps\n",
    "    } else {\n",
    "    b$sale_quan <- b$quan\n",
    "    b$buy_quan <- s$quan \n",
    "    b$buy_pps <-  b$pps\n",
    "    b$buy_basis <-  b$buy_quan * b$pps\n",
    "\n",
    "    b$sell_quan <- s$quan\n",
    "    b$sell_pps <- s$pps\n",
    "    b$sell_basis <- s$quan * s$pps\n",
    "\n",
    "    b$profit_loss <- b$sell_basis - b$buy_basis\n",
    "    b$sale <- sale\n",
    "    \n",
    "    s$type <- \"SOLD\" \n",
    "        \n",
    "    x <- b\n",
    "        \n",
    "    } # else\n",
    "    \n",
    "    return(x)\n",
    "    }"
   ]
  },
  {
   "cell_type": "code",
   "execution_count": null,
   "id": "bf83e3b9-50db-4000-a5cb-c25d2b43045b",
   "metadata": {},
   "outputs": [],
   "source": [
    "s <- sells[1,]\n",
    "b <- buys[1,]\n",
    "\n",
    "x <- include_sale_data_to_b(b,s)\n",
    "\n",
    "# result var\n",
    "x\n",
    "# the b df does NOT change\n"
   ]
  },
  {
   "cell_type": "markdown",
   "id": "e9a4b1df-acfa-403d-8358-d6d33f951863",
   "metadata": {},
   "source": [
    "### <font color = lime> Perfect! "
   ]
  },
  {
   "cell_type": "markdown",
   "id": "ebd91b56-f42d-4c06-ad5e-48948de121c0",
   "metadata": {},
   "source": [
    "## <font color = yellow> Next, make mods to b in a 3x loop. Return new df w/ those changes\n",
    "    \n",
    "#### Without looking"
   ]
  },
  {
   "cell_type": "code",
   "execution_count": null,
   "id": "c0d81cbb-ed86-40d2-8f56-b1870213eb5c",
   "metadata": {},
   "outputs": [],
   "source": []
  },
  {
   "cell_type": "code",
   "execution_count": null,
   "id": "6237634d-6a80-47be-a690-7baabce008c1",
   "metadata": {},
   "outputs": [],
   "source": [
    " df <- read.csv(\"fifo_new.csv\", header = TRUE, sep = \",\")\n",
    "df$sale <- as.integer(df$sale)\n",
    "df_sales <- data.frame()\n",
    "buys <- df[df$type == 'Buy', ]  # Filter buys\n",
    "sells <- df[df$type == 'Sell', ]  # Filter sells\n"
   ]
  },
  {
   "cell_type": "code",
   "execution_count": null,
   "id": "034287b2-2644-4a1c-896c-fa8b1083e9f4",
   "metadata": {},
   "outputs": [],
   "source": [
    "# head(buys, 3)\n",
    "# head(sells, 3)\n",
    "b <- buys[1,]\n",
    "s <- sells[1,]\n",
    "b\n",
    "s"
   ]
  },
  {
   "cell_type": "code",
   "execution_count": null,
   "id": "a48becba-b028-4f49-80c7-30618485991b",
   "metadata": {},
   "outputs": [],
   "source": []
  },
  {
   "cell_type": "code",
   "execution_count": null,
   "id": "94bb82fc-d3ea-4981-91a9-4b963ce50211",
   "metadata": {},
   "outputs": [],
   "source": [
    "include_sell_data_to_b <- function(b) {\n",
    "    \n",
    "    sale <- s$quan\n",
    "    bs_ratio <- b$quan / s$quan\n",
    "    cf_quan <-  b$quan - s$quan\n",
    "    \n",
    "    # assign the cf values - if they exist\n",
    "    if(b$quan > s$quan) {\n",
    "        b$cf_quan <- (b$quan - s$quan)        \n",
    "        b$cf_pps <- b$pps\n",
    "        b$cf_basis <- cf_quan * b$pps\n",
    "    }\n",
    "    b$sale_quan <- b$quan\n",
    "    b$buy_quan <- s$quan \n",
    "    b$buy_pps <-  b$pps\n",
    "    b$buy_basis <-  b$buy_quan * b$pps\n",
    "\n",
    "    b$sell_quan <- s$quan\n",
    "    b$sell_pps <- s$pps\n",
    "    b$sell_basis <- s$quan * s$pps\n",
    "\n",
    "    b$profit_loss <- b$sell_basis - b$buy_basis\n",
    "    b$sale <- sale\n",
    "    \n",
    "    s$type <- \"SOLD\"\n",
    "    \n",
    "    temp <- b\n",
    "    return(temp)\n",
    "    \n",
    "    }"
   ]
  },
  {
   "cell_type": "code",
   "execution_count": null,
   "id": "f23d7498-6d50-4de1-b775-2160f6ef4123",
   "metadata": {},
   "outputs": [],
   "source": [
    "updated_b <- include_sell_data_to_b(b)\n",
    "updated_b"
   ]
  },
  {
   "cell_type": "markdown",
   "id": "ed74b837-2d93-49e2-9db5-80b9e522dc53",
   "metadata": {},
   "source": [
    "#### <font color = lime> Returned one, next return three"
   ]
  },
  {
   "cell_type": "code",
   "execution_count": null,
   "id": "78d7b6df-d8fc-44d1-8f58-92745d71bb29",
   "metadata": {},
   "outputs": [],
   "source": []
  },
  {
   "cell_type": "code",
   "execution_count": null,
   "id": "12047b6c-c801-4a84-87df-7f43b5ce3141",
   "metadata": {},
   "outputs": [],
   "source": [
    " df <- read.csv(\"fifo_new.csv\", header = TRUE, sep = \",\")\n",
    "df$sale <- as.integer(df$sale)\n",
    "df_sales <- data.frame()\n",
    "buys <- df[df$type == 'Buy', ]  # Filter buys\n",
    "sells <- df[df$type == 'Sell', ]  # Filter sells"
   ]
  },
  {
   "cell_type": "code",
   "execution_count": null,
   "id": "896eef93-9b2f-4fee-b5ae-21ffc281f661",
   "metadata": {},
   "outputs": [],
   "source": [
    "# head(buys, 3)\n",
    "# head(sells, 3)\n",
    "b <- buys[1,]\n",
    "s <- sells[1,]\n",
    "b\n",
    "s"
   ]
  },
  {
   "cell_type": "code",
   "execution_count": null,
   "id": "8bfe0f84-9f86-4011-bb54-92600a1a86d8",
   "metadata": {},
   "outputs": [],
   "source": [
    "include_sell_data_to_b <- function(b) {\n",
    "    \n",
    "    df_loop <- data.frame()\n",
    "    \n",
    "    for(i in 1:3) {\n",
    "\n",
    "        b <- buys[1,]\n",
    "        s <- sells[1,]\n",
    "        cat(\"test if there is a changine b value in loop using b$quan \", b$pps, \"\\n\")\n",
    "\n",
    "        sale <- s$quan\n",
    "        bs_ratio <- b$quan / s$quan\n",
    "        cf_quan <-  b$quan - s$quan\n",
    "\n",
    "        # assign the cf values - if they exist\n",
    "\n",
    "        b$sale_quan <- b$quan\n",
    "        b$buy_quan <- s$quan \n",
    "        b$buy_pps <-  b$pps\n",
    "        b$buy_basis <-  b$buy_quan * b$pps\n",
    "        b$sell_quan <- s$quan\n",
    "        b$sell_pps <- s$pps\n",
    "        b$sell_basis <- s$quan * s$pps\n",
    "        b$profit_loss <- b$sell_basis - b$buy_basis\n",
    "        b$sale <- sale    \n",
    "        s$type <- \"SOLD\"\n",
    "        temp <- b\n",
    "\n",
    "        df_loop <- rbind(temp, df_loop)\n",
    "        buys <- buys[-1,]\n",
    "        sells <- sells[-1,]\n",
    "    } # for\n",
    "     return(df_loop)\n",
    "    \n",
    "} # fct\n",
    "nrow(buys)    # No changes to b in this fct"
   ]
  },
  {
   "cell_type": "code",
   "execution_count": null,
   "id": "76e5c871-ed5f-4639-b757-6cb3ca717b6f",
   "metadata": {},
   "outputs": [],
   "source": [
    "updated_b <- include_sell_data_to_b(b)\n",
    "updated_b"
   ]
  },
  {
   "cell_type": "code",
   "execution_count": null,
   "id": "4da5e6ad-e108-4af5-8b6e-9c6789325553",
   "metadata": {},
   "outputs": [],
   "source": [
    "nrow(buys)"
   ]
  },
  {
   "cell_type": "markdown",
   "id": "10a5fde7-4a38-4f2d-8b3a-3fa146bbbbc1",
   "metadata": {},
   "source": [
    "#### <font color = lime> Perfect, ... and done w/out looking\n",
    "    \n",
    "    \n",
    "##### New learned ... the resulting variable is reversed when using the rbind() fct"
   ]
  },
  {
   "cell_type": "code",
   "execution_count": null,
   "id": "9a33887b-98c7-4d1c-bb15-449e384b21e3",
   "metadata": {},
   "outputs": [],
   "source": []
  },
  {
   "cell_type": "markdown",
   "id": "abc0d2eb-5039-468b-97ea-f4542a306e5b",
   "metadata": {},
   "source": [
    "## <font color = yellow>  Next, return 3 while making permanent changes to the buys df "
   ]
  },
  {
   "cell_type": "code",
   "execution_count": null,
   "id": "676e5f37-d8e9-4626-b64d-de29efb9e9bf",
   "metadata": {},
   "outputs": [],
   "source": []
  },
  {
   "cell_type": "code",
   "execution_count": null,
   "id": "19c1c82d-1115-42b3-9a0a-ce5f6bc4d0b8",
   "metadata": {},
   "outputs": [],
   "source": [
    " df <- read.csv(\"fifo_new.csv\", header = TRUE, sep = \",\")\n",
    "df$sale <- as.integer(df$sale)\n",
    "df_sales <- data.frame()\n",
    "buys <- df[df$type == 'Buy', ]  # Filter buys\n",
    "sells <- df[df$type == 'Sell', ]  # Filter sells"
   ]
  },
  {
   "cell_type": "code",
   "execution_count": null,
   "id": "60f93449-ca8b-4a5c-a0be-5fdf9ddee0b3",
   "metadata": {},
   "outputs": [],
   "source": [
    "# head(buys, 3)\n",
    "# head(sells, 3)\n",
    "b <- buys[1,]\n",
    "s <- sells[1,]\n",
    "# b\n",
    "# s"
   ]
  },
  {
   "cell_type": "code",
   "execution_count": null,
   "id": "be935adc-432f-4332-9315-095d4f6cd3d8",
   "metadata": {},
   "outputs": [],
   "source": []
  },
  {
   "cell_type": "code",
   "execution_count": null,
   "id": "b60c87b1-54c4-43d5-a2b1-09683920fa88",
   "metadata": {},
   "outputs": [],
   "source": []
  },
  {
   "cell_type": "code",
   "execution_count": null,
   "id": "ab7c9de3-1197-44e6-b806-0d11c5efb5c8",
   "metadata": {},
   "outputs": [],
   "source": [
    "include_sell_data_to_b <- function(b) {\n",
    "    \n",
    "    df_loop <- data.frame()\n",
    "    temp_buys <- data.frame()\n",
    "    \n",
    "    for(i in 1:3) {\n",
    "\n",
    "        b <- buys[1,]\n",
    "        s <- sells[1,]\n",
    "        cat(\"test if there is a changine b value in loop using b$quan \", b$pps, \"\\n\")\n",
    "\n",
    "        sale <- s$quan\n",
    "        bs_ratio <- b$quan / s$quan\n",
    "        cf_quan <-  b$quan - s$quan\n",
    "\n",
    "        # assign the cf values - if they exist\n",
    "\n",
    "        b$sale_quan <- b$quan\n",
    "        b$buy_quan <- s$quan \n",
    "        b$buy_pps <-  b$pps\n",
    "        b$buy_basis <-  b$buy_quan * b$pps\n",
    "        b$sell_quan <- s$quan\n",
    "        b$sell_pps <- s$pps\n",
    "        b$sell_basis <- s$quan * s$pps\n",
    "        b$profit_loss <- b$sell_basis - b$buy_basis\n",
    "        b$sale <- sale    \n",
    "        s$type <- \"SOLD\"\n",
    "        temp <- b\n",
    "\n",
    "        df_loop <- rbind(temp, df_loop)\n",
    "        \n",
    "        buys <- buys[-1,]\n",
    "        sells <- sells[-1,]\n",
    "        temp_buys <- buys\n",
    "        \n",
    "    } # for\n",
    "    \n",
    "     return(list(df_loop, temp_buys))\n",
    "    \n",
    "} # fct\n",
    "nrow(buys)    # No changes to b in this fct"
   ]
  },
  {
   "cell_type": "code",
   "execution_count": null,
   "id": "ccb2ce81-bff5-414c-88d5-3edeaa8e4862",
   "metadata": {},
   "outputs": [],
   "source": [
    "return_list <- include_sell_data_to_b(b)\n",
    "\n",
    "sales_records <- return_list[[1]]\n",
    "buys <- return_list[[2]]\n",
    "\n",
    "nrow(buys)\n",
    "buys[1,]\n",
    "sales_records"
   ]
  },
  {
   "cell_type": "code",
   "execution_count": null,
   "id": "e3339ba0-2980-47ea-9378-9464e7ce6c99",
   "metadata": {},
   "outputs": [],
   "source": []
  },
  {
   "cell_type": "markdown",
   "id": "4a2b0dd3-eaa2-4fda-92fa-de4bf1154923",
   "metadata": {},
   "source": [
    "## <font color = lime> Perfect! \n",
    "    \n",
    "#### The problems are arise from having used variables that remain in Notebook from previous runs"
   ]
  },
  {
   "cell_type": "code",
   "execution_count": null,
   "id": "b1b42903-42dd-4b00-b41a-0f37f3323178",
   "metadata": {},
   "outputs": [],
   "source": []
  },
  {
   "cell_type": "markdown",
   "id": "22029aeb-7a90-4e09-b670-3b561472c1da",
   "metadata": {},
   "source": [
    "## <font color = yellow> Last run: Use the insert_row from tibbles to create itinerated sales_records \n",
    "\n",
    "#### As before, do w/out looking"
   ]
  },
  {
   "cell_type": "code",
   "execution_count": null,
   "id": "55135aab-407e-4691-aaa3-5cf5abaacc97",
   "metadata": {},
   "outputs": [],
   "source": []
  },
  {
   "cell_type": "code",
   "execution_count": 5,
   "id": "6ae9d52c-42e6-4b23-aa9c-d49094c86dd1",
   "metadata": {},
   "outputs": [],
   "source": [
    "library(tibble)"
   ]
  },
  {
   "cell_type": "code",
   "execution_count": 6,
   "id": "be031987-b92d-4363-801e-ebaaa2ceb7b0",
   "metadata": {},
   "outputs": [],
   "source": [
    " df <- read.csv(\"fifo_new.csv\", header = TRUE, sep = \",\")\n",
    "df$sale <- as.integer(df$sale)\n",
    "df_sales <- data.frame()\n",
    "buys <- df[df$type == 'Buy', ]  # Filter buys\n",
    "sells <- df[df$type == 'Sell', ]  # Filter sel"
   ]
  },
  {
   "cell_type": "code",
   "execution_count": 7,
   "id": "b5d7b867-fa0b-4b05-ae01-a0d6f4b3cb95",
   "metadata": {},
   "outputs": [],
   "source": [
    "# head(buys, 3)\n",
    "# head(sells, 3)\n",
    "b <- buys[1,]\n",
    "s <- sells[1,]\n",
    "# b\n",
    "# s"
   ]
  },
  {
   "cell_type": "code",
   "execution_count": null,
   "id": "6ca3c4a9-d03e-437d-9fee-888e85043644",
   "metadata": {},
   "outputs": [],
   "source": []
  },
  {
   "cell_type": "markdown",
   "id": "9aee8442-f86a-4e6d-829a-8107da4d61c3",
   "metadata": {},
   "source": [
    "#### the add_row () from the tibble pkg\n",
    "    df <- df %>% add_row(.before = i+1, !!!new_row)\n",
    "    df <- add_row(df, temp, .after = i)"
   ]
  },
  {
   "cell_type": "code",
   "execution_count": 8,
   "id": "39c300d7-4c34-46fc-876e-1471e29d13e0",
   "metadata": {},
   "outputs": [
    {
     "data": {
      "text/html": [
       "23"
      ],
      "text/latex": [
       "23"
      ],
      "text/markdown": [
       "23"
      ],
      "text/plain": [
       "[1] 23"
      ]
     },
     "metadata": {},
     "output_type": "display_data"
    }
   ],
   "source": [
    "include_sell_data_to_b <- function(b) {\n",
    "    \n",
    "    df_loop <- data.frame()\n",
    "    temp_buys <- data.frame()\n",
    "    \n",
    "    for(i in 1:3) {\n",
    "\n",
    "        b <- buys[1,]\n",
    "        s <- sells[1,]\n",
    "        cat(\"test if there is a changine b value in loop using b$quan \", b$pps, \"\\n\")\n",
    "\n",
    "        sale <- s$quan\n",
    "        bs_ratio <- b$quan / s$quan\n",
    "        cf_quan <-  b$quan - s$quan\n",
    "\n",
    "        # assign the cf values - if they exist\n",
    "\n",
    "        b$sale_quan <- b$quan\n",
    "        b$buy_quan <- s$quan \n",
    "        b$buy_pps <-  b$pps\n",
    "        b$buy_basis <-  b$buy_quan * b$pps\n",
    "        b$sell_quan <- s$quan\n",
    "        b$sell_pps <- s$pps\n",
    "        b$sell_basis <- s$quan * s$pps\n",
    "        b$profit_loss <- b$sell_basis - b$buy_basis\n",
    "        b$sale <- sale    \n",
    "        s$type <- \"SOLD\"\n",
    "        temp <- b\n",
    "\n",
    "        df_loop <- add_row(temp, df_loop, .before = i)\n",
    "        \n",
    "        buys <- buys[-1,]\n",
    "        sells <- sells[-1,]\n",
    "        temp_buys <- buys\n",
    "        \n",
    "    } # for\n",
    "    \n",
    "     return(list(df_loop, temp_buys))\n",
    "    \n",
    "} # fct\n",
    "nrow(buys)    # No changes to b in this fct"
   ]
  },
  {
   "cell_type": "code",
   "execution_count": 9,
   "id": "91e08ec7-1e6e-4e4f-86cd-763645595a6e",
   "metadata": {},
   "outputs": [
    {
     "name": "stdout",
     "output_type": "stream",
     "text": [
      "test if there is a changine b value in loop using b$quan  4.07 \n",
      "test if there is a changine b value in loop using b$quan  5.625 \n",
      "test if there is a changine b value in loop using b$quan  5.788 \n"
     ]
    }
   ],
   "source": [
    "return_list <- include_sell_data_to_b(b)\n",
    "\n",
    "\n",
    "unsorted_sales_records <- return_list[[1]]\n",
    "sales_records <- unsorted_sales_records[order(unsorted_sales_records$index), ]\n",
    "\n",
    "buys <- return_list[[2]]\n"
   ]
  },
  {
   "cell_type": "code",
   "execution_count": 10,
   "id": "a656fc03-ce5c-4f16-bd88-fd0d8ed3e79d",
   "metadata": {},
   "outputs": [
    {
     "data": {
      "text/html": [
       "<table class=\"dataframe\">\n",
       "<caption>A data.frame: 3 × 20</caption>\n",
       "<thead>\n",
       "\t<tr><th></th><th scope=col>index</th><th scope=col>date</th><th scope=col>type</th><th scope=col>co</th><th scope=col>quan</th><th scope=col>pps</th><th scope=col>basis</th><th scope=col>sale_quan</th><th scope=col>tally</th><th scope=col>cf_quan</th><th scope=col>cf_pps</th><th scope=col>cf_basis</th><th scope=col>buy_quan</th><th scope=col>buy_pps</th><th scope=col>buy_basis</th><th scope=col>sell_quan</th><th scope=col>sell_pps</th><th scope=col>sell_basis</th><th scope=col>profit_loss</th><th scope=col>sale</th></tr>\n",
       "\t<tr><th></th><th scope=col>&lt;int&gt;</th><th scope=col>&lt;int&gt;</th><th scope=col>&lt;chr&gt;</th><th scope=col>&lt;chr&gt;</th><th scope=col>&lt;int&gt;</th><th scope=col>&lt;dbl&gt;</th><th scope=col>&lt;dbl&gt;</th><th scope=col>&lt;int&gt;</th><th scope=col>&lt;dbl&gt;</th><th scope=col>&lt;int&gt;</th><th scope=col>&lt;dbl&gt;</th><th scope=col>&lt;dbl&gt;</th><th scope=col>&lt;int&gt;</th><th scope=col>&lt;dbl&gt;</th><th scope=col>&lt;dbl&gt;</th><th scope=col>&lt;int&gt;</th><th scope=col>&lt;dbl&gt;</th><th scope=col>&lt;dbl&gt;</th><th scope=col>&lt;dbl&gt;</th><th scope=col>&lt;int&gt;</th></tr>\n",
       "</thead>\n",
       "<tbody>\n",
       "\t<tr><th scope=row>3</th><td>1</td><td>44926</td><td>Buy</td><td>AMC</td><td>1000</td><td>4.070</td><td>4273.5</td><td>1000</td><td>0</td><td>0</td><td>0</td><td>0</td><td>1000</td><td>4.070</td><td>4070</td><td>1000</td><td>5.51240</td><td>5512.40</td><td>1442.40</td><td>1000</td></tr>\n",
       "\t<tr><th scope=row>2</th><td>3</td><td>44946</td><td>Buy</td><td>AMC</td><td>1000</td><td>5.625</td><td>5625.0</td><td>1000</td><td>0</td><td>0</td><td>0</td><td>0</td><td>1000</td><td>5.625</td><td>5625</td><td>1000</td><td>6.68255</td><td>6682.55</td><td>1057.55</td><td>1000</td></tr>\n",
       "\t<tr><th scope=row>1</th><td>5</td><td>44949</td><td>Buy</td><td>AMC</td><td>1000</td><td>5.788</td><td>5788.0</td><td>1000</td><td>0</td><td>0</td><td>0</td><td>0</td><td>1000</td><td>5.788</td><td>5788</td><td>1000</td><td>6.25500</td><td>6255.00</td><td> 467.00</td><td>1000</td></tr>\n",
       "</tbody>\n",
       "</table>\n"
      ],
      "text/latex": [
       "A data.frame: 3 × 20\n",
       "\\begin{tabular}{r|llllllllllllllllllll}\n",
       "  & index & date & type & co & quan & pps & basis & sale\\_quan & tally & cf\\_quan & cf\\_pps & cf\\_basis & buy\\_quan & buy\\_pps & buy\\_basis & sell\\_quan & sell\\_pps & sell\\_basis & profit\\_loss & sale\\\\\n",
       "  & <int> & <int> & <chr> & <chr> & <int> & <dbl> & <dbl> & <int> & <dbl> & <int> & <dbl> & <dbl> & <int> & <dbl> & <dbl> & <int> & <dbl> & <dbl> & <dbl> & <int>\\\\\n",
       "\\hline\n",
       "\t3 & 1 & 44926 & Buy & AMC & 1000 & 4.070 & 4273.5 & 1000 & 0 & 0 & 0 & 0 & 1000 & 4.070 & 4070 & 1000 & 5.51240 & 5512.40 & 1442.40 & 1000\\\\\n",
       "\t2 & 3 & 44946 & Buy & AMC & 1000 & 5.625 & 5625.0 & 1000 & 0 & 0 & 0 & 0 & 1000 & 5.625 & 5625 & 1000 & 6.68255 & 6682.55 & 1057.55 & 1000\\\\\n",
       "\t1 & 5 & 44949 & Buy & AMC & 1000 & 5.788 & 5788.0 & 1000 & 0 & 0 & 0 & 0 & 1000 & 5.788 & 5788 & 1000 & 6.25500 & 6255.00 &  467.00 & 1000\\\\\n",
       "\\end{tabular}\n"
      ],
      "text/markdown": [
       "\n",
       "A data.frame: 3 × 20\n",
       "\n",
       "| <!--/--> | index &lt;int&gt; | date &lt;int&gt; | type &lt;chr&gt; | co &lt;chr&gt; | quan &lt;int&gt; | pps &lt;dbl&gt; | basis &lt;dbl&gt; | sale_quan &lt;int&gt; | tally &lt;dbl&gt; | cf_quan &lt;int&gt; | cf_pps &lt;dbl&gt; | cf_basis &lt;dbl&gt; | buy_quan &lt;int&gt; | buy_pps &lt;dbl&gt; | buy_basis &lt;dbl&gt; | sell_quan &lt;int&gt; | sell_pps &lt;dbl&gt; | sell_basis &lt;dbl&gt; | profit_loss &lt;dbl&gt; | sale &lt;int&gt; |\n",
       "|---|---|---|---|---|---|---|---|---|---|---|---|---|---|---|---|---|---|---|---|---|\n",
       "| 3 | 1 | 44926 | Buy | AMC | 1000 | 4.070 | 4273.5 | 1000 | 0 | 0 | 0 | 0 | 1000 | 4.070 | 4070 | 1000 | 5.51240 | 5512.40 | 1442.40 | 1000 |\n",
       "| 2 | 3 | 44946 | Buy | AMC | 1000 | 5.625 | 5625.0 | 1000 | 0 | 0 | 0 | 0 | 1000 | 5.625 | 5625 | 1000 | 6.68255 | 6682.55 | 1057.55 | 1000 |\n",
       "| 1 | 5 | 44949 | Buy | AMC | 1000 | 5.788 | 5788.0 | 1000 | 0 | 0 | 0 | 0 | 1000 | 5.788 | 5788 | 1000 | 6.25500 | 6255.00 |  467.00 | 1000 |\n",
       "\n"
      ],
      "text/plain": [
       "  index date  type co  quan pps   basis  sale_quan tally cf_quan cf_pps\n",
       "3 1     44926 Buy  AMC 1000 4.070 4273.5 1000      0     0       0     \n",
       "2 3     44946 Buy  AMC 1000 5.625 5625.0 1000      0     0       0     \n",
       "1 5     44949 Buy  AMC 1000 5.788 5788.0 1000      0     0       0     \n",
       "  cf_basis buy_quan buy_pps buy_basis sell_quan sell_pps sell_basis profit_loss\n",
       "3 0        1000     4.070   4070      1000      5.51240  5512.40    1442.40    \n",
       "2 0        1000     5.625   5625      1000      6.68255  6682.55    1057.55    \n",
       "1 0        1000     5.788   5788      1000      6.25500  6255.00     467.00    \n",
       "  sale\n",
       "3 1000\n",
       "2 1000\n",
       "1 1000"
      ]
     },
     "metadata": {},
     "output_type": "display_data"
    },
    {
     "data": {
      "text/html": [
       "20"
      ],
      "text/latex": [
       "20"
      ],
      "text/markdown": [
       "20"
      ],
      "text/plain": [
       "[1] 20"
      ]
     },
     "metadata": {},
     "output_type": "display_data"
    },
    {
     "data": {
      "text/html": [
       "<table class=\"dataframe\">\n",
       "<caption>A data.frame: 1 × 20</caption>\n",
       "<thead>\n",
       "\t<tr><th></th><th scope=col>index</th><th scope=col>date</th><th scope=col>type</th><th scope=col>co</th><th scope=col>quan</th><th scope=col>pps</th><th scope=col>basis</th><th scope=col>sale_quan</th><th scope=col>tally</th><th scope=col>cf_quan</th><th scope=col>cf_pps</th><th scope=col>cf_basis</th><th scope=col>buy_quan</th><th scope=col>buy_pps</th><th scope=col>buy_basis</th><th scope=col>sell_quan</th><th scope=col>sell_pps</th><th scope=col>sell_basis</th><th scope=col>profit_loss</th><th scope=col>sale</th></tr>\n",
       "\t<tr><th></th><th scope=col>&lt;int&gt;</th><th scope=col>&lt;int&gt;</th><th scope=col>&lt;chr&gt;</th><th scope=col>&lt;chr&gt;</th><th scope=col>&lt;int&gt;</th><th scope=col>&lt;dbl&gt;</th><th scope=col>&lt;dbl&gt;</th><th scope=col>&lt;int&gt;</th><th scope=col>&lt;dbl&gt;</th><th scope=col>&lt;int&gt;</th><th scope=col>&lt;dbl&gt;</th><th scope=col>&lt;dbl&gt;</th><th scope=col>&lt;int&gt;</th><th scope=col>&lt;dbl&gt;</th><th scope=col>&lt;dbl&gt;</th><th scope=col>&lt;int&gt;</th><th scope=col>&lt;dbl&gt;</th><th scope=col>&lt;dbl&gt;</th><th scope=col>&lt;int&gt;</th><th scope=col>&lt;int&gt;</th></tr>\n",
       "</thead>\n",
       "<tbody>\n",
       "\t<tr><th scope=row>7</th><td>7</td><td>44953</td><td>Buy</td><td>AMC</td><td>2000</td><td>5.2394</td><td>10478.8</td><td>0</td><td>0</td><td>0</td><td>0</td><td>0</td><td>0</td><td>0</td><td>0</td><td>0</td><td>0</td><td>0</td><td>0</td><td>0</td></tr>\n",
       "</tbody>\n",
       "</table>\n"
      ],
      "text/latex": [
       "A data.frame: 1 × 20\n",
       "\\begin{tabular}{r|llllllllllllllllllll}\n",
       "  & index & date & type & co & quan & pps & basis & sale\\_quan & tally & cf\\_quan & cf\\_pps & cf\\_basis & buy\\_quan & buy\\_pps & buy\\_basis & sell\\_quan & sell\\_pps & sell\\_basis & profit\\_loss & sale\\\\\n",
       "  & <int> & <int> & <chr> & <chr> & <int> & <dbl> & <dbl> & <int> & <dbl> & <int> & <dbl> & <dbl> & <int> & <dbl> & <dbl> & <int> & <dbl> & <dbl> & <int> & <int>\\\\\n",
       "\\hline\n",
       "\t7 & 7 & 44953 & Buy & AMC & 2000 & 5.2394 & 10478.8 & 0 & 0 & 0 & 0 & 0 & 0 & 0 & 0 & 0 & 0 & 0 & 0 & 0\\\\\n",
       "\\end{tabular}\n"
      ],
      "text/markdown": [
       "\n",
       "A data.frame: 1 × 20\n",
       "\n",
       "| <!--/--> | index &lt;int&gt; | date &lt;int&gt; | type &lt;chr&gt; | co &lt;chr&gt; | quan &lt;int&gt; | pps &lt;dbl&gt; | basis &lt;dbl&gt; | sale_quan &lt;int&gt; | tally &lt;dbl&gt; | cf_quan &lt;int&gt; | cf_pps &lt;dbl&gt; | cf_basis &lt;dbl&gt; | buy_quan &lt;int&gt; | buy_pps &lt;dbl&gt; | buy_basis &lt;dbl&gt; | sell_quan &lt;int&gt; | sell_pps &lt;dbl&gt; | sell_basis &lt;dbl&gt; | profit_loss &lt;int&gt; | sale &lt;int&gt; |\n",
       "|---|---|---|---|---|---|---|---|---|---|---|---|---|---|---|---|---|---|---|---|---|\n",
       "| 7 | 7 | 44953 | Buy | AMC | 2000 | 5.2394 | 10478.8 | 0 | 0 | 0 | 0 | 0 | 0 | 0 | 0 | 0 | 0 | 0 | 0 | 0 |\n",
       "\n"
      ],
      "text/plain": [
       "  index date  type co  quan pps    basis   sale_quan tally cf_quan cf_pps\n",
       "7 7     44953 Buy  AMC 2000 5.2394 10478.8 0         0     0       0     \n",
       "  cf_basis buy_quan buy_pps buy_basis sell_quan sell_pps sell_basis profit_loss\n",
       "7 0        0        0       0         0         0        0          0          \n",
       "  sale\n",
       "7 0   "
      ]
     },
     "metadata": {},
     "output_type": "display_data"
    }
   ],
   "source": [
    "sales_records\n",
    "nrow(buys)\n",
    "buys[1,]"
   ]
  },
  {
   "cell_type": "code",
   "execution_count": null,
   "id": "52d70c50-66ad-4493-b7e6-a11c6a6afa03",
   "metadata": {},
   "outputs": [],
   "source": []
  },
  {
   "cell_type": "code",
   "execution_count": null,
   "id": "e4a2f502-4600-49d5-84bd-8c54181aa1e6",
   "metadata": {},
   "outputs": [],
   "source": []
  }
 ],
 "metadata": {
  "kernelspec": {
   "display_name": "R",
   "language": "R",
   "name": "ir"
  },
  "language_info": {
   "codemirror_mode": "r",
   "file_extension": ".r",
   "mimetype": "text/x-r-source",
   "name": "R",
   "pygments_lexer": "r",
   "version": "4.3.0"
  }
 },
 "nbformat": 4,
 "nbformat_minor": 5
}
