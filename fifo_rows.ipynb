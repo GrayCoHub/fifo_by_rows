{
 "cells": [
  {
   "cell_type": "markdown",
   "id": "8a4f934a-bc5d-4389-8931-fa890b8b83b6",
   "metadata": {},
   "source": [
    "## <font color = yellow> A single Sale will combine the first row from the Buys & Sells dfs"
   ]
  },
  {
   "cell_type": "code",
   "execution_count": null,
   "id": "c78b5b89-91db-4c28-9676-73a0ab6689df",
   "metadata": {},
   "outputs": [],
   "source": [
    "create_df <- function() {\n",
    "    \n",
    "    df <- read.csv(\"fifo_new.csv\", header = TRUE, sep = \",\")\n",
    "    df$sale <- as.integer(df$sale)\n",
    "   #  df$date <- as.Date(df$date, origin = \"1899-12-30\")\n",
    "   #  df$true_false <- FALSE  \n",
    "    return(df)  \n",
    "    }\n",
    "\n",
    "# fct call\n",
    "# df <- create_df() "
   ]
  },
  {
   "cell_type": "code",
   "execution_count": null,
   "id": "5f879b68-2a45-4a2a-b267-a64c7cee5a21",
   "metadata": {},
   "outputs": [],
   "source": [
    "# call fct and create the record keeping df\n",
    "df <- create_df()\n",
    "# create empty df\n",
    "df_buy_rows <- data.frame()"
   ]
  },
  {
   "cell_type": "code",
   "execution_count": null,
   "id": "4c25354d-5db4-4eda-bf18-fe106bfd67ee",
   "metadata": {},
   "outputs": [],
   "source": [
    "\n"
   ]
  },
  {
   "cell_type": "code",
   "execution_count": null,
   "id": "7e4c688a-c2bc-4c3a-8280-7d93e3c3b477",
   "metadata": {},
   "outputs": [],
   "source": [
    "# create dfs from filtered df\n",
    "buys <- df[df$type == 'Buy', ]  # Filter buys\n",
    "sells <- df[df$type == 'Sell', ]  # Filter sells\n",
    "head(buys, 3)\n",
    "head(sells,3)"
   ]
  },
  {
   "cell_type": "code",
   "execution_count": null,
   "id": "6acf065f-312b-4a12-a615-d58aee937794",
   "metadata": {},
   "outputs": [],
   "source": [
    "# A combo fct that creates the dfs used (combo of above )\n",
    "\n",
    "create_dfs <- function() {\n",
    "    #fct call\n",
    "    df <- create_df()   # the first row in this Notebook\n",
    "    df_buy_rows <- data.frame()\n",
    "    buys <- df[df$type == 'Buy', ]  # Filter buys\n",
    "    sells <- df[df$type == 'Sell', ]  # Filter sells\n",
    "    \n",
    "    return(list(df = df, df_buy_rows = df_buy_rows, buys = buys, sells = sells))\n",
    "  }\n",
    "    "
   ]
  },
  {
   "cell_type": "code",
   "execution_count": null,
   "id": "fb1a1b57-c843-40c8-8ca0-dc28124fcdb0",
   "metadata": {},
   "outputs": [],
   "source": [
    "# Call the combo function, will return a list of dfs\n",
    "dfs <- create_dfs()\n",
    "\n",
    "# Access the dataframes from returned list\n",
    "df <- dfs$df\n",
    "df_buy_rows <- dfs$df_buy_rows\n",
    "buys <- dfs$buys\n",
    "sells <- dfs$sells\n",
    "\n",
    "\n",
    "    "
   ]
  },
  {
   "cell_type": "code",
   "execution_count": null,
   "id": "4f4cc28a-65e1-4d56-81f8-a4f16a9347d2",
   "metadata": {},
   "outputs": [],
   "source": []
  },
  {
   "cell_type": "code",
   "execution_count": null,
   "id": "40b7b336-323c-4ff5-ba2f-b0740c5ddf68",
   "metadata": {},
   "outputs": [],
   "source": [
    "# create new dfs that will become the one line dfs (first row ) from buys and sells dfs\n",
    "s <- data.frame()\n",
    "b <- data.frame()\n",
    "\n",
    "# create the Buy & Sell dfs\n",
    "\n",
    "row_b <- function(b) {\n",
    "        b <- b\n",
    "        b <- buys[1,]\n",
    "        return(b)\n",
    "    }\n",
    "\n",
    "    row_s <- function(s) {\n",
    "        s <- s\n",
    "        s <- sells[1,]\n",
    "        return(s)\n",
    "    }\n",
    "\n",
    "    \n",
    "\n",
    "# call fcts\n",
    "\n",
    "\n",
    "b <- row_b(b)   \n",
    "s <- row_s(s)    \n",
    "\n",
    "nrow(b)\n",
    "nrow(s)\n",
    "\n",
    "print(b)\n",
    "print(s)\n"
   ]
  },
  {
   "cell_type": "markdown",
   "id": "28136ea2-bcfc-444c-856e-5264bde58fa0",
   "metadata": {},
   "source": [
    "## <font color = yellow> These values get duplicated b/c no change of i value -  (no loop yet)"
   ]
  },
  {
   "cell_type": "code",
   "execution_count": null,
   "id": "ac92fd55-875d-4742-a076-d6c84dc7debc",
   "metadata": {},
   "outputs": [],
   "source": [
    "# These values might be default when there is a carryforward ( Buy > Sell )\n",
    "\n",
    "when_cf <- function (b) {\n",
    "    \n",
    "    b <- b\n",
    "    \n",
    "    sale <- s$quan\n",
    "    bs_ratio <- b$quan / s$quan\n",
    "    cf_quan <- b$quan - s$quan\n",
    "\n",
    "    b$cf_quan <- cf_quan\n",
    "    b$cf_pps <- b$pps\n",
    "    b$cf_basis <- cf_quan * b$pps\n",
    "    \n",
    "    b$buy_quan <- s$quan \n",
    "    b$buy_pps <-  b$pps\n",
    "    b$buy_basis <-  b$buy_quan * b$pps\n",
    "\n",
    "    b$sell_quan <- s$quan\n",
    "    b$sell_pps <- s$pps\n",
    "    b$sell_basis <- s$quan * s$pps\n",
    "\n",
    "    b$profit_loss <- b$sell_basis - b$buy_basis\n",
    "    b$sale <- sale\n",
    "    \n",
    "    s$type <- \"SOLD\"\n",
    "    \n",
    "    return(b)\n",
    "    \n",
    "    }\n",
    "    "
   ]
  },
  {
   "cell_type": "code",
   "execution_count": null,
   "id": "40b03959-c75f-4522-af95-82a2471bb529",
   "metadata": {},
   "outputs": [],
   "source": [
    "# b <- when_cf(b)\n",
    "# b"
   ]
  },
  {
   "cell_type": "code",
   "execution_count": null,
   "id": "3429b418-aaee-4856-b00f-dfee64079c35",
   "metadata": {},
   "outputs": [],
   "source": [
    "# modifies the buys df, row 1, with values from a carryforward Sale.\n",
    "\n",
    "i <- 1   # substitute value acting as a loop value\n",
    "\n",
    "nrow(buys)\n",
    "\n",
    "df_records <- function (buys, b) {\n",
    "    buys <- buys\n",
    "    b <- b\n",
    "    \n",
    "    buys[i, 'cf_quan'] <- b$cf_quan   \n",
    "    df_buy_rows <<- rbind(df_buy_rows, b)\n",
    "     \n",
    "    # buys <- buys[-1, ]  \n",
    "    \n",
    "    return(buys)\n",
    "    \n",
    "    }\n",
    "nrow(buys)\n",
    "\n"
   ]
  },
  {
   "cell_type": "code",
   "execution_count": null,
   "id": "e6b11c81-7e7b-4958-b248-c4531d378cfc",
   "metadata": {},
   "outputs": [],
   "source": [
    "# df_buy_rows <- df_records(buys, b)\n",
    "# head(df_buy_rows, 3)"
   ]
  },
  {
   "cell_type": "code",
   "execution_count": null,
   "id": "5777def7-24e0-4f99-ba1b-ea508b46607d",
   "metadata": {},
   "outputs": [],
   "source": [
    "head(buys, 3)"
   ]
  },
  {
   "cell_type": "code",
   "execution_count": null,
   "id": "a72637df-a226-4eab-b8a9-58f001026f71",
   "metadata": {},
   "outputs": [],
   "source": []
  },
  {
   "cell_type": "code",
   "execution_count": null,
   "id": "cbea5c3f-2977-436c-aa0e-9ffb41af6cd7",
   "metadata": {},
   "outputs": [],
   "source": [
    "#  These functions will delete the first row from the Buys and Sells dfs \n",
    "#  concluding the first Sale event\n",
    "\n",
    "i <- 1\n",
    "\n",
    "\n",
    "# fct\n",
    "buy_snip <- function (buys) {\n",
    "    buys <- buys    \n",
    "    # remove the first row of buys ... is b \n",
    "    buys <- buys[-1, ]   \n",
    "    return(buys)\n",
    "   }\n",
    "\n",
    "\n",
    "# fct\n",
    "sell_snip <- function(sells) {\n",
    "    sells <- sells    \n",
    "    sells <- sells[-1, ]    \n",
    "    return(sells)\n",
    "    }\n",
    "\n",
    "\n",
    "# fct call\n",
    "\n",
    "\n",
    "# nrow(buys)\n",
    "# nrow(sells)\n",
    "\n",
    "# buys <- buy_snip(buys)\n",
    "# sells <- sell_snip(sells)\n",
    "# nrow(buys)\n",
    "# nrow(sells)\n",
    "# head(buys, 3)"
   ]
  },
  {
   "cell_type": "code",
   "execution_count": null,
   "id": "466f08f7-0076-41ce-a6df-6bf0ac19b485",
   "metadata": {},
   "outputs": [],
   "source": []
  },
  {
   "cell_type": "code",
   "execution_count": null,
   "id": "2b65ecdb-9bac-4a67-90b6-2704804906bf",
   "metadata": {},
   "outputs": [],
   "source": [
    "# These are the fcts (in order) to process a Sals, from start to end \n",
    "\n",
    "nrow(buys)\n",
    "nrow(sells)\n",
    "\n",
    "buys <- buy_snip(buys)\n",
    "sells <- sell_snip(sells)\n",
    "nrow(buys)\n",
    "nrow(sells)\n",
    "head(buys, 3)"
   ]
  },
  {
   "cell_type": "code",
   "execution_count": null,
   "id": "5d68d2c1-fdc8-48b2-a971-9e036756f4a1",
   "metadata": {},
   "outputs": [],
   "source": []
  },
  {
   "cell_type": "code",
   "execution_count": null,
   "id": "92ebba72-5ee0-44c2-9119-3b31af62afbf",
   "metadata": {},
   "outputs": [],
   "source": []
  },
  {
   "cell_type": "code",
   "execution_count": null,
   "id": "331b3cfc-1f60-4c51-bd0c-90fc38e0e54c",
   "metadata": {},
   "outputs": [],
   "source": [
    "stopps"
   ]
  },
  {
   "cell_type": "code",
   "execution_count": null,
   "id": "12a6921a-f6db-4156-9bb1-8a7081b919ec",
   "metadata": {},
   "outputs": [],
   "source": []
  },
  {
   "cell_type": "markdown",
   "id": "81e07ffc-b53b-4460-81e9-3e47c3174558",
   "metadata": {},
   "source": [
    "## <font color = yellow> The sequence of functions to process a Sale:\n",
    "    \n",
    "    dfs <- create_dfs() {\n",
    "    row_b <- function(b) {\n",
    "    row_s <- function(s) {\n",
    "    when_cf <- function (b) {\n",
    "    df_records <- function (buys, b) \n",
    "    buy_snip <- function (buys) {\n",
    "    sell_snip <- function(sells) {\n",
    "    "
   ]
  },
  {
   "cell_type": "code",
   "execution_count": null,
   "id": "e512778c-a0c0-46e5-8304-8f08b2e74018",
   "metadata": {},
   "outputs": [],
   "source": [
    "# fct call: to create vars from the first row of Buy & Sell\n",
    "b <- row_b(b)   \n",
    "s <- row_s(s)  \n",
    "b\n",
    "s"
   ]
  },
  {
   "cell_type": "code",
   "execution_count": null,
   "id": "1c02391b-bef7-4209-9b5a-e5445b6ebdbc",
   "metadata": {},
   "outputs": [],
   "source": [
    "# fct call: to populated the fields of B with the Sale data when there is a C/F amound\n",
    "nrow(buys)\n",
    "nrow(sells)\n",
    "\n",
    "# This creates the b df which includes all the fields completed from the Sale of s. This has c/f\n",
    "b <- when_cf(b) \n",
    "\n",
    "b    "
   ]
  },
  {
   "cell_type": "code",
   "execution_count": null,
   "id": "c6b28ae0-f835-42b9-93a3-23a0848330c8",
   "metadata": {},
   "outputs": [],
   "source": []
  },
  {
   "cell_type": "code",
   "execution_count": null,
   "id": "4637a677-6092-4503-a5a4-5f59ca7dced1",
   "metadata": {},
   "outputs": [],
   "source": [
    "# The Buys df remians unchanged since it was created\n",
    "head(buys,3)"
   ]
  },
  {
   "cell_type": "code",
   "execution_count": null,
   "id": "fd8eae88-dc59-4ae3-bcdb-2afdf5b4688d",
   "metadata": {},
   "outputs": [],
   "source": [
    "# fct call:  First time the fct call creates new df called records from the df b,\n",
    "#  Subsequent fct calls should append to the df_records for each call or loop\n",
    "\n",
    "buys <- df_records(buys, b) "
   ]
  },
  {
   "cell_type": "code",
   "execution_count": null,
   "id": "d577e239-2aaf-4244-a132-664694108b22",
   "metadata": {},
   "outputs": [],
   "source": [
    "# The df Buys remains unchanged\n",
    "head(buys, 3)"
   ]
  },
  {
   "cell_type": "code",
   "execution_count": null,
   "id": "7eabf142-3c8c-4440-8aa9-afa795173e46",
   "metadata": {},
   "outputs": [],
   "source": []
  },
  {
   "cell_type": "code",
   "execution_count": null,
   "id": "fe14a05b-a13e-4aa9-9bca-ef8b6e36ed53",
   "metadata": {},
   "outputs": [],
   "source": [
    "# fct calls: will remove the first row from the buys and sells dfs\n",
    "nrow(buys)\n",
    "nrow(sells)\n",
    "cat(\"-------------------------------\")\n",
    "buys <- buy_snip(buys)\n",
    "sells <- sell_snip(sells)\n",
    "\n",
    "nrow(buys)\n",
    "nrow(sells)"
   ]
  },
  {
   "cell_type": "code",
   "execution_count": null,
   "id": "c61db9cf-b277-4f76-a324-e35cf9d5ee10",
   "metadata": {},
   "outputs": [],
   "source": [
    "# head(buys,3)\n",
    "\n",
    "head(df_buy_rows)"
   ]
  },
  {
   "cell_type": "markdown",
   "id": "ffd17a25-7d3d-4699-97e3-791cbd456a49",
   "metadata": {},
   "source": [
    "## <font color = yellow> Works as expected above here. Next, combine fcts into one fct"
   ]
  },
  {
   "cell_type": "code",
   "execution_count": null,
   "id": "3870583c-414b-40e8-9286-4712f42ec6da",
   "metadata": {},
   "outputs": [],
   "source": [
    "# The main body\n",
    "\n",
    "inc_rows <- function () {\n",
    "    \n",
    "    row_b\n",
    "row_s\n",
    "when_cf\n",
    "df_records\n",
    "buy_snip\n",
    "sell_snip\n",
    "    \n",
    "    buys <- df[df$type == 'Buy', ]  # Filter buys\n",
    "    sells <- df[df$type == 'Sell', ]  # Filter sells\n",
    "    print(nrow(buys))\n",
    "    print(nrow(sells))\n",
    " \n",
    "    buys <- buy_gone(buys, b)\n",
    "    sells<-sell_gone(sells)\n",
    "    print(nrow(buys))\n",
    "    print(nrow(sells))    \n",
    "    \n",
    "    }\n",
    "\n",
    "#  inc_rows()"
   ]
  },
  {
   "cell_type": "code",
   "execution_count": null,
   "id": "c6165730-366e-4c6a-86fe-70decf53ddab",
   "metadata": {},
   "outputs": [],
   "source": []
  }
 ],
 "metadata": {
  "kernelspec": {
   "display_name": "R",
   "language": "R",
   "name": "ir"
  },
  "language_info": {
   "codemirror_mode": "r",
   "file_extension": ".r",
   "mimetype": "text/x-r-source",
   "name": "R",
   "pygments_lexer": "r",
   "version": "4.3.0"
  }
 },
 "nbformat": 4,
 "nbformat_minor": 5
}
