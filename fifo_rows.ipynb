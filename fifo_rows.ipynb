{
 "cells": [
  {
   "cell_type": "markdown",
   "id": "8a4f934a-bc5d-4389-8931-fa890b8b83b6",
   "metadata": {},
   "source": [
    "## <font color = yellow> A single Sale will combine the first row from the Buys & Sells dfs"
   ]
  },
  {
   "cell_type": "code",
   "execution_count": 1,
   "id": "1a40d688-bd55-4df2-be07-c685b667921e",
   "metadata": {},
   "outputs": [],
   "source": [
    "library(tibble)"
   ]
  },
  {
   "cell_type": "code",
   "execution_count": 2,
   "id": "c78b5b89-91db-4c28-9676-73a0ab6689df",
   "metadata": {},
   "outputs": [],
   "source": [
    "create_df <- function() {\n",
    "    \n",
    "    df <- read.csv(\"fifo_new.csv\", header = TRUE, sep = \",\")\n",
    "    df$sale <- as.integer(df$sale)\n",
    "   #  df$date <- as.Date(df$date, origin = \"1899-12-30\")\n",
    "   #  df$true_false <- FALSE  \n",
    "    return(df)  \n",
    "    }\n",
    "i <- 1\n",
    "# fct call\n",
    "# df <- create_df() "
   ]
  },
  {
   "cell_type": "code",
   "execution_count": 3,
   "id": "5f879b68-2a45-4a2a-b267-a64c7cee5a21",
   "metadata": {
    "tags": []
   },
   "outputs": [],
   "source": [
    "# call fct and create the record keeping df\n",
    "df <- create_df()\n",
    "# create empty df\n",
    "df_records <- data.frame()\n",
    "\n",
    "# df_buy_rows <- data.frame()"
   ]
  },
  {
   "cell_type": "code",
   "execution_count": null,
   "id": "4c25354d-5db4-4eda-bf18-fe106bfd67ee",
   "metadata": {
    "tags": []
   },
   "outputs": [],
   "source": [
    "\n"
   ]
  },
  {
   "cell_type": "code",
   "execution_count": 4,
   "id": "7e4c688a-c2bc-4c3a-8280-7d93e3c3b477",
   "metadata": {
    "tags": []
   },
   "outputs": [
    {
     "data": {
      "text/html": [
       "<table class=\"dataframe\">\n",
       "<caption>A data.frame: 3 × 20</caption>\n",
       "<thead>\n",
       "\t<tr><th></th><th scope=col>index</th><th scope=col>date</th><th scope=col>type</th><th scope=col>co</th><th scope=col>quan</th><th scope=col>pps</th><th scope=col>basis</th><th scope=col>sale_quan</th><th scope=col>tally</th><th scope=col>cf_quan</th><th scope=col>cf_pps</th><th scope=col>cf_basis</th><th scope=col>buy_quan</th><th scope=col>buy_pps</th><th scope=col>buy_basis</th><th scope=col>sell_quan</th><th scope=col>sell_pps</th><th scope=col>sell_basis</th><th scope=col>profit_loss</th><th scope=col>sale</th></tr>\n",
       "\t<tr><th></th><th scope=col>&lt;int&gt;</th><th scope=col>&lt;int&gt;</th><th scope=col>&lt;chr&gt;</th><th scope=col>&lt;chr&gt;</th><th scope=col>&lt;int&gt;</th><th scope=col>&lt;dbl&gt;</th><th scope=col>&lt;dbl&gt;</th><th scope=col>&lt;int&gt;</th><th scope=col>&lt;dbl&gt;</th><th scope=col>&lt;int&gt;</th><th scope=col>&lt;dbl&gt;</th><th scope=col>&lt;dbl&gt;</th><th scope=col>&lt;int&gt;</th><th scope=col>&lt;dbl&gt;</th><th scope=col>&lt;dbl&gt;</th><th scope=col>&lt;int&gt;</th><th scope=col>&lt;dbl&gt;</th><th scope=col>&lt;dbl&gt;</th><th scope=col>&lt;int&gt;</th><th scope=col>&lt;int&gt;</th></tr>\n",
       "</thead>\n",
       "<tbody>\n",
       "\t<tr><th scope=row>1</th><td>1</td><td>44926</td><td>Buy</td><td>AMC</td><td>1050</td><td>4.070</td><td>4273.5</td><td>0</td><td>0</td><td>0</td><td>0</td><td>0</td><td>0</td><td>0</td><td>0</td><td>0</td><td>0</td><td>0</td><td>0</td><td>0</td></tr>\n",
       "\t<tr><th scope=row>3</th><td>3</td><td>44946</td><td>Buy</td><td>AMC</td><td>1000</td><td>5.625</td><td>5625.0</td><td>0</td><td>0</td><td>0</td><td>0</td><td>0</td><td>0</td><td>0</td><td>0</td><td>0</td><td>0</td><td>0</td><td>0</td><td>0</td></tr>\n",
       "\t<tr><th scope=row>5</th><td>5</td><td>44949</td><td>Buy</td><td>AMC</td><td>1000</td><td>5.788</td><td>5788.0</td><td>0</td><td>0</td><td>0</td><td>0</td><td>0</td><td>0</td><td>0</td><td>0</td><td>0</td><td>0</td><td>0</td><td>0</td><td>0</td></tr>\n",
       "</tbody>\n",
       "</table>\n"
      ],
      "text/latex": [
       "A data.frame: 3 × 20\n",
       "\\begin{tabular}{r|llllllllllllllllllll}\n",
       "  & index & date & type & co & quan & pps & basis & sale\\_quan & tally & cf\\_quan & cf\\_pps & cf\\_basis & buy\\_quan & buy\\_pps & buy\\_basis & sell\\_quan & sell\\_pps & sell\\_basis & profit\\_loss & sale\\\\\n",
       "  & <int> & <int> & <chr> & <chr> & <int> & <dbl> & <dbl> & <int> & <dbl> & <int> & <dbl> & <dbl> & <int> & <dbl> & <dbl> & <int> & <dbl> & <dbl> & <int> & <int>\\\\\n",
       "\\hline\n",
       "\t1 & 1 & 44926 & Buy & AMC & 1050 & 4.070 & 4273.5 & 0 & 0 & 0 & 0 & 0 & 0 & 0 & 0 & 0 & 0 & 0 & 0 & 0\\\\\n",
       "\t3 & 3 & 44946 & Buy & AMC & 1000 & 5.625 & 5625.0 & 0 & 0 & 0 & 0 & 0 & 0 & 0 & 0 & 0 & 0 & 0 & 0 & 0\\\\\n",
       "\t5 & 5 & 44949 & Buy & AMC & 1000 & 5.788 & 5788.0 & 0 & 0 & 0 & 0 & 0 & 0 & 0 & 0 & 0 & 0 & 0 & 0 & 0\\\\\n",
       "\\end{tabular}\n"
      ],
      "text/markdown": [
       "\n",
       "A data.frame: 3 × 20\n",
       "\n",
       "| <!--/--> | index &lt;int&gt; | date &lt;int&gt; | type &lt;chr&gt; | co &lt;chr&gt; | quan &lt;int&gt; | pps &lt;dbl&gt; | basis &lt;dbl&gt; | sale_quan &lt;int&gt; | tally &lt;dbl&gt; | cf_quan &lt;int&gt; | cf_pps &lt;dbl&gt; | cf_basis &lt;dbl&gt; | buy_quan &lt;int&gt; | buy_pps &lt;dbl&gt; | buy_basis &lt;dbl&gt; | sell_quan &lt;int&gt; | sell_pps &lt;dbl&gt; | sell_basis &lt;dbl&gt; | profit_loss &lt;int&gt; | sale &lt;int&gt; |\n",
       "|---|---|---|---|---|---|---|---|---|---|---|---|---|---|---|---|---|---|---|---|---|\n",
       "| 1 | 1 | 44926 | Buy | AMC | 1050 | 4.070 | 4273.5 | 0 | 0 | 0 | 0 | 0 | 0 | 0 | 0 | 0 | 0 | 0 | 0 | 0 |\n",
       "| 3 | 3 | 44946 | Buy | AMC | 1000 | 5.625 | 5625.0 | 0 | 0 | 0 | 0 | 0 | 0 | 0 | 0 | 0 | 0 | 0 | 0 | 0 |\n",
       "| 5 | 5 | 44949 | Buy | AMC | 1000 | 5.788 | 5788.0 | 0 | 0 | 0 | 0 | 0 | 0 | 0 | 0 | 0 | 0 | 0 | 0 | 0 |\n",
       "\n"
      ],
      "text/plain": [
       "  index date  type co  quan pps   basis  sale_quan tally cf_quan cf_pps\n",
       "1 1     44926 Buy  AMC 1050 4.070 4273.5 0         0     0       0     \n",
       "3 3     44946 Buy  AMC 1000 5.625 5625.0 0         0     0       0     \n",
       "5 5     44949 Buy  AMC 1000 5.788 5788.0 0         0     0       0     \n",
       "  cf_basis buy_quan buy_pps buy_basis sell_quan sell_pps sell_basis profit_loss\n",
       "1 0        0        0       0         0         0        0          0          \n",
       "3 0        0        0       0         0         0        0          0          \n",
       "5 0        0        0       0         0         0        0          0          \n",
       "  sale\n",
       "1 0   \n",
       "3 0   \n",
       "5 0   "
      ]
     },
     "metadata": {},
     "output_type": "display_data"
    },
    {
     "data": {
      "text/html": [
       "<table class=\"dataframe\">\n",
       "<caption>A data.frame: 3 × 20</caption>\n",
       "<thead>\n",
       "\t<tr><th></th><th scope=col>index</th><th scope=col>date</th><th scope=col>type</th><th scope=col>co</th><th scope=col>quan</th><th scope=col>pps</th><th scope=col>basis</th><th scope=col>sale_quan</th><th scope=col>tally</th><th scope=col>cf_quan</th><th scope=col>cf_pps</th><th scope=col>cf_basis</th><th scope=col>buy_quan</th><th scope=col>buy_pps</th><th scope=col>buy_basis</th><th scope=col>sell_quan</th><th scope=col>sell_pps</th><th scope=col>sell_basis</th><th scope=col>profit_loss</th><th scope=col>sale</th></tr>\n",
       "\t<tr><th></th><th scope=col>&lt;int&gt;</th><th scope=col>&lt;int&gt;</th><th scope=col>&lt;chr&gt;</th><th scope=col>&lt;chr&gt;</th><th scope=col>&lt;int&gt;</th><th scope=col>&lt;dbl&gt;</th><th scope=col>&lt;dbl&gt;</th><th scope=col>&lt;int&gt;</th><th scope=col>&lt;dbl&gt;</th><th scope=col>&lt;int&gt;</th><th scope=col>&lt;dbl&gt;</th><th scope=col>&lt;dbl&gt;</th><th scope=col>&lt;int&gt;</th><th scope=col>&lt;dbl&gt;</th><th scope=col>&lt;dbl&gt;</th><th scope=col>&lt;int&gt;</th><th scope=col>&lt;dbl&gt;</th><th scope=col>&lt;dbl&gt;</th><th scope=col>&lt;int&gt;</th><th scope=col>&lt;int&gt;</th></tr>\n",
       "</thead>\n",
       "<tbody>\n",
       "\t<tr><th scope=row>2</th><td>2</td><td>44953</td><td>Sell</td><td>AMC</td><td>1000</td><td>5.51240</td><td>5512.40</td><td>0</td><td>0</td><td>0</td><td>0</td><td>0</td><td>0</td><td>0</td><td>0</td><td>0</td><td>0</td><td>0</td><td>0</td><td>0</td></tr>\n",
       "\t<tr><th scope=row>4</th><td>4</td><td>44960</td><td>Sell</td><td>AMC</td><td>1000</td><td>6.68255</td><td>6682.55</td><td>0</td><td>0</td><td>0</td><td>0</td><td>0</td><td>0</td><td>0</td><td>0</td><td>0</td><td>0</td><td>0</td><td>0</td><td>0</td></tr>\n",
       "\t<tr><th scope=row>6</th><td>6</td><td>44960</td><td>Sell</td><td>AMC</td><td>1000</td><td>6.25500</td><td>6255.00</td><td>0</td><td>0</td><td>0</td><td>0</td><td>0</td><td>0</td><td>0</td><td>0</td><td>0</td><td>0</td><td>0</td><td>0</td><td>0</td></tr>\n",
       "</tbody>\n",
       "</table>\n"
      ],
      "text/latex": [
       "A data.frame: 3 × 20\n",
       "\\begin{tabular}{r|llllllllllllllllllll}\n",
       "  & index & date & type & co & quan & pps & basis & sale\\_quan & tally & cf\\_quan & cf\\_pps & cf\\_basis & buy\\_quan & buy\\_pps & buy\\_basis & sell\\_quan & sell\\_pps & sell\\_basis & profit\\_loss & sale\\\\\n",
       "  & <int> & <int> & <chr> & <chr> & <int> & <dbl> & <dbl> & <int> & <dbl> & <int> & <dbl> & <dbl> & <int> & <dbl> & <dbl> & <int> & <dbl> & <dbl> & <int> & <int>\\\\\n",
       "\\hline\n",
       "\t2 & 2 & 44953 & Sell & AMC & 1000 & 5.51240 & 5512.40 & 0 & 0 & 0 & 0 & 0 & 0 & 0 & 0 & 0 & 0 & 0 & 0 & 0\\\\\n",
       "\t4 & 4 & 44960 & Sell & AMC & 1000 & 6.68255 & 6682.55 & 0 & 0 & 0 & 0 & 0 & 0 & 0 & 0 & 0 & 0 & 0 & 0 & 0\\\\\n",
       "\t6 & 6 & 44960 & Sell & AMC & 1000 & 6.25500 & 6255.00 & 0 & 0 & 0 & 0 & 0 & 0 & 0 & 0 & 0 & 0 & 0 & 0 & 0\\\\\n",
       "\\end{tabular}\n"
      ],
      "text/markdown": [
       "\n",
       "A data.frame: 3 × 20\n",
       "\n",
       "| <!--/--> | index &lt;int&gt; | date &lt;int&gt; | type &lt;chr&gt; | co &lt;chr&gt; | quan &lt;int&gt; | pps &lt;dbl&gt; | basis &lt;dbl&gt; | sale_quan &lt;int&gt; | tally &lt;dbl&gt; | cf_quan &lt;int&gt; | cf_pps &lt;dbl&gt; | cf_basis &lt;dbl&gt; | buy_quan &lt;int&gt; | buy_pps &lt;dbl&gt; | buy_basis &lt;dbl&gt; | sell_quan &lt;int&gt; | sell_pps &lt;dbl&gt; | sell_basis &lt;dbl&gt; | profit_loss &lt;int&gt; | sale &lt;int&gt; |\n",
       "|---|---|---|---|---|---|---|---|---|---|---|---|---|---|---|---|---|---|---|---|---|\n",
       "| 2 | 2 | 44953 | Sell | AMC | 1000 | 5.51240 | 5512.40 | 0 | 0 | 0 | 0 | 0 | 0 | 0 | 0 | 0 | 0 | 0 | 0 | 0 |\n",
       "| 4 | 4 | 44960 | Sell | AMC | 1000 | 6.68255 | 6682.55 | 0 | 0 | 0 | 0 | 0 | 0 | 0 | 0 | 0 | 0 | 0 | 0 | 0 |\n",
       "| 6 | 6 | 44960 | Sell | AMC | 1000 | 6.25500 | 6255.00 | 0 | 0 | 0 | 0 | 0 | 0 | 0 | 0 | 0 | 0 | 0 | 0 | 0 |\n",
       "\n"
      ],
      "text/plain": [
       "  index date  type co  quan pps     basis   sale_quan tally cf_quan cf_pps\n",
       "2 2     44953 Sell AMC 1000 5.51240 5512.40 0         0     0       0     \n",
       "4 4     44960 Sell AMC 1000 6.68255 6682.55 0         0     0       0     \n",
       "6 6     44960 Sell AMC 1000 6.25500 6255.00 0         0     0       0     \n",
       "  cf_basis buy_quan buy_pps buy_basis sell_quan sell_pps sell_basis profit_loss\n",
       "2 0        0        0       0         0         0        0          0          \n",
       "4 0        0        0       0         0         0        0          0          \n",
       "6 0        0        0       0         0         0        0          0          \n",
       "  sale\n",
       "2 0   \n",
       "4 0   \n",
       "6 0   "
      ]
     },
     "metadata": {},
     "output_type": "display_data"
    }
   ],
   "source": [
    "# create dfs from filtered df\n",
    "buys <- df[df$type == 'Buy', ]  # Filter buys\n",
    "sells <- df[df$type == 'Sell', ]  # Filter sells\n",
    "head(buys, 3)\n",
    "head(sells,3)"
   ]
  },
  {
   "cell_type": "code",
   "execution_count": 5,
   "id": "6acf065f-312b-4a12-a615-d58aee937794",
   "metadata": {
    "tags": []
   },
   "outputs": [],
   "source": [
    "# A combo fct that creates the dfs used (combo of above )\n",
    "\n",
    "create_dfs <- function() {\n",
    "    #fct call\n",
    "    df <- create_df()   # the first row in this Notebook\n",
    "    df_records <- data.frame()\n",
    "    buys <- df[df$type == 'Buy', ]  # Filter buys\n",
    "    sells <- df[df$type == 'Sell', ]  # Filter sells\n",
    "    \n",
    "    return(list(df = df, df_records = df_records, buys = buys, sells = sells))\n",
    "  }\n",
    "    "
   ]
  },
  {
   "cell_type": "code",
   "execution_count": 6,
   "id": "fb1a1b57-c843-40c8-8ca0-dc28124fcdb0",
   "metadata": {
    "tags": []
   },
   "outputs": [],
   "source": [
    "# Call the combo function, will return a list of dfs\n",
    "dfs <- create_dfs()\n",
    "\n",
    "# Access the dataframes from returned list\n",
    "df <- dfs$df\n",
    "df_records <- dfs$df_records\n",
    "buys <- dfs$buys\n",
    "sells <- dfs$sells\n",
    "\n",
    "\n",
    "    "
   ]
  },
  {
   "cell_type": "code",
   "execution_count": null,
   "id": "4f4cc28a-65e1-4d56-81f8-a4f16a9347d2",
   "metadata": {
    "tags": []
   },
   "outputs": [],
   "source": []
  },
  {
   "cell_type": "code",
   "execution_count": 7,
   "id": "40b7b336-323c-4ff5-ba2f-b0740c5ddf68",
   "metadata": {
    "tags": []
   },
   "outputs": [
    {
     "data": {
      "text/html": [
       "1"
      ],
      "text/latex": [
       "1"
      ],
      "text/markdown": [
       "1"
      ],
      "text/plain": [
       "[1] 1"
      ]
     },
     "metadata": {},
     "output_type": "display_data"
    },
    {
     "data": {
      "text/html": [
       "1"
      ],
      "text/latex": [
       "1"
      ],
      "text/markdown": [
       "1"
      ],
      "text/plain": [
       "[1] 1"
      ]
     },
     "metadata": {},
     "output_type": "display_data"
    },
    {
     "name": "stdout",
     "output_type": "stream",
     "text": [
      "  index  date type  co quan  pps  basis sale_quan tally cf_quan cf_pps cf_basis\n",
      "1     1 44926  Buy AMC 1050 4.07 4273.5         0     0       0      0        0\n",
      "  buy_quan buy_pps buy_basis sell_quan sell_pps sell_basis profit_loss sale\n",
      "1        0       0         0         0        0          0           0    0\n",
      "  index  date type  co quan    pps  basis sale_quan tally cf_quan cf_pps\n",
      "2     2 44953 Sell AMC 1000 5.5124 5512.4         0     0       0      0\n",
      "  cf_basis buy_quan buy_pps buy_basis sell_quan sell_pps sell_basis profit_loss\n",
      "2        0        0       0         0         0        0          0           0\n",
      "  sale\n",
      "2    0\n"
     ]
    }
   ],
   "source": [
    "# create new dfs that will become the one line dfs (first row ) from buys and sells dfs\n",
    "s <- data.frame()\n",
    "b <- data.frame()\n",
    "\n",
    "# create the Buy & Sell dfs\n",
    "\n",
    "row_b <- function(b) {\n",
    "        b <- b\n",
    "        b <- buys[1,]\n",
    "        return(b)\n",
    "    }\n",
    "\n",
    "row_s <- function(s) {\n",
    "        s <- s\n",
    "        s <- sells[1,]\n",
    "        return(s)\n",
    "    }\n",
    "\n",
    "    \n",
    "\n",
    "# call fcts\n",
    "\n",
    "\n",
    "b <- row_b(b)   \n",
    "s <- row_s(s)    \n",
    "\n",
    "nrow(b)\n",
    "nrow(s)\n",
    "\n",
    "print(b)\n",
    "print(s)\n"
   ]
  },
  {
   "cell_type": "markdown",
   "id": "28136ea2-bcfc-444c-856e-5264bde58fa0",
   "metadata": {
    "tags": []
   },
   "source": [
    "## <font color = yellow> These values get duplicated b/c no change of i value -  (no loop yet)"
   ]
  },
  {
   "cell_type": "code",
   "execution_count": 8,
   "id": "40b03959-c75f-4522-af95-82a2471bb529",
   "metadata": {
    "tags": []
   },
   "outputs": [
    {
     "data": {
      "text/html": [
       "<table class=\"dataframe\">\n",
       "<caption>A data.frame: 1 × 20</caption>\n",
       "<thead>\n",
       "\t<tr><th></th><th scope=col>index</th><th scope=col>date</th><th scope=col>type</th><th scope=col>co</th><th scope=col>quan</th><th scope=col>pps</th><th scope=col>basis</th><th scope=col>sale_quan</th><th scope=col>tally</th><th scope=col>cf_quan</th><th scope=col>cf_pps</th><th scope=col>cf_basis</th><th scope=col>buy_quan</th><th scope=col>buy_pps</th><th scope=col>buy_basis</th><th scope=col>sell_quan</th><th scope=col>sell_pps</th><th scope=col>sell_basis</th><th scope=col>profit_loss</th><th scope=col>sale</th></tr>\n",
       "\t<tr><th></th><th scope=col>&lt;int&gt;</th><th scope=col>&lt;int&gt;</th><th scope=col>&lt;chr&gt;</th><th scope=col>&lt;chr&gt;</th><th scope=col>&lt;int&gt;</th><th scope=col>&lt;dbl&gt;</th><th scope=col>&lt;dbl&gt;</th><th scope=col>&lt;int&gt;</th><th scope=col>&lt;dbl&gt;</th><th scope=col>&lt;int&gt;</th><th scope=col>&lt;dbl&gt;</th><th scope=col>&lt;dbl&gt;</th><th scope=col>&lt;int&gt;</th><th scope=col>&lt;dbl&gt;</th><th scope=col>&lt;dbl&gt;</th><th scope=col>&lt;int&gt;</th><th scope=col>&lt;dbl&gt;</th><th scope=col>&lt;dbl&gt;</th><th scope=col>&lt;int&gt;</th><th scope=col>&lt;int&gt;</th></tr>\n",
       "</thead>\n",
       "<tbody>\n",
       "\t<tr><th scope=row>1</th><td>1</td><td>44926</td><td>Buy</td><td>AMC</td><td>1050</td><td>4.07</td><td>4273.5</td><td>0</td><td>0</td><td>0</td><td>0</td><td>0</td><td>0</td><td>0</td><td>0</td><td>0</td><td>0</td><td>0</td><td>0</td><td>0</td></tr>\n",
       "</tbody>\n",
       "</table>\n"
      ],
      "text/latex": [
       "A data.frame: 1 × 20\n",
       "\\begin{tabular}{r|llllllllllllllllllll}\n",
       "  & index & date & type & co & quan & pps & basis & sale\\_quan & tally & cf\\_quan & cf\\_pps & cf\\_basis & buy\\_quan & buy\\_pps & buy\\_basis & sell\\_quan & sell\\_pps & sell\\_basis & profit\\_loss & sale\\\\\n",
       "  & <int> & <int> & <chr> & <chr> & <int> & <dbl> & <dbl> & <int> & <dbl> & <int> & <dbl> & <dbl> & <int> & <dbl> & <dbl> & <int> & <dbl> & <dbl> & <int> & <int>\\\\\n",
       "\\hline\n",
       "\t1 & 1 & 44926 & Buy & AMC & 1050 & 4.07 & 4273.5 & 0 & 0 & 0 & 0 & 0 & 0 & 0 & 0 & 0 & 0 & 0 & 0 & 0\\\\\n",
       "\\end{tabular}\n"
      ],
      "text/markdown": [
       "\n",
       "A data.frame: 1 × 20\n",
       "\n",
       "| <!--/--> | index &lt;int&gt; | date &lt;int&gt; | type &lt;chr&gt; | co &lt;chr&gt; | quan &lt;int&gt; | pps &lt;dbl&gt; | basis &lt;dbl&gt; | sale_quan &lt;int&gt; | tally &lt;dbl&gt; | cf_quan &lt;int&gt; | cf_pps &lt;dbl&gt; | cf_basis &lt;dbl&gt; | buy_quan &lt;int&gt; | buy_pps &lt;dbl&gt; | buy_basis &lt;dbl&gt; | sell_quan &lt;int&gt; | sell_pps &lt;dbl&gt; | sell_basis &lt;dbl&gt; | profit_loss &lt;int&gt; | sale &lt;int&gt; |\n",
       "|---|---|---|---|---|---|---|---|---|---|---|---|---|---|---|---|---|---|---|---|---|\n",
       "| 1 | 1 | 44926 | Buy | AMC | 1050 | 4.07 | 4273.5 | 0 | 0 | 0 | 0 | 0 | 0 | 0 | 0 | 0 | 0 | 0 | 0 | 0 |\n",
       "\n"
      ],
      "text/plain": [
       "  index date  type co  quan pps  basis  sale_quan tally cf_quan cf_pps cf_basis\n",
       "1 1     44926 Buy  AMC 1050 4.07 4273.5 0         0     0       0      0       \n",
       "  buy_quan buy_pps buy_basis sell_quan sell_pps sell_basis profit_loss sale\n",
       "1 0        0       0         0         0        0          0           0   "
      ]
     },
     "metadata": {},
     "output_type": "display_data"
    }
   ],
   "source": [
    "# b <- when_cf(b)\n",
    "b"
   ]
  },
  {
   "cell_type": "code",
   "execution_count": 9,
   "id": "3429b418-aaee-4856-b00f-dfee64079c35",
   "metadata": {
    "tags": []
   },
   "outputs": [
    {
     "data": {
      "text/html": [
       "1"
      ],
      "text/latex": [
       "1"
      ],
      "text/markdown": [
       "1"
      ],
      "text/plain": [
       "[1] 1"
      ]
     },
     "metadata": {},
     "output_type": "display_data"
    },
    {
     "data": {
      "text/html": [
       "0"
      ],
      "text/latex": [
       "0"
      ],
      "text/markdown": [
       "0"
      ],
      "text/plain": [
       "[1] 0"
      ]
     },
     "metadata": {},
     "output_type": "display_data"
    }
   ],
   "source": [
    "# Binds the base (unchanged) Buy row to the df_records\n",
    "# The df_record will bind and increment each new (empty) b df that comes into this fct\n",
    "\n",
    "#  tested using incrementing values of i which increment b to df_records\n",
    "\n",
    "\n",
    "\n",
    "\n",
    "\n",
    "df_create_records <- function (df_records, b, i) {\n",
    "    \n",
    "    df_records <- df_records\n",
    "    b <- b   \n",
    "    i <- i\n",
    "   \n",
    "    df_records <- rbind(b, df_records)     \n",
    "\n",
    "    i <<- i + 1\n",
    "    \n",
    "    return(df_records)\n",
    "    \n",
    "    }\n",
    "i\n",
    "nrow(df_records)\n",
    "\n"
   ]
  },
  {
   "cell_type": "markdown",
   "id": "e9895415-a3fe-490f-bd08-6a43de7ffe08",
   "metadata": {},
   "source": [
    "### testing in next 2 rows"
   ]
  },
  {
   "cell_type": "code",
   "execution_count": 10,
   "id": "8962769c-495b-4014-ad6b-5f6e98ae94a9",
   "metadata": {},
   "outputs": [],
   "source": [
    "# i <- 1"
   ]
  },
  {
   "cell_type": "code",
   "execution_count": 11,
   "id": "999f1f90-5528-491c-a632-acbe8d508dd9",
   "metadata": {},
   "outputs": [],
   "source": [
    "#  b <- buys[i+1 ,]\n",
    "# df_records <- df_create_records(df_records, b, i)\n",
    "# i\n",
    "# df_records\n"
   ]
  },
  {
   "cell_type": "code",
   "execution_count": 12,
   "id": "b96b1040-573a-4b8e-ba0f-83687378bb36",
   "metadata": {},
   "outputs": [
    {
     "data": {
      "text/html": [
       "1"
      ],
      "text/latex": [
       "1"
      ],
      "text/markdown": [
       "1"
      ],
      "text/plain": [
       "[1] 1"
      ]
     },
     "metadata": {},
     "output_type": "display_data"
    }
   ],
   "source": [
    "i"
   ]
  },
  {
   "cell_type": "code",
   "execution_count": 13,
   "id": "ac92fd55-875d-4742-a076-d6c84dc7debc",
   "metadata": {
    "tags": []
   },
   "outputs": [],
   "source": [
    "# These values might be default when there is a carryforward ( Buy > Sell )\n",
    "\n",
    "when_cf <- function (b, s, df_records) {\n",
    "    \n",
    "    b <- b\n",
    "    s <- s\n",
    "    df_records <- df_records\n",
    "    \n",
    "    \n",
    "    if(nrow(df_records) == 0) {\n",
    "        cat(\"The df_records is an empty df\", \"\\n\")\n",
    "        } else if(nrow(df_records) > 0 ) {\n",
    "        cat(\"The df_records has one or more rows of data \", \"\\n\")\n",
    "        \n",
    "        }\n",
    "   \n",
    "    sale <- s$quan\n",
    "    bs_ratio <- b$quan / s$quan\n",
    "    cf_quan <-  b$quan - s$quan\n",
    "    \n",
    "    # assign the cf values - if they exist\n",
    "    if(b$quan > s$quan) {\n",
    "        b$cf_quan <- (b$quan - s$quan)        \n",
    "        b$cf_pps <- b$pps\n",
    "        b$cf_basis <- cf_quan * b$pps\n",
    "    }\n",
    "    b$sale_quan <- b$quan\n",
    "    b$buy_quan <- s$quan \n",
    "    b$buy_pps <-  b$pps\n",
    "    b$buy_basis <-  b$buy_quan * b$pps\n",
    "\n",
    "    b$sell_quan <- s$quan\n",
    "    b$sell_pps <- s$pps\n",
    "    b$sell_basis <- s$quan * s$pps\n",
    "\n",
    "    b$profit_loss <- b$sell_basis - b$buy_basis\n",
    "    b$sale <- sale\n",
    "    \n",
    "    s$type <- \"SOLD\"\n",
    "    \n",
    "    return(b)\n",
    "    \n",
    "    }\n",
    "    "
   ]
  },
  {
   "cell_type": "code",
   "execution_count": 14,
   "id": "049aa666-9b07-4ac7-a29d-75cdd120b7d0",
   "metadata": {},
   "outputs": [
    {
     "data": {
      "text/html": [],
      "text/latex": [],
      "text/markdown": [],
      "text/plain": [
       "<0 x 0 matrix>"
      ]
     },
     "metadata": {},
     "output_type": "display_data"
    }
   ],
   "source": [
    "df_records"
   ]
  },
  {
   "cell_type": "code",
   "execution_count": null,
   "id": "e5717810-979e-489a-8b85-3783bdb53f52",
   "metadata": {},
   "outputs": [],
   "source": []
  },
  {
   "cell_type": "code",
   "execution_count": 15,
   "id": "e6b11c81-7e7b-4958-b248-c4531d378cfc",
   "metadata": {
    "tags": []
   },
   "outputs": [
    {
     "data": {
      "text/html": [
       "<table class=\"dataframe\">\n",
       "<caption>A data.frame: 1 × 20</caption>\n",
       "<thead>\n",
       "\t<tr><th></th><th scope=col>index</th><th scope=col>date</th><th scope=col>type</th><th scope=col>co</th><th scope=col>quan</th><th scope=col>pps</th><th scope=col>basis</th><th scope=col>sale_quan</th><th scope=col>tally</th><th scope=col>cf_quan</th><th scope=col>cf_pps</th><th scope=col>cf_basis</th><th scope=col>buy_quan</th><th scope=col>buy_pps</th><th scope=col>buy_basis</th><th scope=col>sell_quan</th><th scope=col>sell_pps</th><th scope=col>sell_basis</th><th scope=col>profit_loss</th><th scope=col>sale</th></tr>\n",
       "\t<tr><th></th><th scope=col>&lt;int&gt;</th><th scope=col>&lt;int&gt;</th><th scope=col>&lt;chr&gt;</th><th scope=col>&lt;chr&gt;</th><th scope=col>&lt;int&gt;</th><th scope=col>&lt;dbl&gt;</th><th scope=col>&lt;dbl&gt;</th><th scope=col>&lt;int&gt;</th><th scope=col>&lt;dbl&gt;</th><th scope=col>&lt;int&gt;</th><th scope=col>&lt;dbl&gt;</th><th scope=col>&lt;dbl&gt;</th><th scope=col>&lt;int&gt;</th><th scope=col>&lt;dbl&gt;</th><th scope=col>&lt;dbl&gt;</th><th scope=col>&lt;int&gt;</th><th scope=col>&lt;dbl&gt;</th><th scope=col>&lt;dbl&gt;</th><th scope=col>&lt;int&gt;</th><th scope=col>&lt;int&gt;</th></tr>\n",
       "</thead>\n",
       "<tbody>\n",
       "\t<tr><th scope=row>1</th><td>1</td><td>44926</td><td>Buy</td><td>AMC</td><td>1050</td><td>4.07</td><td>4273.5</td><td>0</td><td>0</td><td>0</td><td>0</td><td>0</td><td>0</td><td>0</td><td>0</td><td>0</td><td>0</td><td>0</td><td>0</td><td>0</td></tr>\n",
       "</tbody>\n",
       "</table>\n"
      ],
      "text/latex": [
       "A data.frame: 1 × 20\n",
       "\\begin{tabular}{r|llllllllllllllllllll}\n",
       "  & index & date & type & co & quan & pps & basis & sale\\_quan & tally & cf\\_quan & cf\\_pps & cf\\_basis & buy\\_quan & buy\\_pps & buy\\_basis & sell\\_quan & sell\\_pps & sell\\_basis & profit\\_loss & sale\\\\\n",
       "  & <int> & <int> & <chr> & <chr> & <int> & <dbl> & <dbl> & <int> & <dbl> & <int> & <dbl> & <dbl> & <int> & <dbl> & <dbl> & <int> & <dbl> & <dbl> & <int> & <int>\\\\\n",
       "\\hline\n",
       "\t1 & 1 & 44926 & Buy & AMC & 1050 & 4.07 & 4273.5 & 0 & 0 & 0 & 0 & 0 & 0 & 0 & 0 & 0 & 0 & 0 & 0 & 0\\\\\n",
       "\\end{tabular}\n"
      ],
      "text/markdown": [
       "\n",
       "A data.frame: 1 × 20\n",
       "\n",
       "| <!--/--> | index &lt;int&gt; | date &lt;int&gt; | type &lt;chr&gt; | co &lt;chr&gt; | quan &lt;int&gt; | pps &lt;dbl&gt; | basis &lt;dbl&gt; | sale_quan &lt;int&gt; | tally &lt;dbl&gt; | cf_quan &lt;int&gt; | cf_pps &lt;dbl&gt; | cf_basis &lt;dbl&gt; | buy_quan &lt;int&gt; | buy_pps &lt;dbl&gt; | buy_basis &lt;dbl&gt; | sell_quan &lt;int&gt; | sell_pps &lt;dbl&gt; | sell_basis &lt;dbl&gt; | profit_loss &lt;int&gt; | sale &lt;int&gt; |\n",
       "|---|---|---|---|---|---|---|---|---|---|---|---|---|---|---|---|---|---|---|---|---|\n",
       "| 1 | 1 | 44926 | Buy | AMC | 1050 | 4.07 | 4273.5 | 0 | 0 | 0 | 0 | 0 | 0 | 0 | 0 | 0 | 0 | 0 | 0 | 0 |\n",
       "\n"
      ],
      "text/plain": [
       "  index date  type co  quan pps  basis  sale_quan tally cf_quan cf_pps cf_basis\n",
       "1 1     44926 Buy  AMC 1050 4.07 4273.5 0         0     0       0      0       \n",
       "  buy_quan buy_pps buy_basis sell_quan sell_pps sell_basis profit_loss sale\n",
       "1 0        0       0         0         0        0          0           0   "
      ]
     },
     "metadata": {},
     "output_type": "display_data"
    },
    {
     "data": {
      "text/html": [
       "<table class=\"dataframe\">\n",
       "<caption>A data.frame: 1 × 20</caption>\n",
       "<thead>\n",
       "\t<tr><th></th><th scope=col>index</th><th scope=col>date</th><th scope=col>type</th><th scope=col>co</th><th scope=col>quan</th><th scope=col>pps</th><th scope=col>basis</th><th scope=col>sale_quan</th><th scope=col>tally</th><th scope=col>cf_quan</th><th scope=col>cf_pps</th><th scope=col>cf_basis</th><th scope=col>buy_quan</th><th scope=col>buy_pps</th><th scope=col>buy_basis</th><th scope=col>sell_quan</th><th scope=col>sell_pps</th><th scope=col>sell_basis</th><th scope=col>profit_loss</th><th scope=col>sale</th></tr>\n",
       "\t<tr><th></th><th scope=col>&lt;int&gt;</th><th scope=col>&lt;int&gt;</th><th scope=col>&lt;chr&gt;</th><th scope=col>&lt;chr&gt;</th><th scope=col>&lt;int&gt;</th><th scope=col>&lt;dbl&gt;</th><th scope=col>&lt;dbl&gt;</th><th scope=col>&lt;int&gt;</th><th scope=col>&lt;dbl&gt;</th><th scope=col>&lt;int&gt;</th><th scope=col>&lt;dbl&gt;</th><th scope=col>&lt;dbl&gt;</th><th scope=col>&lt;int&gt;</th><th scope=col>&lt;dbl&gt;</th><th scope=col>&lt;dbl&gt;</th><th scope=col>&lt;int&gt;</th><th scope=col>&lt;dbl&gt;</th><th scope=col>&lt;dbl&gt;</th><th scope=col>&lt;int&gt;</th><th scope=col>&lt;int&gt;</th></tr>\n",
       "</thead>\n",
       "<tbody>\n",
       "\t<tr><th scope=row>2</th><td>2</td><td>44953</td><td>Sell</td><td>AMC</td><td>1000</td><td>5.5124</td><td>5512.4</td><td>0</td><td>0</td><td>0</td><td>0</td><td>0</td><td>0</td><td>0</td><td>0</td><td>0</td><td>0</td><td>0</td><td>0</td><td>0</td></tr>\n",
       "</tbody>\n",
       "</table>\n"
      ],
      "text/latex": [
       "A data.frame: 1 × 20\n",
       "\\begin{tabular}{r|llllllllllllllllllll}\n",
       "  & index & date & type & co & quan & pps & basis & sale\\_quan & tally & cf\\_quan & cf\\_pps & cf\\_basis & buy\\_quan & buy\\_pps & buy\\_basis & sell\\_quan & sell\\_pps & sell\\_basis & profit\\_loss & sale\\\\\n",
       "  & <int> & <int> & <chr> & <chr> & <int> & <dbl> & <dbl> & <int> & <dbl> & <int> & <dbl> & <dbl> & <int> & <dbl> & <dbl> & <int> & <dbl> & <dbl> & <int> & <int>\\\\\n",
       "\\hline\n",
       "\t2 & 2 & 44953 & Sell & AMC & 1000 & 5.5124 & 5512.4 & 0 & 0 & 0 & 0 & 0 & 0 & 0 & 0 & 0 & 0 & 0 & 0 & 0\\\\\n",
       "\\end{tabular}\n"
      ],
      "text/markdown": [
       "\n",
       "A data.frame: 1 × 20\n",
       "\n",
       "| <!--/--> | index &lt;int&gt; | date &lt;int&gt; | type &lt;chr&gt; | co &lt;chr&gt; | quan &lt;int&gt; | pps &lt;dbl&gt; | basis &lt;dbl&gt; | sale_quan &lt;int&gt; | tally &lt;dbl&gt; | cf_quan &lt;int&gt; | cf_pps &lt;dbl&gt; | cf_basis &lt;dbl&gt; | buy_quan &lt;int&gt; | buy_pps &lt;dbl&gt; | buy_basis &lt;dbl&gt; | sell_quan &lt;int&gt; | sell_pps &lt;dbl&gt; | sell_basis &lt;dbl&gt; | profit_loss &lt;int&gt; | sale &lt;int&gt; |\n",
       "|---|---|---|---|---|---|---|---|---|---|---|---|---|---|---|---|---|---|---|---|---|\n",
       "| 2 | 2 | 44953 | Sell | AMC | 1000 | 5.5124 | 5512.4 | 0 | 0 | 0 | 0 | 0 | 0 | 0 | 0 | 0 | 0 | 0 | 0 | 0 |\n",
       "\n"
      ],
      "text/plain": [
       "  index date  type co  quan pps    basis  sale_quan tally cf_quan cf_pps\n",
       "2 2     44953 Sell AMC 1000 5.5124 5512.4 0         0     0       0     \n",
       "  cf_basis buy_quan buy_pps buy_basis sell_quan sell_pps sell_basis profit_loss\n",
       "2 0        0        0       0         0         0        0          0          \n",
       "  sale\n",
       "2 0   "
      ]
     },
     "metadata": {},
     "output_type": "display_data"
    }
   ],
   "source": [
    "b\n",
    "s"
   ]
  },
  {
   "cell_type": "code",
   "execution_count": 16,
   "id": "e915fec0-3fbc-46b9-9ee5-fb422ceffe99",
   "metadata": {},
   "outputs": [
    {
     "name": "stdout",
     "output_type": "stream",
     "text": [
      "The df_records is an empty df \n"
     ]
    },
    {
     "data": {
      "text/html": [
       "<table class=\"dataframe\">\n",
       "<caption>A data.frame: 1 × 20</caption>\n",
       "<thead>\n",
       "\t<tr><th></th><th scope=col>index</th><th scope=col>date</th><th scope=col>type</th><th scope=col>co</th><th scope=col>quan</th><th scope=col>pps</th><th scope=col>basis</th><th scope=col>sale_quan</th><th scope=col>tally</th><th scope=col>cf_quan</th><th scope=col>cf_pps</th><th scope=col>cf_basis</th><th scope=col>buy_quan</th><th scope=col>buy_pps</th><th scope=col>buy_basis</th><th scope=col>sell_quan</th><th scope=col>sell_pps</th><th scope=col>sell_basis</th><th scope=col>profit_loss</th><th scope=col>sale</th></tr>\n",
       "\t<tr><th></th><th scope=col>&lt;int&gt;</th><th scope=col>&lt;int&gt;</th><th scope=col>&lt;chr&gt;</th><th scope=col>&lt;chr&gt;</th><th scope=col>&lt;int&gt;</th><th scope=col>&lt;dbl&gt;</th><th scope=col>&lt;dbl&gt;</th><th scope=col>&lt;int&gt;</th><th scope=col>&lt;dbl&gt;</th><th scope=col>&lt;int&gt;</th><th scope=col>&lt;dbl&gt;</th><th scope=col>&lt;dbl&gt;</th><th scope=col>&lt;int&gt;</th><th scope=col>&lt;dbl&gt;</th><th scope=col>&lt;dbl&gt;</th><th scope=col>&lt;int&gt;</th><th scope=col>&lt;dbl&gt;</th><th scope=col>&lt;dbl&gt;</th><th scope=col>&lt;dbl&gt;</th><th scope=col>&lt;int&gt;</th></tr>\n",
       "</thead>\n",
       "<tbody>\n",
       "\t<tr><th scope=row>1</th><td>1</td><td>44926</td><td>Buy</td><td>AMC</td><td>1050</td><td>4.07</td><td>4273.5</td><td>1050</td><td>0</td><td>50</td><td>4.07</td><td>203.5</td><td>1000</td><td>4.07</td><td>4070</td><td>1000</td><td>5.5124</td><td>5512.4</td><td>1442.4</td><td>1000</td></tr>\n",
       "</tbody>\n",
       "</table>\n"
      ],
      "text/latex": [
       "A data.frame: 1 × 20\n",
       "\\begin{tabular}{r|llllllllllllllllllll}\n",
       "  & index & date & type & co & quan & pps & basis & sale\\_quan & tally & cf\\_quan & cf\\_pps & cf\\_basis & buy\\_quan & buy\\_pps & buy\\_basis & sell\\_quan & sell\\_pps & sell\\_basis & profit\\_loss & sale\\\\\n",
       "  & <int> & <int> & <chr> & <chr> & <int> & <dbl> & <dbl> & <int> & <dbl> & <int> & <dbl> & <dbl> & <int> & <dbl> & <dbl> & <int> & <dbl> & <dbl> & <dbl> & <int>\\\\\n",
       "\\hline\n",
       "\t1 & 1 & 44926 & Buy & AMC & 1050 & 4.07 & 4273.5 & 1050 & 0 & 50 & 4.07 & 203.5 & 1000 & 4.07 & 4070 & 1000 & 5.5124 & 5512.4 & 1442.4 & 1000\\\\\n",
       "\\end{tabular}\n"
      ],
      "text/markdown": [
       "\n",
       "A data.frame: 1 × 20\n",
       "\n",
       "| <!--/--> | index &lt;int&gt; | date &lt;int&gt; | type &lt;chr&gt; | co &lt;chr&gt; | quan &lt;int&gt; | pps &lt;dbl&gt; | basis &lt;dbl&gt; | sale_quan &lt;int&gt; | tally &lt;dbl&gt; | cf_quan &lt;int&gt; | cf_pps &lt;dbl&gt; | cf_basis &lt;dbl&gt; | buy_quan &lt;int&gt; | buy_pps &lt;dbl&gt; | buy_basis &lt;dbl&gt; | sell_quan &lt;int&gt; | sell_pps &lt;dbl&gt; | sell_basis &lt;dbl&gt; | profit_loss &lt;dbl&gt; | sale &lt;int&gt; |\n",
       "|---|---|---|---|---|---|---|---|---|---|---|---|---|---|---|---|---|---|---|---|---|\n",
       "| 1 | 1 | 44926 | Buy | AMC | 1050 | 4.07 | 4273.5 | 1050 | 0 | 50 | 4.07 | 203.5 | 1000 | 4.07 | 4070 | 1000 | 5.5124 | 5512.4 | 1442.4 | 1000 |\n",
       "\n"
      ],
      "text/plain": [
       "  index date  type co  quan pps  basis  sale_quan tally cf_quan cf_pps cf_basis\n",
       "1 1     44926 Buy  AMC 1050 4.07 4273.5 1050      0     50      4.07   203.5   \n",
       "  buy_quan buy_pps buy_basis sell_quan sell_pps sell_basis profit_loss sale\n",
       "1 1000     4.07    4070      1000      5.5124   5512.4     1442.4      1000"
      ]
     },
     "metadata": {},
     "output_type": "display_data"
    }
   ],
   "source": [
    "df_records <- when_cf(b, s, df_records)\n",
    "df_records"
   ]
  },
  {
   "cell_type": "code",
   "execution_count": 17,
   "id": "5a58d2a1-bd12-489a-9ce3-48e1a5ba6dda",
   "metadata": {},
   "outputs": [
    {
     "data": {
      "text/html": [
       "<table class=\"dataframe\">\n",
       "<caption>A data.frame: 1 × 20</caption>\n",
       "<thead>\n",
       "\t<tr><th></th><th scope=col>index</th><th scope=col>date</th><th scope=col>type</th><th scope=col>co</th><th scope=col>quan</th><th scope=col>pps</th><th scope=col>basis</th><th scope=col>sale_quan</th><th scope=col>tally</th><th scope=col>cf_quan</th><th scope=col>cf_pps</th><th scope=col>cf_basis</th><th scope=col>buy_quan</th><th scope=col>buy_pps</th><th scope=col>buy_basis</th><th scope=col>sell_quan</th><th scope=col>sell_pps</th><th scope=col>sell_basis</th><th scope=col>profit_loss</th><th scope=col>sale</th></tr>\n",
       "\t<tr><th></th><th scope=col>&lt;int&gt;</th><th scope=col>&lt;int&gt;</th><th scope=col>&lt;chr&gt;</th><th scope=col>&lt;chr&gt;</th><th scope=col>&lt;int&gt;</th><th scope=col>&lt;dbl&gt;</th><th scope=col>&lt;dbl&gt;</th><th scope=col>&lt;int&gt;</th><th scope=col>&lt;dbl&gt;</th><th scope=col>&lt;int&gt;</th><th scope=col>&lt;dbl&gt;</th><th scope=col>&lt;dbl&gt;</th><th scope=col>&lt;int&gt;</th><th scope=col>&lt;dbl&gt;</th><th scope=col>&lt;dbl&gt;</th><th scope=col>&lt;int&gt;</th><th scope=col>&lt;dbl&gt;</th><th scope=col>&lt;dbl&gt;</th><th scope=col>&lt;int&gt;</th><th scope=col>&lt;int&gt;</th></tr>\n",
       "</thead>\n",
       "<tbody>\n",
       "\t<tr><th scope=row>1</th><td>1</td><td>44926</td><td>Buy</td><td>AMC</td><td>1050</td><td>4.07</td><td>4273.5</td><td>0</td><td>0</td><td>0</td><td>0</td><td>0</td><td>0</td><td>0</td><td>0</td><td>0</td><td>0</td><td>0</td><td>0</td><td>0</td></tr>\n",
       "</tbody>\n",
       "</table>\n"
      ],
      "text/latex": [
       "A data.frame: 1 × 20\n",
       "\\begin{tabular}{r|llllllllllllllllllll}\n",
       "  & index & date & type & co & quan & pps & basis & sale\\_quan & tally & cf\\_quan & cf\\_pps & cf\\_basis & buy\\_quan & buy\\_pps & buy\\_basis & sell\\_quan & sell\\_pps & sell\\_basis & profit\\_loss & sale\\\\\n",
       "  & <int> & <int> & <chr> & <chr> & <int> & <dbl> & <dbl> & <int> & <dbl> & <int> & <dbl> & <dbl> & <int> & <dbl> & <dbl> & <int> & <dbl> & <dbl> & <int> & <int>\\\\\n",
       "\\hline\n",
       "\t1 & 1 & 44926 & Buy & AMC & 1050 & 4.07 & 4273.5 & 0 & 0 & 0 & 0 & 0 & 0 & 0 & 0 & 0 & 0 & 0 & 0 & 0\\\\\n",
       "\\end{tabular}\n"
      ],
      "text/markdown": [
       "\n",
       "A data.frame: 1 × 20\n",
       "\n",
       "| <!--/--> | index &lt;int&gt; | date &lt;int&gt; | type &lt;chr&gt; | co &lt;chr&gt; | quan &lt;int&gt; | pps &lt;dbl&gt; | basis &lt;dbl&gt; | sale_quan &lt;int&gt; | tally &lt;dbl&gt; | cf_quan &lt;int&gt; | cf_pps &lt;dbl&gt; | cf_basis &lt;dbl&gt; | buy_quan &lt;int&gt; | buy_pps &lt;dbl&gt; | buy_basis &lt;dbl&gt; | sell_quan &lt;int&gt; | sell_pps &lt;dbl&gt; | sell_basis &lt;dbl&gt; | profit_loss &lt;int&gt; | sale &lt;int&gt; |\n",
       "|---|---|---|---|---|---|---|---|---|---|---|---|---|---|---|---|---|---|---|---|---|\n",
       "| 1 | 1 | 44926 | Buy | AMC | 1050 | 4.07 | 4273.5 | 0 | 0 | 0 | 0 | 0 | 0 | 0 | 0 | 0 | 0 | 0 | 0 | 0 |\n",
       "\n"
      ],
      "text/plain": [
       "  index date  type co  quan pps  basis  sale_quan tally cf_quan cf_pps cf_basis\n",
       "1 1     44926 Buy  AMC 1050 4.07 4273.5 0         0     0       0      0       \n",
       "  buy_quan buy_pps buy_basis sell_quan sell_pps sell_basis profit_loss sale\n",
       "1 0        0       0         0         0        0          0           0   "
      ]
     },
     "metadata": {},
     "output_type": "display_data"
    }
   ],
   "source": [
    "b"
   ]
  },
  {
   "cell_type": "code",
   "execution_count": 18,
   "id": "a1ffa557-ebfb-4c6d-9324-870eaa9d46e4",
   "metadata": {},
   "outputs": [
    {
     "data": {
      "text/html": [
       "<table class=\"dataframe\">\n",
       "<caption>A data.frame: 1 × 20</caption>\n",
       "<thead>\n",
       "\t<tr><th></th><th scope=col>index</th><th scope=col>date</th><th scope=col>type</th><th scope=col>co</th><th scope=col>quan</th><th scope=col>pps</th><th scope=col>basis</th><th scope=col>sale_quan</th><th scope=col>tally</th><th scope=col>cf_quan</th><th scope=col>cf_pps</th><th scope=col>cf_basis</th><th scope=col>buy_quan</th><th scope=col>buy_pps</th><th scope=col>buy_basis</th><th scope=col>sell_quan</th><th scope=col>sell_pps</th><th scope=col>sell_basis</th><th scope=col>profit_loss</th><th scope=col>sale</th></tr>\n",
       "\t<tr><th></th><th scope=col>&lt;int&gt;</th><th scope=col>&lt;int&gt;</th><th scope=col>&lt;chr&gt;</th><th scope=col>&lt;chr&gt;</th><th scope=col>&lt;int&gt;</th><th scope=col>&lt;dbl&gt;</th><th scope=col>&lt;dbl&gt;</th><th scope=col>&lt;int&gt;</th><th scope=col>&lt;dbl&gt;</th><th scope=col>&lt;int&gt;</th><th scope=col>&lt;dbl&gt;</th><th scope=col>&lt;dbl&gt;</th><th scope=col>&lt;int&gt;</th><th scope=col>&lt;dbl&gt;</th><th scope=col>&lt;dbl&gt;</th><th scope=col>&lt;int&gt;</th><th scope=col>&lt;dbl&gt;</th><th scope=col>&lt;dbl&gt;</th><th scope=col>&lt;int&gt;</th><th scope=col>&lt;int&gt;</th></tr>\n",
       "</thead>\n",
       "<tbody>\n",
       "\t<tr><th scope=row>1</th><td>1</td><td>44926</td><td>Buy</td><td>AMC</td><td>1050</td><td>4.07</td><td>4273.5</td><td>0</td><td>0</td><td>0</td><td>0</td><td>0</td><td>0</td><td>0</td><td>0</td><td>0</td><td>0</td><td>0</td><td>0</td><td>0</td></tr>\n",
       "</tbody>\n",
       "</table>\n"
      ],
      "text/latex": [
       "A data.frame: 1 × 20\n",
       "\\begin{tabular}{r|llllllllllllllllllll}\n",
       "  & index & date & type & co & quan & pps & basis & sale\\_quan & tally & cf\\_quan & cf\\_pps & cf\\_basis & buy\\_quan & buy\\_pps & buy\\_basis & sell\\_quan & sell\\_pps & sell\\_basis & profit\\_loss & sale\\\\\n",
       "  & <int> & <int> & <chr> & <chr> & <int> & <dbl> & <dbl> & <int> & <dbl> & <int> & <dbl> & <dbl> & <int> & <dbl> & <dbl> & <int> & <dbl> & <dbl> & <int> & <int>\\\\\n",
       "\\hline\n",
       "\t1 & 1 & 44926 & Buy & AMC & 1050 & 4.07 & 4273.5 & 0 & 0 & 0 & 0 & 0 & 0 & 0 & 0 & 0 & 0 & 0 & 0 & 0\\\\\n",
       "\\end{tabular}\n"
      ],
      "text/markdown": [
       "\n",
       "A data.frame: 1 × 20\n",
       "\n",
       "| <!--/--> | index &lt;int&gt; | date &lt;int&gt; | type &lt;chr&gt; | co &lt;chr&gt; | quan &lt;int&gt; | pps &lt;dbl&gt; | basis &lt;dbl&gt; | sale_quan &lt;int&gt; | tally &lt;dbl&gt; | cf_quan &lt;int&gt; | cf_pps &lt;dbl&gt; | cf_basis &lt;dbl&gt; | buy_quan &lt;int&gt; | buy_pps &lt;dbl&gt; | buy_basis &lt;dbl&gt; | sell_quan &lt;int&gt; | sell_pps &lt;dbl&gt; | sell_basis &lt;dbl&gt; | profit_loss &lt;int&gt; | sale &lt;int&gt; |\n",
       "|---|---|---|---|---|---|---|---|---|---|---|---|---|---|---|---|---|---|---|---|---|\n",
       "| 1 | 1 | 44926 | Buy | AMC | 1050 | 4.07 | 4273.5 | 0 | 0 | 0 | 0 | 0 | 0 | 0 | 0 | 0 | 0 | 0 | 0 | 0 |\n",
       "\n"
      ],
      "text/plain": [
       "  index date  type co  quan pps  basis  sale_quan tally cf_quan cf_pps cf_basis\n",
       "1 1     44926 Buy  AMC 1050 4.07 4273.5 0         0     0       0      0       \n",
       "  buy_quan buy_pps buy_basis sell_quan sell_pps sell_basis profit_loss sale\n",
       "1 0        0       0         0         0        0          0           0   "
      ]
     },
     "metadata": {},
     "output_type": "display_data"
    }
   ],
   "source": [
    "b"
   ]
  },
  {
   "cell_type": "code",
   "execution_count": 19,
   "id": "8fe25ec2-0c6a-4ae0-b9a6-26b856e414f9",
   "metadata": {},
   "outputs": [],
   "source": [
    "# Row 1 of Buys was deleted.  If there is a c/f in df_records on row 1, then \n",
    "# copy/bind that data to buys, row 1 .... 50 shares will become Buy, row 1\n",
    "\n",
    "\n",
    "test_for_cf <- function(b, buys, df_records) {\n",
    "\n",
    "    b <- b\n",
    "    buys <- buys\n",
    "    df_records <- df_records\n",
    "    \n",
    "    if(df_records$cf_quan > 0 ) {\n",
    "        \n",
    "        temp <- b\n",
    "        \n",
    "        temp$quan <- df_records$cf_quan\n",
    "        temp$basis <- df_records$cf_basis\n",
    "        temp$type <- \"CF\"\n",
    "\n",
    "        i <- 1      \n",
    "        \n",
    "        # insert row into buys\n",
    "        buys <- add_row(buys, temp, .before = i)        \n",
    "        \n",
    "        }\n",
    "   } # fct"
   ]
  },
  {
   "cell_type": "code",
   "execution_count": 20,
   "id": "5777def7-24e0-4f99-ba1b-ea508b46607d",
   "metadata": {
    "tags": []
   },
   "outputs": [
    {
     "data": {
      "text/html": [
       "<table class=\"dataframe\">\n",
       "<caption>A data.frame: 3 × 20</caption>\n",
       "<thead>\n",
       "\t<tr><th></th><th scope=col>index</th><th scope=col>date</th><th scope=col>type</th><th scope=col>co</th><th scope=col>quan</th><th scope=col>pps</th><th scope=col>basis</th><th scope=col>sale_quan</th><th scope=col>tally</th><th scope=col>cf_quan</th><th scope=col>cf_pps</th><th scope=col>cf_basis</th><th scope=col>buy_quan</th><th scope=col>buy_pps</th><th scope=col>buy_basis</th><th scope=col>sell_quan</th><th scope=col>sell_pps</th><th scope=col>sell_basis</th><th scope=col>profit_loss</th><th scope=col>sale</th></tr>\n",
       "\t<tr><th></th><th scope=col>&lt;int&gt;</th><th scope=col>&lt;int&gt;</th><th scope=col>&lt;chr&gt;</th><th scope=col>&lt;chr&gt;</th><th scope=col>&lt;int&gt;</th><th scope=col>&lt;dbl&gt;</th><th scope=col>&lt;dbl&gt;</th><th scope=col>&lt;int&gt;</th><th scope=col>&lt;dbl&gt;</th><th scope=col>&lt;int&gt;</th><th scope=col>&lt;dbl&gt;</th><th scope=col>&lt;dbl&gt;</th><th scope=col>&lt;int&gt;</th><th scope=col>&lt;dbl&gt;</th><th scope=col>&lt;dbl&gt;</th><th scope=col>&lt;int&gt;</th><th scope=col>&lt;dbl&gt;</th><th scope=col>&lt;dbl&gt;</th><th scope=col>&lt;int&gt;</th><th scope=col>&lt;int&gt;</th></tr>\n",
       "</thead>\n",
       "<tbody>\n",
       "\t<tr><th scope=row>1</th><td>1</td><td>44926</td><td>Buy</td><td>AMC</td><td>1050</td><td>4.070</td><td>4273.5</td><td>0</td><td>0</td><td>0</td><td>0</td><td>0</td><td>0</td><td>0</td><td>0</td><td>0</td><td>0</td><td>0</td><td>0</td><td>0</td></tr>\n",
       "\t<tr><th scope=row>3</th><td>3</td><td>44946</td><td>Buy</td><td>AMC</td><td>1000</td><td>5.625</td><td>5625.0</td><td>0</td><td>0</td><td>0</td><td>0</td><td>0</td><td>0</td><td>0</td><td>0</td><td>0</td><td>0</td><td>0</td><td>0</td><td>0</td></tr>\n",
       "\t<tr><th scope=row>5</th><td>5</td><td>44949</td><td>Buy</td><td>AMC</td><td>1000</td><td>5.788</td><td>5788.0</td><td>0</td><td>0</td><td>0</td><td>0</td><td>0</td><td>0</td><td>0</td><td>0</td><td>0</td><td>0</td><td>0</td><td>0</td><td>0</td></tr>\n",
       "</tbody>\n",
       "</table>\n"
      ],
      "text/latex": [
       "A data.frame: 3 × 20\n",
       "\\begin{tabular}{r|llllllllllllllllllll}\n",
       "  & index & date & type & co & quan & pps & basis & sale\\_quan & tally & cf\\_quan & cf\\_pps & cf\\_basis & buy\\_quan & buy\\_pps & buy\\_basis & sell\\_quan & sell\\_pps & sell\\_basis & profit\\_loss & sale\\\\\n",
       "  & <int> & <int> & <chr> & <chr> & <int> & <dbl> & <dbl> & <int> & <dbl> & <int> & <dbl> & <dbl> & <int> & <dbl> & <dbl> & <int> & <dbl> & <dbl> & <int> & <int>\\\\\n",
       "\\hline\n",
       "\t1 & 1 & 44926 & Buy & AMC & 1050 & 4.070 & 4273.5 & 0 & 0 & 0 & 0 & 0 & 0 & 0 & 0 & 0 & 0 & 0 & 0 & 0\\\\\n",
       "\t3 & 3 & 44946 & Buy & AMC & 1000 & 5.625 & 5625.0 & 0 & 0 & 0 & 0 & 0 & 0 & 0 & 0 & 0 & 0 & 0 & 0 & 0\\\\\n",
       "\t5 & 5 & 44949 & Buy & AMC & 1000 & 5.788 & 5788.0 & 0 & 0 & 0 & 0 & 0 & 0 & 0 & 0 & 0 & 0 & 0 & 0 & 0\\\\\n",
       "\\end{tabular}\n"
      ],
      "text/markdown": [
       "\n",
       "A data.frame: 3 × 20\n",
       "\n",
       "| <!--/--> | index &lt;int&gt; | date &lt;int&gt; | type &lt;chr&gt; | co &lt;chr&gt; | quan &lt;int&gt; | pps &lt;dbl&gt; | basis &lt;dbl&gt; | sale_quan &lt;int&gt; | tally &lt;dbl&gt; | cf_quan &lt;int&gt; | cf_pps &lt;dbl&gt; | cf_basis &lt;dbl&gt; | buy_quan &lt;int&gt; | buy_pps &lt;dbl&gt; | buy_basis &lt;dbl&gt; | sell_quan &lt;int&gt; | sell_pps &lt;dbl&gt; | sell_basis &lt;dbl&gt; | profit_loss &lt;int&gt; | sale &lt;int&gt; |\n",
       "|---|---|---|---|---|---|---|---|---|---|---|---|---|---|---|---|---|---|---|---|---|\n",
       "| 1 | 1 | 44926 | Buy | AMC | 1050 | 4.070 | 4273.5 | 0 | 0 | 0 | 0 | 0 | 0 | 0 | 0 | 0 | 0 | 0 | 0 | 0 |\n",
       "| 3 | 3 | 44946 | Buy | AMC | 1000 | 5.625 | 5625.0 | 0 | 0 | 0 | 0 | 0 | 0 | 0 | 0 | 0 | 0 | 0 | 0 | 0 |\n",
       "| 5 | 5 | 44949 | Buy | AMC | 1000 | 5.788 | 5788.0 | 0 | 0 | 0 | 0 | 0 | 0 | 0 | 0 | 0 | 0 | 0 | 0 | 0 |\n",
       "\n"
      ],
      "text/plain": [
       "  index date  type co  quan pps   basis  sale_quan tally cf_quan cf_pps\n",
       "1 1     44926 Buy  AMC 1050 4.070 4273.5 0         0     0       0     \n",
       "3 3     44946 Buy  AMC 1000 5.625 5625.0 0         0     0       0     \n",
       "5 5     44949 Buy  AMC 1000 5.788 5788.0 0         0     0       0     \n",
       "  cf_basis buy_quan buy_pps buy_basis sell_quan sell_pps sell_basis profit_loss\n",
       "1 0        0        0       0         0         0        0          0          \n",
       "3 0        0        0       0         0         0        0          0          \n",
       "5 0        0        0       0         0         0        0          0          \n",
       "  sale\n",
       "1 0   \n",
       "3 0   \n",
       "5 0   "
      ]
     },
     "metadata": {},
     "output_type": "display_data"
    }
   ],
   "source": [
    "head(buys, 3)"
   ]
  },
  {
   "cell_type": "code",
   "execution_count": null,
   "id": "a72637df-a226-4eab-b8a9-58f001026f71",
   "metadata": {
    "tags": []
   },
   "outputs": [],
   "source": []
  },
  {
   "cell_type": "code",
   "execution_count": 21,
   "id": "cbea5c3f-2977-436c-aa0e-9ffb41af6cd7",
   "metadata": {
    "tags": []
   },
   "outputs": [],
   "source": [
    "#  These functions will delete the first row from the Buys and Sells dfs \n",
    "#  concluding the first Sale event\n",
    "\n",
    "i <- 1\n",
    "\n",
    "\n",
    "# fct\n",
    "buy_snip <- function (b, buys, df_records) {\n",
    "    \n",
    "    b <- b\n",
    "    buys <- buys    \n",
    "    df_records <- df_records\n",
    "    \n",
    "    # remove the first row of buys ... is b \n",
    "    buys <- buys[-1, ]   \n",
    "    \n",
    "    \n",
    "    if(df_records$cf_quan > 0 ) {\n",
    "        \n",
    "        #fct call\n",
    "        buys <- test_for_cf(b, buys, df_records)\n",
    "        return(buys)\n",
    "        }    \n",
    "    return(buys)\n",
    "   }\n",
    "\n",
    "\n",
    "# fct\n",
    "sell_snip <- function(sells) {\n",
    "    sells <- sells    \n",
    "    sells <- sells[-1, ]    \n",
    "    return(sells)\n",
    "    }\n",
    "\n",
    "\n",
    "# fct call\n",
    "\n",
    "\n",
    "# nrow(buys)\n",
    "# nrow(sells)\n",
    "\n",
    "# buys <- buy_snip(buys)\n",
    "# sells <- sell_snip(sells)\n",
    "# nrow(buys)\n",
    "# nrow(sells)\n",
    "# head(buys, 3)"
   ]
  },
  {
   "cell_type": "code",
   "execution_count": 22,
   "id": "466f08f7-0076-41ce-a6df-6bf0ac19b485",
   "metadata": {
    "tags": []
   },
   "outputs": [
    {
     "data": {
      "text/html": [
       "<table class=\"dataframe\">\n",
       "<caption>A data.frame: 1 × 20</caption>\n",
       "<thead>\n",
       "\t<tr><th></th><th scope=col>index</th><th scope=col>date</th><th scope=col>type</th><th scope=col>co</th><th scope=col>quan</th><th scope=col>pps</th><th scope=col>basis</th><th scope=col>sale_quan</th><th scope=col>tally</th><th scope=col>cf_quan</th><th scope=col>cf_pps</th><th scope=col>cf_basis</th><th scope=col>buy_quan</th><th scope=col>buy_pps</th><th scope=col>buy_basis</th><th scope=col>sell_quan</th><th scope=col>sell_pps</th><th scope=col>sell_basis</th><th scope=col>profit_loss</th><th scope=col>sale</th></tr>\n",
       "\t<tr><th></th><th scope=col>&lt;int&gt;</th><th scope=col>&lt;int&gt;</th><th scope=col>&lt;chr&gt;</th><th scope=col>&lt;chr&gt;</th><th scope=col>&lt;int&gt;</th><th scope=col>&lt;dbl&gt;</th><th scope=col>&lt;dbl&gt;</th><th scope=col>&lt;int&gt;</th><th scope=col>&lt;dbl&gt;</th><th scope=col>&lt;int&gt;</th><th scope=col>&lt;dbl&gt;</th><th scope=col>&lt;dbl&gt;</th><th scope=col>&lt;int&gt;</th><th scope=col>&lt;dbl&gt;</th><th scope=col>&lt;dbl&gt;</th><th scope=col>&lt;int&gt;</th><th scope=col>&lt;dbl&gt;</th><th scope=col>&lt;dbl&gt;</th><th scope=col>&lt;dbl&gt;</th><th scope=col>&lt;int&gt;</th></tr>\n",
       "</thead>\n",
       "<tbody>\n",
       "\t<tr><th scope=row>1</th><td>1</td><td>44926</td><td>Buy</td><td>AMC</td><td>1050</td><td>4.07</td><td>4273.5</td><td>1050</td><td>0</td><td>50</td><td>4.07</td><td>203.5</td><td>1000</td><td>4.07</td><td>4070</td><td>1000</td><td>5.5124</td><td>5512.4</td><td>1442.4</td><td>1000</td></tr>\n",
       "</tbody>\n",
       "</table>\n"
      ],
      "text/latex": [
       "A data.frame: 1 × 20\n",
       "\\begin{tabular}{r|llllllllllllllllllll}\n",
       "  & index & date & type & co & quan & pps & basis & sale\\_quan & tally & cf\\_quan & cf\\_pps & cf\\_basis & buy\\_quan & buy\\_pps & buy\\_basis & sell\\_quan & sell\\_pps & sell\\_basis & profit\\_loss & sale\\\\\n",
       "  & <int> & <int> & <chr> & <chr> & <int> & <dbl> & <dbl> & <int> & <dbl> & <int> & <dbl> & <dbl> & <int> & <dbl> & <dbl> & <int> & <dbl> & <dbl> & <dbl> & <int>\\\\\n",
       "\\hline\n",
       "\t1 & 1 & 44926 & Buy & AMC & 1050 & 4.07 & 4273.5 & 1050 & 0 & 50 & 4.07 & 203.5 & 1000 & 4.07 & 4070 & 1000 & 5.5124 & 5512.4 & 1442.4 & 1000\\\\\n",
       "\\end{tabular}\n"
      ],
      "text/markdown": [
       "\n",
       "A data.frame: 1 × 20\n",
       "\n",
       "| <!--/--> | index &lt;int&gt; | date &lt;int&gt; | type &lt;chr&gt; | co &lt;chr&gt; | quan &lt;int&gt; | pps &lt;dbl&gt; | basis &lt;dbl&gt; | sale_quan &lt;int&gt; | tally &lt;dbl&gt; | cf_quan &lt;int&gt; | cf_pps &lt;dbl&gt; | cf_basis &lt;dbl&gt; | buy_quan &lt;int&gt; | buy_pps &lt;dbl&gt; | buy_basis &lt;dbl&gt; | sell_quan &lt;int&gt; | sell_pps &lt;dbl&gt; | sell_basis &lt;dbl&gt; | profit_loss &lt;dbl&gt; | sale &lt;int&gt; |\n",
       "|---|---|---|---|---|---|---|---|---|---|---|---|---|---|---|---|---|---|---|---|---|\n",
       "| 1 | 1 | 44926 | Buy | AMC | 1050 | 4.07 | 4273.5 | 1050 | 0 | 50 | 4.07 | 203.5 | 1000 | 4.07 | 4070 | 1000 | 5.5124 | 5512.4 | 1442.4 | 1000 |\n",
       "\n"
      ],
      "text/plain": [
       "  index date  type co  quan pps  basis  sale_quan tally cf_quan cf_pps cf_basis\n",
       "1 1     44926 Buy  AMC 1050 4.07 4273.5 1050      0     50      4.07   203.5   \n",
       "  buy_quan buy_pps buy_basis sell_quan sell_pps sell_basis profit_loss sale\n",
       "1 1000     4.07    4070      1000      5.5124   5512.4     1442.4      1000"
      ]
     },
     "metadata": {},
     "output_type": "display_data"
    }
   ],
   "source": [
    "df_records"
   ]
  },
  {
   "cell_type": "code",
   "execution_count": 23,
   "id": "2b65ecdb-9bac-4a67-90b6-2704804906bf",
   "metadata": {
    "tags": []
   },
   "outputs": [
    {
     "data": {
      "text/html": [
       "23"
      ],
      "text/latex": [
       "23"
      ],
      "text/markdown": [
       "23"
      ],
      "text/plain": [
       "[1] 23"
      ]
     },
     "metadata": {},
     "output_type": "display_data"
    },
    {
     "data": {
      "text/html": [
       "18"
      ],
      "text/latex": [
       "18"
      ],
      "text/markdown": [
       "18"
      ],
      "text/plain": [
       "[1] 18"
      ]
     },
     "metadata": {},
     "output_type": "display_data"
    },
    {
     "data": {
      "text/html": [
       "23"
      ],
      "text/latex": [
       "23"
      ],
      "text/markdown": [
       "23"
      ],
      "text/plain": [
       "[1] 23"
      ]
     },
     "metadata": {},
     "output_type": "display_data"
    },
    {
     "data": {
      "text/html": [
       "17"
      ],
      "text/latex": [
       "17"
      ],
      "text/markdown": [
       "17"
      ],
      "text/plain": [
       "[1] 17"
      ]
     },
     "metadata": {},
     "output_type": "display_data"
    },
    {
     "data": {
      "text/html": [
       "<table class=\"dataframe\">\n",
       "<caption>A data.frame: 3 × 20</caption>\n",
       "<thead>\n",
       "\t<tr><th></th><th scope=col>index</th><th scope=col>date</th><th scope=col>type</th><th scope=col>co</th><th scope=col>quan</th><th scope=col>pps</th><th scope=col>basis</th><th scope=col>sale_quan</th><th scope=col>tally</th><th scope=col>cf_quan</th><th scope=col>cf_pps</th><th scope=col>cf_basis</th><th scope=col>buy_quan</th><th scope=col>buy_pps</th><th scope=col>buy_basis</th><th scope=col>sell_quan</th><th scope=col>sell_pps</th><th scope=col>sell_basis</th><th scope=col>profit_loss</th><th scope=col>sale</th></tr>\n",
       "\t<tr><th></th><th scope=col>&lt;int&gt;</th><th scope=col>&lt;int&gt;</th><th scope=col>&lt;chr&gt;</th><th scope=col>&lt;chr&gt;</th><th scope=col>&lt;int&gt;</th><th scope=col>&lt;dbl&gt;</th><th scope=col>&lt;dbl&gt;</th><th scope=col>&lt;int&gt;</th><th scope=col>&lt;dbl&gt;</th><th scope=col>&lt;int&gt;</th><th scope=col>&lt;dbl&gt;</th><th scope=col>&lt;dbl&gt;</th><th scope=col>&lt;int&gt;</th><th scope=col>&lt;dbl&gt;</th><th scope=col>&lt;dbl&gt;</th><th scope=col>&lt;int&gt;</th><th scope=col>&lt;dbl&gt;</th><th scope=col>&lt;dbl&gt;</th><th scope=col>&lt;int&gt;</th><th scope=col>&lt;int&gt;</th></tr>\n",
       "</thead>\n",
       "<tbody>\n",
       "\t<tr><th scope=row>1</th><td>1</td><td>44926</td><td>CF </td><td>AMC</td><td>  50</td><td>4.070</td><td> 203.5</td><td>0</td><td>0</td><td>0</td><td>0</td><td>0</td><td>0</td><td>0</td><td>0</td><td>0</td><td>0</td><td>0</td><td>0</td><td>0</td></tr>\n",
       "\t<tr><th scope=row>2</th><td>3</td><td>44946</td><td>Buy</td><td>AMC</td><td>1000</td><td>5.625</td><td>5625.0</td><td>0</td><td>0</td><td>0</td><td>0</td><td>0</td><td>0</td><td>0</td><td>0</td><td>0</td><td>0</td><td>0</td><td>0</td><td>0</td></tr>\n",
       "\t<tr><th scope=row>3</th><td>5</td><td>44949</td><td>Buy</td><td>AMC</td><td>1000</td><td>5.788</td><td>5788.0</td><td>0</td><td>0</td><td>0</td><td>0</td><td>0</td><td>0</td><td>0</td><td>0</td><td>0</td><td>0</td><td>0</td><td>0</td><td>0</td></tr>\n",
       "</tbody>\n",
       "</table>\n"
      ],
      "text/latex": [
       "A data.frame: 3 × 20\n",
       "\\begin{tabular}{r|llllllllllllllllllll}\n",
       "  & index & date & type & co & quan & pps & basis & sale\\_quan & tally & cf\\_quan & cf\\_pps & cf\\_basis & buy\\_quan & buy\\_pps & buy\\_basis & sell\\_quan & sell\\_pps & sell\\_basis & profit\\_loss & sale\\\\\n",
       "  & <int> & <int> & <chr> & <chr> & <int> & <dbl> & <dbl> & <int> & <dbl> & <int> & <dbl> & <dbl> & <int> & <dbl> & <dbl> & <int> & <dbl> & <dbl> & <int> & <int>\\\\\n",
       "\\hline\n",
       "\t1 & 1 & 44926 & CF  & AMC &   50 & 4.070 &  203.5 & 0 & 0 & 0 & 0 & 0 & 0 & 0 & 0 & 0 & 0 & 0 & 0 & 0\\\\\n",
       "\t2 & 3 & 44946 & Buy & AMC & 1000 & 5.625 & 5625.0 & 0 & 0 & 0 & 0 & 0 & 0 & 0 & 0 & 0 & 0 & 0 & 0 & 0\\\\\n",
       "\t3 & 5 & 44949 & Buy & AMC & 1000 & 5.788 & 5788.0 & 0 & 0 & 0 & 0 & 0 & 0 & 0 & 0 & 0 & 0 & 0 & 0 & 0\\\\\n",
       "\\end{tabular}\n"
      ],
      "text/markdown": [
       "\n",
       "A data.frame: 3 × 20\n",
       "\n",
       "| <!--/--> | index &lt;int&gt; | date &lt;int&gt; | type &lt;chr&gt; | co &lt;chr&gt; | quan &lt;int&gt; | pps &lt;dbl&gt; | basis &lt;dbl&gt; | sale_quan &lt;int&gt; | tally &lt;dbl&gt; | cf_quan &lt;int&gt; | cf_pps &lt;dbl&gt; | cf_basis &lt;dbl&gt; | buy_quan &lt;int&gt; | buy_pps &lt;dbl&gt; | buy_basis &lt;dbl&gt; | sell_quan &lt;int&gt; | sell_pps &lt;dbl&gt; | sell_basis &lt;dbl&gt; | profit_loss &lt;int&gt; | sale &lt;int&gt; |\n",
       "|---|---|---|---|---|---|---|---|---|---|---|---|---|---|---|---|---|---|---|---|---|\n",
       "| 1 | 1 | 44926 | CF  | AMC |   50 | 4.070 |  203.5 | 0 | 0 | 0 | 0 | 0 | 0 | 0 | 0 | 0 | 0 | 0 | 0 | 0 |\n",
       "| 2 | 3 | 44946 | Buy | AMC | 1000 | 5.625 | 5625.0 | 0 | 0 | 0 | 0 | 0 | 0 | 0 | 0 | 0 | 0 | 0 | 0 | 0 |\n",
       "| 3 | 5 | 44949 | Buy | AMC | 1000 | 5.788 | 5788.0 | 0 | 0 | 0 | 0 | 0 | 0 | 0 | 0 | 0 | 0 | 0 | 0 | 0 |\n",
       "\n"
      ],
      "text/plain": [
       "  index date  type co  quan pps   basis  sale_quan tally cf_quan cf_pps\n",
       "1 1     44926 CF   AMC   50 4.070  203.5 0         0     0       0     \n",
       "2 3     44946 Buy  AMC 1000 5.625 5625.0 0         0     0       0     \n",
       "3 5     44949 Buy  AMC 1000 5.788 5788.0 0         0     0       0     \n",
       "  cf_basis buy_quan buy_pps buy_basis sell_quan sell_pps sell_basis profit_loss\n",
       "1 0        0        0       0         0         0        0          0          \n",
       "2 0        0        0       0         0         0        0          0          \n",
       "3 0        0        0       0         0         0        0          0          \n",
       "  sale\n",
       "1 0   \n",
       "2 0   \n",
       "3 0   "
      ]
     },
     "metadata": {},
     "output_type": "display_data"
    }
   ],
   "source": [
    "# These are the fcts (in order) to process a Sals, from start to end \n",
    "\n",
    "nrow(buys)\n",
    "nrow(sells)\n",
    "\n",
    "buys <- buy_snip(b,buys, df_records)\n",
    "sells <- sell_snip(sells)\n",
    "nrow(buys)\n",
    "nrow(sells)\n",
    "head(buys, 3)"
   ]
  },
  {
   "cell_type": "code",
   "execution_count": null,
   "id": "5d68d2c1-fdc8-48b2-a971-9e036756f4a1",
   "metadata": {
    "tags": []
   },
   "outputs": [],
   "source": []
  },
  {
   "cell_type": "code",
   "execution_count": null,
   "id": "92ebba72-5ee0-44c2-9119-3b31af62afbf",
   "metadata": {
    "tags": []
   },
   "outputs": [],
   "source": []
  },
  {
   "cell_type": "code",
   "execution_count": 24,
   "id": "e512778c-a0c0-46e5-8304-8f08b2e74018",
   "metadata": {},
   "outputs": [
    {
     "data": {
      "text/html": [
       "<table class=\"dataframe\">\n",
       "<caption>A data.frame: 1 × 20</caption>\n",
       "<thead>\n",
       "\t<tr><th></th><th scope=col>index</th><th scope=col>date</th><th scope=col>type</th><th scope=col>co</th><th scope=col>quan</th><th scope=col>pps</th><th scope=col>basis</th><th scope=col>sale_quan</th><th scope=col>tally</th><th scope=col>cf_quan</th><th scope=col>cf_pps</th><th scope=col>cf_basis</th><th scope=col>buy_quan</th><th scope=col>buy_pps</th><th scope=col>buy_basis</th><th scope=col>sell_quan</th><th scope=col>sell_pps</th><th scope=col>sell_basis</th><th scope=col>profit_loss</th><th scope=col>sale</th></tr>\n",
       "\t<tr><th></th><th scope=col>&lt;int&gt;</th><th scope=col>&lt;int&gt;</th><th scope=col>&lt;chr&gt;</th><th scope=col>&lt;chr&gt;</th><th scope=col>&lt;int&gt;</th><th scope=col>&lt;dbl&gt;</th><th scope=col>&lt;dbl&gt;</th><th scope=col>&lt;int&gt;</th><th scope=col>&lt;dbl&gt;</th><th scope=col>&lt;int&gt;</th><th scope=col>&lt;dbl&gt;</th><th scope=col>&lt;dbl&gt;</th><th scope=col>&lt;int&gt;</th><th scope=col>&lt;dbl&gt;</th><th scope=col>&lt;dbl&gt;</th><th scope=col>&lt;int&gt;</th><th scope=col>&lt;dbl&gt;</th><th scope=col>&lt;dbl&gt;</th><th scope=col>&lt;int&gt;</th><th scope=col>&lt;int&gt;</th></tr>\n",
       "</thead>\n",
       "<tbody>\n",
       "\t<tr><th scope=row>1</th><td>1</td><td>44926</td><td>CF</td><td>AMC</td><td>50</td><td>4.07</td><td>203.5</td><td>0</td><td>0</td><td>0</td><td>0</td><td>0</td><td>0</td><td>0</td><td>0</td><td>0</td><td>0</td><td>0</td><td>0</td><td>0</td></tr>\n",
       "</tbody>\n",
       "</table>\n"
      ],
      "text/latex": [
       "A data.frame: 1 × 20\n",
       "\\begin{tabular}{r|llllllllllllllllllll}\n",
       "  & index & date & type & co & quan & pps & basis & sale\\_quan & tally & cf\\_quan & cf\\_pps & cf\\_basis & buy\\_quan & buy\\_pps & buy\\_basis & sell\\_quan & sell\\_pps & sell\\_basis & profit\\_loss & sale\\\\\n",
       "  & <int> & <int> & <chr> & <chr> & <int> & <dbl> & <dbl> & <int> & <dbl> & <int> & <dbl> & <dbl> & <int> & <dbl> & <dbl> & <int> & <dbl> & <dbl> & <int> & <int>\\\\\n",
       "\\hline\n",
       "\t1 & 1 & 44926 & CF & AMC & 50 & 4.07 & 203.5 & 0 & 0 & 0 & 0 & 0 & 0 & 0 & 0 & 0 & 0 & 0 & 0 & 0\\\\\n",
       "\\end{tabular}\n"
      ],
      "text/markdown": [
       "\n",
       "A data.frame: 1 × 20\n",
       "\n",
       "| <!--/--> | index &lt;int&gt; | date &lt;int&gt; | type &lt;chr&gt; | co &lt;chr&gt; | quan &lt;int&gt; | pps &lt;dbl&gt; | basis &lt;dbl&gt; | sale_quan &lt;int&gt; | tally &lt;dbl&gt; | cf_quan &lt;int&gt; | cf_pps &lt;dbl&gt; | cf_basis &lt;dbl&gt; | buy_quan &lt;int&gt; | buy_pps &lt;dbl&gt; | buy_basis &lt;dbl&gt; | sell_quan &lt;int&gt; | sell_pps &lt;dbl&gt; | sell_basis &lt;dbl&gt; | profit_loss &lt;int&gt; | sale &lt;int&gt; |\n",
       "|---|---|---|---|---|---|---|---|---|---|---|---|---|---|---|---|---|---|---|---|---|\n",
       "| 1 | 1 | 44926 | CF | AMC | 50 | 4.07 | 203.5 | 0 | 0 | 0 | 0 | 0 | 0 | 0 | 0 | 0 | 0 | 0 | 0 | 0 |\n",
       "\n"
      ],
      "text/plain": [
       "  index date  type co  quan pps  basis sale_quan tally cf_quan cf_pps cf_basis\n",
       "1 1     44926 CF   AMC 50   4.07 203.5 0         0     0       0      0       \n",
       "  buy_quan buy_pps buy_basis sell_quan sell_pps sell_basis profit_loss sale\n",
       "1 0        0       0         0         0        0          0           0   "
      ]
     },
     "metadata": {},
     "output_type": "display_data"
    },
    {
     "data": {
      "text/html": [
       "<table class=\"dataframe\">\n",
       "<caption>A data.frame: 1 × 20</caption>\n",
       "<thead>\n",
       "\t<tr><th></th><th scope=col>index</th><th scope=col>date</th><th scope=col>type</th><th scope=col>co</th><th scope=col>quan</th><th scope=col>pps</th><th scope=col>basis</th><th scope=col>sale_quan</th><th scope=col>tally</th><th scope=col>cf_quan</th><th scope=col>cf_pps</th><th scope=col>cf_basis</th><th scope=col>buy_quan</th><th scope=col>buy_pps</th><th scope=col>buy_basis</th><th scope=col>sell_quan</th><th scope=col>sell_pps</th><th scope=col>sell_basis</th><th scope=col>profit_loss</th><th scope=col>sale</th></tr>\n",
       "\t<tr><th></th><th scope=col>&lt;int&gt;</th><th scope=col>&lt;int&gt;</th><th scope=col>&lt;chr&gt;</th><th scope=col>&lt;chr&gt;</th><th scope=col>&lt;int&gt;</th><th scope=col>&lt;dbl&gt;</th><th scope=col>&lt;dbl&gt;</th><th scope=col>&lt;int&gt;</th><th scope=col>&lt;dbl&gt;</th><th scope=col>&lt;int&gt;</th><th scope=col>&lt;dbl&gt;</th><th scope=col>&lt;dbl&gt;</th><th scope=col>&lt;int&gt;</th><th scope=col>&lt;dbl&gt;</th><th scope=col>&lt;dbl&gt;</th><th scope=col>&lt;int&gt;</th><th scope=col>&lt;dbl&gt;</th><th scope=col>&lt;dbl&gt;</th><th scope=col>&lt;int&gt;</th><th scope=col>&lt;int&gt;</th></tr>\n",
       "</thead>\n",
       "<tbody>\n",
       "\t<tr><th scope=row>4</th><td>4</td><td>44960</td><td>Sell</td><td>AMC</td><td>1000</td><td>6.68255</td><td>6682.55</td><td>0</td><td>0</td><td>0</td><td>0</td><td>0</td><td>0</td><td>0</td><td>0</td><td>0</td><td>0</td><td>0</td><td>0</td><td>0</td></tr>\n",
       "</tbody>\n",
       "</table>\n"
      ],
      "text/latex": [
       "A data.frame: 1 × 20\n",
       "\\begin{tabular}{r|llllllllllllllllllll}\n",
       "  & index & date & type & co & quan & pps & basis & sale\\_quan & tally & cf\\_quan & cf\\_pps & cf\\_basis & buy\\_quan & buy\\_pps & buy\\_basis & sell\\_quan & sell\\_pps & sell\\_basis & profit\\_loss & sale\\\\\n",
       "  & <int> & <int> & <chr> & <chr> & <int> & <dbl> & <dbl> & <int> & <dbl> & <int> & <dbl> & <dbl> & <int> & <dbl> & <dbl> & <int> & <dbl> & <dbl> & <int> & <int>\\\\\n",
       "\\hline\n",
       "\t4 & 4 & 44960 & Sell & AMC & 1000 & 6.68255 & 6682.55 & 0 & 0 & 0 & 0 & 0 & 0 & 0 & 0 & 0 & 0 & 0 & 0 & 0\\\\\n",
       "\\end{tabular}\n"
      ],
      "text/markdown": [
       "\n",
       "A data.frame: 1 × 20\n",
       "\n",
       "| <!--/--> | index &lt;int&gt; | date &lt;int&gt; | type &lt;chr&gt; | co &lt;chr&gt; | quan &lt;int&gt; | pps &lt;dbl&gt; | basis &lt;dbl&gt; | sale_quan &lt;int&gt; | tally &lt;dbl&gt; | cf_quan &lt;int&gt; | cf_pps &lt;dbl&gt; | cf_basis &lt;dbl&gt; | buy_quan &lt;int&gt; | buy_pps &lt;dbl&gt; | buy_basis &lt;dbl&gt; | sell_quan &lt;int&gt; | sell_pps &lt;dbl&gt; | sell_basis &lt;dbl&gt; | profit_loss &lt;int&gt; | sale &lt;int&gt; |\n",
       "|---|---|---|---|---|---|---|---|---|---|---|---|---|---|---|---|---|---|---|---|---|\n",
       "| 4 | 4 | 44960 | Sell | AMC | 1000 | 6.68255 | 6682.55 | 0 | 0 | 0 | 0 | 0 | 0 | 0 | 0 | 0 | 0 | 0 | 0 | 0 |\n",
       "\n"
      ],
      "text/plain": [
       "  index date  type co  quan pps     basis   sale_quan tally cf_quan cf_pps\n",
       "4 4     44960 Sell AMC 1000 6.68255 6682.55 0         0     0       0     \n",
       "  cf_basis buy_quan buy_pps buy_basis sell_quan sell_pps sell_basis profit_loss\n",
       "4 0        0        0       0         0         0        0          0          \n",
       "  sale\n",
       "4 0   "
      ]
     },
     "metadata": {},
     "output_type": "display_data"
    }
   ],
   "source": [
    "# fct call: to create vars from the first row of Buy & Sell\n",
    "b <- row_b(b)   \n",
    "s <- row_s(s)  \n",
    "b\n",
    "s"
   ]
  },
  {
   "cell_type": "code",
   "execution_count": 25,
   "id": "eafc977a-4361-4059-bcb9-0a11b61da834",
   "metadata": {},
   "outputs": [
    {
     "data": {
      "text/html": [
       "<table class=\"dataframe\">\n",
       "<caption>A data.frame: 1 × 20</caption>\n",
       "<thead>\n",
       "\t<tr><th></th><th scope=col>index</th><th scope=col>date</th><th scope=col>type</th><th scope=col>co</th><th scope=col>quan</th><th scope=col>pps</th><th scope=col>basis</th><th scope=col>sale_quan</th><th scope=col>tally</th><th scope=col>cf_quan</th><th scope=col>cf_pps</th><th scope=col>cf_basis</th><th scope=col>buy_quan</th><th scope=col>buy_pps</th><th scope=col>buy_basis</th><th scope=col>sell_quan</th><th scope=col>sell_pps</th><th scope=col>sell_basis</th><th scope=col>profit_loss</th><th scope=col>sale</th></tr>\n",
       "\t<tr><th></th><th scope=col>&lt;int&gt;</th><th scope=col>&lt;int&gt;</th><th scope=col>&lt;chr&gt;</th><th scope=col>&lt;chr&gt;</th><th scope=col>&lt;int&gt;</th><th scope=col>&lt;dbl&gt;</th><th scope=col>&lt;dbl&gt;</th><th scope=col>&lt;int&gt;</th><th scope=col>&lt;dbl&gt;</th><th scope=col>&lt;int&gt;</th><th scope=col>&lt;dbl&gt;</th><th scope=col>&lt;dbl&gt;</th><th scope=col>&lt;int&gt;</th><th scope=col>&lt;dbl&gt;</th><th scope=col>&lt;dbl&gt;</th><th scope=col>&lt;int&gt;</th><th scope=col>&lt;dbl&gt;</th><th scope=col>&lt;dbl&gt;</th><th scope=col>&lt;dbl&gt;</th><th scope=col>&lt;int&gt;</th></tr>\n",
       "</thead>\n",
       "<tbody>\n",
       "\t<tr><th scope=row>1</th><td>1</td><td>44926</td><td>Buy</td><td>AMC</td><td>1050</td><td>4.07</td><td>4273.5</td><td>1050</td><td>0</td><td>50</td><td>4.07</td><td>203.5</td><td>1000</td><td>4.07</td><td>4070</td><td>1000</td><td>5.5124</td><td>5512.4</td><td>1442.4</td><td>1000</td></tr>\n",
       "</tbody>\n",
       "</table>\n"
      ],
      "text/latex": [
       "A data.frame: 1 × 20\n",
       "\\begin{tabular}{r|llllllllllllllllllll}\n",
       "  & index & date & type & co & quan & pps & basis & sale\\_quan & tally & cf\\_quan & cf\\_pps & cf\\_basis & buy\\_quan & buy\\_pps & buy\\_basis & sell\\_quan & sell\\_pps & sell\\_basis & profit\\_loss & sale\\\\\n",
       "  & <int> & <int> & <chr> & <chr> & <int> & <dbl> & <dbl> & <int> & <dbl> & <int> & <dbl> & <dbl> & <int> & <dbl> & <dbl> & <int> & <dbl> & <dbl> & <dbl> & <int>\\\\\n",
       "\\hline\n",
       "\t1 & 1 & 44926 & Buy & AMC & 1050 & 4.07 & 4273.5 & 1050 & 0 & 50 & 4.07 & 203.5 & 1000 & 4.07 & 4070 & 1000 & 5.5124 & 5512.4 & 1442.4 & 1000\\\\\n",
       "\\end{tabular}\n"
      ],
      "text/markdown": [
       "\n",
       "A data.frame: 1 × 20\n",
       "\n",
       "| <!--/--> | index &lt;int&gt; | date &lt;int&gt; | type &lt;chr&gt; | co &lt;chr&gt; | quan &lt;int&gt; | pps &lt;dbl&gt; | basis &lt;dbl&gt; | sale_quan &lt;int&gt; | tally &lt;dbl&gt; | cf_quan &lt;int&gt; | cf_pps &lt;dbl&gt; | cf_basis &lt;dbl&gt; | buy_quan &lt;int&gt; | buy_pps &lt;dbl&gt; | buy_basis &lt;dbl&gt; | sell_quan &lt;int&gt; | sell_pps &lt;dbl&gt; | sell_basis &lt;dbl&gt; | profit_loss &lt;dbl&gt; | sale &lt;int&gt; |\n",
       "|---|---|---|---|---|---|---|---|---|---|---|---|---|---|---|---|---|---|---|---|---|\n",
       "| 1 | 1 | 44926 | Buy | AMC | 1050 | 4.07 | 4273.5 | 1050 | 0 | 50 | 4.07 | 203.5 | 1000 | 4.07 | 4070 | 1000 | 5.5124 | 5512.4 | 1442.4 | 1000 |\n",
       "\n"
      ],
      "text/plain": [
       "  index date  type co  quan pps  basis  sale_quan tally cf_quan cf_pps cf_basis\n",
       "1 1     44926 Buy  AMC 1050 4.07 4273.5 1050      0     50      4.07   203.5   \n",
       "  buy_quan buy_pps buy_basis sell_quan sell_pps sell_basis profit_loss sale\n",
       "1 1000     4.07    4070      1000      5.5124   5512.4     1442.4      1000"
      ]
     },
     "metadata": {},
     "output_type": "display_data"
    },
    {
     "data": {
      "text/html": [
       "<table class=\"dataframe\">\n",
       "<caption>A data.frame: 3 × 20</caption>\n",
       "<thead>\n",
       "\t<tr><th></th><th scope=col>index</th><th scope=col>date</th><th scope=col>type</th><th scope=col>co</th><th scope=col>quan</th><th scope=col>pps</th><th scope=col>basis</th><th scope=col>sale_quan</th><th scope=col>tally</th><th scope=col>cf_quan</th><th scope=col>cf_pps</th><th scope=col>cf_basis</th><th scope=col>buy_quan</th><th scope=col>buy_pps</th><th scope=col>buy_basis</th><th scope=col>sell_quan</th><th scope=col>sell_pps</th><th scope=col>sell_basis</th><th scope=col>profit_loss</th><th scope=col>sale</th></tr>\n",
       "\t<tr><th></th><th scope=col>&lt;int&gt;</th><th scope=col>&lt;int&gt;</th><th scope=col>&lt;chr&gt;</th><th scope=col>&lt;chr&gt;</th><th scope=col>&lt;int&gt;</th><th scope=col>&lt;dbl&gt;</th><th scope=col>&lt;dbl&gt;</th><th scope=col>&lt;int&gt;</th><th scope=col>&lt;dbl&gt;</th><th scope=col>&lt;int&gt;</th><th scope=col>&lt;dbl&gt;</th><th scope=col>&lt;dbl&gt;</th><th scope=col>&lt;int&gt;</th><th scope=col>&lt;dbl&gt;</th><th scope=col>&lt;dbl&gt;</th><th scope=col>&lt;int&gt;</th><th scope=col>&lt;dbl&gt;</th><th scope=col>&lt;dbl&gt;</th><th scope=col>&lt;int&gt;</th><th scope=col>&lt;int&gt;</th></tr>\n",
       "</thead>\n",
       "<tbody>\n",
       "\t<tr><th scope=row>1</th><td>1</td><td>44926</td><td>CF </td><td>AMC</td><td>  50</td><td>4.070</td><td> 203.5</td><td>0</td><td>0</td><td>0</td><td>0</td><td>0</td><td>0</td><td>0</td><td>0</td><td>0</td><td>0</td><td>0</td><td>0</td><td>0</td></tr>\n",
       "\t<tr><th scope=row>2</th><td>3</td><td>44946</td><td>Buy</td><td>AMC</td><td>1000</td><td>5.625</td><td>5625.0</td><td>0</td><td>0</td><td>0</td><td>0</td><td>0</td><td>0</td><td>0</td><td>0</td><td>0</td><td>0</td><td>0</td><td>0</td><td>0</td></tr>\n",
       "\t<tr><th scope=row>3</th><td>5</td><td>44949</td><td>Buy</td><td>AMC</td><td>1000</td><td>5.788</td><td>5788.0</td><td>0</td><td>0</td><td>0</td><td>0</td><td>0</td><td>0</td><td>0</td><td>0</td><td>0</td><td>0</td><td>0</td><td>0</td><td>0</td></tr>\n",
       "</tbody>\n",
       "</table>\n"
      ],
      "text/latex": [
       "A data.frame: 3 × 20\n",
       "\\begin{tabular}{r|llllllllllllllllllll}\n",
       "  & index & date & type & co & quan & pps & basis & sale\\_quan & tally & cf\\_quan & cf\\_pps & cf\\_basis & buy\\_quan & buy\\_pps & buy\\_basis & sell\\_quan & sell\\_pps & sell\\_basis & profit\\_loss & sale\\\\\n",
       "  & <int> & <int> & <chr> & <chr> & <int> & <dbl> & <dbl> & <int> & <dbl> & <int> & <dbl> & <dbl> & <int> & <dbl> & <dbl> & <int> & <dbl> & <dbl> & <int> & <int>\\\\\n",
       "\\hline\n",
       "\t1 & 1 & 44926 & CF  & AMC &   50 & 4.070 &  203.5 & 0 & 0 & 0 & 0 & 0 & 0 & 0 & 0 & 0 & 0 & 0 & 0 & 0\\\\\n",
       "\t2 & 3 & 44946 & Buy & AMC & 1000 & 5.625 & 5625.0 & 0 & 0 & 0 & 0 & 0 & 0 & 0 & 0 & 0 & 0 & 0 & 0 & 0\\\\\n",
       "\t3 & 5 & 44949 & Buy & AMC & 1000 & 5.788 & 5788.0 & 0 & 0 & 0 & 0 & 0 & 0 & 0 & 0 & 0 & 0 & 0 & 0 & 0\\\\\n",
       "\\end{tabular}\n"
      ],
      "text/markdown": [
       "\n",
       "A data.frame: 3 × 20\n",
       "\n",
       "| <!--/--> | index &lt;int&gt; | date &lt;int&gt; | type &lt;chr&gt; | co &lt;chr&gt; | quan &lt;int&gt; | pps &lt;dbl&gt; | basis &lt;dbl&gt; | sale_quan &lt;int&gt; | tally &lt;dbl&gt; | cf_quan &lt;int&gt; | cf_pps &lt;dbl&gt; | cf_basis &lt;dbl&gt; | buy_quan &lt;int&gt; | buy_pps &lt;dbl&gt; | buy_basis &lt;dbl&gt; | sell_quan &lt;int&gt; | sell_pps &lt;dbl&gt; | sell_basis &lt;dbl&gt; | profit_loss &lt;int&gt; | sale &lt;int&gt; |\n",
       "|---|---|---|---|---|---|---|---|---|---|---|---|---|---|---|---|---|---|---|---|---|\n",
       "| 1 | 1 | 44926 | CF  | AMC |   50 | 4.070 |  203.5 | 0 | 0 | 0 | 0 | 0 | 0 | 0 | 0 | 0 | 0 | 0 | 0 | 0 |\n",
       "| 2 | 3 | 44946 | Buy | AMC | 1000 | 5.625 | 5625.0 | 0 | 0 | 0 | 0 | 0 | 0 | 0 | 0 | 0 | 0 | 0 | 0 | 0 |\n",
       "| 3 | 5 | 44949 | Buy | AMC | 1000 | 5.788 | 5788.0 | 0 | 0 | 0 | 0 | 0 | 0 | 0 | 0 | 0 | 0 | 0 | 0 | 0 |\n",
       "\n"
      ],
      "text/plain": [
       "  index date  type co  quan pps   basis  sale_quan tally cf_quan cf_pps\n",
       "1 1     44926 CF   AMC   50 4.070  203.5 0         0     0       0     \n",
       "2 3     44946 Buy  AMC 1000 5.625 5625.0 0         0     0       0     \n",
       "3 5     44949 Buy  AMC 1000 5.788 5788.0 0         0     0       0     \n",
       "  cf_basis buy_quan buy_pps buy_basis sell_quan sell_pps sell_basis profit_loss\n",
       "1 0        0        0       0         0         0        0          0          \n",
       "2 0        0        0       0         0         0        0          0          \n",
       "3 0        0        0       0         0         0        0          0          \n",
       "  sale\n",
       "1 0   \n",
       "2 0   \n",
       "3 0   "
      ]
     },
     "metadata": {},
     "output_type": "display_data"
    }
   ],
   "source": [
    "df_records\n",
    "head(buys, 3)"
   ]
  },
  {
   "cell_type": "code",
   "execution_count": 26,
   "id": "331b3cfc-1f60-4c51-bd0c-90fc38e0e54c",
   "metadata": {},
   "outputs": [
    {
     "ename": "ERROR",
     "evalue": "Error in eval(expr, envir, enclos): object 'stopps' not found\n",
     "output_type": "error",
     "traceback": [
      "Error in eval(expr, envir, enclos): object 'stopps' not found\nTraceback:\n"
     ]
    }
   ],
   "source": [
    " stopps"
   ]
  },
  {
   "cell_type": "code",
   "execution_count": null,
   "id": "12a6921a-f6db-4156-9bb1-8a7081b919ec",
   "metadata": {},
   "outputs": [],
   "source": []
  },
  {
   "cell_type": "code",
   "execution_count": null,
   "id": "09b95681-598e-4ae4-bc91-b89c4b0892e1",
   "metadata": {},
   "outputs": [],
   "source": []
  },
  {
   "cell_type": "markdown",
   "id": "81e07ffc-b53b-4460-81e9-3e47c3174558",
   "metadata": {},
   "source": [
    "## <font color = yellow> Fresh Start: sequence of functions to process one FiFO Sale (one Buy/ one Sell) \n",
    "    \n",
    "        dfs <- create_dfs() \n",
    "        row_b <- function(b) \n",
    "        row_s <- function(s) \n",
    "        when_cf  when_cf(b, s, df_buy_rows)\n",
    "        df_records <- function (buys, b) \n",
    "        buy_snip <- function (buys) \n",
    "        sell_snip <- function(sells) \n"
   ]
  },
  {
   "cell_type": "code",
   "execution_count": null,
   "id": "604076c2-f199-49cb-8197-7ec253cfbae1",
   "metadata": {},
   "outputs": [],
   "source": [
    "# Call the combo function named, create_dfs(), which returns a list of 4 new dfs\n",
    "\n",
    "dfs <- create_dfs()\n",
    "is.list(dfs)\n",
    "\n",
    "# asign the dataframes from returned list\n",
    "df <- dfs$df\n",
    "df_ records <- \n",
    "df_buy_rows <- dfs$df_buy_rows\n",
    "buys <- dfs$buys\n",
    "sells <- dfs$sells\n",
    "\n",
    "nrow(df)\n",
    "nrow(df_buy_rows) # this df s/b empty (now)\n",
    "nrow(buys)\n",
    "nrow(sells)\n",
    "\n",
    "\n",
    "\n"
   ]
  },
  {
   "cell_type": "code",
   "execution_count": null,
   "id": "1c02391b-bef7-4209-9b5a-e5445b6ebdbc",
   "metadata": {},
   "outputs": [],
   "source": [
    "# fct call: populates the fields of B with the Sale data when there is a C/F amound\n",
    "nrow(buys)\n",
    "nrow(sells)\n",
    "\n",
    "b <- when_cf(b, s, df_buy_rows) \n",
    "\n",
    "b    "
   ]
  },
  {
   "cell_type": "code",
   "execution_count": null,
   "id": "c6b28ae0-f835-42b9-93a3-23a0848330c8",
   "metadata": {},
   "outputs": [],
   "source": []
  },
  {
   "cell_type": "code",
   "execution_count": null,
   "id": "4637a677-6092-4503-a5a4-5f59ca7dced1",
   "metadata": {},
   "outputs": [],
   "source": [
    "# The Buys df  - no changes yet\n",
    "head(buys,3)"
   ]
  },
  {
   "cell_type": "code",
   "execution_count": null,
   "id": "fd8eae88-dc59-4ae3-bcdb-2afdf5b4688d",
   "metadata": {},
   "outputs": [],
   "source": [
    "# fct call:  First time the fct call creates new df called: records, from the df b,\n",
    "#  Subsequent fct calls should append to the df_records for each call to this fct\n",
    "\n",
    "buys <- df_records(buys, b, i) "
   ]
  },
  {
   "cell_type": "code",
   "execution_count": null,
   "id": "7eabf142-3c8c-4440-8aa9-afa795173e46",
   "metadata": {},
   "outputs": [],
   "source": [
    "# No changes yet\n",
    "nrow(buys)\n",
    "nrow(sells)"
   ]
  },
  {
   "cell_type": "code",
   "execution_count": null,
   "id": "fe14a05b-a13e-4aa9-9bca-ef8b6e36ed53",
   "metadata": {},
   "outputs": [],
   "source": [
    "# fct calls: to remove the first row from dfs\n",
    "\n",
    "buys <- buy_snip(buys)\n",
    "sells <- sell_snip(sells)\n",
    "\n",
    "nrow(buys)\n",
    "nrow(sells)"
   ]
  },
  {
   "cell_type": "code",
   "execution_count": null,
   "id": "c61db9cf-b277-4f76-a324-e35cf9d5ee10",
   "metadata": {},
   "outputs": [],
   "source": [
    "# The Sale transaction was preserved in this df\n",
    "\n",
    "head(df_buy_rows)"
   ]
  },
  {
   "cell_type": "code",
   "execution_count": null,
   "id": "0e543025-32b5-4005-945d-b3a81fc7c2c7",
   "metadata": {},
   "outputs": [],
   "source": [
    "stopps # end of loop 1"
   ]
  },
  {
   "cell_type": "code",
   "execution_count": null,
   "id": "438af475-2a93-473b-bf20-de60ab58ac92",
   "metadata": {},
   "outputs": [],
   "source": []
  },
  {
   "cell_type": "markdown",
   "id": "ffd17a25-7d3d-4699-97e3-791cbd456a49",
   "metadata": {
    "tags": []
   },
   "source": [
    "## <font color = yellow> Works as expected w/ one Buy - one Sell \n",
    "    \n",
    "#### <font color = yellow> See what happens using the next Buy / Sell - loop 2 (involves the c/f from Sale 1 )\n",
    "    \n",
    "    dfs <- create_dfs() \n",
    "    row_b <- function(b) \n",
    "    row_s <- function(s) \n",
    "    \n",
    "    b <- row_b(b)   \n",
    "    s <- row_s(s)    \n",
    "         \n",
    "     when_cf(b, s, df_buy_rows)\n",
    "    df_records <- function (buys, b) \n",
    "    buy_snip <- function (buys) \n",
    "    sell_snip <- function(sells) \n",
    "                 \n",
    "\n",
    "    \n",
    "    "
   ]
  },
  {
   "cell_type": "code",
   "execution_count": null,
   "id": "26fc1001-f8f8-4bda-8347-28c7cfc1343a",
   "metadata": {},
   "outputs": [],
   "source": [
    "head(buys, 3)\n",
    "head(sells, 3)"
   ]
  },
  {
   "cell_type": "code",
   "execution_count": null,
   "id": "47f79517-f5f8-4b4e-aab4-e1b4dcdaba9e",
   "metadata": {},
   "outputs": [],
   "source": [
    "# Run the fcts (w/out create_dfs)\n",
    "\n",
    "\n",
    "b <- buys[1, ]\n",
    "s <- sells[1, ]    "
   ]
  },
  {
   "cell_type": "code",
   "execution_count": null,
   "id": "f348c6d9-a7f1-41d9-a4a5-f7f20b119928",
   "metadata": {},
   "outputs": [],
   "source": [
    "print(b)\n",
    "print(s)"
   ]
  },
  {
   "cell_type": "code",
   "execution_count": null,
   "id": "e3fe1b3f-c22e-4426-8c6b-b27853ed70bd",
   "metadata": {},
   "outputs": [],
   "source": [
    "b <- when_cf(b, df_buy_rows)     \n",
    "buys <- df_records(buys, b) \n",
    "buys <- buy_snip(buys)\n",
    "sells <- sell_snip(sells)"
   ]
  },
  {
   "cell_type": "code",
   "execution_count": null,
   "id": "26a70eea-a8f4-4904-ac23-9a0e145dca32",
   "metadata": {},
   "outputs": [],
   "source": [
    "df_buy_rows"
   ]
  },
  {
   "cell_type": "code",
   "execution_count": null,
   "id": "b2cde6ca-bd19-41ca-a593-0567dd7b8238",
   "metadata": {},
   "outputs": [],
   "source": []
  },
  {
   "cell_type": "code",
   "execution_count": null,
   "id": "8a019af3-8b55-40c9-8a01-314eff93ac08",
   "metadata": {},
   "outputs": [],
   "source": []
  },
  {
   "cell_type": "code",
   "execution_count": null,
   "id": "88356ef6-7bd2-417a-960b-5d15b2499d41",
   "metadata": {},
   "outputs": [],
   "source": []
  },
  {
   "cell_type": "code",
   "execution_count": null,
   "id": "f2a5242c-0d2a-4dcb-8a55-e96241f3655a",
   "metadata": {},
   "outputs": [],
   "source": []
  },
  {
   "cell_type": "code",
   "execution_count": null,
   "id": "ddc90e45-1b2f-4855-a782-2fcb554e5017",
   "metadata": {},
   "outputs": [],
   "source": []
  },
  {
   "cell_type": "code",
   "execution_count": null,
   "id": "f67c9671-499a-4e66-b297-f37f7218c92e",
   "metadata": {},
   "outputs": [],
   "source": []
  },
  {
   "cell_type": "code",
   "execution_count": null,
   "id": "b65eae9b-2aa4-4bb5-bbc8-897235c1782d",
   "metadata": {},
   "outputs": [],
   "source": []
  },
  {
   "cell_type": "code",
   "execution_count": null,
   "id": "318781a4-6471-4406-a87f-1510dd6ed60f",
   "metadata": {},
   "outputs": [],
   "source": []
  },
  {
   "cell_type": "code",
   "execution_count": null,
   "id": "5b00098c-4f32-4d6e-8ecd-1f364455a6ba",
   "metadata": {},
   "outputs": [],
   "source": []
  },
  {
   "cell_type": "code",
   "execution_count": null,
   "id": "cb264624-a68f-4a25-9c94-d7ac1f86953c",
   "metadata": {},
   "outputs": [],
   "source": []
  },
  {
   "cell_type": "code",
   "execution_count": null,
   "id": "25c30615-cb85-4332-8442-5e53266fbb2e",
   "metadata": {},
   "outputs": [],
   "source": []
  }
 ],
 "metadata": {
  "kernelspec": {
   "display_name": "R",
   "language": "R",
   "name": "ir"
  },
  "language_info": {
   "codemirror_mode": "r",
   "file_extension": ".r",
   "mimetype": "text/x-r-source",
   "name": "R",
   "pygments_lexer": "r",
   "version": "4.3.0"
  }
 },
 "nbformat": 4,
 "nbformat_minor": 5
}
